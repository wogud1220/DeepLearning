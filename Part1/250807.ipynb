{
 "nbformat": 4,
 "nbformat_minor": 0,
 "metadata": {
  "colab": {
   "provenance": []
  },
  "kernelspec": {
   "name": "python3",
   "display_name": "Python 3"
  },
  "language_info": {
   "name": "python"
  }
 },
 "cells": [
  {
   "cell_type": "markdown",
   "source": [
    "## 1. 모듈 기본 3가지"
   ],
   "metadata": {
    "id": "IDuwt4OJ62k4"
   }
  },
  {
   "cell_type": "markdown",
   "source": [
    "#### (1) time"
   ],
   "metadata": {
    "id": "mTcWSWei664W"
   }
  },
  {
   "cell_type": "code",
   "metadata": {
    "colab": {
     "base_uri": "https://localhost:8080/"
    },
    "id": "lGMtBTq86rst",
    "outputId": "4b5766bf-7cfd-42e4-883a-4aae8be12f47",
    "ExecuteTime": {
     "end_time": "2025-08-07T07:57:23.283282Z",
     "start_time": "2025-08-07T07:57:23.280853Z"
    }
   },
   "source": [
    "import time\n",
    "print(time.time())"
   ],
   "outputs": [
    {
     "name": "stdout",
     "output_type": "stream",
     "text": [
      "1754553443.281507\n"
     ]
    }
   ],
   "execution_count": 7
  },
  {
   "cell_type": "code",
   "source": [
    "print(\"시작:        \", time.time())\n",
    "time.sleep(0.5)\n",
    "print(\"3초 후 출력: \", time.time())"
   ],
   "metadata": {
    "colab": {
     "base_uri": "https://localhost:8080/"
    },
    "id": "VylInxOv7i21",
    "outputId": "6682aa3f-2183-4489-f780-58ede2b250ad",
    "ExecuteTime": {
     "end_time": "2025-08-07T07:57:23.804267Z",
     "start_time": "2025-08-07T07:57:23.300263Z"
    }
   },
   "outputs": [
    {
     "name": "stdout",
     "output_type": "stream",
     "text": [
      "시작:         1754553443.3009222\n",
      "3초 후 출력:  1754553443.8020658\n"
     ]
    }
   ],
   "execution_count": 8
  },
  {
   "cell_type": "code",
   "source": [
    "t = time.localtime()\n",
    "print(t.tm_year, \"년\", t.tm_mon, \"월\", t.tm_mday, \"일\")"
   ],
   "metadata": {
    "colab": {
     "base_uri": "https://localhost:8080/"
    },
    "id": "TogVd8tf77rR",
    "outputId": "6082fbc4-7429-4ef5-d31e-734770fc182a",
    "ExecuteTime": {
     "end_time": "2025-08-07T07:57:23.819887Z",
     "start_time": "2025-08-07T07:57:23.817645Z"
    }
   },
   "outputs": [
    {
     "name": "stdout",
     "output_type": "stream",
     "text": [
      "2025 년 8 월 7 일\n"
     ]
    }
   ],
   "execution_count": 9
  },
  {
   "cell_type": "code",
   "source": [
    "# strftime() 응용\n",
    "\n",
    "timestamp = time.time()\n",
    "local_time = time.localtime(timestamp)\n",
    "formatted = time.strftime('%Y-%m-%d %H:%M:%S', local_time)\n",
    "\n",
    "print(formatted)"
   ],
   "metadata": {
    "colab": {
     "base_uri": "https://localhost:8080/"
    },
    "id": "LY0jG8HS8Jc1",
    "outputId": "ddd7c394-6451-4589-c51e-8d0d79ad495f",
    "ExecuteTime": {
     "end_time": "2025-08-07T07:57:23.833229Z",
     "start_time": "2025-08-07T07:57:23.830500Z"
    }
   },
   "outputs": [
    {
     "name": "stdout",
     "output_type": "stream",
     "text": [
      "2025-08-07 16:57:23\n"
     ]
    }
   ],
   "execution_count": 10
  },
  {
   "cell_type": "code",
   "source": [
    "# 현재 시간 바로 출력\n",
    "print(time.strftime('%Y-%m-%d %H:%M:%S'))"
   ],
   "metadata": {
    "colab": {
     "base_uri": "https://localhost:8080/"
    },
    "id": "CSmUdyPy8w13",
    "outputId": "33649e94-2fa9-44a0-fbff-003b5ca17b60",
    "ExecuteTime": {
     "end_time": "2025-08-07T07:57:23.844473Z",
     "start_time": "2025-08-07T07:57:23.842337Z"
    }
   },
   "outputs": [
    {
     "name": "stdout",
     "output_type": "stream",
     "text": [
      "2025-08-07 16:57:23\n"
     ]
    }
   ],
   "execution_count": 11
  },
  {
   "cell_type": "code",
   "source": [
    "# 현재 시간에서 좀전에 정의한 formatted를 빼주기 (시간끼리 연산 확인)\n",
    "# print(time.strftime('%Y-%m-%d %H:%M:%S') - formatted)"
   ],
   "metadata": {
    "colab": {
     "base_uri": "https://localhost:8080/",
     "height": 163
    },
    "id": "MEOSj8gi9Ezh",
    "outputId": "cd7639ba-be70-49f0-8db7-2816ac8551f0",
    "ExecuteTime": {
     "end_time": "2025-08-07T07:57:23.857061Z",
     "start_time": "2025-08-07T07:57:23.855165Z"
    }
   },
   "outputs": [],
   "execution_count": 12
  },
  {
   "cell_type": "markdown",
   "source": [
    "#### (2) datetime"
   ],
   "metadata": {
    "id": "3-2ttbA_9a7N"
   }
  },
  {
   "cell_type": "code",
   "source": [
    "import datetime\n",
    "print(datetime.datetime.now())"
   ],
   "metadata": {
    "colab": {
     "base_uri": "https://localhost:8080/"
    },
    "id": "pPRDFW4n9QJE",
    "outputId": "3a6d0e48-8dc5-4f67-87da-f64629d8c1b3",
    "ExecuteTime": {
     "end_time": "2025-08-07T07:57:23.880281Z",
     "start_time": "2025-08-07T07:57:23.878028Z"
    }
   },
   "outputs": [
    {
     "name": "stdout",
     "output_type": "stream",
     "text": [
      "2025-08-07 16:57:23.878728\n"
     ]
    }
   ],
   "execution_count": 13
  },
  {
   "cell_type": "code",
   "source": [
    "# 초의 소숫점 빼기\n",
    "print(datetime.datetime.now().strftime('%Y-%m-%d %H:%M:%S'))"
   ],
   "metadata": {
    "colab": {
     "base_uri": "https://localhost:8080/"
    },
    "id": "QODDe0QT9gdJ",
    "outputId": "a3876ad4-19e9-410b-f4dc-ab83dad186a1",
    "ExecuteTime": {
     "end_time": "2025-08-07T07:57:23.906412Z",
     "start_time": "2025-08-07T07:57:23.904506Z"
    }
   },
   "outputs": [
    {
     "name": "stdout",
     "output_type": "stream",
     "text": [
      "2025-08-07 16:57:23\n"
     ]
    }
   ],
   "execution_count": 14
  },
  {
   "cell_type": "code",
   "source": [
    "# 오늘 날짜만 보기\n",
    "\n",
    "print(datetime.date.today())"
   ],
   "metadata": {
    "colab": {
     "base_uri": "https://localhost:8080/"
    },
    "id": "4yYyc9pS9zYv",
    "outputId": "050bb1a4-29f8-4b69-b946-de9ad8ac278e",
    "ExecuteTime": {
     "end_time": "2025-08-07T07:57:23.930254Z",
     "start_time": "2025-08-07T07:57:23.928114Z"
    }
   },
   "outputs": [
    {
     "name": "stdout",
     "output_type": "stream",
     "text": [
      "2025-08-07\n"
     ]
    }
   ],
   "execution_count": 15
  },
  {
   "cell_type": "code",
   "source": [
    "# timedelta 활용\n",
    "\n",
    "from datetime import datetime, timedelta\n",
    "\n",
    "# 현재 시간\n",
    "now = datetime.now()\n",
    "print(\"현재:          \", now)\n",
    "\n",
    "# 2일 뒤의 날짜 계산\n",
    "after_two_days = now +timedelta(days=2)\n",
    "print(\"2일 후:        \", after_two_days)\n",
    "\n",
    "# 3시간 45분 전의 시간 계산\n",
    "before_time = now - timedelta(hours=3, minutes=45)\n",
    "print(\"3시간 45분 전: \", before_time)"
   ],
   "metadata": {
    "colab": {
     "base_uri": "https://localhost:8080/"
    },
    "id": "UvejMvLp94nS",
    "outputId": "c76b1f6a-93a8-4701-843f-0f9c472b13dc",
    "ExecuteTime": {
     "end_time": "2025-08-07T07:57:23.959759Z",
     "start_time": "2025-08-07T07:57:23.956992Z"
    }
   },
   "outputs": [
    {
     "name": "stdout",
     "output_type": "stream",
     "text": [
      "현재:           2025-08-07 16:57:23.957985\n",
      "2일 후:         2025-08-09 16:57:23.957985\n",
      "3시간 45분 전:  2025-08-07 13:12:23.957985\n"
     ]
    }
   ],
   "execution_count": 16
  },
  {
   "cell_type": "code",
   "source": [
    "# 실제 시간 연산방법\n",
    "\n",
    "past_time = datetime.strptime(formatted, '%Y-%m-%d %H:%M:%S')\n",
    "now = datetime.now()\n",
    "\n",
    "print(now - past_time)"
   ],
   "metadata": {
    "colab": {
     "base_uri": "https://localhost:8080/"
    },
    "id": "vlXecjTa-rcX",
    "outputId": "5c8620ae-d8ef-414e-faba-74bfd40a691e",
    "ExecuteTime": {
     "end_time": "2025-08-07T07:57:23.982165Z",
     "start_time": "2025-08-07T07:57:23.979581Z"
    }
   },
   "outputs": [
    {
     "name": "stdout",
     "output_type": "stream",
     "text": [
      "0:00:00.980790\n"
     ]
    }
   ],
   "execution_count": 17
  },
  {
   "cell_type": "markdown",
   "source": [
    "#### (3) random"
   ],
   "metadata": {
    "id": "mUsfVxBl_RuC"
   }
  },
  {
   "cell_type": "code",
   "source": [
    "import random\n",
    "random.random()"
   ],
   "metadata": {
    "colab": {
     "base_uri": "https://localhost:8080/"
    },
    "id": "AED-jWmB_NZw",
    "outputId": "07597329-069e-439c-ebcd-19aa8e8b4511",
    "ExecuteTime": {
     "end_time": "2025-08-07T07:57:24.003372Z",
     "start_time": "2025-08-07T07:57:23.998884Z"
    }
   },
   "outputs": [
    {
     "data": {
      "text/plain": [
       "0.556213513852285"
      ]
     },
     "execution_count": 18,
     "metadata": {},
     "output_type": "execute_result"
    }
   ],
   "execution_count": 18
  },
  {
   "cell_type": "code",
   "source": [
    "# randint(a, b): a~b 사이 정수\n",
    "\n",
    "print(random.randint(1,6))"
   ],
   "metadata": {
    "colab": {
     "base_uri": "https://localhost:8080/"
    },
    "id": "SCA9qCvR_6H8",
    "outputId": "1ef0259b-7d49-432e-d413-749966690b8f",
    "ExecuteTime": {
     "end_time": "2025-08-07T07:57:24.018120Z",
     "start_time": "2025-08-07T07:57:24.015670Z"
    }
   },
   "outputs": [
    {
     "name": "stdout",
     "output_type": "stream",
     "text": [
      "4\n"
     ]
    }
   ],
   "execution_count": 19
  },
  {
   "cell_type": "code",
   "source": [
    "# choice(): 무작위 선택\n",
    "\n",
    "questions = ['Q1', 'Q2', 'Q3']\n",
    "print(random.choice(questions))"
   ],
   "metadata": {
    "colab": {
     "base_uri": "https://localhost:8080/"
    },
    "id": "08RfI01oAQCz",
    "outputId": "c57c5630-275d-4410-f9ab-e1bbcd6b5525",
    "ExecuteTime": {
     "end_time": "2025-08-07T07:57:24.037979Z",
     "start_time": "2025-08-07T07:57:24.036174Z"
    }
   },
   "outputs": [
    {
     "name": "stdout",
     "output_type": "stream",
     "text": [
      "Q1\n"
     ]
    }
   ],
   "execution_count": 20
  },
  {
   "cell_type": "code",
   "source": [
    "# shuffle(): 섞기\n",
    "\n",
    "deck = ['A♠', 'K♣', 'Q♦']\n",
    "random.shuffle(deck)\n",
    "print(deck)"
   ],
   "metadata": {
    "colab": {
     "base_uri": "https://localhost:8080/"
    },
    "id": "Nryb2qMWAieI",
    "outputId": "96c248c3-ab37-4669-9adb-c665bd5a1674",
    "ExecuteTime": {
     "end_time": "2025-08-07T07:57:24.057804Z",
     "start_time": "2025-08-07T07:57:24.053834Z"
    }
   },
   "outputs": [
    {
     "name": "stdout",
     "output_type": "stream",
     "text": [
      "['Q♦', 'K♣', 'A♠']\n"
     ]
    }
   ],
   "execution_count": 21
  },
  {
   "cell_type": "code",
   "source": [
    "deck = ['S', 'A', 'T', 'Q', 'W', 'E']\n",
    "random.shuffle(deck)\n",
    "print(deck)"
   ],
   "metadata": {
    "colab": {
     "base_uri": "https://localhost:8080/"
    },
    "id": "qpGcFAnVA0zV",
    "outputId": "2d31f3c2-82f5-407d-af8d-9acd4253ed0a",
    "ExecuteTime": {
     "end_time": "2025-08-07T07:57:24.071884Z",
     "start_time": "2025-08-07T07:57:24.069931Z"
    }
   },
   "outputs": [
    {
     "name": "stdout",
     "output_type": "stream",
     "text": [
      "['S', 'W', 'Q', 'E', 'A', 'T']\n"
     ]
    }
   ],
   "execution_count": 22
  },
  {
   "cell_type": "code",
   "source": [
    "# uniform(a, b): a~b사이 임의 실수 생성\n",
    "value = random.uniform(1.0, 5.0)\n",
    "print(value)"
   ],
   "metadata": {
    "colab": {
     "base_uri": "https://localhost:8080/"
    },
    "id": "HOVG-ryVA9th",
    "outputId": "37aa5c3c-c3c5-4478-b0e0-677c2b9e2d06",
    "ExecuteTime": {
     "end_time": "2025-08-07T07:57:24.085606Z",
     "start_time": "2025-08-07T07:57:24.083030Z"
    }
   },
   "outputs": [
    {
     "name": "stdout",
     "output_type": "stream",
     "text": [
      "3.545656639025356\n"
     ]
    }
   ],
   "execution_count": 23
  },
  {
   "cell_type": "markdown",
   "source": [
    "# 2. 파일 입력과 문자 수정"
   ],
   "metadata": {
    "id": "4_8BT74IcGuo"
   }
  },
  {
   "cell_type": "code",
   "source": [
    "# 파일 업로드해서 불러오기 - 코랩용\n",
    "\n",
    "from google.colab import files\n",
    "uploaded = files.upload()"
   ],
   "metadata": {
    "colab": {
     "base_uri": "https://localhost:8080/",
     "height": 77
    },
    "id": "MZGi1k6TBN9_",
    "outputId": "28ebf308-4812-4729-c8e2-d1acae4893a2",
    "ExecuteTime": {
     "end_time": "2025-08-07T07:57:24.110324Z",
     "start_time": "2025-08-07T07:57:24.100207Z"
    }
   },
   "outputs": [
    {
     "ename": "ModuleNotFoundError",
     "evalue": "No module named 'google'",
     "output_type": "error",
     "traceback": [
      "\u001B[0;31m---------------------------------------------------------------------------\u001B[0m",
      "\u001B[0;31mModuleNotFoundError\u001B[0m                       Traceback (most recent call last)",
      "Cell \u001B[0;32mIn[24], line 3\u001B[0m\n\u001B[1;32m      1\u001B[0m \u001B[38;5;66;03m# 파일 업로드해서 불러오기 - 코랩용\u001B[39;00m\n\u001B[0;32m----> 3\u001B[0m \u001B[38;5;28;01mfrom\u001B[39;00m\u001B[38;5;250m \u001B[39m\u001B[38;5;21;01mgoogle\u001B[39;00m\u001B[38;5;21;01m.\u001B[39;00m\u001B[38;5;21;01mcolab\u001B[39;00m\u001B[38;5;250m \u001B[39m\u001B[38;5;28;01mimport\u001B[39;00m files\n\u001B[1;32m      4\u001B[0m uploaded \u001B[38;5;241m=\u001B[39m files\u001B[38;5;241m.\u001B[39mupload()\n",
      "\u001B[0;31mModuleNotFoundError\u001B[0m: No module named 'google'"
     ]
    }
   ],
   "execution_count": 24
  },
  {
   "cell_type": "code",
   "source": [
    "# 업로드한 파일 읽기\n",
    "\n",
    "with open('csv_dir/sample_fruits.txt', 'r', encoding='utf-8') as f:\n",
    "    content = f.read()\n",
    "    print(content)"
   ],
   "metadata": {
    "colab": {
     "base_uri": "https://localhost:8080/"
    },
    "id": "qkAVcFYScYs4",
    "outputId": "44b72492-af92-4f16-e8c0-48a70ed1a75b"
   },
   "execution_count": null,
   "outputs": [
    {
     "output_type": "stream",
     "name": "stdout",
     "text": [
      "\n",
      "  apple, banana , orange  \n",
      "grape ,melon, pineapple  \n",
      "  kiwi , mango ,  cherry\n",
      "\n"
     ]
    }
   ]
  },
  {
   "cell_type": "markdown",
   "source": [
    "기타 인코딩 방식\n",
    "=> EUC-KR, CP949"
   ],
   "metadata": {
    "id": "NBq04DsedPt-"
   }
  },
  {
   "cell_type": "code",
   "source": [
    "with open('csv_dir/sample_fruits.txt', 'r', encoding='utf-8') as f:\n",
    "    for line in f:\n",
    "        cleaned = line.strip()                           # 맨 윗줄과 아랫줄 공백 제거\n",
    "        fruits = cleaned.split(',')                      # 쉼표 기준 나누기\n",
    "        fruits = [fruit.strip() for fruit in fruits]    # 각 과일명 공백 제거\n",
    "        print(fruits)"
   ],
   "metadata": {
    "colab": {
     "base_uri": "https://localhost:8080/"
    },
    "id": "8LkgS_qJdFkj",
    "outputId": "0cbc9cfa-12a7-431e-a9d3-f4a0460f8b64"
   },
   "execution_count": null,
   "outputs": [
    {
     "output_type": "stream",
     "name": "stdout",
     "text": [
      "['']\n",
      "['apple', 'banana', 'orange']\n",
      "['grape', 'melon', 'pineapple']\n",
      "['kiwi', 'mango', 'cherry']\n"
     ]
    }
   ]
  },
  {
   "cell_type": "code",
   "source": [
    "# 파일 쓰기\n",
    "\n",
    "with open('test.txt', 'w', encoding='utf-8') as f:\n",
    "    f.write(\"코랩에서 저장한 텍스트입니다.\")"
   ],
   "metadata": {
    "id": "svH0ljxoeKae"
   },
   "execution_count": null,
   "outputs": []
  },
  {
   "cell_type": "code",
   "source": [
    "# 파일 다운로드\n",
    "files.download('test.txt')"
   ],
   "metadata": {
    "colab": {
     "base_uri": "https://localhost:8080/",
     "height": 17
    },
    "id": "3jV-4CHmee6w",
    "outputId": "ef458f7c-5b71-419f-f725-36f85c57d67c"
   },
   "execution_count": null,
   "outputs": [
    {
     "output_type": "display_data",
     "data": {
      "text/plain": [
       "<IPython.core.display.Javascript object>"
      ],
      "application/javascript": [
       "\n",
       "    async function download(id, filename, size) {\n",
       "      if (!google.colab.kernel.accessAllowed) {\n",
       "        return;\n",
       "      }\n",
       "      const div = document.createElement('div');\n",
       "      const label = document.createElement('label');\n",
       "      label.textContent = `Downloading \"${filename}\": `;\n",
       "      div.appendChild(label);\n",
       "      const progress = document.createElement('progress');\n",
       "      progress.max = size;\n",
       "      div.appendChild(progress);\n",
       "      document.body.appendChild(div);\n",
       "\n",
       "      const buffers = [];\n",
       "      let downloaded = 0;\n",
       "\n",
       "      const channel = await google.colab.kernel.comms.open(id);\n",
       "      // Send a message to notify the kernel that we're ready.\n",
       "      channel.send({})\n",
       "\n",
       "      for await (const message of channel.messages) {\n",
       "        // Send a message to notify the kernel that we're ready.\n",
       "        channel.send({})\n",
       "        if (message.buffers) {\n",
       "          for (const buffer of message.buffers) {\n",
       "            buffers.push(buffer);\n",
       "            downloaded += buffer.byteLength;\n",
       "            progress.value = downloaded;\n",
       "          }\n",
       "        }\n",
       "      }\n",
       "      const blob = new Blob(buffers, {type: 'application/binary'});\n",
       "      const a = document.createElement('a');\n",
       "      a.href = window.URL.createObjectURL(blob);\n",
       "      a.download = filename;\n",
       "      div.appendChild(a);\n",
       "      a.click();\n",
       "      div.remove();\n",
       "    }\n",
       "  "
      ]
     },
     "metadata": {}
    },
    {
     "output_type": "display_data",
     "data": {
      "text/plain": [
       "<IPython.core.display.Javascript object>"
      ],
      "application/javascript": [
       "download(\"download_91cfc799-0c6a-46a3-891c-8c5c8e998628\", \"test.txt\", 42)"
      ]
     },
     "metadata": {}
    }
   ]
  },
  {
   "cell_type": "code",
   "source": [
    "# fruit파일에 내용 추가하기\n",
    "\n",
    "new_line = \"  papaya , pear ,  plum  \\n\"\n",
    "\n",
    "with open('csv_dir/sample_fruits.txt', 'a', encoding='utf-8') as f:\n",
    "    f.write(new_line)"
   ],
   "metadata": {
    "id": "NqaJAnmCet74"
   },
   "execution_count": null,
   "outputs": []
  },
  {
   "cell_type": "code",
   "source": [
    "# 파일 다운로드\n",
    "files.download('sample_fruits.txt')"
   ],
   "metadata": {
    "colab": {
     "base_uri": "https://localhost:8080/",
     "height": 17
    },
    "id": "XCH8iCt0fAmd",
    "outputId": "d680250a-25b1-45bd-8511-fac7943ee787"
   },
   "execution_count": null,
   "outputs": [
    {
     "output_type": "display_data",
     "data": {
      "text/plain": [
       "<IPython.core.display.Javascript object>"
      ],
      "application/javascript": [
       "\n",
       "    async function download(id, filename, size) {\n",
       "      if (!google.colab.kernel.accessAllowed) {\n",
       "        return;\n",
       "      }\n",
       "      const div = document.createElement('div');\n",
       "      const label = document.createElement('label');\n",
       "      label.textContent = `Downloading \"${filename}\": `;\n",
       "      div.appendChild(label);\n",
       "      const progress = document.createElement('progress');\n",
       "      progress.max = size;\n",
       "      div.appendChild(progress);\n",
       "      document.body.appendChild(div);\n",
       "\n",
       "      const buffers = [];\n",
       "      let downloaded = 0;\n",
       "\n",
       "      const channel = await google.colab.kernel.comms.open(id);\n",
       "      // Send a message to notify the kernel that we're ready.\n",
       "      channel.send({})\n",
       "\n",
       "      for await (const message of channel.messages) {\n",
       "        // Send a message to notify the kernel that we're ready.\n",
       "        channel.send({})\n",
       "        if (message.buffers) {\n",
       "          for (const buffer of message.buffers) {\n",
       "            buffers.push(buffer);\n",
       "            downloaded += buffer.byteLength;\n",
       "            progress.value = downloaded;\n",
       "          }\n",
       "        }\n",
       "      }\n",
       "      const blob = new Blob(buffers, {type: 'application/binary'});\n",
       "      const a = document.createElement('a');\n",
       "      a.href = window.URL.createObjectURL(blob);\n",
       "      a.download = filename;\n",
       "      div.appendChild(a);\n",
       "      a.click();\n",
       "      div.remove();\n",
       "    }\n",
       "  "
      ]
     },
     "metadata": {}
    },
    {
     "output_type": "display_data",
     "data": {
      "text/plain": [
       "<IPython.core.display.Javascript object>"
      ],
      "application/javascript": [
       "download(\"download_1c0932d1-9cc7-4633-bd6a-d0043d62eeab\", \"sample_fruits.txt\", 105)"
      ]
     },
     "metadata": {}
    }
   ]
  },
  {
   "cell_type": "markdown",
   "source": [
    "#### 구글 드라이브에서 직접 불러오기"
   ],
   "metadata": {
    "id": "XV-qIVKWfRp4"
   }
  },
  {
   "cell_type": "code",
   "source": [
    "path = '/content/drive/MyDrive/코드잇/AI 엔지니어 5기/공유폴더/Data/sample_fruits.txt'\n",
    "\n",
    "with open(path, 'r') as f:\n",
    "    print(f.read())"
   ],
   "metadata": {
    "colab": {
     "base_uri": "https://localhost:8080/"
    },
    "id": "Cpsb4GY-fUvx",
    "outputId": "6c20f07c-22e1-4d54-be96-de9e02e67ba0",
    "ExecuteTime": {
     "end_time": "2025-08-08T00:25:29.236700Z",
     "start_time": "2025-08-08T00:25:29.166Z"
    }
   },
   "outputs": [
    {
     "ename": "FileNotFoundError",
     "evalue": "[Errno 2] No such file or directory: '/content/drive/MyDrive/코드잇/AI 엔지니어 5기/공유폴더/Data/sample_fruits.txt'",
     "output_type": "error",
     "traceback": [
      "\u001B[0;31m---------------------------------------------------------------------------\u001B[0m",
      "\u001B[0;31mFileNotFoundError\u001B[0m                         Traceback (most recent call last)",
      "Cell \u001B[0;32mIn[92], line 3\u001B[0m\n\u001B[1;32m      1\u001B[0m path \u001B[38;5;241m=\u001B[39m \u001B[38;5;124m'\u001B[39m\u001B[38;5;124m/content/drive/MyDrive/코드잇/AI 엔지니어 5기/공유폴더/Data/sample_fruits.txt\u001B[39m\u001B[38;5;124m'\u001B[39m\n\u001B[0;32m----> 3\u001B[0m \u001B[38;5;28;01mwith\u001B[39;00m \u001B[38;5;28;43mopen\u001B[39;49m\u001B[43m(\u001B[49m\u001B[43mpath\u001B[49m\u001B[43m,\u001B[49m\u001B[43m \u001B[49m\u001B[38;5;124;43m'\u001B[39;49m\u001B[38;5;124;43mr\u001B[39;49m\u001B[38;5;124;43m'\u001B[39;49m\u001B[43m)\u001B[49m \u001B[38;5;28;01mas\u001B[39;00m f:\n\u001B[1;32m      4\u001B[0m     \u001B[38;5;28mprint\u001B[39m(f\u001B[38;5;241m.\u001B[39mread())\n",
      "File \u001B[0;32m~/Library/Python/3.9/lib/python/site-packages/IPython/core/interactiveshell.py:310\u001B[0m, in \u001B[0;36m_modified_open\u001B[0;34m(file, *args, **kwargs)\u001B[0m\n\u001B[1;32m    303\u001B[0m \u001B[38;5;28;01mif\u001B[39;00m file \u001B[38;5;129;01min\u001B[39;00m {\u001B[38;5;241m0\u001B[39m, \u001B[38;5;241m1\u001B[39m, \u001B[38;5;241m2\u001B[39m}:\n\u001B[1;32m    304\u001B[0m     \u001B[38;5;28;01mraise\u001B[39;00m \u001B[38;5;167;01mValueError\u001B[39;00m(\n\u001B[1;32m    305\u001B[0m         \u001B[38;5;124mf\u001B[39m\u001B[38;5;124m\"\u001B[39m\u001B[38;5;124mIPython won\u001B[39m\u001B[38;5;124m'\u001B[39m\u001B[38;5;124mt let you open fd=\u001B[39m\u001B[38;5;132;01m{\u001B[39;00mfile\u001B[38;5;132;01m}\u001B[39;00m\u001B[38;5;124m by default \u001B[39m\u001B[38;5;124m\"\u001B[39m\n\u001B[1;32m    306\u001B[0m         \u001B[38;5;124m\"\u001B[39m\u001B[38;5;124mas it is likely to crash IPython. If you know what you are doing, \u001B[39m\u001B[38;5;124m\"\u001B[39m\n\u001B[1;32m    307\u001B[0m         \u001B[38;5;124m\"\u001B[39m\u001B[38;5;124myou can use builtins\u001B[39m\u001B[38;5;124m'\u001B[39m\u001B[38;5;124m open.\u001B[39m\u001B[38;5;124m\"\u001B[39m\n\u001B[1;32m    308\u001B[0m     )\n\u001B[0;32m--> 310\u001B[0m \u001B[38;5;28;01mreturn\u001B[39;00m \u001B[43mio_open\u001B[49m\u001B[43m(\u001B[49m\u001B[43mfile\u001B[49m\u001B[43m,\u001B[49m\u001B[43m \u001B[49m\u001B[38;5;241;43m*\u001B[39;49m\u001B[43margs\u001B[49m\u001B[43m,\u001B[49m\u001B[43m \u001B[49m\u001B[38;5;241;43m*\u001B[39;49m\u001B[38;5;241;43m*\u001B[39;49m\u001B[43mkwargs\u001B[49m\u001B[43m)\u001B[49m\n",
      "\u001B[0;31mFileNotFoundError\u001B[0m: [Errno 2] No such file or directory: '/content/drive/MyDrive/코드잇/AI 엔지니어 5기/공유폴더/Data/sample_fruits.txt'"
     ]
    }
   ],
   "execution_count": 92
  },
  {
   "cell_type": "code",
   "source": [
    "with open('csv_dir/sample_fruits.txt', 'r', encoding='utf-8') as f:\n",
    "    for line in f:\n",
    "        print(line.strip())\n"
   ],
   "metadata": {
    "id": "eiRKyGPFf78o",
    "ExecuteTime": {
     "end_time": "2025-08-07T07:59:01.691077Z",
     "start_time": "2025-08-07T07:59:01.688473Z"
    }
   },
   "outputs": [
    {
     "name": "stdout",
     "output_type": "stream",
     "text": [
      "\n",
      "apple, banana , orange\n",
      "grape ,melon, pineapple\n",
      "kiwi , mango ,  cherry\n"
     ]
    }
   ],
   "execution_count": 31
  },
  {
   "metadata": {},
   "cell_type": "markdown",
   "source": "# 1. 클래스 코드 연습"
  },
  {
   "metadata": {
    "ExecuteTime": {
     "end_time": "2025-08-07T08:39:07.290080Z",
     "start_time": "2025-08-07T08:39:07.287394Z"
    }
   },
   "cell_type": "code",
   "source": [
    "class Person:\n",
    "    def __init__(self, name, age):\n",
    "        self.name = name\n",
    "        self.age = age\n",
    "\n",
    "    def greet(self):\n",
    "        print('Hello, my name is', self.name)\n",
    "\n",
    "human1 = Person(\"hong\", 23)\n",
    "human1.greet()\n",
    "# print(\"사람 이름은 \" + human1.name + \"입니다.\")"
   ],
   "outputs": [
    {
     "name": "stdout",
     "output_type": "stream",
     "text": [
      "Hello, my name is hong\n"
     ]
    }
   ],
   "execution_count": 40
  },
  {
   "metadata": {
    "ExecuteTime": {
     "end_time": "2025-08-07T09:08:30.518604Z",
     "start_time": "2025-08-07T09:08:30.512694Z"
    }
   },
   "cell_type": "code",
   "source": [
    "class BankAccount:\n",
    "    def __init__(self, owner, balance):\n",
    "        self.owner = owner\n",
    "        self.balance = balance\n",
    "\n",
    "    def deposit(self, amount):\n",
    "        self.balance += amount\n",
    "        return self.balance\n",
    "\n",
    "    # 출금 기능 구현\n",
    "    def withdraw(self, amount):\n",
    "        if self.balance -amount< 0:\n",
    "            return \"마이너스 통장입니다.\"\n",
    "        self.balance -= amount\n",
    "        return f\"{amount}원이 출금됨. 현재잔액 : {self.balance}원\"\n",
    "\n",
    "    # 이체 기능 구현\n",
    "    def transfer(self, target_amount, amount):\n",
    "        if amount > self.balance:\n",
    "            return \"이체 실패 - 잔액 부족\"\n",
    "        self.balance -= amount\n",
    "        target_amount.balance += amount\n",
    "        print(amount, \"원\" , target_amount.owner ,\"에게 이체 완료\" +\"\\n내 잔액: \" , self.balance)\n",
    "\n",
    "\n",
    "\n",
    "human1 = BankAccount(\"Park\", 1300)\n",
    "human2 = BankAccount(\"Kim\", 1300)\n",
    "\n",
    "human1.deposit(100)\n",
    "\n",
    "human2.transfer(human2, 300)\n",
    "\n"
   ],
   "outputs": [
    {
     "name": "stdout",
     "output_type": "stream",
     "text": [
      "300 원 Kim 에게 이체 완료\n",
      "내 잔액:  1300\n"
     ]
    }
   ],
   "execution_count": 55
  },
  {
   "metadata": {},
   "cell_type": "markdown",
   "source": "# 2. 상품 클래스 구현"
  },
  {
   "metadata": {
    "ExecuteTime": {
     "end_time": "2025-08-07T09:27:48.241168Z",
     "start_time": "2025-08-07T09:27:48.235308Z"
    }
   },
   "cell_type": "code",
   "source": [
    "# 실습문제1 상품 클래스 구현하기 문제\n",
    "class Product:\n",
    "    def __init__(self, name, price, stock=0):\n",
    "        self.name = name\n",
    "        self.price = price\n",
    "        self.stock = stock\n",
    "\n",
    "    def restock(self, amount):\n",
    "        #### 재고 추가 구현 ####\n",
    "        self.stock += amount\n",
    "        return f\"{amount}개가 추가 되었습니다. 현재 재고: {self.stock}\"\n",
    "\n",
    "\n",
    "    def info(self):\n",
    "        #### 상품 설명 구현 ####\n",
    "        return f\"이름: {self.name} 가격: {self.price} 재고:{self.stock}\"\n",
    "\n",
    "    def sell(self, quantity):\n",
    "        #### 판매 정보 구현 ####\n",
    "        if (self.stock - quantity) < 0:\n",
    "            return f\"재고가 부족합니다.\"\n",
    "        self.stock -= quantity\n",
    "        return f\"{quantity}개 팔렸습니다. 남은 재고: {self.stock}\"\n",
    "\n",
    "\n",
    "rice = Product(\"Rice\", 500)\n",
    "print(rice.restock(2))\n",
    "print(rice.sell(1))\n",
    "\n",
    "print(rice.info())\n",
    "\n"
   ],
   "outputs": [
    {
     "name": "stdout",
     "output_type": "stream",
     "text": [
      "2개가 추가 되었습니다. 현재 재고: 2\n",
      "1개 팔렸습니다. 남은 재고: 1\n",
      "이름: Rice 가격: 500 재고:1\n"
     ]
    }
   ],
   "execution_count": 76
  },
  {
   "metadata": {
    "ExecuteTime": {
     "end_time": "2025-08-07T09:41:58.184778Z",
     "start_time": "2025-08-07T09:41:58.180448Z"
    }
   },
   "cell_type": "code",
   "source": [
    "# 실습2 문제 - 인스턴스 변수 초기화 예외 처리\n",
    "class Person:\n",
    "    def __init__(self, name, age, email=None):\n",
    "        # age는 0~120 사이\n",
    "        if not 0 < age < 120:\n",
    "            raise ValueError(\"age는 0 초과 120 미만\")\n",
    "        ####### 여기에 메소드를 정의하세요 #######\n",
    "        self.name = name\n",
    "        self.age = age\n",
    "        self.email = email\n",
    "\n",
    "\n",
    "    def greet(self):\n",
    "        print(f\"{self.name} ({self.age}세) - {self.email} 님, 안녕하세요!\")\n",
    "\n",
    "\n",
    "human1 = Person(\"Kim\", 23, \"hello@naver.ocm\")\n",
    "human1.greet()"
   ],
   "outputs": [
    {
     "name": "stdout",
     "output_type": "stream",
     "text": [
      "Hong (23세) - hello@naver.ocm 님, 안녕하세요!\n"
     ]
    }
   ],
   "execution_count": 84
  },
  {
   "metadata": {
    "ExecuteTime": {
     "end_time": "2025-08-08T00:47:38.101620Z",
     "start_time": "2025-08-08T00:47:38.096401Z"
    }
   },
   "cell_type": "code",
   "source": [
    "class Book:\n",
    "    num = 1\n",
    "    def __init__(self, title, author, year):\n",
    "        self.title = title\n",
    "        self.author = author\n",
    "        self.year = year\n",
    "        self.num = self.num + 1\n",
    "\n",
    "    def __restr__(self):\n",
    "        return f\"Book(title = {self.title}. author = {self.author}. year ={self.year})\"\n",
    "\n",
    "    def __str__(self):\n",
    "        return f'{self.title} by {self.author} ({self.year})'\n"
   ],
   "outputs": [],
   "execution_count": 112
  },
  {
   "metadata": {
    "ExecuteTime": {
     "end_time": "2025-08-08T00:47:44.733843Z",
     "start_time": "2025-08-08T00:47:44.730874Z"
    }
   },
   "cell_type": "code",
   "source": [
    "book1 = Book(\"노인과 바다\", \"헤밍웨이\", \"1952\")\n",
    "book2 = Book(\"소년이 온다\", \"한강\", \"2014\")\n"
   ],
   "outputs": [],
   "execution_count": 113
  },
  {
   "metadata": {
    "ExecuteTime": {
     "end_time": "2025-08-08T00:47:48.984839Z",
     "start_time": "2025-08-08T00:47:48.982680Z"
    }
   },
   "cell_type": "code",
   "source": [
    "print(book1.__restr__())\n",
    "print(str(book1))\n",
    "print(book1.__str__())\n",
    "book1.num = 3\n",
    "print(book1.num)\n",
    "print(book2.num)"
   ],
   "outputs": [
    {
     "name": "stdout",
     "output_type": "stream",
     "text": [
      "Book(title = 노인과 바다. author = 헤밍웨이. year =1952)\n",
      "노인과 바다 by 헤밍웨이 (1952)\n",
      "노인과 바다 by 헤밍웨이 (1952)\n",
      "3\n",
      "2\n"
     ]
    }
   ],
   "execution_count": 115
  },
  {
   "metadata": {},
   "cell_type": "markdown",
   "source": ""
  },
  {
   "metadata": {
    "ExecuteTime": {
     "end_time": "2025-08-08T01:43:26.845279Z",
     "start_time": "2025-08-08T01:43:26.840133Z"
    }
   },
   "cell_type": "code",
   "source": [
    "class MyList:\n",
    "    def __init__(self):\n",
    "        self.data = [10, 20, 30]\n",
    "\n",
    "    def __getitem__(self, index):\n",
    "        return self.data[index]\n",
    "\n",
    "me = MyList()\n",
    "me.__getitem__(1)\n"
   ],
   "outputs": [
    {
     "data": {
      "text/plain": [
       "20"
      ]
     },
     "execution_count": 125,
     "metadata": {},
     "output_type": "execute_result"
    }
   ],
   "execution_count": 125
  },
  {
   "metadata": {},
   "cell_type": "markdown",
   "source": [
    "\n",
    "## **자기소개 마크다운 미션**\n",
    "\n",
    "### 이름\n",
    "#### 윤재형\n",
    "### 요즘 배우는 것\n",
    "\n",
    "- 파이썬 기초 문법\n",
    "- 마크다운 정리법\n",
    "- 데이터 시각화\n",
    "- ai 엔지니어링\n",
    "\n",
    "\n",
    "## 나의 목표\n",
    "\n",
    "> 마크다운으로 매일 학습 기로 ㄱ만들기\n",
    "____________________________________________\n"
   ]
  },
  {
   "metadata": {
    "ExecuteTime": {
     "end_time": "2025-08-12T00:35:45.420485Z",
     "start_time": "2025-08-12T00:35:45.418757Z"
    }
   },
   "cell_type": "code",
   "source": "",
   "outputs": [],
   "execution_count": null
  }
 ]
}
