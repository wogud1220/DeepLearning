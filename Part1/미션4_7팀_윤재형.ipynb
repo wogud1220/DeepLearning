{
 "cells": [
  {
   "cell_type": "code",
   "id": "initial_id",
   "metadata": {
    "collapsed": true,
    "ExecuteTime": {
     "end_time": "2025-09-03T13:08:40.582188Z",
     "start_time": "2025-09-03T13:08:40.389561Z"
    }
   },
   "source": [
    "import matplotlib as mpl\n",
    "import matplotlib.font_manager as fm\n",
    "import matplotlib.pyplot as plt\n",
    "import os\n",
    "import koreanize_matplotlib\n",
    "import numpy as np\n",
    "import pandas as pd\n",
    "import seaborn as sns\n",
    "import missingno as msno\n",
    "from pandas.plotting import boxplot\n",
    "from sklearn.model_selection import train_test_split\n",
    "from sklearn.preprocessing import PolynomialFeatures\n",
    "\n",
    "# 나눔고딕 경로 찾기 (macOS 기준)\n",
    "font_path = fm.findfont(\"NanumGothic\")\n",
    "font_name = fm.FontProperties(fname=font_path).get_name()\n",
    "\n",
    "# 폰트와 마이너스 기호 깨짐 방지 설정\n",
    "plt.rc('font', family=font_name)\n",
    "mpl.rcParams['axes.unicode_minus'] = False"
   ],
   "outputs": [],
   "execution_count": 1
  },
  {
   "metadata": {
    "ExecuteTime": {
     "end_time": "2025-09-03T13:08:40.710252Z",
     "start_time": "2025-09-03T13:08:40.665057Z"
    }
   },
   "cell_type": "code",
   "source": [
    "\n",
    "path = \"./csv_dir/bank-additional-full.csv\"\n",
    "\n",
    "df = pd.read_csv(path, sep=\";\", header=0,\n",
    ")\n",
    "# age;\"job\";\"marital\";\"education\";\"default\";\"housing\";\"loan\";\"contact\";\"month\";\"day_of_week\";\"duration\";\"campaign\";\"pdays\";\"previous\";\"poutcome\";\"emp.var.rate\";\"cons.price.idx\";\"cons.conf.idx\";\"euribor3m\";\"nr.employed\";\"y\""
   ],
   "id": "404a447a19aa570f",
   "outputs": [],
   "execution_count": 2
  },
  {
   "metadata": {
    "ExecuteTime": {
     "end_time": "2025-09-03T13:08:40.722407Z",
     "start_time": "2025-09-03T13:08:40.719348Z"
    }
   },
   "cell_type": "code",
   "source": "df.columns",
   "id": "146287d594eed7f8",
   "outputs": [
    {
     "data": {
      "text/plain": [
       "Index(['age', 'job', 'marital', 'education', 'default', 'housing', 'loan',\n",
       "       'contact', 'month', 'day_of_week', 'duration', 'campaign', 'pdays',\n",
       "       'previous', 'poutcome', 'emp.var.rate', 'cons.price.idx',\n",
       "       'cons.conf.idx', 'euribor3m', 'nr.employed', 'y'],\n",
       "      dtype='object')"
      ]
     },
     "execution_count": 3,
     "metadata": {},
     "output_type": "execute_result"
    }
   ],
   "execution_count": 3
  },
  {
   "metadata": {},
   "cell_type": "markdown",
   "source": [
    "# 데이터 개수 : 4만 1천개\n",
    "- 고객 데이터\n",
    "- 캠페인데이터\n",
    "- 경제 데이터"
   ],
   "id": "cb2b40f6ea29a7c5"
  },
  {
   "metadata": {
    "ExecuteTime": {
     "end_time": "2025-09-03T13:08:40.771499Z",
     "start_time": "2025-09-03T13:08:40.758700Z"
    }
   },
   "cell_type": "code",
   "source": "df.info()",
   "id": "4db43b12feb3504d",
   "outputs": [
    {
     "name": "stdout",
     "output_type": "stream",
     "text": [
      "<class 'pandas.core.frame.DataFrame'>\n",
      "RangeIndex: 41188 entries, 0 to 41187\n",
      "Data columns (total 21 columns):\n",
      " #   Column          Non-Null Count  Dtype  \n",
      "---  ------          --------------  -----  \n",
      " 0   age             41188 non-null  int64  \n",
      " 1   job             41188 non-null  object \n",
      " 2   marital         41188 non-null  object \n",
      " 3   education       41188 non-null  object \n",
      " 4   default         41188 non-null  object \n",
      " 5   housing         41188 non-null  object \n",
      " 6   loan            41188 non-null  object \n",
      " 7   contact         41188 non-null  object \n",
      " 8   month           41188 non-null  object \n",
      " 9   day_of_week     41188 non-null  object \n",
      " 10  duration        41188 non-null  int64  \n",
      " 11  campaign        41188 non-null  int64  \n",
      " 12  pdays           41188 non-null  int64  \n",
      " 13  previous        41188 non-null  int64  \n",
      " 14  poutcome        41188 non-null  object \n",
      " 15  emp.var.rate    41188 non-null  float64\n",
      " 16  cons.price.idx  41188 non-null  float64\n",
      " 17  cons.conf.idx   41188 non-null  float64\n",
      " 18  euribor3m       41188 non-null  float64\n",
      " 19  nr.employed     41188 non-null  float64\n",
      " 20  y               41188 non-null  object \n",
      "dtypes: float64(5), int64(5), object(11)\n",
      "memory usage: 6.6+ MB\n"
     ]
    }
   ],
   "execution_count": 4
  },
  {
   "metadata": {},
   "cell_type": "markdown",
   "source": [
    "## Unknown개수 확인\n",
    "- 어케 처리하냐"
   ],
   "id": "ec5646f02daa216a"
  },
  {
   "metadata": {
    "ExecuteTime": {
     "end_time": "2025-09-03T13:08:40.836261Z",
     "start_time": "2025-09-03T13:08:40.820130Z"
    }
   },
   "cell_type": "code",
   "source": [
    "unknown_summary = (df == \"unknown\").sum().sort_values(ascending=False)\n",
    "\n",
    "print(unknown_summary)"
   ],
   "id": "a3b8617cd64558c3",
   "outputs": [
    {
     "name": "stdout",
     "output_type": "stream",
     "text": [
      "default           8597\n",
      "education         1731\n",
      "housing            990\n",
      "loan               990\n",
      "job                330\n",
      "marital             80\n",
      "age                  0\n",
      "poutcome             0\n",
      "nr.employed          0\n",
      "euribor3m            0\n",
      "cons.conf.idx        0\n",
      "cons.price.idx       0\n",
      "emp.var.rate         0\n",
      "duration             0\n",
      "previous             0\n",
      "pdays                0\n",
      "campaign             0\n",
      "day_of_week          0\n",
      "month                0\n",
      "contact              0\n",
      "y                    0\n",
      "dtype: int64\n"
     ]
    }
   ],
   "execution_count": 5
  },
  {
   "metadata": {},
   "cell_type": "markdown",
   "source": [
    "## y 컬럼 확인\n",
    "- 거의 뭐 9ㄷ1임. 이래서 accuracy 쓰면안된다고. 다 틀렸다고해도 정답율 90퍼임 ㄷㄷ"
   ],
   "id": "5273c4946c4b15ee"
  },
  {
   "metadata": {
    "ExecuteTime": {
     "end_time": "2025-09-03T13:08:41.030293Z",
     "start_time": "2025-09-03T13:08:40.868882Z"
    }
   },
   "cell_type": "code",
   "source": [
    "\n",
    "plt.figure(figsize = (12, 5))\n",
    "\n",
    "plt.subplot(1,2,1)\n",
    "plt.title(\"정답 확인\")\n",
    "sns.countplot(data = df, x = 'y')\n",
    "\n",
    "\n",
    "plt.subplot(1,2,2)\n",
    "sns.countplot(data = df, x = 'y', stat='probability')\n",
    "plt.show()\n",
    "print(df['y'].value_counts(normalize=True))"
   ],
   "id": "ae09f390318bffd4",
   "outputs": [
    {
     "data": {
      "text/plain": [
       "<Figure size 1200x500 with 2 Axes>"
      ],
      "image/png": "[encoded data removed]"
     },
     "metadata": {},
     "output_type": "display_data"
    },
    {
     "name": "stdout",
     "output_type": "stream",
     "text": [
      "y\n",
      "no     0.887346\n",
      "yes    0.112654\n",
      "Name: proportion, dtype: float64\n"
     ]
    }
   ],
   "execution_count": 6
  },
  {
   "metadata": {},
   "cell_type": "markdown",
   "source": [
    "# 중복값 확인\n",
    "- 직업, 나이, 교육, 대출이 같을수가있나 ㅇㅇ 있지\n",
    "- 물가지수, 고용변동률, 고용자수는 모든 사람이 똑같은데, 같은 week, month면 같을 수도 있다고 생각.\n",
    "- 그럼 개인정보도 같고 경제정보도 같을 수도 있음.\n",
    "- 근데 12row 니깐 지워도 ㄱㅊ을듯...?"
   ],
   "id": "6fc63649536da30c"
  },
  {
   "metadata": {
    "ExecuteTime": {
     "end_time": "2025-09-03T13:08:41.065561Z",
     "start_time": "2025-09-03T13:08:41.043345Z"
    }
   },
   "cell_type": "code",
   "source": "df = df.drop_duplicates()",
   "id": "757c9183d37ea310",
   "outputs": [],
   "execution_count": 7
  },
  {
   "metadata": {},
   "cell_type": "markdown",
   "source": [
    "# 결측치 확인\n",
    "- 없음"
   ],
   "id": "c041263e197ff70e"
  },
  {
   "metadata": {
    "ExecuteTime": {
     "end_time": "2025-09-03T13:08:41.446161Z",
     "start_time": "2025-09-03T13:08:41.078882Z"
    }
   },
   "cell_type": "code",
   "source": "msno.bar(df)",
   "id": "e313c29d543cc10",
   "outputs": [
    {
     "data": {
      "text/plain": [
       "<Axes: >"
      ]
     },
     "execution_count": 8,
     "metadata": {},
     "output_type": "execute_result"
    },
    {
     "data": {
      "text/plain": [
       "<Figure size 2500x1000 with 3 Axes>"
      ],
      "image/png": "[encoded data removed]"
     },
     "metadata": {},
     "output_type": "display_data"
    }
   ],
   "execution_count": 8
  },
  {
   "metadata": {},
   "cell_type": "markdown",
   "source": "# 이상치 확인",
   "id": "ed4d316f6c893237"
  },
  {
   "metadata": {},
   "cell_type": "markdown",
   "source": [
    "### Age\n",
    "- 20~40대에 몰려있고 70살부터 이상치임\n",
    "- 근데 70이 이상치라고 생각 안 하는데\n",
    "- 98세까지 있음. 충분히 살아서 전화받을만함. -> 더 자세히 보려면 직업을 확인해봐야할듯?\n",
    "- 98세에 블루칼라 직종이면 음 곧 갈거같으니깐 -> 80세에 블루칼라 한명잇음. -> 뭐 이상한 데이터는아닌 거 같음\n"
   ],
   "id": "886e4798458459ba"
  },
  {
   "metadata": {
    "ExecuteTime": {
     "end_time": "2025-09-03T13:08:41.806706Z",
     "start_time": "2025-09-03T13:08:41.456269Z"
    }
   },
   "cell_type": "code",
   "source": [
    "plt.figure(figsize = (14, 8))\n",
    "plt.subplot(1,2,1)\n",
    "sns.boxplot(data = df, y = 'age',flierprops=dict(marker='o', markersize=3))\n",
    "plt.yticks(np.arange(15,100,3))\n",
    "plt.ylabel('age',rotation = 45)\n",
    "\n",
    "plt.subplot(1,2,2)\n",
    "sns.histplot(data = df, x = 'age',kde=True)\n",
    "plt.ylabel(\"count\",rotation=45)\n",
    "plt.xticks(np.arange(0, 90, 5))\n",
    "\n",
    "\n",
    "plt.show()"
   ],
   "id": "4a8cdd904f720f3b",
   "outputs": [
    {
     "data": {
      "text/plain": [
       "<Figure size 1400x800 with 2 Axes>"
      ],
      "image/png": "[encoded data removed]"
     },
     "metadata": {},
     "output_type": "display_data"
    }
   ],
   "execution_count": 9
  },
  {
   "metadata": {
    "ExecuteTime": {
     "end_time": "2025-09-03T13:08:41.820414Z",
     "start_time": "2025-09-03T13:08:41.816327Z"
    }
   },
   "cell_type": "code",
   "source": [
    "df['age'].value_counts()\n",
    "df[df['age'] >= 80]['job'].value_counts()"
   ],
   "id": "d4253d84681b5964",
   "outputs": [
    {
     "data": {
      "text/plain": [
       "job\n",
       "retired        133\n",
       "housemaid       13\n",
       "unknown          2\n",
       "management       1\n",
       "blue-collar      1\n",
       "Name: count, dtype: int64"
      ]
     },
     "execution_count": 10,
     "metadata": {},
     "output_type": "execute_result"
    }
   ],
   "execution_count": 10
  },
  {
   "metadata": {
    "ExecuteTime": {
     "end_time": "2025-09-03T13:08:41.871115Z",
     "start_time": "2025-09-03T13:08:41.861887Z"
    }
   },
   "cell_type": "code",
   "source": "df[(df['age'] >= 80) & (df['job'] =='blue-collar')]",
   "id": "cee03dde48923906",
   "outputs": [
    {
     "data": {
      "text/plain": [
       "       age          job  marital    education default housing loan   contact  \\\n",
       "30079   80  blue-collar  married  high.school      no      no   no  cellular   \n",
       "\n",
       "      month day_of_week  ...  campaign  pdays  previous  poutcome  \\\n",
       "30079   apr         fri  ...         6    999         3   failure   \n",
       "\n",
       "      emp.var.rate  cons.price.idx  cons.conf.idx  euribor3m  nr.employed   y  \n",
       "30079         -1.8          93.075          -47.1        1.4       5099.1  no  \n",
       "\n",
       "[1 rows x 21 columns]"
      ],
      "text/html": [
       "<div>\n",
       "<style scoped>\n",
       "    .dataframe tbody tr th:only-of-type {\n",
       "        vertical-align: middle;\n",
       "    }\n",
       "\n",
       "    .dataframe tbody tr th {\n",
       "        vertical-align: top;\n",
       "    }\n",
       "\n",
       "    .dataframe thead th {\n",
       "        text-align: right;\n",
       "    }\n",
       "</style>\n",
       "<table border=\"1\" class=\"dataframe\">\n",
       "  <thead>\n",
       "    <tr style=\"text-align: right;\">\n",
       "      <th></th>\n",
       "      <th>age</th>\n",
       "      <th>job</th>\n",
       "      <th>marital</th>\n",
       "      <th>education</th>\n",
       "      <th>default</th>\n",
       "      <th>housing</th>\n",
       "      <th>loan</th>\n",
       "      <th>contact</th>\n",
       "      <th>month</th>\n",
       "      <th>day_of_week</th>\n",
       "      <th>...</th>\n",
       "      <th>campaign</th>\n",
       "      <th>pdays</th>\n",
       "      <th>previous</th>\n",
       "      <th>poutcome</th>\n",
       "      <th>emp.var.rate</th>\n",
       "      <th>cons.price.idx</th>\n",
       "      <th>cons.conf.idx</th>\n",
       "      <th>euribor3m</th>\n",
       "      <th>nr.employed</th>\n",
       "      <th>y</th>\n",
       "    </tr>\n",
       "  </thead>\n",
       "  <tbody>\n",
       "    <tr>\n",
       "      <th>30079</th>\n",
       "      <td>80</td>\n",
       "      <td>blue-collar</td>\n",
       "      <td>married</td>\n",
       "      <td>high.school</td>\n",
       "      <td>no</td>\n",
       "      <td>no</td>\n",
       "      <td>no</td>\n",
       "      <td>cellular</td>\n",
       "      <td>apr</td>\n",
       "      <td>fri</td>\n",
       "      <td>...</td>\n",
       "      <td>6</td>\n",
       "      <td>999</td>\n",
       "      <td>3</td>\n",
       "      <td>failure</td>\n",
       "      <td>-1.8</td>\n",
       "      <td>93.075</td>\n",
       "      <td>-47.1</td>\n",
       "      <td>1.4</td>\n",
       "      <td>5099.1</td>\n",
       "      <td>no</td>\n",
       "    </tr>\n",
       "  </tbody>\n",
       "</table>\n",
       "<p>1 rows × 21 columns</p>\n",
       "</div>"
      ]
     },
     "execution_count": 11,
     "metadata": {},
     "output_type": "execute_result"
    }
   ],
   "execution_count": 11
  },
  {
   "metadata": {},
   "cell_type": "markdown",
   "source": [
    "## Duration (마지막 연락 시간)\n",
    "- 단위: sec\n",
    "- 1544개 다른 초 있으니깐 히스트로\n",
    "- 전화를 하기전에 이사람이 가입할지 안할지 알아야함. 모델링할때 빼고 해야할듯\n",
    "- 상식적으로 전화를 길게하면 가입하는러가ㅗㅅ생각\n",
    "- **지속 시간: 마지막 접촉 지속 시간(초 단위). 중요한 점: 이 속성은 출력 목표에 큰 영향을 미칩니다(예: 지속 시간=0이면 y=\"아니오\"). 그러나 통화가 수행되기 전에는 지속 시간을 알 수 없습니다. 또한 통화가 끝난 후에는 y가 명확하게 알려져 있습니다. 따라서 이 입력은 벤치마크 목적으로만 포함되어야 하며 현실적인 예측 모델을 의도하는 경우 폐기해야 합니다.**\n",
    "- 어차피 모델링에 안쓸거니깐 전처리 안 함."
   ],
   "id": "8d6c65b8a4211ac9"
  },
  {
   "metadata": {
    "ExecuteTime": {
     "end_time": "2025-09-03T13:08:41.998779Z",
     "start_time": "2025-09-03T13:08:41.984794Z"
    }
   },
   "cell_type": "code",
   "source": "df.describe()",
   "id": "ffa675d33ff377c2",
   "outputs": [
    {
     "data": {
      "text/plain": [
       "               age      duration      campaign         pdays      previous  \\\n",
       "count  41176.00000  41176.000000  41176.000000  41176.000000  41176.000000   \n",
       "mean      40.02380    258.315815      2.567879    962.464810      0.173013   \n",
       "std       10.42068    259.305321      2.770318    186.937102      0.494964   \n",
       "min       17.00000      0.000000      1.000000      0.000000      0.000000   \n",
       "25%       32.00000    102.000000      1.000000    999.000000      0.000000   \n",
       "50%       38.00000    180.000000      2.000000    999.000000      0.000000   \n",
       "75%       47.00000    319.000000      3.000000    999.000000      0.000000   \n",
       "max       98.00000   4918.000000     56.000000    999.000000      7.000000   \n",
       "\n",
       "       emp.var.rate  cons.price.idx  cons.conf.idx     euribor3m   nr.employed  \n",
       "count  41176.000000    41176.000000   41176.000000  41176.000000  41176.000000  \n",
       "mean       0.081922       93.575720     -40.502863      3.621293   5167.034870  \n",
       "std        1.570883        0.578839       4.627860      1.734437     72.251364  \n",
       "min       -3.400000       92.201000     -50.800000      0.634000   4963.600000  \n",
       "25%       -1.800000       93.075000     -42.700000      1.344000   5099.100000  \n",
       "50%        1.100000       93.749000     -41.800000      4.857000   5191.000000  \n",
       "75%        1.400000       93.994000     -36.400000      4.961000   5228.100000  \n",
       "max        1.400000       94.767000     -26.900000      5.045000   5228.100000  "
      ],
      "text/html": [
       "<div>\n",
       "<style scoped>\n",
       "    .dataframe tbody tr th:only-of-type {\n",
       "        vertical-align: middle;\n",
       "    }\n",
       "\n",
       "    .dataframe tbody tr th {\n",
       "        vertical-align: top;\n",
       "    }\n",
       "\n",
       "    .dataframe thead th {\n",
       "        text-align: right;\n",
       "    }\n",
       "</style>\n",
       "<table border=\"1\" class=\"dataframe\">\n",
       "  <thead>\n",
       "    <tr style=\"text-align: right;\">\n",
       "      <th></th>\n",
       "      <th>age</th>\n",
       "      <th>duration</th>\n",
       "      <th>campaign</th>\n",
       "      <th>pdays</th>\n",
       "      <th>previous</th>\n",
       "      <th>emp.var.rate</th>\n",
       "      <th>cons.price.idx</th>\n",
       "      <th>cons.conf.idx</th>\n",
       "      <th>euribor3m</th>\n",
       "      <th>nr.employed</th>\n",
       "    </tr>\n",
       "  </thead>\n",
       "  <tbody>\n",
       "    <tr>\n",
       "      <th>count</th>\n",
       "      <td>41176.00000</td>\n",
       "      <td>41176.000000</td>\n",
       "      <td>41176.000000</td>\n",
       "      <td>41176.000000</td>\n",
       "      <td>41176.000000</td>\n",
       "      <td>41176.000000</td>\n",
       "      <td>41176.000000</td>\n",
       "      <td>41176.000000</td>\n",
       "      <td>41176.000000</td>\n",
       "      <td>41176.000000</td>\n",
       "    </tr>\n",
       "    <tr>\n",
       "      <th>mean</th>\n",
       "      <td>40.02380</td>\n",
       "      <td>258.315815</td>\n",
       "      <td>2.567879</td>\n",
       "      <td>962.464810</td>\n",
       "      <td>0.173013</td>\n",
       "      <td>0.081922</td>\n",
       "      <td>93.575720</td>\n",
       "      <td>-40.502863</td>\n",
       "      <td>3.621293</td>\n",
       "      <td>5167.034870</td>\n",
       "    </tr>\n",
       "    <tr>\n",
       "      <th>std</th>\n",
       "      <td>10.42068</td>\n",
       "      <td>259.305321</td>\n",
       "      <td>2.770318</td>\n",
       "      <td>186.937102</td>\n",
       "      <td>0.494964</td>\n",
       "      <td>1.570883</td>\n",
       "      <td>0.578839</td>\n",
       "      <td>4.627860</td>\n",
       "      <td>1.734437</td>\n",
       "      <td>72.251364</td>\n",
       "    </tr>\n",
       "    <tr>\n",
       "      <th>min</th>\n",
       "      <td>17.00000</td>\n",
       "      <td>0.000000</td>\n",
       "      <td>1.000000</td>\n",
       "      <td>0.000000</td>\n",
       "      <td>0.000000</td>\n",
       "      <td>-3.400000</td>\n",
       "      <td>92.201000</td>\n",
       "      <td>-50.800000</td>\n",
       "      <td>0.634000</td>\n",
       "      <td>4963.600000</td>\n",
       "    </tr>\n",
       "    <tr>\n",
       "      <th>25%</th>\n",
       "      <td>32.00000</td>\n",
       "      <td>102.000000</td>\n",
       "      <td>1.000000</td>\n",
       "      <td>999.000000</td>\n",
       "      <td>0.000000</td>\n",
       "      <td>-1.800000</td>\n",
       "      <td>93.075000</td>\n",
       "      <td>-42.700000</td>\n",
       "      <td>1.344000</td>\n",
       "      <td>5099.100000</td>\n",
       "    </tr>\n",
       "    <tr>\n",
       "      <th>50%</th>\n",
       "      <td>38.00000</td>\n",
       "      <td>180.000000</td>\n",
       "      <td>2.000000</td>\n",
       "      <td>999.000000</td>\n",
       "      <td>0.000000</td>\n",
       "      <td>1.100000</td>\n",
       "      <td>93.749000</td>\n",
       "      <td>-41.800000</td>\n",
       "      <td>4.857000</td>\n",
       "      <td>5191.000000</td>\n",
       "    </tr>\n",
       "    <tr>\n",
       "      <th>75%</th>\n",
       "      <td>47.00000</td>\n",
       "      <td>319.000000</td>\n",
       "      <td>3.000000</td>\n",
       "      <td>999.000000</td>\n",
       "      <td>0.000000</td>\n",
       "      <td>1.400000</td>\n",
       "      <td>93.994000</td>\n",
       "      <td>-36.400000</td>\n",
       "      <td>4.961000</td>\n",
       "      <td>5228.100000</td>\n",
       "    </tr>\n",
       "    <tr>\n",
       "      <th>max</th>\n",
       "      <td>98.00000</td>\n",
       "      <td>4918.000000</td>\n",
       "      <td>56.000000</td>\n",
       "      <td>999.000000</td>\n",
       "      <td>7.000000</td>\n",
       "      <td>1.400000</td>\n",
       "      <td>94.767000</td>\n",
       "      <td>-26.900000</td>\n",
       "      <td>5.045000</td>\n",
       "      <td>5228.100000</td>\n",
       "    </tr>\n",
       "  </tbody>\n",
       "</table>\n",
       "</div>"
      ]
     },
     "execution_count": 12,
     "metadata": {},
     "output_type": "execute_result"
    }
   ],
   "execution_count": 12
  },
  {
   "metadata": {
    "ExecuteTime": {
     "end_time": "2025-09-03T13:08:42.288385Z",
     "start_time": "2025-09-03T13:08:42.058139Z"
    }
   },
   "cell_type": "code",
   "source": [
    "plt.figure(figsize = (12, 8))\n",
    "\n",
    "plt.subplot(1,2,1)\n",
    "plt.title(\"duration의 Boxplot\")\n",
    "sns.boxplot(data = df, y = 'duration')\n",
    "\n",
    "\n",
    "plt.subplot(1,2,2)\n",
    "plt.title(\"duration의 히스트\")\n",
    "# data 누수, 독립변수 하나가 종속변수에 너무 큰 영향을 미치ㅣㄴ느 ㄴ거\n",
    "# df['duration_bins'] = pd.cut(df['duration'], bins=10)\n",
    "duration_bins = [0,10,50,100,200,300,400,500,600, 700, 800]\n",
    "sns.histplot(data = df, x = 'duration', bins=duration_bins, edgecolor='black')\n",
    "plt.ylabel(\"count\",rotation = 0)\n",
    "\n",
    "plt.tight_layout()\n",
    "plt.show()"
   ],
   "id": "affe584745c36aaf",
   "outputs": [
    {
     "data": {
      "text/plain": [
       "<Figure size 1200x800 with 2 Axes>"
      ],
      "image/png": "[encoded data removed]"
     },
     "metadata": {},
     "output_type": "display_data"
    }
   ],
   "execution_count": 13
  },
  {
   "metadata": {},
   "cell_type": "markdown",
   "source": [
    "## Campaign 처리 - 캠페인 동안 연락 횟수 (숫자)\n",
    "- 평균 2.5, 중앙 2.0, 표편 2.7인데 맥스가 56  -> 이상치 처리하기\n",
    "- 박스 플롯으로 7이상은 이상치임 -> 2400개 정도 지워야되나\n",
    "- 15번 이상이 전체 데이터의 1퍼센트임. 이정도는 없애도 될 거 같음\n",
    "-\n",
    "- 상식적으로 아직 가입 안했을때 전화를 걺 -> 전화 수가 높으면 '아직' 보험 가입 안 했다. -> 근데 가입 결과니깐 전화수가 높으면 가입율이 높나\n",
    "- 전화해도 보험 가입 안 할 확률이 높음 or 전화 많이 해서 유혹 끝에 가입 한 사람도 있을 것 -> 아니 근데 보험을 유혹한다고 가입하나\n",
    "- 뭐가 더 높으려나\n",
    "### 확인해보니깐 Campaign이 높을 수록 yes가 낮아짐. 아무리 전화해도 가입 안 하는 듯"
   ],
   "id": "25caff286ba2fc04"
  },
  {
   "metadata": {
    "ExecuteTime": {
     "end_time": "2025-09-03T13:08:42.329147Z",
     "start_time": "2025-09-03T13:08:42.325273Z"
    }
   },
   "cell_type": "code",
   "source": "df['campaign'].value_counts()",
   "id": "86da937debcde6da",
   "outputs": [
    {
     "data": {
      "text/plain": [
       "campaign\n",
       "1     17634\n",
       "2     10568\n",
       "3      5340\n",
       "4      2650\n",
       "5      1599\n",
       "6       979\n",
       "7       629\n",
       "8       400\n",
       "9       283\n",
       "10      225\n",
       "11      177\n",
       "12      125\n",
       "13       92\n",
       "14       69\n",
       "17       58\n",
       "16       51\n",
       "15       51\n",
       "18       33\n",
       "20       30\n",
       "19       26\n",
       "21       24\n",
       "22       17\n",
       "23       16\n",
       "24       15\n",
       "27       11\n",
       "29       10\n",
       "28        8\n",
       "26        8\n",
       "25        8\n",
       "31        7\n",
       "30        7\n",
       "35        5\n",
       "32        4\n",
       "33        4\n",
       "34        3\n",
       "42        2\n",
       "40        2\n",
       "43        2\n",
       "56        1\n",
       "39        1\n",
       "41        1\n",
       "37        1\n",
       "Name: count, dtype: int64"
      ]
     },
     "execution_count": 14,
     "metadata": {},
     "output_type": "execute_result"
    }
   ],
   "execution_count": 14
  },
  {
   "metadata": {
    "ExecuteTime": {
     "end_time": "2025-09-03T16:22:54.610901Z",
     "start_time": "2025-09-03T16:22:54.568819Z"
    }
   },
   "cell_type": "code",
   "source": [
    "# len(df[df['campaign'] >=15]) # 15이상은 지우자\n",
    "# 윈저라이징, 이런 것도 있따....\n",
    "\n",
    "\n",
    "# 🔎 예시\n",
    "# \t•\t데이터: [1, 2, 3, 4, 5, 100]\n",
    "# \t•\t여기서 100은 너무 큰 이상치라고 하자.\n",
    "#\n",
    "# 👉 윈저라이징 (상·하위 5% 절단) 적용:\n",
    "# \t•\t상위 5%를 잘라서 경계값으로 치환 → 100 → 5 로 변환.\n",
    "# \t•\t결과: [1, 2, 3, 4, 5, 5]\n",
    "\n",
    "\n",
    "\n",
    "df = df.drop(df[df['campaign'] >= 15].index, axis = 0)"
   ],
   "id": "a744466edbbf6729",
   "outputs": [],
   "execution_count": 99
  },
  {
   "metadata": {
    "ExecuteTime": {
     "end_time": "2025-09-03T13:08:42.497584Z",
     "start_time": "2025-09-03T13:08:42.407851Z"
    }
   },
   "cell_type": "code",
   "source": [
    "campaign_bins = [0,1,2,3,4,5,6,7,8,9,10,11,12] # 0이 없네\n",
    "sns.histplot(data = df, x = 'campaign',  bins=campaign_bins,edgecolor='black')\n",
    "plt.show()\n"
   ],
   "id": "5c2283e07de96688",
   "outputs": [
    {
     "data": {
      "text/plain": [
       "<Figure size 640x480 with 1 Axes>"
      ],
      "image/png": "[encoded data removed]"
     },
     "metadata": {},
     "output_type": "display_data"
    }
   ],
   "execution_count": 16
  },
  {
   "metadata": {
    "ExecuteTime": {
     "end_time": "2025-09-03T13:08:42.633737Z",
     "start_time": "2025-09-03T13:08:42.517282Z"
    }
   },
   "cell_type": "code",
   "source": [
    "counts = (\n",
    "    df.groupby('campaign')['y'].value_counts().rename(\"count\").reset_index()\n",
    ")\n",
    "\n",
    "plt.figure(figsize = (8, 4))\n",
    "plt.title(\"campaign 별 y 총합\")\n",
    "sns.barplot(data = counts, x='campaign', y='count', hue='y',edgecolor='black')\n",
    "plt.show()"
   ],
   "id": "5c8afc3773e4fb70",
   "outputs": [
    {
     "data": {
      "text/plain": [
       "<Figure size 800x400 with 1 Axes>"
      ],
      "image/png": "[encoded data removed]"
     },
     "metadata": {},
     "output_type": "display_data"
    }
   ],
   "execution_count": 17
  },
  {
   "metadata": {
    "ExecuteTime": {
     "end_time": "2025-09-03T13:08:42.775905Z",
     "start_time": "2025-09-03T13:08:42.653111Z"
    }
   },
   "cell_type": "code",
   "source": [
    "counts = (\n",
    "    df.groupby('campaign')['y'].value_counts(normalize=True).rename(\"ratio\").reset_index()\n",
    ")\n",
    "\n",
    "plt.figure(figsize = (8, 6))\n",
    "plt.title(\"campaign별 Y 비율\")\n",
    "sns.barplot(data = counts, x='campaign', y='ratio', hue='y', edgecolor='black')\n",
    "plt.show()"
   ],
   "id": "de24ffff7f906d55",
   "outputs": [
    {
     "data": {
      "text/plain": [
       "<Figure size 800x600 with 1 Axes>"
      ],
      "image/png": "[encoded data removed]"
     },
     "metadata": {},
     "output_type": "display_data"
    }
   ],
   "execution_count": 18
  },
  {
   "metadata": {},
   "cell_type": "markdown",
   "source": [
    "## poutcome\t이전 캠페인의 결과 (범주형)\n",
    "- 없음 -> 저번 캠페인에 결과가 없으면 안 건 건가 데이터가 누락인건가 -> 이전 캠페인에서 안걸었따면 previous가 없어야됨 -> 없음 -> 누락 아님\n",
    "- 실패\n",
    "- 성공 -> 성공인데 또 걸어? -> 다른 상품 추천하려고 걸었나\n",
    "\n",
    "### 저번에 성공했으면 이번에도 성공한 경우가 많음"
   ],
   "id": "c3c6afc75b7184bb"
  },
  {
   "metadata": {
    "ExecuteTime": {
     "end_time": "2025-09-03T13:08:42.792910Z",
     "start_time": "2025-09-03T13:08:42.785607Z"
    }
   },
   "cell_type": "code",
   "source": [
    "df['poutcome'].value_counts()\n",
    "df[(df['poutcome'] == \"nonexistent\") & (df['previous'] >= 1)]"
   ],
   "id": "96d444447121f27d",
   "outputs": [
    {
     "data": {
      "text/plain": [
       "Empty DataFrame\n",
       "Columns: [age, job, marital, education, default, housing, loan, contact, month, day_of_week, duration, campaign, pdays, previous, poutcome, emp.var.rate, cons.price.idx, cons.conf.idx, euribor3m, nr.employed, y]\n",
       "Index: []\n",
       "\n",
       "[0 rows x 21 columns]"
      ],
      "text/html": [
       "<div>\n",
       "<style scoped>\n",
       "    .dataframe tbody tr th:only-of-type {\n",
       "        vertical-align: middle;\n",
       "    }\n",
       "\n",
       "    .dataframe tbody tr th {\n",
       "        vertical-align: top;\n",
       "    }\n",
       "\n",
       "    .dataframe thead th {\n",
       "        text-align: right;\n",
       "    }\n",
       "</style>\n",
       "<table border=\"1\" class=\"dataframe\">\n",
       "  <thead>\n",
       "    <tr style=\"text-align: right;\">\n",
       "      <th></th>\n",
       "      <th>age</th>\n",
       "      <th>job</th>\n",
       "      <th>marital</th>\n",
       "      <th>education</th>\n",
       "      <th>default</th>\n",
       "      <th>housing</th>\n",
       "      <th>loan</th>\n",
       "      <th>contact</th>\n",
       "      <th>month</th>\n",
       "      <th>day_of_week</th>\n",
       "      <th>...</th>\n",
       "      <th>campaign</th>\n",
       "      <th>pdays</th>\n",
       "      <th>previous</th>\n",
       "      <th>poutcome</th>\n",
       "      <th>emp.var.rate</th>\n",
       "      <th>cons.price.idx</th>\n",
       "      <th>cons.conf.idx</th>\n",
       "      <th>euribor3m</th>\n",
       "      <th>nr.employed</th>\n",
       "      <th>y</th>\n",
       "    </tr>\n",
       "  </thead>\n",
       "  <tbody>\n",
       "  </tbody>\n",
       "</table>\n",
       "<p>0 rows × 21 columns</p>\n",
       "</div>"
      ]
     },
     "execution_count": 19,
     "metadata": {},
     "output_type": "execute_result"
    }
   ],
   "execution_count": 19
  },
  {
   "metadata": {
    "ExecuteTime": {
     "end_time": "2025-09-03T13:08:42.995150Z",
     "start_time": "2025-09-03T13:08:42.837472Z"
    }
   },
   "cell_type": "code",
   "source": [
    "plt.figure(figsize=(10,5))\n",
    "\n",
    "\n",
    "plt.subplot(1,2,1)\n",
    "counts = (\n",
    "    df.groupby('poutcome')['y'].value_counts().rename(\"count\").reset_index()\n",
    ")\n",
    "plt.title(\"poutcome별 yㅇ 총 개수\")\n",
    "plt.ylabel(\"count\",rotation = 0)\n",
    "sns.barplot(data=counts, x=\"poutcome\", y=\"count\", hue=\"y\")\n",
    "\n",
    "\n",
    "plt.subplot(1,2,2)\n",
    "counts = (\n",
    "    df.groupby(\"poutcome\")[\"y\"]\n",
    "      .value_counts(normalize=True)\n",
    "      .rename(\"ratio\")\n",
    "      .reset_index()\n",
    ")\n",
    "\n",
    "sns.barplot(data=counts, x=\"poutcome\", y=\"ratio\", hue=\"y\")\n",
    "plt.title(\"poutcome별 Y 비율\")\n",
    "plt.ylabel(\"비율\", rotation = 0)\n",
    "plt.tight_layout()\n",
    "plt.show()\n",
    "counts"
   ],
   "id": "d558f7e407e6a28c",
   "outputs": [
    {
     "data": {
      "text/plain": [
       "<Figure size 1000x500 with 2 Axes>"
      ],
      "image/png": "[encoded data removed]"
     },
     "metadata": {},
     "output_type": "display_data"
    },
    {
     "data": {
      "text/plain": [
       "      poutcome    y     ratio\n",
       "0      failure   no  0.857647\n",
       "1      failure  yes  0.142353\n",
       "2  nonexistent   no  0.910860\n",
       "3  nonexistent  yes  0.089140\n",
       "4      success  yes  0.651129\n",
       "5      success   no  0.348871"
      ],
      "text/html": [
       "<div>\n",
       "<style scoped>\n",
       "    .dataframe tbody tr th:only-of-type {\n",
       "        vertical-align: middle;\n",
       "    }\n",
       "\n",
       "    .dataframe tbody tr th {\n",
       "        vertical-align: top;\n",
       "    }\n",
       "\n",
       "    .dataframe thead th {\n",
       "        text-align: right;\n",
       "    }\n",
       "</style>\n",
       "<table border=\"1\" class=\"dataframe\">\n",
       "  <thead>\n",
       "    <tr style=\"text-align: right;\">\n",
       "      <th></th>\n",
       "      <th>poutcome</th>\n",
       "      <th>y</th>\n",
       "      <th>ratio</th>\n",
       "    </tr>\n",
       "  </thead>\n",
       "  <tbody>\n",
       "    <tr>\n",
       "      <th>0</th>\n",
       "      <td>failure</td>\n",
       "      <td>no</td>\n",
       "      <td>0.857647</td>\n",
       "    </tr>\n",
       "    <tr>\n",
       "      <th>1</th>\n",
       "      <td>failure</td>\n",
       "      <td>yes</td>\n",
       "      <td>0.142353</td>\n",
       "    </tr>\n",
       "    <tr>\n",
       "      <th>2</th>\n",
       "      <td>nonexistent</td>\n",
       "      <td>no</td>\n",
       "      <td>0.910860</td>\n",
       "    </tr>\n",
       "    <tr>\n",
       "      <th>3</th>\n",
       "      <td>nonexistent</td>\n",
       "      <td>yes</td>\n",
       "      <td>0.089140</td>\n",
       "    </tr>\n",
       "    <tr>\n",
       "      <th>4</th>\n",
       "      <td>success</td>\n",
       "      <td>yes</td>\n",
       "      <td>0.651129</td>\n",
       "    </tr>\n",
       "    <tr>\n",
       "      <th>5</th>\n",
       "      <td>success</td>\n",
       "      <td>no</td>\n",
       "      <td>0.348871</td>\n",
       "    </tr>\n",
       "  </tbody>\n",
       "</table>\n",
       "</div>"
      ]
     },
     "execution_count": 20,
     "metadata": {},
     "output_type": "execute_result"
    }
   ],
   "execution_count": 20
  },
  {
   "metadata": {
    "ExecuteTime": {
     "end_time": "2025-09-03T13:08:43.080667Z",
     "start_time": "2025-09-03T13:08:43.071176Z"
    }
   },
   "cell_type": "code",
   "source": "df = pd.get_dummies(df, columns=['poutcome'], prefix=['poutcome'])",
   "id": "a8e07ea211ddde95",
   "outputs": [],
   "execution_count": 21
  },
  {
   "metadata": {},
   "cell_type": "markdown",
   "source": [
    "## previous 이전 캠페인 동안 연락 횟수 (숫자)\n",
    "- 이전: 이 캠페인 이전에 수행된 연락처 수와 이 고객(numeric)\n",
    "- 0~7번 있음.\n",
    "- 1부터 이상치네 -> 근데 뭐 다 가능한 수친데\n",
    "- 근데 이번 캠페인에는 평균이 2번인데... 일부러 신규 고객에게만 연락한건가? 캠페인 시작한지 얼마 안된건가, 나중에 month도 봐야될듯\n",
    "- 0번이 제일 많은데 그럼 이번 캠페인에 처음으로 받은 사람이 대부분임 -> 그럼 신규한테만 한게 맞는듯? 아니면 구질구질하게 연락한듯\n",
    "### 전에 전화를 좀 걸었으면 성공 확륭이 높음"
   ],
   "id": "ec56822220a0ed2f"
  },
  {
   "metadata": {
    "ExecuteTime": {
     "end_time": "2025-09-03T13:08:43.116971Z",
     "start_time": "2025-09-03T13:08:43.111369Z"
    }
   },
   "cell_type": "code",
   "source": "df['previous'].value_counts()",
   "id": "7bb8c3f18ae1ba30",
   "outputs": [
    {
     "data": {
      "text/plain": [
       "previous\n",
       "0    35147\n",
       "1     4559\n",
       "2      754\n",
       "3      216\n",
       "4       70\n",
       "5       18\n",
       "6        5\n",
       "7        1\n",
       "Name: count, dtype: int64"
      ]
     },
     "execution_count": 22,
     "metadata": {},
     "output_type": "execute_result"
    }
   ],
   "execution_count": 22
  },
  {
   "metadata": {
    "ExecuteTime": {
     "end_time": "2025-09-03T13:08:43.253892Z",
     "start_time": "2025-09-03T13:08:43.174296Z"
    }
   },
   "cell_type": "code",
   "source": [
    "sns.boxplot(data = df, x = 'previous')\n",
    "plt.xticks(np.arange(0, 10, 1))\n",
    "plt.show()"
   ],
   "id": "5639b37cde929b79",
   "outputs": [
    {
     "data": {
      "text/plain": [
       "<Figure size 640x480 with 1 Axes>"
      ],
      "image/png": "[encoded data removed]"
     },
     "metadata": {},
     "output_type": "display_data"
    }
   ],
   "execution_count": 23
  },
  {
   "metadata": {
    "ExecuteTime": {
     "end_time": "2025-09-03T13:08:43.475718Z",
     "start_time": "2025-09-03T13:08:43.282657Z"
    }
   },
   "cell_type": "code",
   "source": [
    "plt.figure(figsize = (10, 6))\n",
    "\n",
    "plt.subplot(2,1,1)\n",
    "counts = (\n",
    "    df.groupby('previous')[\"y\"].value_counts().rename(\"count\").reset_index()\n",
    ")\n",
    "plt.title(\"previous별 yes no 총합\")\n",
    "sns.barplot(data=counts, x='previous', y=\"count\",hue='y')\n",
    "# 나머지가 작아서 안 보이네\n",
    "\n",
    "plt.subplot(2,1,2)\n",
    "counts = (\n",
    "    df.groupby('previous')[\"y\"].value_counts(normalize=True).rename(\"ratio\").reset_index()\n",
    ")\n",
    "plt.title(\"previous별 yes no 비율\")\n",
    "sns.barplot(data=counts, x='previous', y=\"ratio\",hue='y')\n",
    "\n",
    "plt.tight_layout()\n",
    "plt.show()"
   ],
   "id": "545b3a113ddf74be",
   "outputs": [
    {
     "data": {
      "text/plain": [
       "<Figure size 1000x600 with 2 Axes>"
      ],
      "image/png": "[encoded data removed]"
     },
     "metadata": {},
     "output_type": "display_data"
    }
   ],
   "execution_count": 24
  },
  {
   "metadata": {},
   "cell_type": "markdown",
   "source": [
    "## pdays 이전 캠페인 후 지난 일수 (숫자)\n",
    "- **pdays: 이전 캠페인에서 클라이언트에게 마지막으로 연락한 후 경과한 일수(numeric; 999는 클라이언트에게 이전에 연락하지 않았음을 의미함)**"
   ],
   "id": "4ac283f7647a5e1e"
  },
  {
   "metadata": {
    "ExecuteTime": {
     "end_time": "2025-09-03T13:08:43.497262Z",
     "start_time": "2025-09-03T13:08:43.491210Z"
    }
   },
   "cell_type": "code",
   "source": "df['pdays'].value_counts()",
   "id": "79637ee92c9072ca",
   "outputs": [
    {
     "data": {
      "text/plain": [
       "pdays\n",
       "999    39255\n",
       "3        439\n",
       "6        412\n",
       "4        118\n",
       "9         64\n",
       "2         61\n",
       "7         60\n",
       "12        58\n",
       "10        52\n",
       "5         46\n",
       "13        36\n",
       "11        28\n",
       "1         26\n",
       "15        24\n",
       "14        20\n",
       "8         18\n",
       "0         15\n",
       "16        11\n",
       "17         8\n",
       "18         7\n",
       "22         3\n",
       "19         3\n",
       "21         2\n",
       "25         1\n",
       "26         1\n",
       "27         1\n",
       "20         1\n",
       "Name: count, dtype: int64"
      ]
     },
     "execution_count": 25,
     "metadata": {},
     "output_type": "execute_result"
    }
   ],
   "execution_count": 25
  },
  {
   "metadata": {
    "ExecuteTime": {
     "end_time": "2025-09-03T13:08:43.540778Z",
     "start_time": "2025-09-03T13:08:43.538509Z"
    }
   },
   "cell_type": "code",
   "source": [
    "# df['pdays'] = df['pdays'].replace(999, np.nan)\n",
    "# df"
   ],
   "id": "5731071e3bf0278b",
   "outputs": [],
   "execution_count": 26
  },
  {
   "metadata": {
    "ExecuteTime": {
     "end_time": "2025-09-03T13:08:43.575964Z",
     "start_time": "2025-09-03T13:08:43.574513Z"
    }
   },
   "cell_type": "code",
   "source": "",
   "id": "c6653bbaa7ec4fc0",
   "outputs": [],
   "execution_count": null
  },
  {
   "metadata": {},
   "cell_type": "markdown",
   "source": [
    "## 날짜별로 보기.\n",
    "- 그럼 이것도 shuffle = false로 해야되나.. 12월꺼보고 11월 예측하면 안되니깐?\n",
    "- 보험 가입이 월별로 다른가? -> 월별로는 딱히 뭐 없는 거 같음\n",
    " - 그럼 고객 특성만 영향있는거 아닌가\n",
    "- 아 근데 경제 지표는 과거 영향도 있으니깐 해야될듯?\n",
    "- 아 그래프 ㅂㄹ데 뭐가 낫지"
   ],
   "id": "76cceea44e129d5f"
  },
  {
   "metadata": {
    "ExecuteTime": {
     "end_time": "2025-09-03T13:08:43.620198Z",
     "start_time": "2025-09-03T13:08:43.614139Z"
    }
   },
   "cell_type": "code",
   "source": [
    "month_map = {'jan':1, 'feb':2, 'mar':3, 'apr':4, 'may':5, 'jun':6,\n",
    "             'jul':7, 'aug':8, 'sep':9, 'oct':10, 'nov':11, 'dec':12}\n",
    "df['month'] = df['month'].map(month_map)\n",
    "\n",
    "df['month_sin'] = np.sin(2 * np.pi * df['month']/12)\n",
    "df['month_cos'] = np.cos(2 * np.pi * df['month']/12)"
   ],
   "id": "6bb465bbe5d9ebd3",
   "outputs": [],
   "execution_count": 27
  },
  {
   "metadata": {
    "ExecuteTime": {
     "end_time": "2025-09-03T13:08:43.858372Z",
     "start_time": "2025-09-03T13:08:43.645919Z"
    }
   },
   "cell_type": "code",
   "source": [
    "\n",
    "\n",
    "plt.figure(figsize = (12, 8))\n",
    "\n",
    "plt.subplot(1,2,1)\n",
    "counts = (\n",
    "    df.groupby('month')['y'].value_counts().rename(\"count\").reset_index()\n",
    ")\n",
    "sns.barplot(data=counts, x='month', y='count', hue='y')\n",
    "plt.yticks(np.arange(0, 12000, 500))\n",
    "\n",
    "plt.subplot(1,2,2)\n",
    "counts = (\n",
    "    df.groupby('month')['y'].value_counts(normalize=True).rename(\"ratio\").reset_index()\n",
    ")\n",
    "sns.barplot(data=counts, x='month', y='ratio', hue='y')\n",
    "\n",
    "\n",
    "\n",
    "plt.tight_layout()\n",
    "plt.show()"
   ],
   "id": "d9ee9a2727fb505e",
   "outputs": [
    {
     "data": {
      "text/plain": [
       "<Figure size 1200x800 with 2 Axes>"
      ],
      "image/png": "[encoded data removed]"
     },
     "metadata": {},
     "output_type": "display_data"
    }
   ],
   "execution_count": 28
  },
  {
   "metadata": {
    "ExecuteTime": {
     "end_time": "2025-09-03T13:08:43.908736Z",
     "start_time": "2025-09-03T13:08:43.873463Z"
    }
   },
   "cell_type": "code",
   "source": [
    "for i in range(3,13):\n",
    "    print(f\"{i}월의 yes = \", len(df[(df['month'] == i) & (df['y'] == \"yes\")]))\n",
    "    print(f\"{i}월의 no = \", len(df[(df['month'] == i) & (df['y'] == \"no\")]),\"\\n\")\n",
    "\n",
    "# 딱히 월별로 다른 것 같지않음.\n",
    "# y/n 비율이 비등비등한 곳은 표본이 적어서 그렇게 나온 거 같고\n",
    "# y/n count가 높은 것도 단순히 연락한 사람이 많아서 yes가 그나마 높은데 연락한 것에 비해서 높은 건 아니고... 비효율적이라고 봄."
   ],
   "id": "663c8b31b063dcd0",
   "outputs": [
    {
     "name": "stdout",
     "output_type": "stream",
     "text": [
      "3월의 yes =  276\n",
      "3월의 no =  268 \n",
      "\n",
      "4월의 yes =  538\n",
      "4월의 no =  2090 \n",
      "\n",
      "5월의 yes =  884\n",
      "5월의 no =  12813 \n",
      "\n",
      "6월의 yes =  557\n",
      "6월의 no =  4633 \n",
      "\n",
      "7월의 yes =  646\n",
      "7월의 no =  6359 \n",
      "\n",
      "8월의 yes =  655\n",
      "8월의 no =  5482 \n",
      "\n",
      "9월의 yes =  256\n",
      "9월의 no =  314 \n",
      "\n",
      "10월의 yes =  315\n",
      "10월의 no =  402 \n",
      "\n",
      "11월의 yes =  416\n",
      "11월의 no =  3684 \n",
      "\n",
      "12월의 yes =  89\n",
      "12월의 no =  93 \n",
      "\n"
     ]
    }
   ],
   "execution_count": 29
  },
  {
   "metadata": {},
   "cell_type": "markdown",
   "source": [
    "### 요일별로 보기\n",
    "- 별 차이 없는 듯"
   ],
   "id": "8650aacab7bb3e25"
  },
  {
   "metadata": {
    "ExecuteTime": {
     "end_time": "2025-09-03T13:08:44.041403Z",
     "start_time": "2025-09-03T13:08:43.923612Z"
    }
   },
   "cell_type": "code",
   "source": [
    "df['day_of_week'].unique()\n",
    "sns.countplot(data = df, x='day_of_week', hue='y')"
   ],
   "id": "ec67f8e966a53c0b",
   "outputs": [
    {
     "data": {
      "text/plain": [
       "<Axes: xlabel='day_of_week', ylabel='count'>"
      ]
     },
     "execution_count": 30,
     "metadata": {},
     "output_type": "execute_result"
    },
    {
     "data": {
      "text/plain": [
       "<Figure size 640x480 with 1 Axes>"
      ],
      "image/png": "[encoded data removed]"
     },
     "metadata": {},
     "output_type": "display_data"
    }
   ],
   "execution_count": 30
  },
  {
   "metadata": {
    "ExecuteTime": {
     "end_time": "2025-09-03T13:08:44.072982Z",
     "start_time": "2025-09-03T13:08:44.064205Z"
    }
   },
   "cell_type": "code",
   "source": [
    "day_map = {'mon':1, 'tue':2, 'wed':3, 'thu':4, 'fri':5}\n",
    "df['day'] = df['day_of_week'].map(day_map)\n",
    "\n",
    "df['day_sin'] = np.sin(2 * np.pi * df['day']/5)\n",
    "df['day_cos'] = np.cos(2 * np.pi * df['day']/5)"
   ],
   "id": "8478e6ee72a7acca",
   "outputs": [],
   "execution_count": 31
  },
  {
   "metadata": {},
   "cell_type": "markdown",
   "source": [
    "## job column 보기\n",
    "- 그냥"
   ],
   "id": "a89671c83b9e034f"
  },
  {
   "metadata": {
    "ExecuteTime": {
     "end_time": "2025-09-03T13:08:44.102079Z",
     "start_time": "2025-09-03T13:08:44.085904Z"
    }
   },
   "cell_type": "code",
   "source": [
    "df['job'].value_counts()\n",
    "df = pd.get_dummies(df, columns=['job'])"
   ],
   "id": "e7892b6495d0fdb7",
   "outputs": [],
   "execution_count": 32
  },
  {
   "metadata": {
    "ExecuteTime": {
     "end_time": "2025-09-03T13:08:44.127514Z",
     "start_time": "2025-09-03T13:08:44.110991Z"
    }
   },
   "cell_type": "code",
   "source": "df",
   "id": "b86298c7d9158052",
   "outputs": [
    {
     "data": {
      "text/plain": [
       "       age  marital            education  default housing loan    contact  \\\n",
       "0       56  married             basic.4y       no      no   no  telephone   \n",
       "1       57  married          high.school  unknown      no   no  telephone   \n",
       "2       37  married          high.school       no     yes   no  telephone   \n",
       "3       40  married             basic.6y       no      no   no  telephone   \n",
       "4       56  married          high.school       no      no  yes  telephone   \n",
       "...    ...      ...                  ...      ...     ...  ...        ...   \n",
       "41183   73  married  professional.course       no     yes   no   cellular   \n",
       "41184   46  married  professional.course       no      no   no   cellular   \n",
       "41185   56  married    university.degree       no     yes   no   cellular   \n",
       "41186   44  married  professional.course       no      no   no   cellular   \n",
       "41187   74  married  professional.course       no     yes   no   cellular   \n",
       "\n",
       "       month day_of_week  duration  ...  job_entrepreneur  job_housemaid  \\\n",
       "0          5         mon       261  ...             False           True   \n",
       "1          5         mon       149  ...             False          False   \n",
       "2          5         mon       226  ...             False          False   \n",
       "3          5         mon       151  ...             False          False   \n",
       "4          5         mon       307  ...             False          False   \n",
       "...      ...         ...       ...  ...               ...            ...   \n",
       "41183     11         fri       334  ...             False          False   \n",
       "41184     11         fri       383  ...             False          False   \n",
       "41185     11         fri       189  ...             False          False   \n",
       "41186     11         fri       442  ...             False          False   \n",
       "41187     11         fri       239  ...             False          False   \n",
       "\n",
       "       job_management  job_retired  job_self-employed  job_services  \\\n",
       "0               False        False              False         False   \n",
       "1               False        False              False          True   \n",
       "2               False        False              False          True   \n",
       "3               False        False              False         False   \n",
       "4               False        False              False          True   \n",
       "...               ...          ...                ...           ...   \n",
       "41183           False         True              False         False   \n",
       "41184           False        False              False         False   \n",
       "41185           False         True              False         False   \n",
       "41186           False        False              False         False   \n",
       "41187           False         True              False         False   \n",
       "\n",
       "       job_student  job_technician job_unemployed  job_unknown  \n",
       "0            False           False          False        False  \n",
       "1            False           False          False        False  \n",
       "2            False           False          False        False  \n",
       "3            False           False          False        False  \n",
       "4            False           False          False        False  \n",
       "...            ...             ...            ...          ...  \n",
       "41183        False           False          False        False  \n",
       "41184        False           False          False        False  \n",
       "41185        False           False          False        False  \n",
       "41186        False            True          False        False  \n",
       "41187        False           False          False        False  \n",
       "\n",
       "[40770 rows x 39 columns]"
      ],
      "text/html": [
       "<div>\n",
       "<style scoped>\n",
       "    .dataframe tbody tr th:only-of-type {\n",
       "        vertical-align: middle;\n",
       "    }\n",
       "\n",
       "    .dataframe tbody tr th {\n",
       "        vertical-align: top;\n",
       "    }\n",
       "\n",
       "    .dataframe thead th {\n",
       "        text-align: right;\n",
       "    }\n",
       "</style>\n",
       "<table border=\"1\" class=\"dataframe\">\n",
       "  <thead>\n",
       "    <tr style=\"text-align: right;\">\n",
       "      <th></th>\n",
       "      <th>age</th>\n",
       "      <th>marital</th>\n",
       "      <th>education</th>\n",
       "      <th>default</th>\n",
       "      <th>housing</th>\n",
       "      <th>loan</th>\n",
       "      <th>contact</th>\n",
       "      <th>month</th>\n",
       "      <th>day_of_week</th>\n",
       "      <th>duration</th>\n",
       "      <th>...</th>\n",
       "      <th>job_entrepreneur</th>\n",
       "      <th>job_housemaid</th>\n",
       "      <th>job_management</th>\n",
       "      <th>job_retired</th>\n",
       "      <th>job_self-employed</th>\n",
       "      <th>job_services</th>\n",
       "      <th>job_student</th>\n",
       "      <th>job_technician</th>\n",
       "      <th>job_unemployed</th>\n",
       "      <th>job_unknown</th>\n",
       "    </tr>\n",
       "  </thead>\n",
       "  <tbody>\n",
       "    <tr>\n",
       "      <th>0</th>\n",
       "      <td>56</td>\n",
       "      <td>married</td>\n",
       "      <td>basic.4y</td>\n",
       "      <td>no</td>\n",
       "      <td>no</td>\n",
       "      <td>no</td>\n",
       "      <td>telephone</td>\n",
       "      <td>5</td>\n",
       "      <td>mon</td>\n",
       "      <td>261</td>\n",
       "      <td>...</td>\n",
       "      <td>False</td>\n",
       "      <td>True</td>\n",
       "      <td>False</td>\n",
       "      <td>False</td>\n",
       "      <td>False</td>\n",
       "      <td>False</td>\n",
       "      <td>False</td>\n",
       "      <td>False</td>\n",
       "      <td>False</td>\n",
       "      <td>False</td>\n",
       "    </tr>\n",
       "    <tr>\n",
       "      <th>1</th>\n",
       "      <td>57</td>\n",
       "      <td>married</td>\n",
       "      <td>high.school</td>\n",
       "      <td>unknown</td>\n",
       "      <td>no</td>\n",
       "      <td>no</td>\n",
       "      <td>telephone</td>\n",
       "      <td>5</td>\n",
       "      <td>mon</td>\n",
       "      <td>149</td>\n",
       "      <td>...</td>\n",
       "      <td>False</td>\n",
       "      <td>False</td>\n",
       "      <td>False</td>\n",
       "      <td>False</td>\n",
       "      <td>False</td>\n",
       "      <td>True</td>\n",
       "      <td>False</td>\n",
       "      <td>False</td>\n",
       "      <td>False</td>\n",
       "      <td>False</td>\n",
       "    </tr>\n",
       "    <tr>\n",
       "      <th>2</th>\n",
       "      <td>37</td>\n",
       "      <td>married</td>\n",
       "      <td>high.school</td>\n",
       "      <td>no</td>\n",
       "      <td>yes</td>\n",
       "      <td>no</td>\n",
       "      <td>telephone</td>\n",
       "      <td>5</td>\n",
       "      <td>mon</td>\n",
       "      <td>226</td>\n",
       "      <td>...</td>\n",
       "      <td>False</td>\n",
       "      <td>False</td>\n",
       "      <td>False</td>\n",
       "      <td>False</td>\n",
       "      <td>False</td>\n",
       "      <td>True</td>\n",
       "      <td>False</td>\n",
       "      <td>False</td>\n",
       "      <td>False</td>\n",
       "      <td>False</td>\n",
       "    </tr>\n",
       "    <tr>\n",
       "      <th>3</th>\n",
       "      <td>40</td>\n",
       "      <td>married</td>\n",
       "      <td>basic.6y</td>\n",
       "      <td>no</td>\n",
       "      <td>no</td>\n",
       "      <td>no</td>\n",
       "      <td>telephone</td>\n",
       "      <td>5</td>\n",
       "      <td>mon</td>\n",
       "      <td>151</td>\n",
       "      <td>...</td>\n",
       "      <td>False</td>\n",
       "      <td>False</td>\n",
       "      <td>False</td>\n",
       "      <td>False</td>\n",
       "      <td>False</td>\n",
       "      <td>False</td>\n",
       "      <td>False</td>\n",
       "      <td>False</td>\n",
       "      <td>False</td>\n",
       "      <td>False</td>\n",
       "    </tr>\n",
       "    <tr>\n",
       "      <th>4</th>\n",
       "      <td>56</td>\n",
       "      <td>married</td>\n",
       "      <td>high.school</td>\n",
       "      <td>no</td>\n",
       "      <td>no</td>\n",
       "      <td>yes</td>\n",
       "      <td>telephone</td>\n",
       "      <td>5</td>\n",
       "      <td>mon</td>\n",
       "      <td>307</td>\n",
       "      <td>...</td>\n",
       "      <td>False</td>\n",
       "      <td>False</td>\n",
       "      <td>False</td>\n",
       "      <td>False</td>\n",
       "      <td>False</td>\n",
       "      <td>True</td>\n",
       "      <td>False</td>\n",
       "      <td>False</td>\n",
       "      <td>False</td>\n",
       "      <td>False</td>\n",
       "    </tr>\n",
       "    <tr>\n",
       "      <th>...</th>\n",
       "      <td>...</td>\n",
       "      <td>...</td>\n",
       "      <td>...</td>\n",
       "      <td>...</td>\n",
       "      <td>...</td>\n",
       "      <td>...</td>\n",
       "      <td>...</td>\n",
       "      <td>...</td>\n",
       "      <td>...</td>\n",
       "      <td>...</td>\n",
       "      <td>...</td>\n",
       "      <td>...</td>\n",
       "      <td>...</td>\n",
       "      <td>...</td>\n",
       "      <td>...</td>\n",
       "      <td>...</td>\n",
       "      <td>...</td>\n",
       "      <td>...</td>\n",
       "      <td>...</td>\n",
       "      <td>...</td>\n",
       "      <td>...</td>\n",
       "    </tr>\n",
       "    <tr>\n",
       "      <th>41183</th>\n",
       "      <td>73</td>\n",
       "      <td>married</td>\n",
       "      <td>professional.course</td>\n",
       "      <td>no</td>\n",
       "      <td>yes</td>\n",
       "      <td>no</td>\n",
       "      <td>cellular</td>\n",
       "      <td>11</td>\n",
       "      <td>fri</td>\n",
       "      <td>334</td>\n",
       "      <td>...</td>\n",
       "      <td>False</td>\n",
       "      <td>False</td>\n",
       "      <td>False</td>\n",
       "      <td>True</td>\n",
       "      <td>False</td>\n",
       "      <td>False</td>\n",
       "      <td>False</td>\n",
       "      <td>False</td>\n",
       "      <td>False</td>\n",
       "      <td>False</td>\n",
       "    </tr>\n",
       "    <tr>\n",
       "      <th>41184</th>\n",
       "      <td>46</td>\n",
       "      <td>married</td>\n",
       "      <td>professional.course</td>\n",
       "      <td>no</td>\n",
       "      <td>no</td>\n",
       "      <td>no</td>\n",
       "      <td>cellular</td>\n",
       "      <td>11</td>\n",
       "      <td>fri</td>\n",
       "      <td>383</td>\n",
       "      <td>...</td>\n",
       "      <td>False</td>\n",
       "      <td>False</td>\n",
       "      <td>False</td>\n",
       "      <td>False</td>\n",
       "      <td>False</td>\n",
       "      <td>False</td>\n",
       "      <td>False</td>\n",
       "      <td>False</td>\n",
       "      <td>False</td>\n",
       "      <td>False</td>\n",
       "    </tr>\n",
       "    <tr>\n",
       "      <th>41185</th>\n",
       "      <td>56</td>\n",
       "      <td>married</td>\n",
       "      <td>university.degree</td>\n",
       "      <td>no</td>\n",
       "      <td>yes</td>\n",
       "      <td>no</td>\n",
       "      <td>cellular</td>\n",
       "      <td>11</td>\n",
       "      <td>fri</td>\n",
       "      <td>189</td>\n",
       "      <td>...</td>\n",
       "      <td>False</td>\n",
       "      <td>False</td>\n",
       "      <td>False</td>\n",
       "      <td>True</td>\n",
       "      <td>False</td>\n",
       "      <td>False</td>\n",
       "      <td>False</td>\n",
       "      <td>False</td>\n",
       "      <td>False</td>\n",
       "      <td>False</td>\n",
       "    </tr>\n",
       "    <tr>\n",
       "      <th>41186</th>\n",
       "      <td>44</td>\n",
       "      <td>married</td>\n",
       "      <td>professional.course</td>\n",
       "      <td>no</td>\n",
       "      <td>no</td>\n",
       "      <td>no</td>\n",
       "      <td>cellular</td>\n",
       "      <td>11</td>\n",
       "      <td>fri</td>\n",
       "      <td>442</td>\n",
       "      <td>...</td>\n",
       "      <td>False</td>\n",
       "      <td>False</td>\n",
       "      <td>False</td>\n",
       "      <td>False</td>\n",
       "      <td>False</td>\n",
       "      <td>False</td>\n",
       "      <td>False</td>\n",
       "      <td>True</td>\n",
       "      <td>False</td>\n",
       "      <td>False</td>\n",
       "    </tr>\n",
       "    <tr>\n",
       "      <th>41187</th>\n",
       "      <td>74</td>\n",
       "      <td>married</td>\n",
       "      <td>professional.course</td>\n",
       "      <td>no</td>\n",
       "      <td>yes</td>\n",
       "      <td>no</td>\n",
       "      <td>cellular</td>\n",
       "      <td>11</td>\n",
       "      <td>fri</td>\n",
       "      <td>239</td>\n",
       "      <td>...</td>\n",
       "      <td>False</td>\n",
       "      <td>False</td>\n",
       "      <td>False</td>\n",
       "      <td>True</td>\n",
       "      <td>False</td>\n",
       "      <td>False</td>\n",
       "      <td>False</td>\n",
       "      <td>False</td>\n",
       "      <td>False</td>\n",
       "      <td>False</td>\n",
       "    </tr>\n",
       "  </tbody>\n",
       "</table>\n",
       "<p>40770 rows × 39 columns</p>\n",
       "</div>"
      ]
     },
     "execution_count": 33,
     "metadata": {},
     "output_type": "execute_result"
    }
   ],
   "execution_count": 33
  },
  {
   "metadata": {},
   "cell_type": "markdown",
   "source": [
    "## martial 컬럼 보기\n",
    "- unknown 78개인데 나머지 컬럼에 문제는 없긴한데.. 없앨까. 대체할까 냅둘까......\n",
    "- 아 근데 음...삭제하고싶음 깔끔하게\n",
    "- 미혼, 결혼, 이혼 말고 또 뭐있지?... 게이레즈 불법동거? 그래도 미혼아닌가"
   ],
   "id": "dc6189eda4d8df17"
  },
  {
   "metadata": {
    "ExecuteTime": {
     "end_time": "2025-09-03T13:08:44.174284Z",
     "start_time": "2025-09-03T13:08:44.170589Z"
    }
   },
   "cell_type": "code",
   "source": "df['marital'].value_counts()",
   "id": "184f67f184abebfa",
   "outputs": [
    {
     "data": {
      "text/plain": [
       "marital\n",
       "married     24673\n",
       "single      11456\n",
       "divorced     4563\n",
       "unknown        78\n",
       "Name: count, dtype: int64"
      ]
     },
     "execution_count": 34,
     "metadata": {},
     "output_type": "execute_result"
    }
   ],
   "execution_count": 34
  },
  {
   "metadata": {
    "ExecuteTime": {
     "end_time": "2025-09-03T13:08:44.284482Z",
     "start_time": "2025-09-03T13:08:44.264746Z"
    }
   },
   "cell_type": "code",
   "source": [
    "df = df.drop(df[df['marital'] == \"unknown\"].index, axis=0)\n",
    "df = pd.get_dummies(df, columns=['marital'], prefix='marital')"
   ],
   "id": "dc03b62f97bb211f",
   "outputs": [],
   "execution_count": 35
  },
  {
   "metadata": {},
   "cell_type": "markdown",
   "source": [
    "## education column 확인\n",
    "- 문맹이 18명임. 얘네는 보험 가입하면 망할거 같은데 일단 문맹도 가입을 하긴 함. 3명임. 호갱당한건가...\n",
    "- 문맹 사무직에 + 사업가도 있는데 가능한가... 너무 저학력자를 무시하는건가..\n",
    "- 그냥 문맹은 삭제하고 나머지는 인코딩하기"
   ],
   "id": "f1cd926d7eeec63f"
  },
  {
   "metadata": {
    "ExecuteTime": {
     "end_time": "2025-09-03T13:08:44.362631Z",
     "start_time": "2025-09-03T13:08:44.356402Z"
    }
   },
   "cell_type": "code",
   "source": "df['education'].value_counts()",
   "id": "9b2e8e165e01b5ca",
   "outputs": [
    {
     "data": {
      "text/plain": [
       "education\n",
       "university.degree      12021\n",
       "high.school             9405\n",
       "basic.9y                5978\n",
       "professional.course     5187\n",
       "basic.4y                4113\n",
       "basic.6y                2266\n",
       "unknown                 1704\n",
       "illiterate                18\n",
       "Name: count, dtype: int64"
      ]
     },
     "execution_count": 36,
     "metadata": {},
     "output_type": "execute_result"
    }
   ],
   "execution_count": 36
  },
  {
   "metadata": {
    "ExecuteTime": {
     "end_time": "2025-09-03T13:08:44.482390Z",
     "start_time": "2025-09-03T13:08:44.470332Z"
    }
   },
   "cell_type": "code",
   "source": "df = df.drop(df[df['education'] == \"illiterate\"].index, axis = 0)",
   "id": "5b58dc1774d0ce97",
   "outputs": [],
   "execution_count": 37
  },
  {
   "metadata": {
    "ExecuteTime": {
     "end_time": "2025-09-03T13:08:44.544941Z",
     "start_time": "2025-09-03T13:08:44.529272Z"
    }
   },
   "cell_type": "code",
   "source": "df = pd.get_dummies(df, columns=['education'], prefix='edu')",
   "id": "41682a3226c93114",
   "outputs": [],
   "execution_count": 38
  },
  {
   "metadata": {},
   "cell_type": "markdown",
   "source": "## housing, loan, defualt, contact 변환",
   "id": "9c4d8483baf4181c"
  },
  {
   "metadata": {
    "ExecuteTime": {
     "end_time": "2025-09-03T13:08:44.578103Z",
     "start_time": "2025-09-03T13:08:44.568364Z"
    }
   },
   "cell_type": "code",
   "source": "df['housing'].value_counts()",
   "id": "db19e53ca43e76e7",
   "outputs": [
    {
     "data": {
      "text/plain": [
       "housing\n",
       "yes        21332\n",
       "no         18361\n",
       "unknown      981\n",
       "Name: count, dtype: int64"
      ]
     },
     "execution_count": 39,
     "metadata": {},
     "output_type": "execute_result"
    }
   ],
   "execution_count": 39
  },
  {
   "metadata": {
    "ExecuteTime": {
     "end_time": "2025-09-03T13:08:44.705257Z",
     "start_time": "2025-09-03T13:08:44.700788Z"
    }
   },
   "cell_type": "code",
   "source": "df['loan'].value_counts()",
   "id": "4f7f9b8a381318df",
   "outputs": [
    {
     "data": {
      "text/plain": [
       "loan\n",
       "no         33522\n",
       "yes         6171\n",
       "unknown      981\n",
       "Name: count, dtype: int64"
      ]
     },
     "execution_count": 40,
     "metadata": {},
     "output_type": "execute_result"
    }
   ],
   "execution_count": 40
  },
  {
   "metadata": {
    "ExecuteTime": {
     "end_time": "2025-09-03T13:08:44.795730Z",
     "start_time": "2025-09-03T13:08:44.785369Z"
    }
   },
   "cell_type": "code",
   "source": [
    "df['default'].value_counts() # yes가 3개\n",
    "# df[df['default'] == \"yes\"]\n",
    "df = df.drop(df[df['default'] == 'yes'].index, axis=0)"
   ],
   "id": "21882c2a0950131c",
   "outputs": [],
   "execution_count": 41
  },
  {
   "metadata": {
    "ExecuteTime": {
     "end_time": "2025-09-03T13:08:44.872445Z",
     "start_time": "2025-09-03T13:08:44.856974Z"
    }
   },
   "cell_type": "code",
   "source": "df = pd.get_dummies(df, columns=['housing','loan','default'], prefix=['housing','loan','default'])",
   "id": "6a46ff01428639d4",
   "outputs": [],
   "execution_count": 42
  },
  {
   "metadata": {
    "ExecuteTime": {
     "end_time": "2025-09-03T13:08:44.912507Z",
     "start_time": "2025-09-03T13:08:44.901699Z"
    }
   },
   "cell_type": "code",
   "source": "df = pd.get_dummies(df, columns=['contact'], prefix=['contact'])",
   "id": "853aba20acf7dd12",
   "outputs": [],
   "execution_count": 43
  },
  {
   "metadata": {},
   "cell_type": "markdown",
   "source": "# 모델링",
   "id": "a395e7e6f2ebbfb9"
  },
  {
   "metadata": {
    "ExecuteTime": {
     "end_time": "2025-09-03T13:08:44.931290Z",
     "start_time": "2025-09-03T13:08:44.918547Z"
    }
   },
   "cell_type": "code",
   "source": [
    "df['y'] = df['y'].map({'yes':1, 'no':0})\n",
    "df"
   ],
   "id": "ca2b2402c9bc1de",
   "outputs": [
    {
     "data": {
      "text/plain": [
       "       age  month day_of_week  duration  campaign  pdays  previous  \\\n",
       "0       56      5         mon       261         1    999         0   \n",
       "1       57      5         mon       149         1    999         0   \n",
       "2       37      5         mon       226         1    999         0   \n",
       "3       40      5         mon       151         1    999         0   \n",
       "4       56      5         mon       307         1    999         0   \n",
       "...    ...    ...         ...       ...       ...    ...       ...   \n",
       "41183   73     11         fri       334         1    999         0   \n",
       "41184   46     11         fri       383         1    999         0   \n",
       "41185   56     11         fri       189         2    999         0   \n",
       "41186   44     11         fri       442         1    999         0   \n",
       "41187   74     11         fri       239         3    999         1   \n",
       "\n",
       "       emp.var.rate  cons.price.idx  cons.conf.idx  ...  housing_no  \\\n",
       "0               1.1          93.994          -36.4  ...        True   \n",
       "1               1.1          93.994          -36.4  ...        True   \n",
       "2               1.1          93.994          -36.4  ...       False   \n",
       "3               1.1          93.994          -36.4  ...        True   \n",
       "4               1.1          93.994          -36.4  ...        True   \n",
       "...             ...             ...            ...  ...         ...   \n",
       "41183          -1.1          94.767          -50.8  ...       False   \n",
       "41184          -1.1          94.767          -50.8  ...        True   \n",
       "41185          -1.1          94.767          -50.8  ...       False   \n",
       "41186          -1.1          94.767          -50.8  ...        True   \n",
       "41187          -1.1          94.767          -50.8  ...       False   \n",
       "\n",
       "       housing_unknown  housing_yes  loan_no  loan_unknown  loan_yes  \\\n",
       "0                False        False     True         False     False   \n",
       "1                False        False     True         False     False   \n",
       "2                False         True     True         False     False   \n",
       "3                False        False     True         False     False   \n",
       "4                False        False    False         False      True   \n",
       "...                ...          ...      ...           ...       ...   \n",
       "41183            False         True     True         False     False   \n",
       "41184            False        False     True         False     False   \n",
       "41185            False         True     True         False     False   \n",
       "41186            False        False     True         False     False   \n",
       "41187            False         True     True         False     False   \n",
       "\n",
       "       default_no  default_unknown  contact_cellular  contact_telephone  \n",
       "0            True            False             False               True  \n",
       "1           False             True             False               True  \n",
       "2            True            False             False               True  \n",
       "3            True            False             False               True  \n",
       "4            True            False             False               True  \n",
       "...           ...              ...               ...                ...  \n",
       "41183        True            False              True              False  \n",
       "41184        True            False              True              False  \n",
       "41185        True            False              True              False  \n",
       "41186        True            False              True              False  \n",
       "41187        True            False              True              False  \n",
       "\n",
       "[40671 rows x 53 columns]"
      ],
      "text/html": [
       "<div>\n",
       "<style scoped>\n",
       "    .dataframe tbody tr th:only-of-type {\n",
       "        vertical-align: middle;\n",
       "    }\n",
       "\n",
       "    .dataframe tbody tr th {\n",
       "        vertical-align: top;\n",
       "    }\n",
       "\n",
       "    .dataframe thead th {\n",
       "        text-align: right;\n",
       "    }\n",
       "</style>\n",
       "<table border=\"1\" class=\"dataframe\">\n",
       "  <thead>\n",
       "    <tr style=\"text-align: right;\">\n",
       "      <th></th>\n",
       "      <th>age</th>\n",
       "      <th>month</th>\n",
       "      <th>day_of_week</th>\n",
       "      <th>duration</th>\n",
       "      <th>campaign</th>\n",
       "      <th>pdays</th>\n",
       "      <th>previous</th>\n",
       "      <th>emp.var.rate</th>\n",
       "      <th>cons.price.idx</th>\n",
       "      <th>cons.conf.idx</th>\n",
       "      <th>...</th>\n",
       "      <th>housing_no</th>\n",
       "      <th>housing_unknown</th>\n",
       "      <th>housing_yes</th>\n",
       "      <th>loan_no</th>\n",
       "      <th>loan_unknown</th>\n",
       "      <th>loan_yes</th>\n",
       "      <th>default_no</th>\n",
       "      <th>default_unknown</th>\n",
       "      <th>contact_cellular</th>\n",
       "      <th>contact_telephone</th>\n",
       "    </tr>\n",
       "  </thead>\n",
       "  <tbody>\n",
       "    <tr>\n",
       "      <th>0</th>\n",
       "      <td>56</td>\n",
       "      <td>5</td>\n",
       "      <td>mon</td>\n",
       "      <td>261</td>\n",
       "      <td>1</td>\n",
       "      <td>999</td>\n",
       "      <td>0</td>\n",
       "      <td>1.1</td>\n",
       "      <td>93.994</td>\n",
       "      <td>-36.4</td>\n",
       "      <td>...</td>\n",
       "      <td>True</td>\n",
       "      <td>False</td>\n",
       "      <td>False</td>\n",
       "      <td>True</td>\n",
       "      <td>False</td>\n",
       "      <td>False</td>\n",
       "      <td>True</td>\n",
       "      <td>False</td>\n",
       "      <td>False</td>\n",
       "      <td>True</td>\n",
       "    </tr>\n",
       "    <tr>\n",
       "      <th>1</th>\n",
       "      <td>57</td>\n",
       "      <td>5</td>\n",
       "      <td>mon</td>\n",
       "      <td>149</td>\n",
       "      <td>1</td>\n",
       "      <td>999</td>\n",
       "      <td>0</td>\n",
       "      <td>1.1</td>\n",
       "      <td>93.994</td>\n",
       "      <td>-36.4</td>\n",
       "      <td>...</td>\n",
       "      <td>True</td>\n",
       "      <td>False</td>\n",
       "      <td>False</td>\n",
       "      <td>True</td>\n",
       "      <td>False</td>\n",
       "      <td>False</td>\n",
       "      <td>False</td>\n",
       "      <td>True</td>\n",
       "      <td>False</td>\n",
       "      <td>True</td>\n",
       "    </tr>\n",
       "    <tr>\n",
       "      <th>2</th>\n",
       "      <td>37</td>\n",
       "      <td>5</td>\n",
       "      <td>mon</td>\n",
       "      <td>226</td>\n",
       "      <td>1</td>\n",
       "      <td>999</td>\n",
       "      <td>0</td>\n",
       "      <td>1.1</td>\n",
       "      <td>93.994</td>\n",
       "      <td>-36.4</td>\n",
       "      <td>...</td>\n",
       "      <td>False</td>\n",
       "      <td>False</td>\n",
       "      <td>True</td>\n",
       "      <td>True</td>\n",
       "      <td>False</td>\n",
       "      <td>False</td>\n",
       "      <td>True</td>\n",
       "      <td>False</td>\n",
       "      <td>False</td>\n",
       "      <td>True</td>\n",
       "    </tr>\n",
       "    <tr>\n",
       "      <th>3</th>\n",
       "      <td>40</td>\n",
       "      <td>5</td>\n",
       "      <td>mon</td>\n",
       "      <td>151</td>\n",
       "      <td>1</td>\n",
       "      <td>999</td>\n",
       "      <td>0</td>\n",
       "      <td>1.1</td>\n",
       "      <td>93.994</td>\n",
       "      <td>-36.4</td>\n",
       "      <td>...</td>\n",
       "      <td>True</td>\n",
       "      <td>False</td>\n",
       "      <td>False</td>\n",
       "      <td>True</td>\n",
       "      <td>False</td>\n",
       "      <td>False</td>\n",
       "      <td>True</td>\n",
       "      <td>False</td>\n",
       "      <td>False</td>\n",
       "      <td>True</td>\n",
       "    </tr>\n",
       "    <tr>\n",
       "      <th>4</th>\n",
       "      <td>56</td>\n",
       "      <td>5</td>\n",
       "      <td>mon</td>\n",
       "      <td>307</td>\n",
       "      <td>1</td>\n",
       "      <td>999</td>\n",
       "      <td>0</td>\n",
       "      <td>1.1</td>\n",
       "      <td>93.994</td>\n",
       "      <td>-36.4</td>\n",
       "      <td>...</td>\n",
       "      <td>True</td>\n",
       "      <td>False</td>\n",
       "      <td>False</td>\n",
       "      <td>False</td>\n",
       "      <td>False</td>\n",
       "      <td>True</td>\n",
       "      <td>True</td>\n",
       "      <td>False</td>\n",
       "      <td>False</td>\n",
       "      <td>True</td>\n",
       "    </tr>\n",
       "    <tr>\n",
       "      <th>...</th>\n",
       "      <td>...</td>\n",
       "      <td>...</td>\n",
       "      <td>...</td>\n",
       "      <td>...</td>\n",
       "      <td>...</td>\n",
       "      <td>...</td>\n",
       "      <td>...</td>\n",
       "      <td>...</td>\n",
       "      <td>...</td>\n",
       "      <td>...</td>\n",
       "      <td>...</td>\n",
       "      <td>...</td>\n",
       "      <td>...</td>\n",
       "      <td>...</td>\n",
       "      <td>...</td>\n",
       "      <td>...</td>\n",
       "      <td>...</td>\n",
       "      <td>...</td>\n",
       "      <td>...</td>\n",
       "      <td>...</td>\n",
       "      <td>...</td>\n",
       "    </tr>\n",
       "    <tr>\n",
       "      <th>41183</th>\n",
       "      <td>73</td>\n",
       "      <td>11</td>\n",
       "      <td>fri</td>\n",
       "      <td>334</td>\n",
       "      <td>1</td>\n",
       "      <td>999</td>\n",
       "      <td>0</td>\n",
       "      <td>-1.1</td>\n",
       "      <td>94.767</td>\n",
       "      <td>-50.8</td>\n",
       "      <td>...</td>\n",
       "      <td>False</td>\n",
       "      <td>False</td>\n",
       "      <td>True</td>\n",
       "      <td>True</td>\n",
       "      <td>False</td>\n",
       "      <td>False</td>\n",
       "      <td>True</td>\n",
       "      <td>False</td>\n",
       "      <td>True</td>\n",
       "      <td>False</td>\n",
       "    </tr>\n",
       "    <tr>\n",
       "      <th>41184</th>\n",
       "      <td>46</td>\n",
       "      <td>11</td>\n",
       "      <td>fri</td>\n",
       "      <td>383</td>\n",
       "      <td>1</td>\n",
       "      <td>999</td>\n",
       "      <td>0</td>\n",
       "      <td>-1.1</td>\n",
       "      <td>94.767</td>\n",
       "      <td>-50.8</td>\n",
       "      <td>...</td>\n",
       "      <td>True</td>\n",
       "      <td>False</td>\n",
       "      <td>False</td>\n",
       "      <td>True</td>\n",
       "      <td>False</td>\n",
       "      <td>False</td>\n",
       "      <td>True</td>\n",
       "      <td>False</td>\n",
       "      <td>True</td>\n",
       "      <td>False</td>\n",
       "    </tr>\n",
       "    <tr>\n",
       "      <th>41185</th>\n",
       "      <td>56</td>\n",
       "      <td>11</td>\n",
       "      <td>fri</td>\n",
       "      <td>189</td>\n",
       "      <td>2</td>\n",
       "      <td>999</td>\n",
       "      <td>0</td>\n",
       "      <td>-1.1</td>\n",
       "      <td>94.767</td>\n",
       "      <td>-50.8</td>\n",
       "      <td>...</td>\n",
       "      <td>False</td>\n",
       "      <td>False</td>\n",
       "      <td>True</td>\n",
       "      <td>True</td>\n",
       "      <td>False</td>\n",
       "      <td>False</td>\n",
       "      <td>True</td>\n",
       "      <td>False</td>\n",
       "      <td>True</td>\n",
       "      <td>False</td>\n",
       "    </tr>\n",
       "    <tr>\n",
       "      <th>41186</th>\n",
       "      <td>44</td>\n",
       "      <td>11</td>\n",
       "      <td>fri</td>\n",
       "      <td>442</td>\n",
       "      <td>1</td>\n",
       "      <td>999</td>\n",
       "      <td>0</td>\n",
       "      <td>-1.1</td>\n",
       "      <td>94.767</td>\n",
       "      <td>-50.8</td>\n",
       "      <td>...</td>\n",
       "      <td>True</td>\n",
       "      <td>False</td>\n",
       "      <td>False</td>\n",
       "      <td>True</td>\n",
       "      <td>False</td>\n",
       "      <td>False</td>\n",
       "      <td>True</td>\n",
       "      <td>False</td>\n",
       "      <td>True</td>\n",
       "      <td>False</td>\n",
       "    </tr>\n",
       "    <tr>\n",
       "      <th>41187</th>\n",
       "      <td>74</td>\n",
       "      <td>11</td>\n",
       "      <td>fri</td>\n",
       "      <td>239</td>\n",
       "      <td>3</td>\n",
       "      <td>999</td>\n",
       "      <td>1</td>\n",
       "      <td>-1.1</td>\n",
       "      <td>94.767</td>\n",
       "      <td>-50.8</td>\n",
       "      <td>...</td>\n",
       "      <td>False</td>\n",
       "      <td>False</td>\n",
       "      <td>True</td>\n",
       "      <td>True</td>\n",
       "      <td>False</td>\n",
       "      <td>False</td>\n",
       "      <td>True</td>\n",
       "      <td>False</td>\n",
       "      <td>True</td>\n",
       "      <td>False</td>\n",
       "    </tr>\n",
       "  </tbody>\n",
       "</table>\n",
       "<p>40671 rows × 53 columns</p>\n",
       "</div>"
      ]
     },
     "execution_count": 44,
     "metadata": {},
     "output_type": "execute_result"
    }
   ],
   "execution_count": 44
  },
  {
   "metadata": {
    "ExecuteTime": {
     "end_time": "2025-09-03T13:08:44.986094Z",
     "start_time": "2025-09-03T13:08:44.982202Z"
    }
   },
   "cell_type": "code",
   "source": "df['pdays'].value_counts()",
   "id": "3f1fea516223ec73",
   "outputs": [
    {
     "data": {
      "text/plain": [
       "pdays\n",
       "999    39162\n",
       "3        439\n",
       "6        409\n",
       "4        117\n",
       "9         64\n",
       "2         61\n",
       "7         60\n",
       "12        58\n",
       "10        52\n",
       "5         46\n",
       "13        36\n",
       "11        27\n",
       "1         26\n",
       "15        24\n",
       "14        20\n",
       "8         18\n",
       "0         15\n",
       "16        10\n",
       "17         8\n",
       "18         7\n",
       "22         3\n",
       "19         3\n",
       "21         2\n",
       "25         1\n",
       "26         1\n",
       "27         1\n",
       "20         1\n",
       "Name: count, dtype: int64"
      ]
     },
     "execution_count": 45,
     "metadata": {},
     "output_type": "execute_result"
    }
   ],
   "execution_count": 45
  },
  {
   "metadata": {
    "ExecuteTime": {
     "end_time": "2025-09-03T13:08:45.055631Z",
     "start_time": "2025-09-03T13:08:45.048815Z"
    }
   },
   "cell_type": "code",
   "source": "df.info()",
   "id": "6496aae9955c4b33",
   "outputs": [
    {
     "name": "stdout",
     "output_type": "stream",
     "text": [
      "<class 'pandas.core.frame.DataFrame'>\n",
      "Index: 40671 entries, 0 to 41187\n",
      "Data columns (total 53 columns):\n",
      " #   Column                   Non-Null Count  Dtype  \n",
      "---  ------                   --------------  -----  \n",
      " 0   age                      40671 non-null  int64  \n",
      " 1   month                    40671 non-null  int64  \n",
      " 2   day_of_week              40671 non-null  object \n",
      " 3   duration                 40671 non-null  int64  \n",
      " 4   campaign                 40671 non-null  int64  \n",
      " 5   pdays                    40671 non-null  int64  \n",
      " 6   previous                 40671 non-null  int64  \n",
      " 7   emp.var.rate             40671 non-null  float64\n",
      " 8   cons.price.idx           40671 non-null  float64\n",
      " 9   cons.conf.idx            40671 non-null  float64\n",
      " 10  euribor3m                40671 non-null  float64\n",
      " 11  nr.employed              40671 non-null  float64\n",
      " 12  y                        40671 non-null  int64  \n",
      " 13  poutcome_failure         40671 non-null  bool   \n",
      " 14  poutcome_nonexistent     40671 non-null  bool   \n",
      " 15  poutcome_success         40671 non-null  bool   \n",
      " 16  month_sin                40671 non-null  float64\n",
      " 17  month_cos                40671 non-null  float64\n",
      " 18  day                      40671 non-null  int64  \n",
      " 19  day_sin                  40671 non-null  float64\n",
      " 20  day_cos                  40671 non-null  float64\n",
      " 21  job_admin.               40671 non-null  bool   \n",
      " 22  job_blue-collar          40671 non-null  bool   \n",
      " 23  job_entrepreneur         40671 non-null  bool   \n",
      " 24  job_housemaid            40671 non-null  bool   \n",
      " 25  job_management           40671 non-null  bool   \n",
      " 26  job_retired              40671 non-null  bool   \n",
      " 27  job_self-employed        40671 non-null  bool   \n",
      " 28  job_services             40671 non-null  bool   \n",
      " 29  job_student              40671 non-null  bool   \n",
      " 30  job_technician           40671 non-null  bool   \n",
      " 31  job_unemployed           40671 non-null  bool   \n",
      " 32  job_unknown              40671 non-null  bool   \n",
      " 33  marital_divorced         40671 non-null  bool   \n",
      " 34  marital_married          40671 non-null  bool   \n",
      " 35  marital_single           40671 non-null  bool   \n",
      " 36  edu_basic.4y             40671 non-null  bool   \n",
      " 37  edu_basic.6y             40671 non-null  bool   \n",
      " 38  edu_basic.9y             40671 non-null  bool   \n",
      " 39  edu_high.school          40671 non-null  bool   \n",
      " 40  edu_professional.course  40671 non-null  bool   \n",
      " 41  edu_university.degree    40671 non-null  bool   \n",
      " 42  edu_unknown              40671 non-null  bool   \n",
      " 43  housing_no               40671 non-null  bool   \n",
      " 44  housing_unknown          40671 non-null  bool   \n",
      " 45  housing_yes              40671 non-null  bool   \n",
      " 46  loan_no                  40671 non-null  bool   \n",
      " 47  loan_unknown             40671 non-null  bool   \n",
      " 48  loan_yes                 40671 non-null  bool   \n",
      " 49  default_no               40671 non-null  bool   \n",
      " 50  default_unknown          40671 non-null  bool   \n",
      " 51  contact_cellular         40671 non-null  bool   \n",
      " 52  contact_telephone        40671 non-null  bool   \n",
      "dtypes: bool(35), float64(9), int64(8), object(1)\n",
      "memory usage: 7.3+ MB\n"
     ]
    }
   ],
   "execution_count": 46
  },
  {
   "metadata": {},
   "cell_type": "markdown",
   "source": "## 독립변수 건져내기",
   "id": "367a625734bd1693"
  },
  {
   "metadata": {
    "ExecuteTime": {
     "end_time": "2025-09-03T13:08:45.135065Z",
     "start_time": "2025-09-03T13:08:45.132681Z"
    }
   },
   "cell_type": "code",
   "source": [
    "X = df.drop(columns=['y', 'duration', 'day_of_week'])\n",
    "y = df['y']"
   ],
   "id": "84bab944c87c5737",
   "outputs": [],
   "execution_count": 47
  },
  {
   "metadata": {},
   "cell_type": "markdown",
   "source": "### 이거 셔플 안 하면 그럼 오름차순으로 정해야되는거아닌가. 데이터를",
   "id": "74ee0fa14f2ab410"
  },
  {
   "metadata": {
    "ExecuteTime": {
     "end_time": "2025-09-03T15:55:54.380204Z",
     "start_time": "2025-09-03T15:55:54.374605Z"
    }
   },
   "cell_type": "code",
   "source": [
    "from xgboost import XGBClassifier\n",
    "from sklearn.model_selection import train_test_split\n",
    "X_train, X_val, y_train, y_val = train_test_split(X, y, test_size = 0.2,shuffle = False)"
   ],
   "id": "4bbabdca3a441dd2",
   "outputs": [],
   "execution_count": 95
  },
  {
   "metadata": {
    "ExecuteTime": {
     "end_time": "2025-09-03T15:55:26.985327Z",
     "start_time": "2025-09-03T15:55:26.969385Z"
    }
   },
   "cell_type": "code",
   "source": [
    "df = df.sort_values(by=\"month\")\n",
    "df"
   ],
   "id": "2094b6e653a33b6e",
   "outputs": [
    {
     "data": {
      "text/plain": [
       "       age  month day_of_week  duration  campaign  pdays  previous  \\\n",
       "27789   39      3         tue       395         3    999         0   \n",
       "27775   32      3         mon        75         2    999         0   \n",
       "27811   88      3         wed       323         1    999         0   \n",
       "27788   38      3         tue        59         1    999         0   \n",
       "27704   44      3         mon       239         1    999         0   \n",
       "...    ...    ...         ...       ...       ...    ...       ...   \n",
       "38981   46     12         fri       696        10    999         0   \n",
       "39053   47     12         thu       155         1    999         1   \n",
       "39081   27     12         tue       396         1    999         0   \n",
       "38982   25     12         fri      1139         2      4         1   \n",
       "27688   55     12         fri       136         1    999         0   \n",
       "\n",
       "       emp.var.rate  cons.price.idx  cons.conf.idx  ...  housing_no  \\\n",
       "27789          -1.8          92.843          -50.0  ...       False   \n",
       "27775          -1.8          92.843          -50.0  ...       False   \n",
       "27811          -1.8          92.843          -50.0  ...        True   \n",
       "27788          -1.8          92.843          -50.0  ...        True   \n",
       "27704          -1.8          92.843          -50.0  ...        True   \n",
       "...             ...             ...            ...  ...         ...   \n",
       "38981          -3.0          92.713          -33.0  ...       False   \n",
       "39053          -3.0          92.713          -33.0  ...       False   \n",
       "39081          -3.0          92.713          -33.0  ...       False   \n",
       "38982          -3.0          92.713          -33.0  ...        True   \n",
       "27688          -0.2          92.756          -45.9  ...        True   \n",
       "\n",
       "       housing_unknown  housing_yes  loan_no  loan_unknown  loan_yes  \\\n",
       "27789            False         True     True         False     False   \n",
       "27775            False         True     True         False     False   \n",
       "27811            False        False     True         False     False   \n",
       "27788            False        False     True         False     False   \n",
       "27704            False        False     True         False     False   \n",
       "...                ...          ...      ...           ...       ...   \n",
       "38981             True        False    False          True     False   \n",
       "39053            False         True     True         False     False   \n",
       "39081            False         True     True         False     False   \n",
       "38982            False        False     True         False     False   \n",
       "27688            False        False     True         False     False   \n",
       "\n",
       "       default_no  default_unknown  contact_cellular  contact_telephone  \n",
       "27789        True            False              True              False  \n",
       "27775        True            False              True              False  \n",
       "27811        True            False              True              False  \n",
       "27788        True            False              True              False  \n",
       "27704        True            False              True              False  \n",
       "...           ...              ...               ...                ...  \n",
       "38981        True            False              True              False  \n",
       "39053        True            False              True              False  \n",
       "39081        True            False              True              False  \n",
       "38982        True            False              True              False  \n",
       "27688        True            False             False               True  \n",
       "\n",
       "[40671 rows x 53 columns]"
      ],
      "text/html": [
       "<div>\n",
       "<style scoped>\n",
       "    .dataframe tbody tr th:only-of-type {\n",
       "        vertical-align: middle;\n",
       "    }\n",
       "\n",
       "    .dataframe tbody tr th {\n",
       "        vertical-align: top;\n",
       "    }\n",
       "\n",
       "    .dataframe thead th {\n",
       "        text-align: right;\n",
       "    }\n",
       "</style>\n",
       "<table border=\"1\" class=\"dataframe\">\n",
       "  <thead>\n",
       "    <tr style=\"text-align: right;\">\n",
       "      <th></th>\n",
       "      <th>age</th>\n",
       "      <th>month</th>\n",
       "      <th>day_of_week</th>\n",
       "      <th>duration</th>\n",
       "      <th>campaign</th>\n",
       "      <th>pdays</th>\n",
       "      <th>previous</th>\n",
       "      <th>emp.var.rate</th>\n",
       "      <th>cons.price.idx</th>\n",
       "      <th>cons.conf.idx</th>\n",
       "      <th>...</th>\n",
       "      <th>housing_no</th>\n",
       "      <th>housing_unknown</th>\n",
       "      <th>housing_yes</th>\n",
       "      <th>loan_no</th>\n",
       "      <th>loan_unknown</th>\n",
       "      <th>loan_yes</th>\n",
       "      <th>default_no</th>\n",
       "      <th>default_unknown</th>\n",
       "      <th>contact_cellular</th>\n",
       "      <th>contact_telephone</th>\n",
       "    </tr>\n",
       "  </thead>\n",
       "  <tbody>\n",
       "    <tr>\n",
       "      <th>27789</th>\n",
       "      <td>39</td>\n",
       "      <td>3</td>\n",
       "      <td>tue</td>\n",
       "      <td>395</td>\n",
       "      <td>3</td>\n",
       "      <td>999</td>\n",
       "      <td>0</td>\n",
       "      <td>-1.8</td>\n",
       "      <td>92.843</td>\n",
       "      <td>-50.0</td>\n",
       "      <td>...</td>\n",
       "      <td>False</td>\n",
       "      <td>False</td>\n",
       "      <td>True</td>\n",
       "      <td>True</td>\n",
       "      <td>False</td>\n",
       "      <td>False</td>\n",
       "      <td>True</td>\n",
       "      <td>False</td>\n",
       "      <td>True</td>\n",
       "      <td>False</td>\n",
       "    </tr>\n",
       "    <tr>\n",
       "      <th>27775</th>\n",
       "      <td>32</td>\n",
       "      <td>3</td>\n",
       "      <td>mon</td>\n",
       "      <td>75</td>\n",
       "      <td>2</td>\n",
       "      <td>999</td>\n",
       "      <td>0</td>\n",
       "      <td>-1.8</td>\n",
       "      <td>92.843</td>\n",
       "      <td>-50.0</td>\n",
       "      <td>...</td>\n",
       "      <td>False</td>\n",
       "      <td>False</td>\n",
       "      <td>True</td>\n",
       "      <td>True</td>\n",
       "      <td>False</td>\n",
       "      <td>False</td>\n",
       "      <td>True</td>\n",
       "      <td>False</td>\n",
       "      <td>True</td>\n",
       "      <td>False</td>\n",
       "    </tr>\n",
       "    <tr>\n",
       "      <th>27811</th>\n",
       "      <td>88</td>\n",
       "      <td>3</td>\n",
       "      <td>wed</td>\n",
       "      <td>323</td>\n",
       "      <td>1</td>\n",
       "      <td>999</td>\n",
       "      <td>0</td>\n",
       "      <td>-1.8</td>\n",
       "      <td>92.843</td>\n",
       "      <td>-50.0</td>\n",
       "      <td>...</td>\n",
       "      <td>True</td>\n",
       "      <td>False</td>\n",
       "      <td>False</td>\n",
       "      <td>True</td>\n",
       "      <td>False</td>\n",
       "      <td>False</td>\n",
       "      <td>True</td>\n",
       "      <td>False</td>\n",
       "      <td>True</td>\n",
       "      <td>False</td>\n",
       "    </tr>\n",
       "    <tr>\n",
       "      <th>27788</th>\n",
       "      <td>38</td>\n",
       "      <td>3</td>\n",
       "      <td>tue</td>\n",
       "      <td>59</td>\n",
       "      <td>1</td>\n",
       "      <td>999</td>\n",
       "      <td>0</td>\n",
       "      <td>-1.8</td>\n",
       "      <td>92.843</td>\n",
       "      <td>-50.0</td>\n",
       "      <td>...</td>\n",
       "      <td>True</td>\n",
       "      <td>False</td>\n",
       "      <td>False</td>\n",
       "      <td>True</td>\n",
       "      <td>False</td>\n",
       "      <td>False</td>\n",
       "      <td>True</td>\n",
       "      <td>False</td>\n",
       "      <td>True</td>\n",
       "      <td>False</td>\n",
       "    </tr>\n",
       "    <tr>\n",
       "      <th>27704</th>\n",
       "      <td>44</td>\n",
       "      <td>3</td>\n",
       "      <td>mon</td>\n",
       "      <td>239</td>\n",
       "      <td>1</td>\n",
       "      <td>999</td>\n",
       "      <td>0</td>\n",
       "      <td>-1.8</td>\n",
       "      <td>92.843</td>\n",
       "      <td>-50.0</td>\n",
       "      <td>...</td>\n",
       "      <td>True</td>\n",
       "      <td>False</td>\n",
       "      <td>False</td>\n",
       "      <td>True</td>\n",
       "      <td>False</td>\n",
       "      <td>False</td>\n",
       "      <td>True</td>\n",
       "      <td>False</td>\n",
       "      <td>True</td>\n",
       "      <td>False</td>\n",
       "    </tr>\n",
       "    <tr>\n",
       "      <th>...</th>\n",
       "      <td>...</td>\n",
       "      <td>...</td>\n",
       "      <td>...</td>\n",
       "      <td>...</td>\n",
       "      <td>...</td>\n",
       "      <td>...</td>\n",
       "      <td>...</td>\n",
       "      <td>...</td>\n",
       "      <td>...</td>\n",
       "      <td>...</td>\n",
       "      <td>...</td>\n",
       "      <td>...</td>\n",
       "      <td>...</td>\n",
       "      <td>...</td>\n",
       "      <td>...</td>\n",
       "      <td>...</td>\n",
       "      <td>...</td>\n",
       "      <td>...</td>\n",
       "      <td>...</td>\n",
       "      <td>...</td>\n",
       "      <td>...</td>\n",
       "    </tr>\n",
       "    <tr>\n",
       "      <th>38981</th>\n",
       "      <td>46</td>\n",
       "      <td>12</td>\n",
       "      <td>fri</td>\n",
       "      <td>696</td>\n",
       "      <td>10</td>\n",
       "      <td>999</td>\n",
       "      <td>0</td>\n",
       "      <td>-3.0</td>\n",
       "      <td>92.713</td>\n",
       "      <td>-33.0</td>\n",
       "      <td>...</td>\n",
       "      <td>False</td>\n",
       "      <td>True</td>\n",
       "      <td>False</td>\n",
       "      <td>False</td>\n",
       "      <td>True</td>\n",
       "      <td>False</td>\n",
       "      <td>True</td>\n",
       "      <td>False</td>\n",
       "      <td>True</td>\n",
       "      <td>False</td>\n",
       "    </tr>\n",
       "    <tr>\n",
       "      <th>39053</th>\n",
       "      <td>47</td>\n",
       "      <td>12</td>\n",
       "      <td>thu</td>\n",
       "      <td>155</td>\n",
       "      <td>1</td>\n",
       "      <td>999</td>\n",
       "      <td>1</td>\n",
       "      <td>-3.0</td>\n",
       "      <td>92.713</td>\n",
       "      <td>-33.0</td>\n",
       "      <td>...</td>\n",
       "      <td>False</td>\n",
       "      <td>False</td>\n",
       "      <td>True</td>\n",
       "      <td>True</td>\n",
       "      <td>False</td>\n",
       "      <td>False</td>\n",
       "      <td>True</td>\n",
       "      <td>False</td>\n",
       "      <td>True</td>\n",
       "      <td>False</td>\n",
       "    </tr>\n",
       "    <tr>\n",
       "      <th>39081</th>\n",
       "      <td>27</td>\n",
       "      <td>12</td>\n",
       "      <td>tue</td>\n",
       "      <td>396</td>\n",
       "      <td>1</td>\n",
       "      <td>999</td>\n",
       "      <td>0</td>\n",
       "      <td>-3.0</td>\n",
       "      <td>92.713</td>\n",
       "      <td>-33.0</td>\n",
       "      <td>...</td>\n",
       "      <td>False</td>\n",
       "      <td>False</td>\n",
       "      <td>True</td>\n",
       "      <td>True</td>\n",
       "      <td>False</td>\n",
       "      <td>False</td>\n",
       "      <td>True</td>\n",
       "      <td>False</td>\n",
       "      <td>True</td>\n",
       "      <td>False</td>\n",
       "    </tr>\n",
       "    <tr>\n",
       "      <th>38982</th>\n",
       "      <td>25</td>\n",
       "      <td>12</td>\n",
       "      <td>fri</td>\n",
       "      <td>1139</td>\n",
       "      <td>2</td>\n",
       "      <td>4</td>\n",
       "      <td>1</td>\n",
       "      <td>-3.0</td>\n",
       "      <td>92.713</td>\n",
       "      <td>-33.0</td>\n",
       "      <td>...</td>\n",
       "      <td>True</td>\n",
       "      <td>False</td>\n",
       "      <td>False</td>\n",
       "      <td>True</td>\n",
       "      <td>False</td>\n",
       "      <td>False</td>\n",
       "      <td>True</td>\n",
       "      <td>False</td>\n",
       "      <td>True</td>\n",
       "      <td>False</td>\n",
       "    </tr>\n",
       "    <tr>\n",
       "      <th>27688</th>\n",
       "      <td>55</td>\n",
       "      <td>12</td>\n",
       "      <td>fri</td>\n",
       "      <td>136</td>\n",
       "      <td>1</td>\n",
       "      <td>999</td>\n",
       "      <td>0</td>\n",
       "      <td>-0.2</td>\n",
       "      <td>92.756</td>\n",
       "      <td>-45.9</td>\n",
       "      <td>...</td>\n",
       "      <td>True</td>\n",
       "      <td>False</td>\n",
       "      <td>False</td>\n",
       "      <td>True</td>\n",
       "      <td>False</td>\n",
       "      <td>False</td>\n",
       "      <td>True</td>\n",
       "      <td>False</td>\n",
       "      <td>False</td>\n",
       "      <td>True</td>\n",
       "    </tr>\n",
       "  </tbody>\n",
       "</table>\n",
       "<p>40671 rows × 53 columns</p>\n",
       "</div>"
      ]
     },
     "execution_count": 93,
     "metadata": {},
     "output_type": "execute_result"
    }
   ],
   "execution_count": 93
  },
  {
   "metadata": {
    "ExecuteTime": {
     "end_time": "2025-09-03T16:08:03.752970Z",
     "start_time": "2025-09-03T16:07:39.650992Z"
    }
   },
   "cell_type": "code",
   "source": [
    "from catboost import CatBoostClassifier\n",
    "from lightgbm import LGBMClassifier\n",
    "from imblearn.over_sampling import SMOTE\n",
    "from sklearn.metrics import (\n",
    "    classification_report,roc_auc_score\n",
    ")\n",
    "# Smote, fit_resamble\n",
    "# 작은 쪽을 늘린느 방식\n",
    "# SMOTE 소수인 yes클래스의 가짜 데이터 샘플들을 추가로 늘려줌\n",
    "# 쓰면 훈련훈련데이터에만 저굥\n",
    "# yes의 주변을 보고 이웃한 5개의 점을 보고 그 5개랑 비슷한 점을 증폭시킴\n",
    "# 데이터 불균형할때 맞추는 방법\n",
    "smote = SMOTE(random_state=42)\n",
    "X_train_res, y_train_res = smote.fit_resample(X_train, y_train)\n",
    "\n",
    "print(\"SMOTE 전  :\", y_train.value_counts().to_dict())\n",
    "print(\"SMOTE 후  :\", dict(zip(*np.unique(y_train_res, return_counts=True))))\n",
    "\n",
    "\n",
    "models = {\n",
    "    \"XGBoost\": XGBClassifier(\n",
    "        n_estimators=500, # 약한 학습기\n",
    "        learning_rate=0.05,  # 트리 기여도 조절\n",
    "        colsample_bytree=0.8, # 각 트리 학습시 피쳐의 80퍼만 랜덤 뽑아서\n",
    "        objective='binary:logistic',\n",
    "        n_jobs=-1,\n",
    "    ),\n",
    "    \"LightGBM\": LGBMClassifier(\n",
    "        n_estimators=500,\n",
    "        learning_rate=0.05,\n",
    "        num_leaves=31,\n",
    "        colsample_bytree=0.8,\n",
    "        n_jobs=-1,\n",
    "    ),\n",
    "    \"CatBoost\": CatBoostClassifier(\n",
    "        n_estimators=500,\n",
    "        learning_rate=0.05,\n",
    "        depth=6,\n",
    "        loss_function=\"Logloss\",\n",
    "        verbose=False,\n",
    "    ),\n",
    "\n",
    "    #   배깅\n",
    "\n",
    "    \"RandomForest\": RandomForestClassifier(\n",
    "        n_estimators=800,\n",
    "        max_depth=None,\n",
    "        min_samples_split=4,\n",
    "        n_jobs=-1,\n",
    "    ),\n",
    "    \"AdaBoost\": AdaBoostClassifier(\n",
    "        n_estimators=300,\n",
    "        learning_rate=0.1,\n",
    "    ),\n",
    "}\n",
    "\n",
    "for name, clf in models.items():\n",
    "    print(\"\\n\" + \"=\"*80)\n",
    "    print(f\" 모델:  {name}\")\n",
    "    clf.fit(X_train_res, y_train_res)\n",
    "\n",
    "    has_proba = hasattr(clf, \"predict_proba\")\n",
    "    # 각 클래스일 확률을 예측해줌\n",
    "\n",
    "\n",
    "    if has_proba:\n",
    "        p_val = clf.predict_proba(X_val)[:, 1]\n",
    "        auc = roc_auc_score(y_val, p_val)\n",
    "    y_pred = clf.predict(X_val)\n",
    "\n",
    "    print(\"\\nClassification Report\")\n",
    "    print(classification_report(y_val, y_pred, digits=3))\n",
    "    if has_proba:\n",
    "        print(f\"AUC: {auc:.4f}\")"
   ],
   "id": "16ca5dea1c45c493",
   "outputs": [
    {
     "name": "stderr",
     "output_type": "stream",
     "text": [
      "/Users/yoonwogud/Library/Python/3.9/lib/python/site-packages/sklearn/base.py:474: FutureWarning: `BaseEstimator._validate_data` is deprecated in 1.6 and will be removed in 1.7. Use `sklearn.utils.validation.validate_data` instead. This function becomes public and is part of the scikit-learn developer API.\n",
      "  warnings.warn(\n"
     ]
    },
    {
     "name": "stdout",
     "output_type": "stream",
     "text": [
      "SMOTE 전  : {0: 30449, 1: 2087}\n",
      "SMOTE 후  : {np.int64(0): np.int64(30449), np.int64(1): np.int64(30449)}\n",
      "\n",
      "================================================================================\n",
      " 모델:  XGBoost\n",
      "\n",
      "Classification Report\n",
      "              precision    recall  f1-score   support\n",
      "\n",
      "           0      0.697     0.980     0.815      5606\n",
      "           1      0.554     0.055     0.099      2529\n",
      "\n",
      "    accuracy                          0.692      8135\n",
      "   macro avg      0.626     0.517     0.457      8135\n",
      "weighted avg      0.652     0.692     0.592      8135\n",
      "\n",
      "AUC: 0.6203\n",
      "\n",
      "================================================================================\n",
      " 모델:  LightGBM\n",
      "[LightGBM] [Info] Number of positive: 30449, number of negative: 30449\n",
      "[LightGBM] [Info] Auto-choosing row-wise multi-threading, the overhead of testing was 0.004577 seconds.\n",
      "You can set `force_row_wise=true` to remove the overhead.\n",
      "And if memory is not enough, you can set `force_col_wise=true`.\n",
      "[LightGBM] [Info] Total Bins 2009\n",
      "[LightGBM] [Info] Number of data points in the train set: 60898, number of used features: 50\n",
      "[LightGBM] [Info] [binary:BoostFromScore]: pavg=0.500000 -> initscore=0.000000\n",
      "\n",
      "Classification Report\n",
      "              precision    recall  f1-score   support\n",
      "\n",
      "           0      0.696     0.980     0.814      5606\n",
      "           1      0.539     0.052     0.095      2529\n",
      "\n",
      "    accuracy                          0.691      8135\n",
      "   macro avg      0.618     0.516     0.454      8135\n",
      "weighted avg      0.647     0.691     0.590      8135\n",
      "\n",
      "AUC: 0.6318\n",
      "\n",
      "================================================================================\n",
      " 모델:  CatBoost\n",
      "\n",
      "Classification Report\n",
      "              precision    recall  f1-score   support\n",
      "\n",
      "           0      0.691     0.993     0.815      5606\n",
      "           1      0.500     0.015     0.028      2529\n",
      "\n",
      "    accuracy                          0.689      8135\n",
      "   macro avg      0.595     0.504     0.422      8135\n",
      "weighted avg      0.632     0.689     0.570      8135\n",
      "\n",
      "AUC: 0.6604\n",
      "\n",
      "================================================================================\n",
      " 모델:  RandomForest\n",
      "\n",
      "Classification Report\n",
      "              precision    recall  f1-score   support\n",
      "\n",
      "           0      0.698     0.991     0.819      5606\n",
      "           1      0.718     0.049     0.092      2529\n",
      "\n",
      "    accuracy                          0.698      8135\n",
      "   macro avg      0.708     0.520     0.456      8135\n",
      "weighted avg      0.704     0.698     0.593      8135\n",
      "\n",
      "AUC: 0.7238\n",
      "\n",
      "================================================================================\n",
      " 모델:  AdaBoost\n",
      "\n",
      "Classification Report\n",
      "              precision    recall  f1-score   support\n",
      "\n",
      "           0      0.702     0.930     0.800      5606\n",
      "           1      0.444     0.125     0.195      2529\n",
      "\n",
      "    accuracy                          0.679      8135\n",
      "   macro avg      0.573     0.527     0.497      8135\n",
      "weighted avg      0.622     0.679     0.612      8135\n",
      "\n",
      "AUC: 0.5551\n"
     ]
    }
   ],
   "execution_count": 98
  },
  {
   "metadata": {},
   "cell_type": "markdown",
   "source": [
    "## 결과\n",
    "- 예측한것중에서 맞는ㄴ것 or 실제중에서 맞는것... 콜센터 직원이 정해져있으니깐 precision으로... 직원이 ㅈㄴ많으면 후자로...\n",
    "- precision을 높도록 수정하였음. 리콜도 고려해야되나? 아 근데 목적이 미탐보다는 오탐아닌가\n",
    "- 배깅이 제일 높은듯\n",
    "- Classification Report\n",
    "-\n",
    "              precision    recall  f1-score   support\n",
    "\n",
    "           0      0.698     0.991     0.819      5606\n",
    "           1      0.718     0.049     0.092      2529\n",
    "\n",
    "    accuracy                          0.698      8135\n",
    "   macro avg      0.708     0.520     0.456      8135\n",
    "weighted avg      0.704     0.698     0.593      8135\n",
    "\n",
    "AUC: 0.7238"
   ],
   "id": "8461223d4c6523b5"
  },
  {
   "metadata": {},
   "cell_type": "code",
   "outputs": [],
   "execution_count": null,
   "source": "",
   "id": "c3c36b7dfe261a42"
  }
 ],
 "metadata": {
  "kernelspec": {
   "display_name": "Python 3",
   "language": "python",
   "name": "python3"
  },
  "language_info": {
   "codemirror_mode": {
    "name": "ipython",
    "version": 2
   },
   "file_extension": ".py",
   "mimetype": "text/x-python",
   "name": "python",
   "nbconvert_exporter": "python",
   "pygments_lexer": "ipython2",
   "version": "2.7.6"
  }
 },
 "nbformat": 4,
 "nbformat_minor": 5
}
