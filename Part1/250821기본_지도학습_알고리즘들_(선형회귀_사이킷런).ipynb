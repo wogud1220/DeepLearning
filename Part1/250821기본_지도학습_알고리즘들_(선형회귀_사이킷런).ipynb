{
 "nbformat": 4,
 "nbformat_minor": 0,
 "metadata": {
  "colab": {
   "provenance": []
  },
  "kernelspec": {
   "name": "python3",
   "display_name": "Python 3"
  },
  "language_info": {
   "name": "python"
  }
 },
 "cells": [
  {
   "cell_type": "markdown",
   "source": [
    "# 1. 선형회귀"
   ],
   "metadata": {
    "id": "oHJav8HsUnEp"
   }
  },
  {
   "cell_type": "code",
   "source": [
    "from tkinter.constants import RIDGE\n",
    "\n",
    "import matplotlib as mpl\n",
    "import matplotlib.font_manager as fm\n",
    "import matplotlib.pyplot as plt\n",
    "\n",
    "import koreanize_matplotlib\n",
    "import numpy as np\n",
    "import pandas as pd\n",
    "import seaborn as sns\n",
    "import missingno as msno\n",
    "from scipy.stats import alpha\n",
    "\n",
    "# 나눔고딕 경로 찾기 (macOS 기준)\n",
    "font_path = fm.findfont(\"NanumGothic\")\n",
    "font_name = fm.FontProperties(fname=font_path).get_name()\n",
    "\n",
    "# 폰트와 마이너스 기호 깨짐 방지 설정\n",
    "plt.rc('font', family=font_name)\n",
    "mpl.rcParams['axes.unicode_minus'] = False\n",
    "\n",
    "\n",
    "\n",
    "path = \"./csv_dir/training_test_data.csv\"\n",
    "df = pd.read_csv(path)\n",
    "df\n",
    "\n"
   ],
   "metadata": {
    "colab": {
     "base_uri": "https://localhost:8080/"
    },
    "id": "jJy7TvDS70x0",
    "outputId": "71abd01a-b30d-4cbb-d1aa-57d4216578e3",
    "ExecuteTime": {
     "end_time": "2025-08-21T08:50:49.145016Z",
     "start_time": "2025-08-21T08:50:49.134484Z"
    }
   },
   "outputs": [
    {
     "data": {
      "text/plain": [
       "    Age  Gender  Experience  Income\n",
       "0    50       1          15     180\n",
       "1    29       1           5     163\n",
       "2    36       1           6     134\n",
       "3    34       2           4     132\n",
       "4    46       1           9     188\n",
       "..  ...     ...         ...     ...\n",
       "95   46       2          19     198\n",
       "96   31       1           6     130\n",
       "97   57       2          29     168\n",
       "98   22       1           1     129\n",
       "99   58       2          29     190\n",
       "\n",
       "[100 rows x 4 columns]"
      ],
      "text/html": [
       "<div>\n",
       "<style scoped>\n",
       "    .dataframe tbody tr th:only-of-type {\n",
       "        vertical-align: middle;\n",
       "    }\n",
       "\n",
       "    .dataframe tbody tr th {\n",
       "        vertical-align: top;\n",
       "    }\n",
       "\n",
       "    .dataframe thead th {\n",
       "        text-align: right;\n",
       "    }\n",
       "</style>\n",
       "<table border=\"1\" class=\"dataframe\">\n",
       "  <thead>\n",
       "    <tr style=\"text-align: right;\">\n",
       "      <th></th>\n",
       "      <th>Age</th>\n",
       "      <th>Gender</th>\n",
       "      <th>Experience</th>\n",
       "      <th>Income</th>\n",
       "    </tr>\n",
       "  </thead>\n",
       "  <tbody>\n",
       "    <tr>\n",
       "      <th>0</th>\n",
       "      <td>50</td>\n",
       "      <td>1</td>\n",
       "      <td>15</td>\n",
       "      <td>180</td>\n",
       "    </tr>\n",
       "    <tr>\n",
       "      <th>1</th>\n",
       "      <td>29</td>\n",
       "      <td>1</td>\n",
       "      <td>5</td>\n",
       "      <td>163</td>\n",
       "    </tr>\n",
       "    <tr>\n",
       "      <th>2</th>\n",
       "      <td>36</td>\n",
       "      <td>1</td>\n",
       "      <td>6</td>\n",
       "      <td>134</td>\n",
       "    </tr>\n",
       "    <tr>\n",
       "      <th>3</th>\n",
       "      <td>34</td>\n",
       "      <td>2</td>\n",
       "      <td>4</td>\n",
       "      <td>132</td>\n",
       "    </tr>\n",
       "    <tr>\n",
       "      <th>4</th>\n",
       "      <td>46</td>\n",
       "      <td>1</td>\n",
       "      <td>9</td>\n",
       "      <td>188</td>\n",
       "    </tr>\n",
       "    <tr>\n",
       "      <th>...</th>\n",
       "      <td>...</td>\n",
       "      <td>...</td>\n",
       "      <td>...</td>\n",
       "      <td>...</td>\n",
       "    </tr>\n",
       "    <tr>\n",
       "      <th>95</th>\n",
       "      <td>46</td>\n",
       "      <td>2</td>\n",
       "      <td>19</td>\n",
       "      <td>198</td>\n",
       "    </tr>\n",
       "    <tr>\n",
       "      <th>96</th>\n",
       "      <td>31</td>\n",
       "      <td>1</td>\n",
       "      <td>6</td>\n",
       "      <td>130</td>\n",
       "    </tr>\n",
       "    <tr>\n",
       "      <th>97</th>\n",
       "      <td>57</td>\n",
       "      <td>2</td>\n",
       "      <td>29</td>\n",
       "      <td>168</td>\n",
       "    </tr>\n",
       "    <tr>\n",
       "      <th>98</th>\n",
       "      <td>22</td>\n",
       "      <td>1</td>\n",
       "      <td>1</td>\n",
       "      <td>129</td>\n",
       "    </tr>\n",
       "    <tr>\n",
       "      <th>99</th>\n",
       "      <td>58</td>\n",
       "      <td>2</td>\n",
       "      <td>29</td>\n",
       "      <td>190</td>\n",
       "    </tr>\n",
       "  </tbody>\n",
       "</table>\n",
       "<p>100 rows × 4 columns</p>\n",
       "</div>"
      ]
     },
     "execution_count": 16,
     "metadata": {},
     "output_type": "execute_result"
    }
   ],
   "execution_count": 16
  },
  {
   "cell_type": "code",
   "metadata": {
    "colab": {
     "base_uri": "https://localhost:8080/",
     "height": 561
    },
    "id": "K2jSb51q7cNP",
    "outputId": "069c2d99-4f3c-49d7-b802-c18211bf0524",
    "ExecuteTime": {
     "end_time": "2025-08-21T08:50:49.329077Z",
     "start_time": "2025-08-21T08:50:49.195860Z"
    }
   },
   "source": [
    "# 실습1 문제 코드 - 선형 회귀 + MSE\n",
    "import numpy as np\n",
    "# import matplotlib.pyplot as plt # 한글파일 문제없는 분들은 맨 앞 주석 빼고 진행\n",
    "\n",
    "# 입력 변수 (집 크기)와 출력 변수 (집 가격)\n",
    "house_size = np.array([0.9, 1.4, 2, 2.1, 2.6, 3.3, 3.35, 3.9, 4.4, 4.7, 5.2, 5.75, 6.7, 6.9])\n",
    "house_price = np.array([0.3, 0.75, 0.45, 1.1, 1.45, 0.9, 1.8, 0.9, 1.5, 2.2, 1.75, 2.3, 2.49, 2.6])\n",
    "\n",
    "# 1. 선형 회귀 수식 구하기\n",
    "w, b = np.polyfit(house_size, house_price, 1)\n",
    "\n",
    "# 2. 예측값 계산\n",
    "predicted_price = w * house_size + b\n",
    "\n",
    "# 3. MSE 계산\n",
    "mse = np.mean((house_price - predicted_price) ** 2)\n",
    "\n",
    "# 결과 출력\n",
    "print(f\"기울기 w: {w:.4f}\")\n",
    "print(f\"절편 b: {b:.4f}\")\n",
    "print(f\"평균 제곱 오차 (MSE): {mse:.4f}\")\n",
    "\n",
    "# 시각화\n",
    "plt.figure(figsize=(8, 5))\n",
    "plt.scatter(house_size, house_price, color='blue', label='실제 데이터')\n",
    "plt.plot(house_size, predicted_price, color='red', label='예측 직선')\n",
    "plt.title(\"선형 회귀 모델: 집 크기 vs 집 가격\")\n",
    "plt.xlabel(\"집 크기 (단위: 축소됨)\")\n",
    "plt.ylabel(\"집 가격 (단위: 축소됨)\")\n",
    "plt.legend()\n",
    "plt.grid(True)\n",
    "plt.tight_layout()\n",
    "plt.show()"
   ],
   "outputs": [
    {
     "name": "stdout",
     "output_type": "stream",
     "text": [
      "기울기 w: 0.3570\n",
      "절편 b: 0.1068\n",
      "평균 제곱 오차 (MSE): 0.1022\n"
     ]
    },
    {
     "data": {
      "text/plain": [
       "<Figure size 800x500 with 1 Axes>"
      ],
      "image/png": "[encoded data removed]"
     },
     "metadata": {},
     "output_type": "display_data"
    }
   ],
   "execution_count": 17
  },
  {
   "cell_type": "code",
   "source": [
    "# 실습2 문제 코드 - 기울기 하강법으로 선형 회귀 실습\n",
    "# 초기 파라미터\n",
    "w = 0.0\n",
    "b = 0.0\n",
    "lr = 0.01       # 학습률 (learning rate)\n",
    "epochs = 1000   # 반복 횟수=> ML/DL에서 최적화할 때 변경하는 수치\n",
    "n = len(house_size)\n",
    "\n",
    "# 비용 추적용 리스트\n",
    "cost_list = []\n",
    "\n",
    "# 경사 하강법\n",
    "for epoch in range(epochs):\n",
    "    y_pred = w * house_size + b\n",
    "    error = y_pred - house_price\n",
    "\n",
    "    dw = (2/n) * np.dot(error, house_size)\n",
    "    db = (2/n) * error.sum()\n",
    "\n",
    "    w -= lr * dw\n",
    "    b -= lr * db\n",
    "\n",
    "    mse = np.mean(error ** 2)\n",
    "    cost_list.append(mse)\n",
    "\n",
    "# 최종 결과 출력\n",
    "print(f\"학습 완료! 기울기 w = {w:.4f}, 절편 b = {b:.4f}\")\n",
    "print(f\"최종 MSE: {mse:.4f}\")\n",
    "\n",
    "# 회귀선 예측\n",
    "predicted_price = w * house_size + b\n",
    "\n",
    "# 실제 데이터와 예측 직선 시각화\n",
    "plt.figure(figsize=(8, 5))\n",
    "plt.scatter(house_size, house_price, color='blue', label='실제 데이터')\n",
    "plt.plot(house_size, predicted_price, color='red', label='예측 직선')\n",
    "plt.title(\"경사 하강법으로 학습한 선형 회귀\")\n",
    "plt.xlabel(\"집 크기 (단위: 축소됨)\")\n",
    "plt.ylabel(\"집 가격 (단위: 축소됨)\")\n",
    "plt.legend()\n",
    "plt.grid(True)\n",
    "plt.tight_layout()\n",
    "plt.show()\n",
    "\n",
    "# 비용 함수 수렴 시각화\n",
    "plt.figure(figsize=(8, 4))\n",
    "plt.plot(cost_list)\n",
    "plt.title(\"MSE (비용 함수) 감소 추이\")\n",
    "plt.xlabel(\"Epoch\")\n",
    "plt.ylabel(\"Mean Squared Error\")\n",
    "plt.grid(True)\n",
    "plt.tight_layout()\n",
    "plt.show()"
   ],
   "metadata": {
    "colab": {
     "base_uri": "https://localhost:8080/",
     "height": 933
    },
    "id": "sZZPU0jl9b-g",
    "outputId": "fb205c23-d452-41a1-e4dd-bc2e25842d16",
    "ExecuteTime": {
     "end_time": "2025-08-21T08:50:49.613566Z",
     "start_time": "2025-08-21T08:50:49.364564Z"
    }
   },
   "outputs": [
    {
     "name": "stdout",
     "output_type": "stream",
     "text": [
      "학습 완료! 기울기 w = 0.3572, 절편 b = 0.1061\n",
      "최종 MSE: 0.1022\n"
     ]
    },
    {
     "data": {
      "text/plain": [
       "<Figure size 800x500 with 1 Axes>"
      ],
      "image/png": "[encoded data removed]"
     },
     "metadata": {},
     "output_type": "display_data"
    },
    {
     "data": {
      "text/plain": [
       "<Figure size 800x400 with 1 Axes>"
      ],
      "image/png": "[encoded data removed]"
     },
     "metadata": {},
     "output_type": "display_data"
    }
   ],
   "execution_count": 18
  },
  {
   "cell_type": "code",
   "source": [
    "#실습3 문제 코드 - 다중 선형 회귀\n",
    "\n",
    "# 1. 입력 변수\n",
    "house_size = np.array([1.0, 1.5, 1.8, 5, 2.0, 2.5, 3.0, 3.5, 4.0, 5.0, 6.0, 7.0, 8.0, 8.5, 9.0, 10.0])  # 집 크기\n",
    "distance_from_station = np.array([5, 4.6, 4.2, 3.9, 3.9, 3.6, 3.5, 3.4, 2.9, 2.8, 2.7, 2.3, 2.0, 1.8, 1.5, 1.0])  # 지하철역으로부터의 거리 (km)\n",
    "number_of_rooms = np.array([1, 1, 1, 1, 2, 2, 2, 2, 3, 3, 3, 3, 4, 4, 4, 4])  # 방 수\n",
    "\n",
    "# 2. 설계 행렬 X 정의\n",
    "X = np.array([\n",
    "    np.ones(16),                   # np.ones(16): 모든 행마다 1을 추가하기 위해 (총 16개의 1 필요)\n",
    "    house_size,\n",
    "    distance_from_station,\n",
    "    number_of_rooms\n",
    "]).T\n",
    "\n",
    "# 3. 파라미터 (임의로 설정)\n",
    "theta = np.array([1, 2, 3, 4])  # θ₀=1, θ₁=2, θ₂=3, θ₃=4\n",
    "\n",
    "# 4. 다중 선형 회귀 가설 함수\n",
    "def prediction(X, theta):\n",
    "    y = X @ theta\n",
    "    return y\n",
    "\n",
    "# 5. 예측값 계산\n",
    "y_pred = prediction(X, theta)\n",
    "\n",
    "# 6. 시각화 (집 크기 vs 예측값)\n",
    "plt.figure(figsize=(8, 5))\n",
    "plt.scatter(house_size, y_pred, color='blue', label='Predicted Price', s=80)\n",
    "plt.xlabel(\"House Size (평)\")\n",
    "plt.ylabel(\"Predicted Value\")\n",
    "plt.title(\"Prediction by House Size\")\n",
    "plt.grid(True)\n",
    "plt.legend()\n",
    "plt.tight_layout()\n",
    "plt.show()"
   ],
   "metadata": {
    "colab": {
     "base_uri": "https://localhost:8080/",
     "height": 507
    },
    "id": "R9V6_OACA4FC",
    "outputId": "2c29dfbc-f89b-445a-d902-0d27ea31d48d",
    "ExecuteTime": {
     "end_time": "2025-08-21T08:50:49.727284Z",
     "start_time": "2025-08-21T08:50:49.633175Z"
    }
   },
   "outputs": [
    {
     "data": {
      "text/plain": [
       "<Figure size 800x500 with 1 Axes>"
      ],
      "image/png": "[encoded data removed]"
     },
     "metadata": {},
     "output_type": "display_data"
    }
   ],
   "execution_count": 19
  },
  {
   "cell_type": "code",
   "source": [
    "# 추가 -  다중 선형 회귀 실습 코드 예시 (Python - scikit-learn)\n",
    "\n",
    "from sklearn.linear_model import LinearRegression\n",
    "\n",
    "# 1. 데이터 정의\n",
    "house_size = np.array([1.0, 1.5, 1.8, 5, 2.0, 2.5, 3.0, 3.5, 4.0, 5.0, 6.0, 7.0, 8.0, 8.5, 9.0, 10.0])\n",
    "distance_from_station = np.array([5, 4.6, 4.2, 3.9, 3.9, 3.6, 3.5, 3.4, 2.9, 2.8, 2.7, 2.3, 2.0, 1.8, 1.5, 1.0])\n",
    "number_of_rooms = np.array([1, 1, 1, 1, 2, 2, 2, 2, 3, 3, 3, 3, 4, 4, 4, 4])\n",
    "\n",
    "# 종속 변수(y): 여기선 임의로 생성 (실제 데이터가 없으니 가상의 가격 데이터 예시)\n",
    "# 실제 분석에서는 진짜 집값 데이터가 필요합니다!\n",
    "price = np.array([300, 330, 360, 650, 400, 420, 460, 500, 580, 600, 680, 750, 820, 850, 870, 920])\n",
    "\n",
    "# 2. 특성 행렬 (X) 구성\n",
    "X = np.column_stack([house_size, distance_from_station, number_of_rooms])\n",
    "\n",
    "# 3. 모델 학습\n",
    "model = LinearRegression()\n",
    "model.fit(X, price)\n",
    "\n",
    "# 4. 예측\n",
    "y_pred = model.predict(X)\n",
    "\n",
    "# 결과 출력\n",
    "print(\"계수 (theta):\", model.coef_)\n",
    "print(\"절편 (intercept):\", model.intercept_)\n",
    "print(\"R^2 점수:\", model.score(X, price))\n",
    "\n",
    "# 시각화 (house_size vs 실제/예측 가격)\n",
    "plt.figure(figsize=(8, 5))\n",
    "plt.scatter(house_size, price, color='black', label='Actual Price')\n",
    "plt.scatter(house_size, y_pred, color='blue', label='Predicted Price', marker='x')\n",
    "plt.xlabel(\"House Size (평)\")\n",
    "plt.ylabel(\"Price\")\n",
    "plt.title(\"Actual vs Predicted Prices by House Size\")\n",
    "plt.legend()\n",
    "plt.grid(True)\n",
    "plt.tight_layout()\n",
    "plt.show()"
   ],
   "metadata": {
    "colab": {
     "base_uri": "https://localhost:8080/",
     "height": 561
    },
    "id": "d7ukF8f0GvBE",
    "outputId": "ab6291b9-7ffb-40db-8c53-21182c4d96a3",
    "ExecuteTime": {
     "end_time": "2025-08-21T08:50:49.870990Z",
     "start_time": "2025-08-21T08:50:49.742315Z"
    }
   },
   "outputs": [
    {
     "name": "stdout",
     "output_type": "stream",
     "text": [
      "계수 (theta): [72.7908575  11.00899684  4.6295037 ]\n",
      "절편 (intercept): 193.82183710792657\n",
      "R^2 점수: 0.9882032500774084\n"
     ]
    },
    {
     "data": {
      "text/plain": [
       "<Figure size 800x500 with 1 Axes>"
      ],
      "image/png": "[encoded data removed]"
     },
     "metadata": {},
     "output_type": "display_data"
    }
   ],
   "execution_count": 20
  },
  {
   "cell_type": "markdown",
   "source": [
    "# 2. Salary 데이터로 선형회귀 기본 코딩 (사이킷런 사용 X)"
   ],
   "metadata": {
    "id": "YSF_Pau-Uraq"
   }
  },
  {
   "cell_type": "code",
   "source": [
    "import pandas as pd\n",
    "import numpy as np"
   ],
   "metadata": {
    "id": "3dzdOzvhuL7Y",
    "ExecuteTime": {
     "end_time": "2025-08-21T08:50:49.891144Z",
     "start_time": "2025-08-21T08:50:49.886606Z"
    }
   },
   "outputs": [],
   "execution_count": 21
  },
  {
   "cell_type": "code",
   "source": "data = pd.read_csv(\"./csv_dir/training_test_data.csv\")",
   "metadata": {
    "colab": {
     "base_uri": "https://localhost:8080/",
     "height": 423
    },
    "id": "KAioqv3jukYw",
    "outputId": "ff9ca272-f4df-45fb-cde9-a2144ac02871",
    "ExecuteTime": {
     "end_time": "2025-08-21T08:50:49.942390Z",
     "start_time": "2025-08-21T08:50:49.925217Z"
    }
   },
   "outputs": [],
   "execution_count": 22
  },
  {
   "cell_type": "code",
   "source": [
    "data.info()"
   ],
   "metadata": {
    "colab": {
     "base_uri": "https://localhost:8080/"
    },
    "id": "DtgiYdE_uvVI",
    "outputId": "37382b13-4af6-43c5-821d-de720b975d5d",
    "ExecuteTime": {
     "end_time": "2025-08-21T08:50:49.965033Z",
     "start_time": "2025-08-21T08:50:49.954517Z"
    }
   },
   "outputs": [
    {
     "name": "stdout",
     "output_type": "stream",
     "text": [
      "<class 'pandas.core.frame.DataFrame'>\n",
      "RangeIndex: 100 entries, 0 to 99\n",
      "Data columns (total 4 columns):\n",
      " #   Column      Non-Null Count  Dtype\n",
      "---  ------      --------------  -----\n",
      " 0   Age         100 non-null    int64\n",
      " 1   Gender      100 non-null    int64\n",
      " 2   Experience  100 non-null    int64\n",
      " 3   Income      100 non-null    int64\n",
      "dtypes: int64(4)\n",
      "memory usage: 3.2 KB\n"
     ]
    }
   ],
   "execution_count": 23
  },
  {
   "cell_type": "code",
   "source": [
    "data.describe()"
   ],
   "metadata": {
    "colab": {
     "base_uri": "https://localhost:8080/",
     "height": 300
    },
    "id": "Jb8-CDISvBrJ",
    "outputId": "60cc0e41-1c16-4c35-b9dc-ca578f71946b",
    "ExecuteTime": {
     "end_time": "2025-08-21T08:50:50.014950Z",
     "start_time": "2025-08-21T08:50:50.005450Z"
    }
   },
   "outputs": [
    {
     "data": {
      "text/plain": [
       "              Age      Gender  Experience      Income\n",
       "count  100.000000  100.000000  100.000000  100.000000\n",
       "mean    38.880000    1.490000   11.980000  151.890000\n",
       "std     12.275688    0.502418   10.458171   28.001405\n",
       "min     21.000000    1.000000    0.000000  103.000000\n",
       "25%     28.000000    1.000000    2.000000  127.000000\n",
       "50%     37.000000    1.000000    9.000000  154.000000\n",
       "75%     50.000000    2.000000   21.000000  174.000000\n",
       "max     60.000000    2.000000   33.000000  200.000000"
      ],
      "text/html": [
       "<div>\n",
       "<style scoped>\n",
       "    .dataframe tbody tr th:only-of-type {\n",
       "        vertical-align: middle;\n",
       "    }\n",
       "\n",
       "    .dataframe tbody tr th {\n",
       "        vertical-align: top;\n",
       "    }\n",
       "\n",
       "    .dataframe thead th {\n",
       "        text-align: right;\n",
       "    }\n",
       "</style>\n",
       "<table border=\"1\" class=\"dataframe\">\n",
       "  <thead>\n",
       "    <tr style=\"text-align: right;\">\n",
       "      <th></th>\n",
       "      <th>Age</th>\n",
       "      <th>Gender</th>\n",
       "      <th>Experience</th>\n",
       "      <th>Income</th>\n",
       "    </tr>\n",
       "  </thead>\n",
       "  <tbody>\n",
       "    <tr>\n",
       "      <th>count</th>\n",
       "      <td>100.000000</td>\n",
       "      <td>100.000000</td>\n",
       "      <td>100.000000</td>\n",
       "      <td>100.000000</td>\n",
       "    </tr>\n",
       "    <tr>\n",
       "      <th>mean</th>\n",
       "      <td>38.880000</td>\n",
       "      <td>1.490000</td>\n",
       "      <td>11.980000</td>\n",
       "      <td>151.890000</td>\n",
       "    </tr>\n",
       "    <tr>\n",
       "      <th>std</th>\n",
       "      <td>12.275688</td>\n",
       "      <td>0.502418</td>\n",
       "      <td>10.458171</td>\n",
       "      <td>28.001405</td>\n",
       "    </tr>\n",
       "    <tr>\n",
       "      <th>min</th>\n",
       "      <td>21.000000</td>\n",
       "      <td>1.000000</td>\n",
       "      <td>0.000000</td>\n",
       "      <td>103.000000</td>\n",
       "    </tr>\n",
       "    <tr>\n",
       "      <th>25%</th>\n",
       "      <td>28.000000</td>\n",
       "      <td>1.000000</td>\n",
       "      <td>2.000000</td>\n",
       "      <td>127.000000</td>\n",
       "    </tr>\n",
       "    <tr>\n",
       "      <th>50%</th>\n",
       "      <td>37.000000</td>\n",
       "      <td>1.000000</td>\n",
       "      <td>9.000000</td>\n",
       "      <td>154.000000</td>\n",
       "    </tr>\n",
       "    <tr>\n",
       "      <th>75%</th>\n",
       "      <td>50.000000</td>\n",
       "      <td>2.000000</td>\n",
       "      <td>21.000000</td>\n",
       "      <td>174.000000</td>\n",
       "    </tr>\n",
       "    <tr>\n",
       "      <th>max</th>\n",
       "      <td>60.000000</td>\n",
       "      <td>2.000000</td>\n",
       "      <td>33.000000</td>\n",
       "      <td>200.000000</td>\n",
       "    </tr>\n",
       "  </tbody>\n",
       "</table>\n",
       "</div>"
      ]
     },
     "execution_count": 24,
     "metadata": {},
     "output_type": "execute_result"
    }
   ],
   "execution_count": 24
  },
  {
   "cell_type": "code",
   "source": [
    "# 판다스의 데이터에서 넘파이로 변환 => 머신러닝 모델 학습 위해!\n",
    "data_np = data.values"
   ],
   "metadata": {
    "id": "3WzBP3NbvGMX",
    "ExecuteTime": {
     "end_time": "2025-08-21T08:50:50.082337Z",
     "start_time": "2025-08-21T08:50:50.079695Z"
    }
   },
   "outputs": [],
   "execution_count": 25
  },
  {
   "cell_type": "code",
   "source": [
    "data_np"
   ],
   "metadata": {
    "colab": {
     "base_uri": "https://localhost:8080/"
    },
    "id": "Ujn3qtpMvaCV",
    "outputId": "42e8b217-720f-4ce0-f860-fa0844506936",
    "ExecuteTime": {
     "end_time": "2025-08-21T08:50:50.129043Z",
     "start_time": "2025-08-21T08:50:50.125266Z"
    }
   },
   "outputs": [
    {
     "data": {
      "text/plain": [
       "array([[ 50,   1,  15, 180],\n",
       "       [ 29,   1,   5, 163],\n",
       "       [ 36,   1,   6, 134],\n",
       "       [ 34,   2,   4, 132],\n",
       "       [ 46,   1,   9, 188],\n",
       "       [ 33,   1,   3, 127],\n",
       "       [ 26,   2,   8, 141],\n",
       "       [ 23,   1,   5, 122],\n",
       "       [ 48,   1,   7, 169],\n",
       "       [ 24,   1,   5, 114],\n",
       "       [ 44,   1,  10, 174],\n",
       "       [ 60,   1,  25, 190],\n",
       "       [ 51,   2,  17, 190],\n",
       "       [ 24,   2,   1, 110],\n",
       "       [ 28,   1,   2, 120],\n",
       "       [ 32,   1,   3, 130],\n",
       "       [ 46,   1,  12, 165],\n",
       "       [ 39,   1,  10, 170],\n",
       "       [ 23,   2,   3, 120],\n",
       "       [ 28,   1,   1, 130],\n",
       "       [ 33,   1,   3, 133],\n",
       "       [ 48,   2,  15, 167],\n",
       "       [ 39,   1,   6, 155],\n",
       "       [ 40,   1,   9, 159],\n",
       "       [ 46,   1,  13, 179],\n",
       "       [ 49,   2,  22, 200],\n",
       "       [ 28,   1,   3, 120],\n",
       "       [ 30,   2,   1, 145],\n",
       "       [ 52,   2,  27, 181],\n",
       "       [ 51,   2,  21, 198],\n",
       "       [ 22,   2,   1, 112],\n",
       "       [ 31,   2,   4, 143],\n",
       "       [ 28,   2,   2, 104],\n",
       "       [ 38,   1,  11, 160],\n",
       "       [ 40,   1,  13, 199],\n",
       "       [ 35,   1,   5, 127],\n",
       "       [ 21,   2,   1, 115],\n",
       "       [ 37,   2,  10, 146],\n",
       "       [ 57,   1,  30, 154],\n",
       "       [ 41,   2,  15, 191],\n",
       "       [ 49,   2,  22, 155],\n",
       "       [ 30,   2,   2, 147],\n",
       "       [ 26,   2,   1, 110],\n",
       "       [ 37,   2,  11, 151],\n",
       "       [ 28,   2,   2, 127],\n",
       "       [ 59,   1,  33, 197],\n",
       "       [ 29,   1,   2, 117],\n",
       "       [ 23,   1,   1, 130],\n",
       "       [ 37,   1,  11, 151],\n",
       "       [ 22,   1,   1, 137],\n",
       "       [ 55,   1,  30, 181],\n",
       "       [ 23,   2,   1, 115],\n",
       "       [ 34,   1,   8, 145],\n",
       "       [ 57,   2,  29, 178],\n",
       "       [ 57,   1,  31, 194],\n",
       "       [ 27,   1,   5, 126],\n",
       "       [ 50,   1,  21, 198],\n",
       "       [ 33,   1,   7, 138],\n",
       "       [ 22,   1,   1, 129],\n",
       "       [ 33,   2,   3, 131],\n",
       "       [ 24,   2,   2, 113],\n",
       "       [ 52,   1,  24, 155],\n",
       "       [ 23,   2,   2, 122],\n",
       "       [ 51,   2,  26, 159],\n",
       "       [ 53,   2,  26, 165],\n",
       "       [ 25,   2,   0, 103],\n",
       "       [ 33,   1,   6, 141],\n",
       "       [ 57,   1,  30, 159],\n",
       "       [ 59,   2,  33, 194],\n",
       "       [ 28,   2,   3, 120],\n",
       "       [ 21,   2,   1, 118],\n",
       "       [ 46,   1,  19, 168],\n",
       "       [ 53,   1,  24, 156],\n",
       "       [ 50,   2,  21, 185],\n",
       "       [ 59,   1,  33, 156],\n",
       "       [ 38,   2,  10, 138],\n",
       "       [ 43,   2,  17, 174],\n",
       "       [ 60,   2,  32, 158],\n",
       "       [ 50,   1,  20, 191],\n",
       "       [ 55,   2,  25, 154],\n",
       "       [ 24,   2,   2, 114],\n",
       "       [ 53,   2,  23, 200],\n",
       "       [ 47,   2,  21, 168],\n",
       "       [ 55,   1,  26, 155],\n",
       "       [ 24,   2,   1, 124],\n",
       "       [ 32,   1,   3, 160],\n",
       "       [ 46,   2,  19, 190],\n",
       "       [ 26,   1,   1, 124],\n",
       "       [ 26,   2,   2, 120],\n",
       "       [ 44,   1,  16, 189],\n",
       "       [ 36,   1,  11, 144],\n",
       "       [ 30,   1,   2, 155],\n",
       "       [ 26,   2,   2, 125],\n",
       "       [ 57,   2,  28, 166],\n",
       "       [ 47,   2,  18, 197],\n",
       "       [ 46,   2,  19, 198],\n",
       "       [ 31,   1,   6, 130],\n",
       "       [ 57,   2,  29, 168],\n",
       "       [ 22,   1,   1, 129],\n",
       "       [ 58,   2,  29, 190]])"
      ]
     },
     "execution_count": 26,
     "metadata": {},
     "output_type": "execute_result"
    }
   ],
   "execution_count": 26
  },
  {
   "cell_type": "code",
   "source": [
    "# 독립변수 종속변수 구분\n",
    "X = data_np[:,:-1]\n",
    "y = data_np[:,-1]"
   ],
   "metadata": {
    "id": "ZeonlWVyvbsX",
    "ExecuteTime": {
     "end_time": "2025-08-21T08:50:50.285215Z",
     "start_time": "2025-08-21T08:50:50.283022Z"
    }
   },
   "outputs": [],
   "execution_count": 27
  },
  {
   "cell_type": "code",
   "source": [
    "X"
   ],
   "metadata": {
    "colab": {
     "base_uri": "https://localhost:8080/"
    },
    "id": "7-hKIX2ev1CU",
    "outputId": "9dc7d0d1-656b-4db3-9d51-b248be72dbc7",
    "ExecuteTime": {
     "end_time": "2025-08-21T08:50:50.377270Z",
     "start_time": "2025-08-21T08:50:50.372124Z"
    }
   },
   "outputs": [
    {
     "data": {
      "text/plain": [
       "array([[50,  1, 15],\n",
       "       [29,  1,  5],\n",
       "       [36,  1,  6],\n",
       "       [34,  2,  4],\n",
       "       [46,  1,  9],\n",
       "       [33,  1,  3],\n",
       "       [26,  2,  8],\n",
       "       [23,  1,  5],\n",
       "       [48,  1,  7],\n",
       "       [24,  1,  5],\n",
       "       [44,  1, 10],\n",
       "       [60,  1, 25],\n",
       "       [51,  2, 17],\n",
       "       [24,  2,  1],\n",
       "       [28,  1,  2],\n",
       "       [32,  1,  3],\n",
       "       [46,  1, 12],\n",
       "       [39,  1, 10],\n",
       "       [23,  2,  3],\n",
       "       [28,  1,  1],\n",
       "       [33,  1,  3],\n",
       "       [48,  2, 15],\n",
       "       [39,  1,  6],\n",
       "       [40,  1,  9],\n",
       "       [46,  1, 13],\n",
       "       [49,  2, 22],\n",
       "       [28,  1,  3],\n",
       "       [30,  2,  1],\n",
       "       [52,  2, 27],\n",
       "       [51,  2, 21],\n",
       "       [22,  2,  1],\n",
       "       [31,  2,  4],\n",
       "       [28,  2,  2],\n",
       "       [38,  1, 11],\n",
       "       [40,  1, 13],\n",
       "       [35,  1,  5],\n",
       "       [21,  2,  1],\n",
       "       [37,  2, 10],\n",
       "       [57,  1, 30],\n",
       "       [41,  2, 15],\n",
       "       [49,  2, 22],\n",
       "       [30,  2,  2],\n",
       "       [26,  2,  1],\n",
       "       [37,  2, 11],\n",
       "       [28,  2,  2],\n",
       "       [59,  1, 33],\n",
       "       [29,  1,  2],\n",
       "       [23,  1,  1],\n",
       "       [37,  1, 11],\n",
       "       [22,  1,  1],\n",
       "       [55,  1, 30],\n",
       "       [23,  2,  1],\n",
       "       [34,  1,  8],\n",
       "       [57,  2, 29],\n",
       "       [57,  1, 31],\n",
       "       [27,  1,  5],\n",
       "       [50,  1, 21],\n",
       "       [33,  1,  7],\n",
       "       [22,  1,  1],\n",
       "       [33,  2,  3],\n",
       "       [24,  2,  2],\n",
       "       [52,  1, 24],\n",
       "       [23,  2,  2],\n",
       "       [51,  2, 26],\n",
       "       [53,  2, 26],\n",
       "       [25,  2,  0],\n",
       "       [33,  1,  6],\n",
       "       [57,  1, 30],\n",
       "       [59,  2, 33],\n",
       "       [28,  2,  3],\n",
       "       [21,  2,  1],\n",
       "       [46,  1, 19],\n",
       "       [53,  1, 24],\n",
       "       [50,  2, 21],\n",
       "       [59,  1, 33],\n",
       "       [38,  2, 10],\n",
       "       [43,  2, 17],\n",
       "       [60,  2, 32],\n",
       "       [50,  1, 20],\n",
       "       [55,  2, 25],\n",
       "       [24,  2,  2],\n",
       "       [53,  2, 23],\n",
       "       [47,  2, 21],\n",
       "       [55,  1, 26],\n",
       "       [24,  2,  1],\n",
       "       [32,  1,  3],\n",
       "       [46,  2, 19],\n",
       "       [26,  1,  1],\n",
       "       [26,  2,  2],\n",
       "       [44,  1, 16],\n",
       "       [36,  1, 11],\n",
       "       [30,  1,  2],\n",
       "       [26,  2,  2],\n",
       "       [57,  2, 28],\n",
       "       [47,  2, 18],\n",
       "       [46,  2, 19],\n",
       "       [31,  1,  6],\n",
       "       [57,  2, 29],\n",
       "       [22,  1,  1],\n",
       "       [58,  2, 29]])"
      ]
     },
     "execution_count": 28,
     "metadata": {},
     "output_type": "execute_result"
    }
   ],
   "execution_count": 28
  },
  {
   "cell_type": "code",
   "source": [
    "y"
   ],
   "metadata": {
    "colab": {
     "base_uri": "https://localhost:8080/"
    },
    "id": "9KsVJsCOv0_b",
    "outputId": "c8f05d33-8a8b-41a9-f4b5-989e67419b1f",
    "ExecuteTime": {
     "end_time": "2025-08-21T08:50:50.483723Z",
     "start_time": "2025-08-21T08:50:50.479970Z"
    }
   },
   "outputs": [
    {
     "data": {
      "text/plain": [
       "array([180, 163, 134, 132, 188, 127, 141, 122, 169, 114, 174, 190, 190,\n",
       "       110, 120, 130, 165, 170, 120, 130, 133, 167, 155, 159, 179, 200,\n",
       "       120, 145, 181, 198, 112, 143, 104, 160, 199, 127, 115, 146, 154,\n",
       "       191, 155, 147, 110, 151, 127, 197, 117, 130, 151, 137, 181, 115,\n",
       "       145, 178, 194, 126, 198, 138, 129, 131, 113, 155, 122, 159, 165,\n",
       "       103, 141, 159, 194, 120, 118, 168, 156, 185, 156, 138, 174, 158,\n",
       "       191, 154, 114, 200, 168, 155, 124, 160, 190, 124, 120, 189, 144,\n",
       "       155, 125, 166, 197, 198, 130, 168, 129, 190])"
      ]
     },
     "execution_count": 29,
     "metadata": {},
     "output_type": "execute_result"
    }
   ],
   "execution_count": 29
  },
  {
   "cell_type": "markdown",
   "source": [
    "## (1) 첫번째 모델 - 절편 없음"
   ],
   "metadata": {
    "id": "ScyMx3p-wBIc"
   }
  },
  {
   "cell_type": "code",
   "source": [
    "b = np.dot(np.linalg.inv(X.T @ X), X.T@y)\n",
    "\n",
    "# np.linalg.inv(X.T @ X) => (X^T*X)^-1\n",
    "# X.T@y   =>X^T*y"
   ],
   "metadata": {
    "id": "veF2FQRqv073",
    "ExecuteTime": {
     "end_time": "2025-08-21T08:50:50.658481Z",
     "start_time": "2025-08-21T08:50:50.646316Z"
    }
   },
   "outputs": [],
   "execution_count": 30
  },
  {
   "cell_type": "code",
   "source": [
    "b"
   ],
   "metadata": {
    "colab": {
     "base_uri": "https://localhost:8080/"
    },
    "id": "bzeA3jqVwlge",
    "outputId": "1d5cc301-c0ef-4f74-fc7c-76abc65f39a4",
    "ExecuteTime": {
     "end_time": "2025-08-21T08:50:50.766084Z",
     "start_time": "2025-08-21T08:50:50.741804Z"
    }
   },
   "outputs": [
    {
     "data": {
      "text/plain": [
       "array([ 4.41868053,  8.71283132, -2.83170131])"
      ]
     },
     "execution_count": 31,
     "metadata": {},
     "output_type": "execute_result"
    }
   ],
   "execution_count": 31
  },
  {
   "cell_type": "markdown",
   "source": [
    "**해석**\n",
    "1. 나이가 1살 많을 수록 소득은 4.41 증가\n",
    "2. 성별 1->2 바뀌면 소득이 8.71 증가\n",
    "3. 경력이 1년 늘어나면 소득은 2.83 하락"
   ],
   "metadata": {
    "id": "qCEW8bxDxFIP"
   }
  },
  {
   "cell_type": "markdown",
   "source": [
    "## (2) 두번째 모델링 - 절편 추가"
   ],
   "metadata": {
    "id": "4T_J5DpYxU_T"
   }
  },
  {
   "cell_type": "code",
   "source": [
    "X2 = np.c_[np.ones(100), X]\n",
    "X2"
   ],
   "metadata": {
    "colab": {
     "base_uri": "https://localhost:8080/"
    },
    "id": "EURPztcZwmjM",
    "outputId": "21ba8db8-fb92-4caf-99c5-2c6edcc84ea6",
    "ExecuteTime": {
     "end_time": "2025-08-21T08:50:50.794561Z",
     "start_time": "2025-08-21T08:50:50.787257Z"
    }
   },
   "outputs": [
    {
     "data": {
      "text/plain": [
       "array([[ 1., 50.,  1., 15.],\n",
       "       [ 1., 29.,  1.,  5.],\n",
       "       [ 1., 36.,  1.,  6.],\n",
       "       [ 1., 34.,  2.,  4.],\n",
       "       [ 1., 46.,  1.,  9.],\n",
       "       [ 1., 33.,  1.,  3.],\n",
       "       [ 1., 26.,  2.,  8.],\n",
       "       [ 1., 23.,  1.,  5.],\n",
       "       [ 1., 48.,  1.,  7.],\n",
       "       [ 1., 24.,  1.,  5.],\n",
       "       [ 1., 44.,  1., 10.],\n",
       "       [ 1., 60.,  1., 25.],\n",
       "       [ 1., 51.,  2., 17.],\n",
       "       [ 1., 24.,  2.,  1.],\n",
       "       [ 1., 28.,  1.,  2.],\n",
       "       [ 1., 32.,  1.,  3.],\n",
       "       [ 1., 46.,  1., 12.],\n",
       "       [ 1., 39.,  1., 10.],\n",
       "       [ 1., 23.,  2.,  3.],\n",
       "       [ 1., 28.,  1.,  1.],\n",
       "       [ 1., 33.,  1.,  3.],\n",
       "       [ 1., 48.,  2., 15.],\n",
       "       [ 1., 39.,  1.,  6.],\n",
       "       [ 1., 40.,  1.,  9.],\n",
       "       [ 1., 46.,  1., 13.],\n",
       "       [ 1., 49.,  2., 22.],\n",
       "       [ 1., 28.,  1.,  3.],\n",
       "       [ 1., 30.,  2.,  1.],\n",
       "       [ 1., 52.,  2., 27.],\n",
       "       [ 1., 51.,  2., 21.],\n",
       "       [ 1., 22.,  2.,  1.],\n",
       "       [ 1., 31.,  2.,  4.],\n",
       "       [ 1., 28.,  2.,  2.],\n",
       "       [ 1., 38.,  1., 11.],\n",
       "       [ 1., 40.,  1., 13.],\n",
       "       [ 1., 35.,  1.,  5.],\n",
       "       [ 1., 21.,  2.,  1.],\n",
       "       [ 1., 37.,  2., 10.],\n",
       "       [ 1., 57.,  1., 30.],\n",
       "       [ 1., 41.,  2., 15.],\n",
       "       [ 1., 49.,  2., 22.],\n",
       "       [ 1., 30.,  2.,  2.],\n",
       "       [ 1., 26.,  2.,  1.],\n",
       "       [ 1., 37.,  2., 11.],\n",
       "       [ 1., 28.,  2.,  2.],\n",
       "       [ 1., 59.,  1., 33.],\n",
       "       [ 1., 29.,  1.,  2.],\n",
       "       [ 1., 23.,  1.,  1.],\n",
       "       [ 1., 37.,  1., 11.],\n",
       "       [ 1., 22.,  1.,  1.],\n",
       "       [ 1., 55.,  1., 30.],\n",
       "       [ 1., 23.,  2.,  1.],\n",
       "       [ 1., 34.,  1.,  8.],\n",
       "       [ 1., 57.,  2., 29.],\n",
       "       [ 1., 57.,  1., 31.],\n",
       "       [ 1., 27.,  1.,  5.],\n",
       "       [ 1., 50.,  1., 21.],\n",
       "       [ 1., 33.,  1.,  7.],\n",
       "       [ 1., 22.,  1.,  1.],\n",
       "       [ 1., 33.,  2.,  3.],\n",
       "       [ 1., 24.,  2.,  2.],\n",
       "       [ 1., 52.,  1., 24.],\n",
       "       [ 1., 23.,  2.,  2.],\n",
       "       [ 1., 51.,  2., 26.],\n",
       "       [ 1., 53.,  2., 26.],\n",
       "       [ 1., 25.,  2.,  0.],\n",
       "       [ 1., 33.,  1.,  6.],\n",
       "       [ 1., 57.,  1., 30.],\n",
       "       [ 1., 59.,  2., 33.],\n",
       "       [ 1., 28.,  2.,  3.],\n",
       "       [ 1., 21.,  2.,  1.],\n",
       "       [ 1., 46.,  1., 19.],\n",
       "       [ 1., 53.,  1., 24.],\n",
       "       [ 1., 50.,  2., 21.],\n",
       "       [ 1., 59.,  1., 33.],\n",
       "       [ 1., 38.,  2., 10.],\n",
       "       [ 1., 43.,  2., 17.],\n",
       "       [ 1., 60.,  2., 32.],\n",
       "       [ 1., 50.,  1., 20.],\n",
       "       [ 1., 55.,  2., 25.],\n",
       "       [ 1., 24.,  2.,  2.],\n",
       "       [ 1., 53.,  2., 23.],\n",
       "       [ 1., 47.,  2., 21.],\n",
       "       [ 1., 55.,  1., 26.],\n",
       "       [ 1., 24.,  2.,  1.],\n",
       "       [ 1., 32.,  1.,  3.],\n",
       "       [ 1., 46.,  2., 19.],\n",
       "       [ 1., 26.,  1.,  1.],\n",
       "       [ 1., 26.,  2.,  2.],\n",
       "       [ 1., 44.,  1., 16.],\n",
       "       [ 1., 36.,  1., 11.],\n",
       "       [ 1., 30.,  1.,  2.],\n",
       "       [ 1., 26.,  2.,  2.],\n",
       "       [ 1., 57.,  2., 28.],\n",
       "       [ 1., 47.,  2., 18.],\n",
       "       [ 1., 46.,  2., 19.],\n",
       "       [ 1., 31.,  1.,  6.],\n",
       "       [ 1., 57.,  2., 29.],\n",
       "       [ 1., 22.,  1.,  1.],\n",
       "       [ 1., 58.,  2., 29.]])"
      ]
     },
     "execution_count": 32,
     "metadata": {},
     "output_type": "execute_result"
    }
   ],
   "execution_count": 32
  },
  {
   "cell_type": "code",
   "source": [
    "b_new = np.dot(np.linalg.inv(X2.T @ X2), X2.T@y)"
   ],
   "metadata": {
    "id": "mwBdIh5txn6S",
    "ExecuteTime": {
     "end_time": "2025-08-21T08:50:50.913155Z",
     "start_time": "2025-08-21T08:50:50.905970Z"
    }
   },
   "outputs": [],
   "execution_count": 33
  },
  {
   "cell_type": "code",
   "source": [
    "b_new"
   ],
   "metadata": {
    "colab": {
     "base_uri": "https://localhost:8080/"
    },
    "id": "QR1mUvQXx092",
    "outputId": "4d39b1ae-3fa2-48b0-e9cc-f5a134563f98",
    "ExecuteTime": {
     "end_time": "2025-08-21T08:50:50.996922Z",
     "start_time": "2025-08-21T08:50:50.985288Z"
    }
   },
   "outputs": [
    {
     "data": {
      "text/plain": [
       "array([68.88780097,  2.36480213, -0.89890187, -0.63455294])"
      ]
     },
     "execution_count": 34,
     "metadata": {},
     "output_type": "execute_result"
    }
   ],
   "execution_count": 34
  },
  {
   "cell_type": "markdown",
   "source": [
    "# 3. Salary 데이터로 선형회귀 - 사이킷런 이용 코딩"
   ],
   "metadata": {
    "id": "DW0N51ZuyTRw"
   }
  },
  {
   "cell_type": "code",
   "source": [
    "data.head()"
   ],
   "metadata": {
    "colab": {
     "base_uri": "https://localhost:8080/",
     "height": 206
    },
    "id": "Lm7PE2aUx1mS",
    "outputId": "c690cd8c-51c0-43fe-cf04-443f75130421",
    "ExecuteTime": {
     "end_time": "2025-08-21T08:50:51.042208Z",
     "start_time": "2025-08-21T08:50:51.032281Z"
    }
   },
   "outputs": [
    {
     "data": {
      "text/plain": [
       "   Age  Gender  Experience  Income\n",
       "0   50       1          15     180\n",
       "1   29       1           5     163\n",
       "2   36       1           6     134\n",
       "3   34       2           4     132\n",
       "4   46       1           9     188"
      ],
      "text/html": [
       "<div>\n",
       "<style scoped>\n",
       "    .dataframe tbody tr th:only-of-type {\n",
       "        vertical-align: middle;\n",
       "    }\n",
       "\n",
       "    .dataframe tbody tr th {\n",
       "        vertical-align: top;\n",
       "    }\n",
       "\n",
       "    .dataframe thead th {\n",
       "        text-align: right;\n",
       "    }\n",
       "</style>\n",
       "<table border=\"1\" class=\"dataframe\">\n",
       "  <thead>\n",
       "    <tr style=\"text-align: right;\">\n",
       "      <th></th>\n",
       "      <th>Age</th>\n",
       "      <th>Gender</th>\n",
       "      <th>Experience</th>\n",
       "      <th>Income</th>\n",
       "    </tr>\n",
       "  </thead>\n",
       "  <tbody>\n",
       "    <tr>\n",
       "      <th>0</th>\n",
       "      <td>50</td>\n",
       "      <td>1</td>\n",
       "      <td>15</td>\n",
       "      <td>180</td>\n",
       "    </tr>\n",
       "    <tr>\n",
       "      <th>1</th>\n",
       "      <td>29</td>\n",
       "      <td>1</td>\n",
       "      <td>5</td>\n",
       "      <td>163</td>\n",
       "    </tr>\n",
       "    <tr>\n",
       "      <th>2</th>\n",
       "      <td>36</td>\n",
       "      <td>1</td>\n",
       "      <td>6</td>\n",
       "      <td>134</td>\n",
       "    </tr>\n",
       "    <tr>\n",
       "      <th>3</th>\n",
       "      <td>34</td>\n",
       "      <td>2</td>\n",
       "      <td>4</td>\n",
       "      <td>132</td>\n",
       "    </tr>\n",
       "    <tr>\n",
       "      <th>4</th>\n",
       "      <td>46</td>\n",
       "      <td>1</td>\n",
       "      <td>9</td>\n",
       "      <td>188</td>\n",
       "    </tr>\n",
       "  </tbody>\n",
       "</table>\n",
       "</div>"
      ]
     },
     "execution_count": 35,
     "metadata": {},
     "output_type": "execute_result"
    }
   ],
   "execution_count": 35
  },
  {
   "cell_type": "code",
   "source": [
    "data_np = data.values"
   ],
   "metadata": {
    "id": "hOt3slcdycPs",
    "ExecuteTime": {
     "end_time": "2025-08-21T08:50:51.124941Z",
     "start_time": "2025-08-21T08:50:51.122296Z"
    }
   },
   "outputs": [],
   "execution_count": 36
  },
  {
   "cell_type": "code",
   "source": [
    "data_np"
   ],
   "metadata": {
    "colab": {
     "base_uri": "https://localhost:8080/"
    },
    "id": "8qtcdpKAyg2i",
    "outputId": "b1a21868-6e89-46ab-ac0e-2d45f2cc1963",
    "ExecuteTime": {
     "end_time": "2025-08-21T08:50:51.256101Z",
     "start_time": "2025-08-21T08:50:51.245927Z"
    }
   },
   "outputs": [
    {
     "data": {
      "text/plain": [
       "array([[ 50,   1,  15, 180],\n",
       "       [ 29,   1,   5, 163],\n",
       "       [ 36,   1,   6, 134],\n",
       "       [ 34,   2,   4, 132],\n",
       "       [ 46,   1,   9, 188],\n",
       "       [ 33,   1,   3, 127],\n",
       "       [ 26,   2,   8, 141],\n",
       "       [ 23,   1,   5, 122],\n",
       "       [ 48,   1,   7, 169],\n",
       "       [ 24,   1,   5, 114],\n",
       "       [ 44,   1,  10, 174],\n",
       "       [ 60,   1,  25, 190],\n",
       "       [ 51,   2,  17, 190],\n",
       "       [ 24,   2,   1, 110],\n",
       "       [ 28,   1,   2, 120],\n",
       "       [ 32,   1,   3, 130],\n",
       "       [ 46,   1,  12, 165],\n",
       "       [ 39,   1,  10, 170],\n",
       "       [ 23,   2,   3, 120],\n",
       "       [ 28,   1,   1, 130],\n",
       "       [ 33,   1,   3, 133],\n",
       "       [ 48,   2,  15, 167],\n",
       "       [ 39,   1,   6, 155],\n",
       "       [ 40,   1,   9, 159],\n",
       "       [ 46,   1,  13, 179],\n",
       "       [ 49,   2,  22, 200],\n",
       "       [ 28,   1,   3, 120],\n",
       "       [ 30,   2,   1, 145],\n",
       "       [ 52,   2,  27, 181],\n",
       "       [ 51,   2,  21, 198],\n",
       "       [ 22,   2,   1, 112],\n",
       "       [ 31,   2,   4, 143],\n",
       "       [ 28,   2,   2, 104],\n",
       "       [ 38,   1,  11, 160],\n",
       "       [ 40,   1,  13, 199],\n",
       "       [ 35,   1,   5, 127],\n",
       "       [ 21,   2,   1, 115],\n",
       "       [ 37,   2,  10, 146],\n",
       "       [ 57,   1,  30, 154],\n",
       "       [ 41,   2,  15, 191],\n",
       "       [ 49,   2,  22, 155],\n",
       "       [ 30,   2,   2, 147],\n",
       "       [ 26,   2,   1, 110],\n",
       "       [ 37,   2,  11, 151],\n",
       "       [ 28,   2,   2, 127],\n",
       "       [ 59,   1,  33, 197],\n",
       "       [ 29,   1,   2, 117],\n",
       "       [ 23,   1,   1, 130],\n",
       "       [ 37,   1,  11, 151],\n",
       "       [ 22,   1,   1, 137],\n",
       "       [ 55,   1,  30, 181],\n",
       "       [ 23,   2,   1, 115],\n",
       "       [ 34,   1,   8, 145],\n",
       "       [ 57,   2,  29, 178],\n",
       "       [ 57,   1,  31, 194],\n",
       "       [ 27,   1,   5, 126],\n",
       "       [ 50,   1,  21, 198],\n",
       "       [ 33,   1,   7, 138],\n",
       "       [ 22,   1,   1, 129],\n",
       "       [ 33,   2,   3, 131],\n",
       "       [ 24,   2,   2, 113],\n",
       "       [ 52,   1,  24, 155],\n",
       "       [ 23,   2,   2, 122],\n",
       "       [ 51,   2,  26, 159],\n",
       "       [ 53,   2,  26, 165],\n",
       "       [ 25,   2,   0, 103],\n",
       "       [ 33,   1,   6, 141],\n",
       "       [ 57,   1,  30, 159],\n",
       "       [ 59,   2,  33, 194],\n",
       "       [ 28,   2,   3, 120],\n",
       "       [ 21,   2,   1, 118],\n",
       "       [ 46,   1,  19, 168],\n",
       "       [ 53,   1,  24, 156],\n",
       "       [ 50,   2,  21, 185],\n",
       "       [ 59,   1,  33, 156],\n",
       "       [ 38,   2,  10, 138],\n",
       "       [ 43,   2,  17, 174],\n",
       "       [ 60,   2,  32, 158],\n",
       "       [ 50,   1,  20, 191],\n",
       "       [ 55,   2,  25, 154],\n",
       "       [ 24,   2,   2, 114],\n",
       "       [ 53,   2,  23, 200],\n",
       "       [ 47,   2,  21, 168],\n",
       "       [ 55,   1,  26, 155],\n",
       "       [ 24,   2,   1, 124],\n",
       "       [ 32,   1,   3, 160],\n",
       "       [ 46,   2,  19, 190],\n",
       "       [ 26,   1,   1, 124],\n",
       "       [ 26,   2,   2, 120],\n",
       "       [ 44,   1,  16, 189],\n",
       "       [ 36,   1,  11, 144],\n",
       "       [ 30,   1,   2, 155],\n",
       "       [ 26,   2,   2, 125],\n",
       "       [ 57,   2,  28, 166],\n",
       "       [ 47,   2,  18, 197],\n",
       "       [ 46,   2,  19, 198],\n",
       "       [ 31,   1,   6, 130],\n",
       "       [ 57,   2,  29, 168],\n",
       "       [ 22,   1,   1, 129],\n",
       "       [ 58,   2,  29, 190]])"
      ]
     },
     "execution_count": 37,
     "metadata": {},
     "output_type": "execute_result"
    }
   ],
   "execution_count": 37
  },
  {
   "cell_type": "code",
   "source": [
    "X = data_np[:,:-1]\n",
    "y = data_np[:,-1]"
   ],
   "metadata": {
    "id": "qD1i9V08ykMX",
    "ExecuteTime": {
     "end_time": "2025-08-21T08:50:51.328713Z",
     "start_time": "2025-08-21T08:50:51.323876Z"
    }
   },
   "outputs": [],
   "execution_count": 38
  },
  {
   "cell_type": "code",
   "source": [
    "from sklearn.model_selection import train_test_split"
   ],
   "metadata": {
    "id": "VG3uiXG2ytlh",
    "ExecuteTime": {
     "end_time": "2025-08-21T08:50:51.418010Z",
     "start_time": "2025-08-21T08:50:51.413680Z"
    }
   },
   "outputs": [],
   "execution_count": 39
  },
  {
   "cell_type": "code",
   "source": [
    "X_train, X_test, y_train, y_test = train_test_split(X, y, test_size = 0.3)"
   ],
   "metadata": {
    "id": "H1aPUxfyy3eo",
    "ExecuteTime": {
     "end_time": "2025-08-21T08:50:51.468970Z",
     "start_time": "2025-08-21T08:50:51.465339Z"
    }
   },
   "outputs": [],
   "execution_count": 40
  },
  {
   "cell_type": "code",
   "source": [
    "X_train.shape"
   ],
   "metadata": {
    "colab": {
     "base_uri": "https://localhost:8080/"
    },
    "id": "qWdrbPcqzOcz",
    "outputId": "9ab2e037-d0f5-43de-b294-6ab103a99ebe",
    "ExecuteTime": {
     "end_time": "2025-08-21T08:50:51.515691Z",
     "start_time": "2025-08-21T08:50:51.508595Z"
    }
   },
   "outputs": [
    {
     "data": {
      "text/plain": [
       "(70, 3)"
      ]
     },
     "execution_count": 41,
     "metadata": {},
     "output_type": "execute_result"
    }
   ],
   "execution_count": 41
  },
  {
   "cell_type": "code",
   "source": [
    "X_test.shape"
   ],
   "metadata": {
    "colab": {
     "base_uri": "https://localhost:8080/"
    },
    "id": "c43c892uzROF",
    "outputId": "7d812ea1-0ca8-4e12-e5f4-a29cc565cffc",
    "ExecuteTime": {
     "end_time": "2025-08-21T08:50:51.546184Z",
     "start_time": "2025-08-21T08:50:51.541874Z"
    }
   },
   "outputs": [
    {
     "data": {
      "text/plain": [
       "(30, 3)"
      ]
     },
     "execution_count": 42,
     "metadata": {},
     "output_type": "execute_result"
    }
   ],
   "execution_count": 42
  },
  {
   "cell_type": "code",
   "source": [
    "from sklearn.linear_model import LinearRegression"
   ],
   "metadata": {
    "id": "7SipGrbdzTj1",
    "ExecuteTime": {
     "end_time": "2025-08-21T08:50:51.582315Z",
     "start_time": "2025-08-21T08:50:51.580146Z"
    }
   },
   "outputs": [],
   "execution_count": 43
  },
  {
   "cell_type": "code",
   "source": [
    "# 모델링\n",
    "model = LinearRegression()"
   ],
   "metadata": {
    "id": "fcruawMrzcS1",
    "ExecuteTime": {
     "end_time": "2025-08-21T08:59:57.906118Z",
     "start_time": "2025-08-21T08:59:57.903021Z"
    }
   },
   "outputs": [],
   "execution_count": 50
  },
  {
   "cell_type": "code",
   "source": [
    "# 모델 학습\n",
    "model.fit(X_train, y_train)"
   ],
   "metadata": {
    "colab": {
     "base_uri": "https://localhost:8080/",
     "height": 79
    },
    "id": "Da7GUGxJzhm_",
    "outputId": "2adbdcd7-3c8e-4122-e7d0-73e309297d29",
    "ExecuteTime": {
     "end_time": "2025-08-21T08:59:59.063957Z",
     "start_time": "2025-08-21T08:59:59.057474Z"
    }
   },
   "outputs": [
    {
     "data": {
      "text/plain": [
       "LinearRegression()"
      ],
      "text/html": [
       "<style>#sk-container-id-2 {\n",
       "  /* Definition of color scheme common for light and dark mode */\n",
       "  --sklearn-color-text: #000;\n",
       "  --sklearn-color-text-muted: #666;\n",
       "  --sklearn-color-line: gray;\n",
       "  /* Definition of color scheme for unfitted estimators */\n",
       "  --sklearn-color-unfitted-level-0: #fff5e6;\n",
       "  --sklearn-color-unfitted-level-1: #f6e4d2;\n",
       "  --sklearn-color-unfitted-level-2: #ffe0b3;\n",
       "  --sklearn-color-unfitted-level-3: chocolate;\n",
       "  /* Definition of color scheme for fitted estimators */\n",
       "  --sklearn-color-fitted-level-0: #f0f8ff;\n",
       "  --sklearn-color-fitted-level-1: #d4ebff;\n",
       "  --sklearn-color-fitted-level-2: #b3dbfd;\n",
       "  --sklearn-color-fitted-level-3: cornflowerblue;\n",
       "\n",
       "  /* Specific color for light theme */\n",
       "  --sklearn-color-text-on-default-background: var(--sg-text-color, var(--theme-code-foreground, var(--jp-content-font-color1, black)));\n",
       "  --sklearn-color-background: var(--sg-background-color, var(--theme-background, var(--jp-layout-color0, white)));\n",
       "  --sklearn-color-border-box: var(--sg-text-color, var(--theme-code-foreground, var(--jp-content-font-color1, black)));\n",
       "  --sklearn-color-icon: #696969;\n",
       "\n",
       "  @media (prefers-color-scheme: dark) {\n",
       "    /* Redefinition of color scheme for dark theme */\n",
       "    --sklearn-color-text-on-default-background: var(--sg-text-color, var(--theme-code-foreground, var(--jp-content-font-color1, white)));\n",
       "    --sklearn-color-background: var(--sg-background-color, var(--theme-background, var(--jp-layout-color0, #111)));\n",
       "    --sklearn-color-border-box: var(--sg-text-color, var(--theme-code-foreground, var(--jp-content-font-color1, white)));\n",
       "    --sklearn-color-icon: #878787;\n",
       "  }\n",
       "}\n",
       "\n",
       "#sk-container-id-2 {\n",
       "  color: var(--sklearn-color-text);\n",
       "}\n",
       "\n",
       "#sk-container-id-2 pre {\n",
       "  padding: 0;\n",
       "}\n",
       "\n",
       "#sk-container-id-2 input.sk-hidden--visually {\n",
       "  border: 0;\n",
       "  clip: rect(1px 1px 1px 1px);\n",
       "  clip: rect(1px, 1px, 1px, 1px);\n",
       "  height: 1px;\n",
       "  margin: -1px;\n",
       "  overflow: hidden;\n",
       "  padding: 0;\n",
       "  position: absolute;\n",
       "  width: 1px;\n",
       "}\n",
       "\n",
       "#sk-container-id-2 div.sk-dashed-wrapped {\n",
       "  border: 1px dashed var(--sklearn-color-line);\n",
       "  margin: 0 0.4em 0.5em 0.4em;\n",
       "  box-sizing: border-box;\n",
       "  padding-bottom: 0.4em;\n",
       "  background-color: var(--sklearn-color-background);\n",
       "}\n",
       "\n",
       "#sk-container-id-2 div.sk-container {\n",
       "  /* jupyter's `normalize.less` sets `[hidden] { display: none; }`\n",
       "     but bootstrap.min.css set `[hidden] { display: none !important; }`\n",
       "     so we also need the `!important` here to be able to override the\n",
       "     default hidden behavior on the sphinx rendered scikit-learn.org.\n",
       "     See: https://github.com/scikit-learn/scikit-learn/issues/21755 */\n",
       "  display: inline-block !important;\n",
       "  position: relative;\n",
       "}\n",
       "\n",
       "#sk-container-id-2 div.sk-text-repr-fallback {\n",
       "  display: none;\n",
       "}\n",
       "\n",
       "div.sk-parallel-item,\n",
       "div.sk-serial,\n",
       "div.sk-item {\n",
       "  /* draw centered vertical line to link estimators */\n",
       "  background-image: linear-gradient(var(--sklearn-color-text-on-default-background), var(--sklearn-color-text-on-default-background));\n",
       "  background-size: 2px 100%;\n",
       "  background-repeat: no-repeat;\n",
       "  background-position: center center;\n",
       "}\n",
       "\n",
       "/* Parallel-specific style estimator block */\n",
       "\n",
       "#sk-container-id-2 div.sk-parallel-item::after {\n",
       "  content: \"\";\n",
       "  width: 100%;\n",
       "  border-bottom: 2px solid var(--sklearn-color-text-on-default-background);\n",
       "  flex-grow: 1;\n",
       "}\n",
       "\n",
       "#sk-container-id-2 div.sk-parallel {\n",
       "  display: flex;\n",
       "  align-items: stretch;\n",
       "  justify-content: center;\n",
       "  background-color: var(--sklearn-color-background);\n",
       "  position: relative;\n",
       "}\n",
       "\n",
       "#sk-container-id-2 div.sk-parallel-item {\n",
       "  display: flex;\n",
       "  flex-direction: column;\n",
       "}\n",
       "\n",
       "#sk-container-id-2 div.sk-parallel-item:first-child::after {\n",
       "  align-self: flex-end;\n",
       "  width: 50%;\n",
       "}\n",
       "\n",
       "#sk-container-id-2 div.sk-parallel-item:last-child::after {\n",
       "  align-self: flex-start;\n",
       "  width: 50%;\n",
       "}\n",
       "\n",
       "#sk-container-id-2 div.sk-parallel-item:only-child::after {\n",
       "  width: 0;\n",
       "}\n",
       "\n",
       "/* Serial-specific style estimator block */\n",
       "\n",
       "#sk-container-id-2 div.sk-serial {\n",
       "  display: flex;\n",
       "  flex-direction: column;\n",
       "  align-items: center;\n",
       "  background-color: var(--sklearn-color-background);\n",
       "  padding-right: 1em;\n",
       "  padding-left: 1em;\n",
       "}\n",
       "\n",
       "\n",
       "/* Toggleable style: style used for estimator/Pipeline/ColumnTransformer box that is\n",
       "clickable and can be expanded/collapsed.\n",
       "- Pipeline and ColumnTransformer use this feature and define the default style\n",
       "- Estimators will overwrite some part of the style using the `sk-estimator` class\n",
       "*/\n",
       "\n",
       "/* Pipeline and ColumnTransformer style (default) */\n",
       "\n",
       "#sk-container-id-2 div.sk-toggleable {\n",
       "  /* Default theme specific background. It is overwritten whether we have a\n",
       "  specific estimator or a Pipeline/ColumnTransformer */\n",
       "  background-color: var(--sklearn-color-background);\n",
       "}\n",
       "\n",
       "/* Toggleable label */\n",
       "#sk-container-id-2 label.sk-toggleable__label {\n",
       "  cursor: pointer;\n",
       "  display: flex;\n",
       "  width: 100%;\n",
       "  margin-bottom: 0;\n",
       "  padding: 0.5em;\n",
       "  box-sizing: border-box;\n",
       "  text-align: center;\n",
       "  align-items: start;\n",
       "  justify-content: space-between;\n",
       "  gap: 0.5em;\n",
       "}\n",
       "\n",
       "#sk-container-id-2 label.sk-toggleable__label .caption {\n",
       "  font-size: 0.6rem;\n",
       "  font-weight: lighter;\n",
       "  color: var(--sklearn-color-text-muted);\n",
       "}\n",
       "\n",
       "#sk-container-id-2 label.sk-toggleable__label-arrow:before {\n",
       "  /* Arrow on the left of the label */\n",
       "  content: \"▸\";\n",
       "  float: left;\n",
       "  margin-right: 0.25em;\n",
       "  color: var(--sklearn-color-icon);\n",
       "}\n",
       "\n",
       "#sk-container-id-2 label.sk-toggleable__label-arrow:hover:before {\n",
       "  color: var(--sklearn-color-text);\n",
       "}\n",
       "\n",
       "/* Toggleable content - dropdown */\n",
       "\n",
       "#sk-container-id-2 div.sk-toggleable__content {\n",
       "  max-height: 0;\n",
       "  max-width: 0;\n",
       "  overflow: hidden;\n",
       "  text-align: left;\n",
       "  /* unfitted */\n",
       "  background-color: var(--sklearn-color-unfitted-level-0);\n",
       "}\n",
       "\n",
       "#sk-container-id-2 div.sk-toggleable__content.fitted {\n",
       "  /* fitted */\n",
       "  background-color: var(--sklearn-color-fitted-level-0);\n",
       "}\n",
       "\n",
       "#sk-container-id-2 div.sk-toggleable__content pre {\n",
       "  margin: 0.2em;\n",
       "  border-radius: 0.25em;\n",
       "  color: var(--sklearn-color-text);\n",
       "  /* unfitted */\n",
       "  background-color: var(--sklearn-color-unfitted-level-0);\n",
       "}\n",
       "\n",
       "#sk-container-id-2 div.sk-toggleable__content.fitted pre {\n",
       "  /* unfitted */\n",
       "  background-color: var(--sklearn-color-fitted-level-0);\n",
       "}\n",
       "\n",
       "#sk-container-id-2 input.sk-toggleable__control:checked~div.sk-toggleable__content {\n",
       "  /* Expand drop-down */\n",
       "  max-height: 200px;\n",
       "  max-width: 100%;\n",
       "  overflow: auto;\n",
       "}\n",
       "\n",
       "#sk-container-id-2 input.sk-toggleable__control:checked~label.sk-toggleable__label-arrow:before {\n",
       "  content: \"▾\";\n",
       "}\n",
       "\n",
       "/* Pipeline/ColumnTransformer-specific style */\n",
       "\n",
       "#sk-container-id-2 div.sk-label input.sk-toggleable__control:checked~label.sk-toggleable__label {\n",
       "  color: var(--sklearn-color-text);\n",
       "  background-color: var(--sklearn-color-unfitted-level-2);\n",
       "}\n",
       "\n",
       "#sk-container-id-2 div.sk-label.fitted input.sk-toggleable__control:checked~label.sk-toggleable__label {\n",
       "  background-color: var(--sklearn-color-fitted-level-2);\n",
       "}\n",
       "\n",
       "/* Estimator-specific style */\n",
       "\n",
       "/* Colorize estimator box */\n",
       "#sk-container-id-2 div.sk-estimator input.sk-toggleable__control:checked~label.sk-toggleable__label {\n",
       "  /* unfitted */\n",
       "  background-color: var(--sklearn-color-unfitted-level-2);\n",
       "}\n",
       "\n",
       "#sk-container-id-2 div.sk-estimator.fitted input.sk-toggleable__control:checked~label.sk-toggleable__label {\n",
       "  /* fitted */\n",
       "  background-color: var(--sklearn-color-fitted-level-2);\n",
       "}\n",
       "\n",
       "#sk-container-id-2 div.sk-label label.sk-toggleable__label,\n",
       "#sk-container-id-2 div.sk-label label {\n",
       "  /* The background is the default theme color */\n",
       "  color: var(--sklearn-color-text-on-default-background);\n",
       "}\n",
       "\n",
       "/* On hover, darken the color of the background */\n",
       "#sk-container-id-2 div.sk-label:hover label.sk-toggleable__label {\n",
       "  color: var(--sklearn-color-text);\n",
       "  background-color: var(--sklearn-color-unfitted-level-2);\n",
       "}\n",
       "\n",
       "/* Label box, darken color on hover, fitted */\n",
       "#sk-container-id-2 div.sk-label.fitted:hover label.sk-toggleable__label.fitted {\n",
       "  color: var(--sklearn-color-text);\n",
       "  background-color: var(--sklearn-color-fitted-level-2);\n",
       "}\n",
       "\n",
       "/* Estimator label */\n",
       "\n",
       "#sk-container-id-2 div.sk-label label {\n",
       "  font-family: monospace;\n",
       "  font-weight: bold;\n",
       "  display: inline-block;\n",
       "  line-height: 1.2em;\n",
       "}\n",
       "\n",
       "#sk-container-id-2 div.sk-label-container {\n",
       "  text-align: center;\n",
       "}\n",
       "\n",
       "/* Estimator-specific */\n",
       "#sk-container-id-2 div.sk-estimator {\n",
       "  font-family: monospace;\n",
       "  border: 1px dotted var(--sklearn-color-border-box);\n",
       "  border-radius: 0.25em;\n",
       "  box-sizing: border-box;\n",
       "  margin-bottom: 0.5em;\n",
       "  /* unfitted */\n",
       "  background-color: var(--sklearn-color-unfitted-level-0);\n",
       "}\n",
       "\n",
       "#sk-container-id-2 div.sk-estimator.fitted {\n",
       "  /* fitted */\n",
       "  background-color: var(--sklearn-color-fitted-level-0);\n",
       "}\n",
       "\n",
       "/* on hover */\n",
       "#sk-container-id-2 div.sk-estimator:hover {\n",
       "  /* unfitted */\n",
       "  background-color: var(--sklearn-color-unfitted-level-2);\n",
       "}\n",
       "\n",
       "#sk-container-id-2 div.sk-estimator.fitted:hover {\n",
       "  /* fitted */\n",
       "  background-color: var(--sklearn-color-fitted-level-2);\n",
       "}\n",
       "\n",
       "/* Specification for estimator info (e.g. \"i\" and \"?\") */\n",
       "\n",
       "/* Common style for \"i\" and \"?\" */\n",
       "\n",
       ".sk-estimator-doc-link,\n",
       "a:link.sk-estimator-doc-link,\n",
       "a:visited.sk-estimator-doc-link {\n",
       "  float: right;\n",
       "  font-size: smaller;\n",
       "  line-height: 1em;\n",
       "  font-family: monospace;\n",
       "  background-color: var(--sklearn-color-background);\n",
       "  border-radius: 1em;\n",
       "  height: 1em;\n",
       "  width: 1em;\n",
       "  text-decoration: none !important;\n",
       "  margin-left: 0.5em;\n",
       "  text-align: center;\n",
       "  /* unfitted */\n",
       "  border: var(--sklearn-color-unfitted-level-1) 1pt solid;\n",
       "  color: var(--sklearn-color-unfitted-level-1);\n",
       "}\n",
       "\n",
       ".sk-estimator-doc-link.fitted,\n",
       "a:link.sk-estimator-doc-link.fitted,\n",
       "a:visited.sk-estimator-doc-link.fitted {\n",
       "  /* fitted */\n",
       "  border: var(--sklearn-color-fitted-level-1) 1pt solid;\n",
       "  color: var(--sklearn-color-fitted-level-1);\n",
       "}\n",
       "\n",
       "/* On hover */\n",
       "div.sk-estimator:hover .sk-estimator-doc-link:hover,\n",
       ".sk-estimator-doc-link:hover,\n",
       "div.sk-label-container:hover .sk-estimator-doc-link:hover,\n",
       ".sk-estimator-doc-link:hover {\n",
       "  /* unfitted */\n",
       "  background-color: var(--sklearn-color-unfitted-level-3);\n",
       "  color: var(--sklearn-color-background);\n",
       "  text-decoration: none;\n",
       "}\n",
       "\n",
       "div.sk-estimator.fitted:hover .sk-estimator-doc-link.fitted:hover,\n",
       ".sk-estimator-doc-link.fitted:hover,\n",
       "div.sk-label-container:hover .sk-estimator-doc-link.fitted:hover,\n",
       ".sk-estimator-doc-link.fitted:hover {\n",
       "  /* fitted */\n",
       "  background-color: var(--sklearn-color-fitted-level-3);\n",
       "  color: var(--sklearn-color-background);\n",
       "  text-decoration: none;\n",
       "}\n",
       "\n",
       "/* Span, style for the box shown on hovering the info icon */\n",
       ".sk-estimator-doc-link span {\n",
       "  display: none;\n",
       "  z-index: 9999;\n",
       "  position: relative;\n",
       "  font-weight: normal;\n",
       "  right: .2ex;\n",
       "  padding: .5ex;\n",
       "  margin: .5ex;\n",
       "  width: min-content;\n",
       "  min-width: 20ex;\n",
       "  max-width: 50ex;\n",
       "  color: var(--sklearn-color-text);\n",
       "  box-shadow: 2pt 2pt 4pt #999;\n",
       "  /* unfitted */\n",
       "  background: var(--sklearn-color-unfitted-level-0);\n",
       "  border: .5pt solid var(--sklearn-color-unfitted-level-3);\n",
       "}\n",
       "\n",
       ".sk-estimator-doc-link.fitted span {\n",
       "  /* fitted */\n",
       "  background: var(--sklearn-color-fitted-level-0);\n",
       "  border: var(--sklearn-color-fitted-level-3);\n",
       "}\n",
       "\n",
       ".sk-estimator-doc-link:hover span {\n",
       "  display: block;\n",
       "}\n",
       "\n",
       "/* \"?\"-specific style due to the `<a>` HTML tag */\n",
       "\n",
       "#sk-container-id-2 a.estimator_doc_link {\n",
       "  float: right;\n",
       "  font-size: 1rem;\n",
       "  line-height: 1em;\n",
       "  font-family: monospace;\n",
       "  background-color: var(--sklearn-color-background);\n",
       "  border-radius: 1rem;\n",
       "  height: 1rem;\n",
       "  width: 1rem;\n",
       "  text-decoration: none;\n",
       "  /* unfitted */\n",
       "  color: var(--sklearn-color-unfitted-level-1);\n",
       "  border: var(--sklearn-color-unfitted-level-1) 1pt solid;\n",
       "}\n",
       "\n",
       "#sk-container-id-2 a.estimator_doc_link.fitted {\n",
       "  /* fitted */\n",
       "  border: var(--sklearn-color-fitted-level-1) 1pt solid;\n",
       "  color: var(--sklearn-color-fitted-level-1);\n",
       "}\n",
       "\n",
       "/* On hover */\n",
       "#sk-container-id-2 a.estimator_doc_link:hover {\n",
       "  /* unfitted */\n",
       "  background-color: var(--sklearn-color-unfitted-level-3);\n",
       "  color: var(--sklearn-color-background);\n",
       "  text-decoration: none;\n",
       "}\n",
       "\n",
       "#sk-container-id-2 a.estimator_doc_link.fitted:hover {\n",
       "  /* fitted */\n",
       "  background-color: var(--sklearn-color-fitted-level-3);\n",
       "}\n",
       "</style><div id=\"sk-container-id-2\" class=\"sk-top-container\"><div class=\"sk-text-repr-fallback\"><pre>LinearRegression()</pre><b>In a Jupyter environment, please rerun this cell to show the HTML representation or trust the notebook. <br />On GitHub, the HTML representation is unable to render, please try loading this page with nbviewer.org.</b></div><div class=\"sk-container\" hidden><div class=\"sk-item\"><div class=\"sk-estimator fitted sk-toggleable\"><input class=\"sk-toggleable__control sk-hidden--visually\" id=\"sk-estimator-id-2\" type=\"checkbox\" checked><label for=\"sk-estimator-id-2\" class=\"sk-toggleable__label fitted sk-toggleable__label-arrow\"><div><div>LinearRegression</div></div><div><a class=\"sk-estimator-doc-link fitted\" rel=\"noreferrer\" target=\"_blank\" href=\"https://scikit-learn.org/1.6/modules/generated/sklearn.linear_model.LinearRegression.html\">?<span>Documentation for LinearRegression</span></a><span class=\"sk-estimator-doc-link fitted\">i<span>Fitted</span></span></div></label><div class=\"sk-toggleable__content fitted\"><pre>LinearRegression()</pre></div> </div></div></div></div>"
      ]
     },
     "execution_count": 51,
     "metadata": {},
     "output_type": "execute_result"
    }
   ],
   "execution_count": 51
  },
  {
   "cell_type": "code",
   "source": [
    "# 모델 평가 - 기본 평가R^2\n",
    "model.score(X_test, y_test)"
   ],
   "metadata": {
    "colab": {
     "base_uri": "https://localhost:8080/"
    },
    "id": "JmvtVQpLzqW5",
    "outputId": "ae9981ff-abb0-47f2-ccca-097acbeed580",
    "ExecuteTime": {
     "end_time": "2025-08-21T08:59:59.646979Z",
     "start_time": "2025-08-21T08:59:59.642131Z"
    }
   },
   "outputs": [
    {
     "data": {
      "text/plain": [
       "0.40888955466362853"
      ]
     },
     "execution_count": 52,
     "metadata": {},
     "output_type": "execute_result"
    }
   ],
   "execution_count": 52
  },
  {
   "cell_type": "code",
   "source": [
    "from sklearn.metrics import r2_score\n",
    "r2_score(y_test, model.predict(X_test))"
   ],
   "metadata": {
    "id": "Ig29lJ0Iz3oV",
    "ExecuteTime": {
     "end_time": "2025-08-21T09:00:00.894701Z",
     "start_time": "2025-08-21T09:00:00.889888Z"
    }
   },
   "outputs": [
    {
     "data": {
      "text/plain": [
       "0.40888955466362853"
      ]
     },
     "execution_count": 53,
     "metadata": {},
     "output_type": "execute_result"
    }
   ],
   "execution_count": 53
  },
  {
   "metadata": {
    "ExecuteTime": {
     "end_time": "2025-08-21T09:05:01.269447Z",
     "start_time": "2025-08-21T09:05:00.737404Z"
    }
   },
   "cell_type": "code",
   "source": "from sklearn.datasets import fetch_california_housing",
   "outputs": [],
   "execution_count": 54
  },
  {
   "metadata": {
    "ExecuteTime": {
     "end_time": "2025-08-21T09:07:55.028604Z",
     "start_time": "2025-08-21T09:07:55.020040Z"
    }
   },
   "cell_type": "code",
   "source": "X, y = fetch_california_housing(return_X_y=True)",
   "outputs": [],
   "execution_count": 57
  },
  {
   "metadata": {
    "ExecuteTime": {
     "end_time": "2025-08-21T09:07:55.479609Z",
     "start_time": "2025-08-21T09:07:55.473661Z"
    }
   },
   "cell_type": "code",
   "source": [
    "#위와 같은 코드\n",
    "data = fetch_california_housing()\n",
    "X, y = data.data, data.target"
   ],
   "outputs": [],
   "execution_count": 58
  },
  {
   "metadata": {
    "ExecuteTime": {
     "end_time": "2025-08-21T09:08:19.809663Z",
     "start_time": "2025-08-21T09:08:19.804121Z"
    }
   },
   "cell_type": "code",
   "source": "X.shape",
   "outputs": [
    {
     "data": {
      "text/plain": [
       "(20640, 8)"
      ]
     },
     "execution_count": 59,
     "metadata": {},
     "output_type": "execute_result"
    }
   ],
   "execution_count": 59
  },
  {
   "metadata": {
    "ExecuteTime": {
     "end_time": "2025-08-21T09:10:30.695338Z",
     "start_time": "2025-08-21T09:10:30.691495Z"
    }
   },
   "cell_type": "code",
   "source": [
    "# 테스트 데이터\n",
    "X_train, X_test, y_train, y_test = train_test_split(X, y, test_size = 0.3, random_state = 42)"
   ],
   "outputs": [],
   "execution_count": 77
  },
  {
   "metadata": {
    "ExecuteTime": {
     "end_time": "2025-08-21T09:10:30.902138Z",
     "start_time": "2025-08-21T09:10:30.899482Z"
    }
   },
   "cell_type": "code",
   "source": "model_lr = LinearRegression()",
   "outputs": [],
   "execution_count": 78
  },
  {
   "metadata": {
    "ExecuteTime": {
     "end_time": "2025-08-21T09:10:31.723745Z",
     "start_time": "2025-08-21T09:10:31.715309Z"
    }
   },
   "cell_type": "code",
   "source": "model_lr.fit(X_train, y_train)",
   "outputs": [
    {
     "data": {
      "text/plain": [
       "LinearRegression()"
      ],
      "text/html": [
       "<style>#sk-container-id-7 {\n",
       "  /* Definition of color scheme common for light and dark mode */\n",
       "  --sklearn-color-text: #000;\n",
       "  --sklearn-color-text-muted: #666;\n",
       "  --sklearn-color-line: gray;\n",
       "  /* Definition of color scheme for unfitted estimators */\n",
       "  --sklearn-color-unfitted-level-0: #fff5e6;\n",
       "  --sklearn-color-unfitted-level-1: #f6e4d2;\n",
       "  --sklearn-color-unfitted-level-2: #ffe0b3;\n",
       "  --sklearn-color-unfitted-level-3: chocolate;\n",
       "  /* Definition of color scheme for fitted estimators */\n",
       "  --sklearn-color-fitted-level-0: #f0f8ff;\n",
       "  --sklearn-color-fitted-level-1: #d4ebff;\n",
       "  --sklearn-color-fitted-level-2: #b3dbfd;\n",
       "  --sklearn-color-fitted-level-3: cornflowerblue;\n",
       "\n",
       "  /* Specific color for light theme */\n",
       "  --sklearn-color-text-on-default-background: var(--sg-text-color, var(--theme-code-foreground, var(--jp-content-font-color1, black)));\n",
       "  --sklearn-color-background: var(--sg-background-color, var(--theme-background, var(--jp-layout-color0, white)));\n",
       "  --sklearn-color-border-box: var(--sg-text-color, var(--theme-code-foreground, var(--jp-content-font-color1, black)));\n",
       "  --sklearn-color-icon: #696969;\n",
       "\n",
       "  @media (prefers-color-scheme: dark) {\n",
       "    /* Redefinition of color scheme for dark theme */\n",
       "    --sklearn-color-text-on-default-background: var(--sg-text-color, var(--theme-code-foreground, var(--jp-content-font-color1, white)));\n",
       "    --sklearn-color-background: var(--sg-background-color, var(--theme-background, var(--jp-layout-color0, #111)));\n",
       "    --sklearn-color-border-box: var(--sg-text-color, var(--theme-code-foreground, var(--jp-content-font-color1, white)));\n",
       "    --sklearn-color-icon: #878787;\n",
       "  }\n",
       "}\n",
       "\n",
       "#sk-container-id-7 {\n",
       "  color: var(--sklearn-color-text);\n",
       "}\n",
       "\n",
       "#sk-container-id-7 pre {\n",
       "  padding: 0;\n",
       "}\n",
       "\n",
       "#sk-container-id-7 input.sk-hidden--visually {\n",
       "  border: 0;\n",
       "  clip: rect(1px 1px 1px 1px);\n",
       "  clip: rect(1px, 1px, 1px, 1px);\n",
       "  height: 1px;\n",
       "  margin: -1px;\n",
       "  overflow: hidden;\n",
       "  padding: 0;\n",
       "  position: absolute;\n",
       "  width: 1px;\n",
       "}\n",
       "\n",
       "#sk-container-id-7 div.sk-dashed-wrapped {\n",
       "  border: 1px dashed var(--sklearn-color-line);\n",
       "  margin: 0 0.4em 0.5em 0.4em;\n",
       "  box-sizing: border-box;\n",
       "  padding-bottom: 0.4em;\n",
       "  background-color: var(--sklearn-color-background);\n",
       "}\n",
       "\n",
       "#sk-container-id-7 div.sk-container {\n",
       "  /* jupyter's `normalize.less` sets `[hidden] { display: none; }`\n",
       "     but bootstrap.min.css set `[hidden] { display: none !important; }`\n",
       "     so we also need the `!important` here to be able to override the\n",
       "     default hidden behavior on the sphinx rendered scikit-learn.org.\n",
       "     See: https://github.com/scikit-learn/scikit-learn/issues/21755 */\n",
       "  display: inline-block !important;\n",
       "  position: relative;\n",
       "}\n",
       "\n",
       "#sk-container-id-7 div.sk-text-repr-fallback {\n",
       "  display: none;\n",
       "}\n",
       "\n",
       "div.sk-parallel-item,\n",
       "div.sk-serial,\n",
       "div.sk-item {\n",
       "  /* draw centered vertical line to link estimators */\n",
       "  background-image: linear-gradient(var(--sklearn-color-text-on-default-background), var(--sklearn-color-text-on-default-background));\n",
       "  background-size: 2px 100%;\n",
       "  background-repeat: no-repeat;\n",
       "  background-position: center center;\n",
       "}\n",
       "\n",
       "/* Parallel-specific style estimator block */\n",
       "\n",
       "#sk-container-id-7 div.sk-parallel-item::after {\n",
       "  content: \"\";\n",
       "  width: 100%;\n",
       "  border-bottom: 2px solid var(--sklearn-color-text-on-default-background);\n",
       "  flex-grow: 1;\n",
       "}\n",
       "\n",
       "#sk-container-id-7 div.sk-parallel {\n",
       "  display: flex;\n",
       "  align-items: stretch;\n",
       "  justify-content: center;\n",
       "  background-color: var(--sklearn-color-background);\n",
       "  position: relative;\n",
       "}\n",
       "\n",
       "#sk-container-id-7 div.sk-parallel-item {\n",
       "  display: flex;\n",
       "  flex-direction: column;\n",
       "}\n",
       "\n",
       "#sk-container-id-7 div.sk-parallel-item:first-child::after {\n",
       "  align-self: flex-end;\n",
       "  width: 50%;\n",
       "}\n",
       "\n",
       "#sk-container-id-7 div.sk-parallel-item:last-child::after {\n",
       "  align-self: flex-start;\n",
       "  width: 50%;\n",
       "}\n",
       "\n",
       "#sk-container-id-7 div.sk-parallel-item:only-child::after {\n",
       "  width: 0;\n",
       "}\n",
       "\n",
       "/* Serial-specific style estimator block */\n",
       "\n",
       "#sk-container-id-7 div.sk-serial {\n",
       "  display: flex;\n",
       "  flex-direction: column;\n",
       "  align-items: center;\n",
       "  background-color: var(--sklearn-color-background);\n",
       "  padding-right: 1em;\n",
       "  padding-left: 1em;\n",
       "}\n",
       "\n",
       "\n",
       "/* Toggleable style: style used for estimator/Pipeline/ColumnTransformer box that is\n",
       "clickable and can be expanded/collapsed.\n",
       "- Pipeline and ColumnTransformer use this feature and define the default style\n",
       "- Estimators will overwrite some part of the style using the `sk-estimator` class\n",
       "*/\n",
       "\n",
       "/* Pipeline and ColumnTransformer style (default) */\n",
       "\n",
       "#sk-container-id-7 div.sk-toggleable {\n",
       "  /* Default theme specific background. It is overwritten whether we have a\n",
       "  specific estimator or a Pipeline/ColumnTransformer */\n",
       "  background-color: var(--sklearn-color-background);\n",
       "}\n",
       "\n",
       "/* Toggleable label */\n",
       "#sk-container-id-7 label.sk-toggleable__label {\n",
       "  cursor: pointer;\n",
       "  display: flex;\n",
       "  width: 100%;\n",
       "  margin-bottom: 0;\n",
       "  padding: 0.5em;\n",
       "  box-sizing: border-box;\n",
       "  text-align: center;\n",
       "  align-items: start;\n",
       "  justify-content: space-between;\n",
       "  gap: 0.5em;\n",
       "}\n",
       "\n",
       "#sk-container-id-7 label.sk-toggleable__label .caption {\n",
       "  font-size: 0.6rem;\n",
       "  font-weight: lighter;\n",
       "  color: var(--sklearn-color-text-muted);\n",
       "}\n",
       "\n",
       "#sk-container-id-7 label.sk-toggleable__label-arrow:before {\n",
       "  /* Arrow on the left of the label */\n",
       "  content: \"▸\";\n",
       "  float: left;\n",
       "  margin-right: 0.25em;\n",
       "  color: var(--sklearn-color-icon);\n",
       "}\n",
       "\n",
       "#sk-container-id-7 label.sk-toggleable__label-arrow:hover:before {\n",
       "  color: var(--sklearn-color-text);\n",
       "}\n",
       "\n",
       "/* Toggleable content - dropdown */\n",
       "\n",
       "#sk-container-id-7 div.sk-toggleable__content {\n",
       "  max-height: 0;\n",
       "  max-width: 0;\n",
       "  overflow: hidden;\n",
       "  text-align: left;\n",
       "  /* unfitted */\n",
       "  background-color: var(--sklearn-color-unfitted-level-0);\n",
       "}\n",
       "\n",
       "#sk-container-id-7 div.sk-toggleable__content.fitted {\n",
       "  /* fitted */\n",
       "  background-color: var(--sklearn-color-fitted-level-0);\n",
       "}\n",
       "\n",
       "#sk-container-id-7 div.sk-toggleable__content pre {\n",
       "  margin: 0.2em;\n",
       "  border-radius: 0.25em;\n",
       "  color: var(--sklearn-color-text);\n",
       "  /* unfitted */\n",
       "  background-color: var(--sklearn-color-unfitted-level-0);\n",
       "}\n",
       "\n",
       "#sk-container-id-7 div.sk-toggleable__content.fitted pre {\n",
       "  /* unfitted */\n",
       "  background-color: var(--sklearn-color-fitted-level-0);\n",
       "}\n",
       "\n",
       "#sk-container-id-7 input.sk-toggleable__control:checked~div.sk-toggleable__content {\n",
       "  /* Expand drop-down */\n",
       "  max-height: 200px;\n",
       "  max-width: 100%;\n",
       "  overflow: auto;\n",
       "}\n",
       "\n",
       "#sk-container-id-7 input.sk-toggleable__control:checked~label.sk-toggleable__label-arrow:before {\n",
       "  content: \"▾\";\n",
       "}\n",
       "\n",
       "/* Pipeline/ColumnTransformer-specific style */\n",
       "\n",
       "#sk-container-id-7 div.sk-label input.sk-toggleable__control:checked~label.sk-toggleable__label {\n",
       "  color: var(--sklearn-color-text);\n",
       "  background-color: var(--sklearn-color-unfitted-level-2);\n",
       "}\n",
       "\n",
       "#sk-container-id-7 div.sk-label.fitted input.sk-toggleable__control:checked~label.sk-toggleable__label {\n",
       "  background-color: var(--sklearn-color-fitted-level-2);\n",
       "}\n",
       "\n",
       "/* Estimator-specific style */\n",
       "\n",
       "/* Colorize estimator box */\n",
       "#sk-container-id-7 div.sk-estimator input.sk-toggleable__control:checked~label.sk-toggleable__label {\n",
       "  /* unfitted */\n",
       "  background-color: var(--sklearn-color-unfitted-level-2);\n",
       "}\n",
       "\n",
       "#sk-container-id-7 div.sk-estimator.fitted input.sk-toggleable__control:checked~label.sk-toggleable__label {\n",
       "  /* fitted */\n",
       "  background-color: var(--sklearn-color-fitted-level-2);\n",
       "}\n",
       "\n",
       "#sk-container-id-7 div.sk-label label.sk-toggleable__label,\n",
       "#sk-container-id-7 div.sk-label label {\n",
       "  /* The background is the default theme color */\n",
       "  color: var(--sklearn-color-text-on-default-background);\n",
       "}\n",
       "\n",
       "/* On hover, darken the color of the background */\n",
       "#sk-container-id-7 div.sk-label:hover label.sk-toggleable__label {\n",
       "  color: var(--sklearn-color-text);\n",
       "  background-color: var(--sklearn-color-unfitted-level-2);\n",
       "}\n",
       "\n",
       "/* Label box, darken color on hover, fitted */\n",
       "#sk-container-id-7 div.sk-label.fitted:hover label.sk-toggleable__label.fitted {\n",
       "  color: var(--sklearn-color-text);\n",
       "  background-color: var(--sklearn-color-fitted-level-2);\n",
       "}\n",
       "\n",
       "/* Estimator label */\n",
       "\n",
       "#sk-container-id-7 div.sk-label label {\n",
       "  font-family: monospace;\n",
       "  font-weight: bold;\n",
       "  display: inline-block;\n",
       "  line-height: 1.2em;\n",
       "}\n",
       "\n",
       "#sk-container-id-7 div.sk-label-container {\n",
       "  text-align: center;\n",
       "}\n",
       "\n",
       "/* Estimator-specific */\n",
       "#sk-container-id-7 div.sk-estimator {\n",
       "  font-family: monospace;\n",
       "  border: 1px dotted var(--sklearn-color-border-box);\n",
       "  border-radius: 0.25em;\n",
       "  box-sizing: border-box;\n",
       "  margin-bottom: 0.5em;\n",
       "  /* unfitted */\n",
       "  background-color: var(--sklearn-color-unfitted-level-0);\n",
       "}\n",
       "\n",
       "#sk-container-id-7 div.sk-estimator.fitted {\n",
       "  /* fitted */\n",
       "  background-color: var(--sklearn-color-fitted-level-0);\n",
       "}\n",
       "\n",
       "/* on hover */\n",
       "#sk-container-id-7 div.sk-estimator:hover {\n",
       "  /* unfitted */\n",
       "  background-color: var(--sklearn-color-unfitted-level-2);\n",
       "}\n",
       "\n",
       "#sk-container-id-7 div.sk-estimator.fitted:hover {\n",
       "  /* fitted */\n",
       "  background-color: var(--sklearn-color-fitted-level-2);\n",
       "}\n",
       "\n",
       "/* Specification for estimator info (e.g. \"i\" and \"?\") */\n",
       "\n",
       "/* Common style for \"i\" and \"?\" */\n",
       "\n",
       ".sk-estimator-doc-link,\n",
       "a:link.sk-estimator-doc-link,\n",
       "a:visited.sk-estimator-doc-link {\n",
       "  float: right;\n",
       "  font-size: smaller;\n",
       "  line-height: 1em;\n",
       "  font-family: monospace;\n",
       "  background-color: var(--sklearn-color-background);\n",
       "  border-radius: 1em;\n",
       "  height: 1em;\n",
       "  width: 1em;\n",
       "  text-decoration: none !important;\n",
       "  margin-left: 0.5em;\n",
       "  text-align: center;\n",
       "  /* unfitted */\n",
       "  border: var(--sklearn-color-unfitted-level-1) 1pt solid;\n",
       "  color: var(--sklearn-color-unfitted-level-1);\n",
       "}\n",
       "\n",
       ".sk-estimator-doc-link.fitted,\n",
       "a:link.sk-estimator-doc-link.fitted,\n",
       "a:visited.sk-estimator-doc-link.fitted {\n",
       "  /* fitted */\n",
       "  border: var(--sklearn-color-fitted-level-1) 1pt solid;\n",
       "  color: var(--sklearn-color-fitted-level-1);\n",
       "}\n",
       "\n",
       "/* On hover */\n",
       "div.sk-estimator:hover .sk-estimator-doc-link:hover,\n",
       ".sk-estimator-doc-link:hover,\n",
       "div.sk-label-container:hover .sk-estimator-doc-link:hover,\n",
       ".sk-estimator-doc-link:hover {\n",
       "  /* unfitted */\n",
       "  background-color: var(--sklearn-color-unfitted-level-3);\n",
       "  color: var(--sklearn-color-background);\n",
       "  text-decoration: none;\n",
       "}\n",
       "\n",
       "div.sk-estimator.fitted:hover .sk-estimator-doc-link.fitted:hover,\n",
       ".sk-estimator-doc-link.fitted:hover,\n",
       "div.sk-label-container:hover .sk-estimator-doc-link.fitted:hover,\n",
       ".sk-estimator-doc-link.fitted:hover {\n",
       "  /* fitted */\n",
       "  background-color: var(--sklearn-color-fitted-level-3);\n",
       "  color: var(--sklearn-color-background);\n",
       "  text-decoration: none;\n",
       "}\n",
       "\n",
       "/* Span, style for the box shown on hovering the info icon */\n",
       ".sk-estimator-doc-link span {\n",
       "  display: none;\n",
       "  z-index: 9999;\n",
       "  position: relative;\n",
       "  font-weight: normal;\n",
       "  right: .2ex;\n",
       "  padding: .5ex;\n",
       "  margin: .5ex;\n",
       "  width: min-content;\n",
       "  min-width: 20ex;\n",
       "  max-width: 50ex;\n",
       "  color: var(--sklearn-color-text);\n",
       "  box-shadow: 2pt 2pt 4pt #999;\n",
       "  /* unfitted */\n",
       "  background: var(--sklearn-color-unfitted-level-0);\n",
       "  border: .5pt solid var(--sklearn-color-unfitted-level-3);\n",
       "}\n",
       "\n",
       ".sk-estimator-doc-link.fitted span {\n",
       "  /* fitted */\n",
       "  background: var(--sklearn-color-fitted-level-0);\n",
       "  border: var(--sklearn-color-fitted-level-3);\n",
       "}\n",
       "\n",
       ".sk-estimator-doc-link:hover span {\n",
       "  display: block;\n",
       "}\n",
       "\n",
       "/* \"?\"-specific style due to the `<a>` HTML tag */\n",
       "\n",
       "#sk-container-id-7 a.estimator_doc_link {\n",
       "  float: right;\n",
       "  font-size: 1rem;\n",
       "  line-height: 1em;\n",
       "  font-family: monospace;\n",
       "  background-color: var(--sklearn-color-background);\n",
       "  border-radius: 1rem;\n",
       "  height: 1rem;\n",
       "  width: 1rem;\n",
       "  text-decoration: none;\n",
       "  /* unfitted */\n",
       "  color: var(--sklearn-color-unfitted-level-1);\n",
       "  border: var(--sklearn-color-unfitted-level-1) 1pt solid;\n",
       "}\n",
       "\n",
       "#sk-container-id-7 a.estimator_doc_link.fitted {\n",
       "  /* fitted */\n",
       "  border: var(--sklearn-color-fitted-level-1) 1pt solid;\n",
       "  color: var(--sklearn-color-fitted-level-1);\n",
       "}\n",
       "\n",
       "/* On hover */\n",
       "#sk-container-id-7 a.estimator_doc_link:hover {\n",
       "  /* unfitted */\n",
       "  background-color: var(--sklearn-color-unfitted-level-3);\n",
       "  color: var(--sklearn-color-background);\n",
       "  text-decoration: none;\n",
       "}\n",
       "\n",
       "#sk-container-id-7 a.estimator_doc_link.fitted:hover {\n",
       "  /* fitted */\n",
       "  background-color: var(--sklearn-color-fitted-level-3);\n",
       "}\n",
       "</style><div id=\"sk-container-id-7\" class=\"sk-top-container\"><div class=\"sk-text-repr-fallback\"><pre>LinearRegression()</pre><b>In a Jupyter environment, please rerun this cell to show the HTML representation or trust the notebook. <br />On GitHub, the HTML representation is unable to render, please try loading this page with nbviewer.org.</b></div><div class=\"sk-container\" hidden><div class=\"sk-item\"><div class=\"sk-estimator fitted sk-toggleable\"><input class=\"sk-toggleable__control sk-hidden--visually\" id=\"sk-estimator-id-7\" type=\"checkbox\" checked><label for=\"sk-estimator-id-7\" class=\"sk-toggleable__label fitted sk-toggleable__label-arrow\"><div><div>LinearRegression</div></div><div><a class=\"sk-estimator-doc-link fitted\" rel=\"noreferrer\" target=\"_blank\" href=\"https://scikit-learn.org/1.6/modules/generated/sklearn.linear_model.LinearRegression.html\">?<span>Documentation for LinearRegression</span></a><span class=\"sk-estimator-doc-link fitted\">i<span>Fitted</span></span></div></label><div class=\"sk-toggleable__content fitted\"><pre>LinearRegression()</pre></div> </div></div></div></div>"
      ]
     },
     "execution_count": 79,
     "metadata": {},
     "output_type": "execute_result"
    }
   ],
   "execution_count": 79
  },
  {
   "metadata": {
    "ExecuteTime": {
     "end_time": "2025-08-21T09:10:32.522155Z",
     "start_time": "2025-08-21T09:10:32.515773Z"
    }
   },
   "cell_type": "code",
   "source": "model_lr.score(X_test, y_test)",
   "outputs": [
    {
     "data": {
      "text/plain": [
       "0.595770232606166"
      ]
     },
     "execution_count": 80,
     "metadata": {},
     "output_type": "execute_result"
    }
   ],
   "execution_count": 80
  },
  {
   "metadata": {
    "ExecuteTime": {
     "end_time": "2025-08-21T09:15:11.236964Z",
     "start_time": "2025-08-21T09:15:11.224365Z"
    }
   },
   "cell_type": "code",
   "source": [
    "from sklearn.linear_model import Ridge\n",
    "model_ridge = Ridge(alpha = 0.5)\n",
    "model_ridge.fit(X_train, y_train)"
   ],
   "outputs": [
    {
     "data": {
      "text/plain": [
       "Ridge(alpha=0.5)"
      ],
      "text/html": [
       "<style>#sk-container-id-8 {\n",
       "  /* Definition of color scheme common for light and dark mode */\n",
       "  --sklearn-color-text: #000;\n",
       "  --sklearn-color-text-muted: #666;\n",
       "  --sklearn-color-line: gray;\n",
       "  /* Definition of color scheme for unfitted estimators */\n",
       "  --sklearn-color-unfitted-level-0: #fff5e6;\n",
       "  --sklearn-color-unfitted-level-1: #f6e4d2;\n",
       "  --sklearn-color-unfitted-level-2: #ffe0b3;\n",
       "  --sklearn-color-unfitted-level-3: chocolate;\n",
       "  /* Definition of color scheme for fitted estimators */\n",
       "  --sklearn-color-fitted-level-0: #f0f8ff;\n",
       "  --sklearn-color-fitted-level-1: #d4ebff;\n",
       "  --sklearn-color-fitted-level-2: #b3dbfd;\n",
       "  --sklearn-color-fitted-level-3: cornflowerblue;\n",
       "\n",
       "  /* Specific color for light theme */\n",
       "  --sklearn-color-text-on-default-background: var(--sg-text-color, var(--theme-code-foreground, var(--jp-content-font-color1, black)));\n",
       "  --sklearn-color-background: var(--sg-background-color, var(--theme-background, var(--jp-layout-color0, white)));\n",
       "  --sklearn-color-border-box: var(--sg-text-color, var(--theme-code-foreground, var(--jp-content-font-color1, black)));\n",
       "  --sklearn-color-icon: #696969;\n",
       "\n",
       "  @media (prefers-color-scheme: dark) {\n",
       "    /* Redefinition of color scheme for dark theme */\n",
       "    --sklearn-color-text-on-default-background: var(--sg-text-color, var(--theme-code-foreground, var(--jp-content-font-color1, white)));\n",
       "    --sklearn-color-background: var(--sg-background-color, var(--theme-background, var(--jp-layout-color0, #111)));\n",
       "    --sklearn-color-border-box: var(--sg-text-color, var(--theme-code-foreground, var(--jp-content-font-color1, white)));\n",
       "    --sklearn-color-icon: #878787;\n",
       "  }\n",
       "}\n",
       "\n",
       "#sk-container-id-8 {\n",
       "  color: var(--sklearn-color-text);\n",
       "}\n",
       "\n",
       "#sk-container-id-8 pre {\n",
       "  padding: 0;\n",
       "}\n",
       "\n",
       "#sk-container-id-8 input.sk-hidden--visually {\n",
       "  border: 0;\n",
       "  clip: rect(1px 1px 1px 1px);\n",
       "  clip: rect(1px, 1px, 1px, 1px);\n",
       "  height: 1px;\n",
       "  margin: -1px;\n",
       "  overflow: hidden;\n",
       "  padding: 0;\n",
       "  position: absolute;\n",
       "  width: 1px;\n",
       "}\n",
       "\n",
       "#sk-container-id-8 div.sk-dashed-wrapped {\n",
       "  border: 1px dashed var(--sklearn-color-line);\n",
       "  margin: 0 0.4em 0.5em 0.4em;\n",
       "  box-sizing: border-box;\n",
       "  padding-bottom: 0.4em;\n",
       "  background-color: var(--sklearn-color-background);\n",
       "}\n",
       "\n",
       "#sk-container-id-8 div.sk-container {\n",
       "  /* jupyter's `normalize.less` sets `[hidden] { display: none; }`\n",
       "     but bootstrap.min.css set `[hidden] { display: none !important; }`\n",
       "     so we also need the `!important` here to be able to override the\n",
       "     default hidden behavior on the sphinx rendered scikit-learn.org.\n",
       "     See: https://github.com/scikit-learn/scikit-learn/issues/21755 */\n",
       "  display: inline-block !important;\n",
       "  position: relative;\n",
       "}\n",
       "\n",
       "#sk-container-id-8 div.sk-text-repr-fallback {\n",
       "  display: none;\n",
       "}\n",
       "\n",
       "div.sk-parallel-item,\n",
       "div.sk-serial,\n",
       "div.sk-item {\n",
       "  /* draw centered vertical line to link estimators */\n",
       "  background-image: linear-gradient(var(--sklearn-color-text-on-default-background), var(--sklearn-color-text-on-default-background));\n",
       "  background-size: 2px 100%;\n",
       "  background-repeat: no-repeat;\n",
       "  background-position: center center;\n",
       "}\n",
       "\n",
       "/* Parallel-specific style estimator block */\n",
       "\n",
       "#sk-container-id-8 div.sk-parallel-item::after {\n",
       "  content: \"\";\n",
       "  width: 100%;\n",
       "  border-bottom: 2px solid var(--sklearn-color-text-on-default-background);\n",
       "  flex-grow: 1;\n",
       "}\n",
       "\n",
       "#sk-container-id-8 div.sk-parallel {\n",
       "  display: flex;\n",
       "  align-items: stretch;\n",
       "  justify-content: center;\n",
       "  background-color: var(--sklearn-color-background);\n",
       "  position: relative;\n",
       "}\n",
       "\n",
       "#sk-container-id-8 div.sk-parallel-item {\n",
       "  display: flex;\n",
       "  flex-direction: column;\n",
       "}\n",
       "\n",
       "#sk-container-id-8 div.sk-parallel-item:first-child::after {\n",
       "  align-self: flex-end;\n",
       "  width: 50%;\n",
       "}\n",
       "\n",
       "#sk-container-id-8 div.sk-parallel-item:last-child::after {\n",
       "  align-self: flex-start;\n",
       "  width: 50%;\n",
       "}\n",
       "\n",
       "#sk-container-id-8 div.sk-parallel-item:only-child::after {\n",
       "  width: 0;\n",
       "}\n",
       "\n",
       "/* Serial-specific style estimator block */\n",
       "\n",
       "#sk-container-id-8 div.sk-serial {\n",
       "  display: flex;\n",
       "  flex-direction: column;\n",
       "  align-items: center;\n",
       "  background-color: var(--sklearn-color-background);\n",
       "  padding-right: 1em;\n",
       "  padding-left: 1em;\n",
       "}\n",
       "\n",
       "\n",
       "/* Toggleable style: style used for estimator/Pipeline/ColumnTransformer box that is\n",
       "clickable and can be expanded/collapsed.\n",
       "- Pipeline and ColumnTransformer use this feature and define the default style\n",
       "- Estimators will overwrite some part of the style using the `sk-estimator` class\n",
       "*/\n",
       "\n",
       "/* Pipeline and ColumnTransformer style (default) */\n",
       "\n",
       "#sk-container-id-8 div.sk-toggleable {\n",
       "  /* Default theme specific background. It is overwritten whether we have a\n",
       "  specific estimator or a Pipeline/ColumnTransformer */\n",
       "  background-color: var(--sklearn-color-background);\n",
       "}\n",
       "\n",
       "/* Toggleable label */\n",
       "#sk-container-id-8 label.sk-toggleable__label {\n",
       "  cursor: pointer;\n",
       "  display: flex;\n",
       "  width: 100%;\n",
       "  margin-bottom: 0;\n",
       "  padding: 0.5em;\n",
       "  box-sizing: border-box;\n",
       "  text-align: center;\n",
       "  align-items: start;\n",
       "  justify-content: space-between;\n",
       "  gap: 0.5em;\n",
       "}\n",
       "\n",
       "#sk-container-id-8 label.sk-toggleable__label .caption {\n",
       "  font-size: 0.6rem;\n",
       "  font-weight: lighter;\n",
       "  color: var(--sklearn-color-text-muted);\n",
       "}\n",
       "\n",
       "#sk-container-id-8 label.sk-toggleable__label-arrow:before {\n",
       "  /* Arrow on the left of the label */\n",
       "  content: \"▸\";\n",
       "  float: left;\n",
       "  margin-right: 0.25em;\n",
       "  color: var(--sklearn-color-icon);\n",
       "}\n",
       "\n",
       "#sk-container-id-8 label.sk-toggleable__label-arrow:hover:before {\n",
       "  color: var(--sklearn-color-text);\n",
       "}\n",
       "\n",
       "/* Toggleable content - dropdown */\n",
       "\n",
       "#sk-container-id-8 div.sk-toggleable__content {\n",
       "  max-height: 0;\n",
       "  max-width: 0;\n",
       "  overflow: hidden;\n",
       "  text-align: left;\n",
       "  /* unfitted */\n",
       "  background-color: var(--sklearn-color-unfitted-level-0);\n",
       "}\n",
       "\n",
       "#sk-container-id-8 div.sk-toggleable__content.fitted {\n",
       "  /* fitted */\n",
       "  background-color: var(--sklearn-color-fitted-level-0);\n",
       "}\n",
       "\n",
       "#sk-container-id-8 div.sk-toggleable__content pre {\n",
       "  margin: 0.2em;\n",
       "  border-radius: 0.25em;\n",
       "  color: var(--sklearn-color-text);\n",
       "  /* unfitted */\n",
       "  background-color: var(--sklearn-color-unfitted-level-0);\n",
       "}\n",
       "\n",
       "#sk-container-id-8 div.sk-toggleable__content.fitted pre {\n",
       "  /* unfitted */\n",
       "  background-color: var(--sklearn-color-fitted-level-0);\n",
       "}\n",
       "\n",
       "#sk-container-id-8 input.sk-toggleable__control:checked~div.sk-toggleable__content {\n",
       "  /* Expand drop-down */\n",
       "  max-height: 200px;\n",
       "  max-width: 100%;\n",
       "  overflow: auto;\n",
       "}\n",
       "\n",
       "#sk-container-id-8 input.sk-toggleable__control:checked~label.sk-toggleable__label-arrow:before {\n",
       "  content: \"▾\";\n",
       "}\n",
       "\n",
       "/* Pipeline/ColumnTransformer-specific style */\n",
       "\n",
       "#sk-container-id-8 div.sk-label input.sk-toggleable__control:checked~label.sk-toggleable__label {\n",
       "  color: var(--sklearn-color-text);\n",
       "  background-color: var(--sklearn-color-unfitted-level-2);\n",
       "}\n",
       "\n",
       "#sk-container-id-8 div.sk-label.fitted input.sk-toggleable__control:checked~label.sk-toggleable__label {\n",
       "  background-color: var(--sklearn-color-fitted-level-2);\n",
       "}\n",
       "\n",
       "/* Estimator-specific style */\n",
       "\n",
       "/* Colorize estimator box */\n",
       "#sk-container-id-8 div.sk-estimator input.sk-toggleable__control:checked~label.sk-toggleable__label {\n",
       "  /* unfitted */\n",
       "  background-color: var(--sklearn-color-unfitted-level-2);\n",
       "}\n",
       "\n",
       "#sk-container-id-8 div.sk-estimator.fitted input.sk-toggleable__control:checked~label.sk-toggleable__label {\n",
       "  /* fitted */\n",
       "  background-color: var(--sklearn-color-fitted-level-2);\n",
       "}\n",
       "\n",
       "#sk-container-id-8 div.sk-label label.sk-toggleable__label,\n",
       "#sk-container-id-8 div.sk-label label {\n",
       "  /* The background is the default theme color */\n",
       "  color: var(--sklearn-color-text-on-default-background);\n",
       "}\n",
       "\n",
       "/* On hover, darken the color of the background */\n",
       "#sk-container-id-8 div.sk-label:hover label.sk-toggleable__label {\n",
       "  color: var(--sklearn-color-text);\n",
       "  background-color: var(--sklearn-color-unfitted-level-2);\n",
       "}\n",
       "\n",
       "/* Label box, darken color on hover, fitted */\n",
       "#sk-container-id-8 div.sk-label.fitted:hover label.sk-toggleable__label.fitted {\n",
       "  color: var(--sklearn-color-text);\n",
       "  background-color: var(--sklearn-color-fitted-level-2);\n",
       "}\n",
       "\n",
       "/* Estimator label */\n",
       "\n",
       "#sk-container-id-8 div.sk-label label {\n",
       "  font-family: monospace;\n",
       "  font-weight: bold;\n",
       "  display: inline-block;\n",
       "  line-height: 1.2em;\n",
       "}\n",
       "\n",
       "#sk-container-id-8 div.sk-label-container {\n",
       "  text-align: center;\n",
       "}\n",
       "\n",
       "/* Estimator-specific */\n",
       "#sk-container-id-8 div.sk-estimator {\n",
       "  font-family: monospace;\n",
       "  border: 1px dotted var(--sklearn-color-border-box);\n",
       "  border-radius: 0.25em;\n",
       "  box-sizing: border-box;\n",
       "  margin-bottom: 0.5em;\n",
       "  /* unfitted */\n",
       "  background-color: var(--sklearn-color-unfitted-level-0);\n",
       "}\n",
       "\n",
       "#sk-container-id-8 div.sk-estimator.fitted {\n",
       "  /* fitted */\n",
       "  background-color: var(--sklearn-color-fitted-level-0);\n",
       "}\n",
       "\n",
       "/* on hover */\n",
       "#sk-container-id-8 div.sk-estimator:hover {\n",
       "  /* unfitted */\n",
       "  background-color: var(--sklearn-color-unfitted-level-2);\n",
       "}\n",
       "\n",
       "#sk-container-id-8 div.sk-estimator.fitted:hover {\n",
       "  /* fitted */\n",
       "  background-color: var(--sklearn-color-fitted-level-2);\n",
       "}\n",
       "\n",
       "/* Specification for estimator info (e.g. \"i\" and \"?\") */\n",
       "\n",
       "/* Common style for \"i\" and \"?\" */\n",
       "\n",
       ".sk-estimator-doc-link,\n",
       "a:link.sk-estimator-doc-link,\n",
       "a:visited.sk-estimator-doc-link {\n",
       "  float: right;\n",
       "  font-size: smaller;\n",
       "  line-height: 1em;\n",
       "  font-family: monospace;\n",
       "  background-color: var(--sklearn-color-background);\n",
       "  border-radius: 1em;\n",
       "  height: 1em;\n",
       "  width: 1em;\n",
       "  text-decoration: none !important;\n",
       "  margin-left: 0.5em;\n",
       "  text-align: center;\n",
       "  /* unfitted */\n",
       "  border: var(--sklearn-color-unfitted-level-1) 1pt solid;\n",
       "  color: var(--sklearn-color-unfitted-level-1);\n",
       "}\n",
       "\n",
       ".sk-estimator-doc-link.fitted,\n",
       "a:link.sk-estimator-doc-link.fitted,\n",
       "a:visited.sk-estimator-doc-link.fitted {\n",
       "  /* fitted */\n",
       "  border: var(--sklearn-color-fitted-level-1) 1pt solid;\n",
       "  color: var(--sklearn-color-fitted-level-1);\n",
       "}\n",
       "\n",
       "/* On hover */\n",
       "div.sk-estimator:hover .sk-estimator-doc-link:hover,\n",
       ".sk-estimator-doc-link:hover,\n",
       "div.sk-label-container:hover .sk-estimator-doc-link:hover,\n",
       ".sk-estimator-doc-link:hover {\n",
       "  /* unfitted */\n",
       "  background-color: var(--sklearn-color-unfitted-level-3);\n",
       "  color: var(--sklearn-color-background);\n",
       "  text-decoration: none;\n",
       "}\n",
       "\n",
       "div.sk-estimator.fitted:hover .sk-estimator-doc-link.fitted:hover,\n",
       ".sk-estimator-doc-link.fitted:hover,\n",
       "div.sk-label-container:hover .sk-estimator-doc-link.fitted:hover,\n",
       ".sk-estimator-doc-link.fitted:hover {\n",
       "  /* fitted */\n",
       "  background-color: var(--sklearn-color-fitted-level-3);\n",
       "  color: var(--sklearn-color-background);\n",
       "  text-decoration: none;\n",
       "}\n",
       "\n",
       "/* Span, style for the box shown on hovering the info icon */\n",
       ".sk-estimator-doc-link span {\n",
       "  display: none;\n",
       "  z-index: 9999;\n",
       "  position: relative;\n",
       "  font-weight: normal;\n",
       "  right: .2ex;\n",
       "  padding: .5ex;\n",
       "  margin: .5ex;\n",
       "  width: min-content;\n",
       "  min-width: 20ex;\n",
       "  max-width: 50ex;\n",
       "  color: var(--sklearn-color-text);\n",
       "  box-shadow: 2pt 2pt 4pt #999;\n",
       "  /* unfitted */\n",
       "  background: var(--sklearn-color-unfitted-level-0);\n",
       "  border: .5pt solid var(--sklearn-color-unfitted-level-3);\n",
       "}\n",
       "\n",
       ".sk-estimator-doc-link.fitted span {\n",
       "  /* fitted */\n",
       "  background: var(--sklearn-color-fitted-level-0);\n",
       "  border: var(--sklearn-color-fitted-level-3);\n",
       "}\n",
       "\n",
       ".sk-estimator-doc-link:hover span {\n",
       "  display: block;\n",
       "}\n",
       "\n",
       "/* \"?\"-specific style due to the `<a>` HTML tag */\n",
       "\n",
       "#sk-container-id-8 a.estimator_doc_link {\n",
       "  float: right;\n",
       "  font-size: 1rem;\n",
       "  line-height: 1em;\n",
       "  font-family: monospace;\n",
       "  background-color: var(--sklearn-color-background);\n",
       "  border-radius: 1rem;\n",
       "  height: 1rem;\n",
       "  width: 1rem;\n",
       "  text-decoration: none;\n",
       "  /* unfitted */\n",
       "  color: var(--sklearn-color-unfitted-level-1);\n",
       "  border: var(--sklearn-color-unfitted-level-1) 1pt solid;\n",
       "}\n",
       "\n",
       "#sk-container-id-8 a.estimator_doc_link.fitted {\n",
       "  /* fitted */\n",
       "  border: var(--sklearn-color-fitted-level-1) 1pt solid;\n",
       "  color: var(--sklearn-color-fitted-level-1);\n",
       "}\n",
       "\n",
       "/* On hover */\n",
       "#sk-container-id-8 a.estimator_doc_link:hover {\n",
       "  /* unfitted */\n",
       "  background-color: var(--sklearn-color-unfitted-level-3);\n",
       "  color: var(--sklearn-color-background);\n",
       "  text-decoration: none;\n",
       "}\n",
       "\n",
       "#sk-container-id-8 a.estimator_doc_link.fitted:hover {\n",
       "  /* fitted */\n",
       "  background-color: var(--sklearn-color-fitted-level-3);\n",
       "}\n",
       "</style><div id=\"sk-container-id-8\" class=\"sk-top-container\"><div class=\"sk-text-repr-fallback\"><pre>Ridge(alpha=0.5)</pre><b>In a Jupyter environment, please rerun this cell to show the HTML representation or trust the notebook. <br />On GitHub, the HTML representation is unable to render, please try loading this page with nbviewer.org.</b></div><div class=\"sk-container\" hidden><div class=\"sk-item\"><div class=\"sk-estimator fitted sk-toggleable\"><input class=\"sk-toggleable__control sk-hidden--visually\" id=\"sk-estimator-id-8\" type=\"checkbox\" checked><label for=\"sk-estimator-id-8\" class=\"sk-toggleable__label fitted sk-toggleable__label-arrow\"><div><div>Ridge</div></div><div><a class=\"sk-estimator-doc-link fitted\" rel=\"noreferrer\" target=\"_blank\" href=\"https://scikit-learn.org/1.6/modules/generated/sklearn.linear_model.Ridge.html\">?<span>Documentation for Ridge</span></a><span class=\"sk-estimator-doc-link fitted\">i<span>Fitted</span></span></div></label><div class=\"sk-toggleable__content fitted\"><pre>Ridge(alpha=0.5)</pre></div> </div></div></div></div>"
      ]
     },
     "execution_count": 83,
     "metadata": {},
     "output_type": "execute_result"
    }
   ],
   "execution_count": 83
  },
  {
   "metadata": {
    "ExecuteTime": {
     "end_time": "2025-08-21T09:15:19.086474Z",
     "start_time": "2025-08-21T09:15:19.076816Z"
    }
   },
   "cell_type": "code",
   "source": "model_ridge.score(X_test, y_test)",
   "outputs": [
    {
     "data": {
      "text/plain": [
       "0.5957941064984285"
      ]
     },
     "execution_count": 84,
     "metadata": {},
     "output_type": "execute_result"
    }
   ],
   "execution_count": 84
  },
  {
   "metadata": {
    "ExecuteTime": {
     "end_time": "2025-08-21T09:16:01.698878Z",
     "start_time": "2025-08-21T09:16:01.499517Z"
    }
   },
   "cell_type": "code",
   "source": [
    "from sklearn.linear_model import Lasso\n",
    "model_lasso = Lasso(alpha = 0.5)\n",
    "model_lasso.fit(X_train, y_train)\n",
    "model_lasso.score(X_test, y_test)\n"
   ],
   "outputs": [
    {
     "data": {
      "text/plain": [
       "0.45429495443531975"
      ]
     },
     "execution_count": 86,
     "metadata": {},
     "output_type": "execute_result"
    }
   ],
   "execution_count": 86
  },
  {
   "metadata": {
    "ExecuteTime": {
     "end_time": "2025-08-21T09:18:24.082735Z",
     "start_time": "2025-08-21T09:18:23.991304Z"
    }
   },
   "cell_type": "code",
   "source": [
    "from sklearn.linear_model import ElasticNet\n",
    "\n",
    "model_elastic = ElasticNet(alpha = 0.1, l1_ratio = 0.5)\n",
    "model_elastic.fit(X_train, y_train)\n",
    "model_elastic.score(X_test, y_test)"
   ],
   "outputs": [
    {
     "data": {
      "text/plain": [
       "0.5755216146456115"
      ]
     },
     "execution_count": 88,
     "metadata": {},
     "output_type": "execute_result"
    }
   ],
   "execution_count": 88
  },
  {
   "metadata": {
    "ExecuteTime": {
     "end_time": "2025-08-21T09:24:48.828914Z",
     "start_time": "2025-08-21T09:24:48.816967Z"
    }
   },
   "cell_type": "code",
   "source": [
    "from sklearn.metrics import mean_squared_error\n",
    "y_pred = model_ridge.predict(X_test)\n",
    "y_pred_lasso = model_lasso.predict(X_test)\n",
    "y_pred_elastic = model_elastic.predict(X_test)\n",
    "print(\"rideg\",mean_squared_error(y_test, y_pred))\n",
    "print(\"lasso\",mean_squared_error(y_test, y_pred_lasso))\n",
    "print(\"elastic net\",mean_squared_error(y_test, y_pred_elastic))\n",
    "#루트 씌우고 싶으면 저 값에다가 **(1/2)하면됨. sqrt쓰거나"
   ],
   "outputs": [
    {
     "name": "stdout",
     "output_type": "stream",
     "text": [
      "rideg 0.5305364470355517\n",
      "lasso 0.7162597593400346\n",
      "elastic net 0.5571449056777037\n"
     ]
    }
   ],
   "execution_count": 93
  },
  {
   "metadata": {},
   "cell_type": "code",
   "outputs": [],
   "execution_count": null,
   "source": ""
  }
 ]
}
