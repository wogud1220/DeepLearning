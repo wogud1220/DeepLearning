{
 "cells": [
  {
   "cell_type": "markdown",
   "metadata": {
    "id": "PbVgH0G4_mer"
   },
   "source": [
    "# **파이썬 연습**"
   ]
  },
  {
   "cell_type": "markdown",
   "metadata": {
    "id": "Q4Wm3gxu_xHr"
   },
   "source": [
    "## 기초(7문제)"
   ]
  },
  {
   "cell_type": "markdown",
   "metadata": {
    "id": "Juz-6LWkAItk"
   },
   "source": [
    "### 문제1. 3의 배수 출력"
   ]
  },
  {
   "cell_type": "markdown",
   "metadata": {
    "id": "AiHzC_5X_7u2"
   },
   "source": [
    "- **문제 설명**  \n",
    "1부터 n까지의 숫자 중에서 3의 배수만 출력하는 함수를 작성하세요.\n",
    "\n",
    "- **함수 설명**  \n",
    "`print_multiples_of_three(n: int) -> int`:  \n",
    "  - n: 3의 배수를 구하고자 하는 범위의 최대값입니다.\n",
    "\n",
    "- **입출력 예시**   \n",
    "\n",
    "    - 입력1:\n",
    "\n",
    "    ```\n",
    "    7\n",
    "    ```\n",
    "\n",
    "    - 출력1:\n",
    "\n",
    "    ```\n",
    "    3\n",
    "    6\n",
    "    ```\n",
    "\n",
    "    - 입력2:\n",
    "    \n",
    "    ```\n",
    "    30\n",
    "    ```\n",
    "\n",
    "    - 출력2:\n",
    "\n",
    "    ```\n",
    "    3\n",
    "    6\n",
    "    9\n",
    "    12\n",
    "    15\n",
    "    18\n",
    "    21\n",
    "    24\n",
    "    27\n",
    "    30\n",
    "    ```"
   ]
  },
  {
   "cell_type": "code",
   "metadata": {
    "id": "m1BC9Ez0_iuS",
    "ExecuteTime": {
     "end_time": "2025-08-10T07:59:27.435100Z",
     "start_time": "2025-08-10T07:59:27.432876Z"
    }
   },
   "source": [
    "\n",
    "\n",
    "\n",
    "# 문제\n",
    "def print_multiples_of_three(n):\n",
    "    flag = False\n",
    "    if n < 3:\n",
    "        return \"3보다 작은 수가 들어옴\"\n",
    "    for i in range(1, n + 1):\n",
    "        if i % 3 == 0:\n",
    "            flag = True\n",
    "            print(i)\n",
    "    if flag == False:\n",
    "        print(\"3의 배수가 없습니다.\")"
   ],
   "outputs": [],
   "execution_count": 41
  },
  {
   "cell_type": "code",
   "metadata": {
    "id": "StCVnx4-cpaI",
    "ExecuteTime": {
     "end_time": "2025-08-10T07:59:33.341615Z",
     "start_time": "2025-08-10T07:59:33.339890Z"
    }
   },
   "source": [
    "# 프로그램 실행\n",
    "print_multiples_of_three(3)"
   ],
   "outputs": [
    {
     "name": "stdout",
     "output_type": "stream",
     "text": [
      "3\n"
     ]
    }
   ],
   "execution_count": 43
  },
  {
   "cell_type": "markdown",
   "metadata": {
    "id": "370RMQCNAyq_"
   },
   "source": [
    "### 문제2. 모음 제거하기"
   ]
  },
  {
   "cell_type": "markdown",
   "metadata": {
    "id": "NPqtMNfXBjEH"
   },
   "source": [
    "- **문제 설명**  \n",
    "문자열에서 모음(a, e, i, o, u)을 제거한 문자열을 반환하는 함수를 작성하세요.\n",
    "\n",
    "- **함수 설명**  \n",
    "`remove_vowels(s: string) -> string`:  \n",
    "  - s: 영어 소문자 알파벳으로 이루어진 문자열입니다.\n",
    "\n",
    "- **입출력 예시**   \n",
    "\n",
    "    - 입력1:\n",
    "\n",
    "    ```\n",
    "    \"codeit\"\n",
    "    ```\n",
    "\n",
    "    - 출력1:\n",
    "\n",
    "    ```\n",
    "    \"cdt\"\n",
    "    ```\n",
    "\n",
    "    - 입력2:\n",
    "    \n",
    "    ```\n",
    "    \"python programming\"\n",
    "    ```\n",
    "\n",
    "    - 출력2:\n",
    "\n",
    "    ```\n",
    "    \"pythn prgrmmng\"\n",
    "    ```\n",
    "\n"
   ]
  },
  {
   "cell_type": "code",
   "metadata": {
    "id": "ySFIF63AA5p2",
    "ExecuteTime": {
     "end_time": "2025-08-10T07:59:39.258385Z",
     "start_time": "2025-08-10T07:59:39.256353Z"
    }
   },
   "source": [
    "# 문제\n",
    "def remove_vowels(s): # input str\n",
    "    if len(s) <= 0:\n",
    "        return \"문자를 넣어주세요\"\n",
    "    vowels = ['a', 'e', 'i', 'o', 'u']\n",
    "    result = ''\n",
    "\n",
    "    for char in s:\n",
    "        if char not in vowels:\n",
    "            result += char\n",
    "        else:\n",
    "            continue\n",
    "\n",
    "    if result == '':\n",
    "        return \"모두 소문자 알파벳입니다.\"\n",
    "    return result\n"
   ],
   "outputs": [],
   "execution_count": 44
  },
  {
   "cell_type": "code",
   "metadata": {
    "id": "whdVJ850crtz",
    "ExecuteTime": {
     "end_time": "2025-08-10T07:59:40.381024Z",
     "start_time": "2025-08-10T07:59:40.379277Z"
    }
   },
   "source": [
    "# 프로그램 실행\n",
    "print(remove_vowels(\"asefsdva se\"))"
   ],
   "outputs": [
    {
     "name": "stdout",
     "output_type": "stream",
     "text": [
      "sfsdv s\n"
     ]
    }
   ],
   "execution_count": 45
  },
  {
   "cell_type": "markdown",
   "metadata": {
    "id": "3fmZxhvUA84G"
   },
   "source": [
    "### 문제3. 수 크기 비교하기"
   ]
  },
  {
   "cell_type": "markdown",
   "metadata": {
    "id": "neh_z-dxB246"
   },
   "source": [
    "- **문제 설명**  \n",
    "두 개의 숫자를 입력받아, 큰 숫자와 작은 숫자를 각각 반환하는 함수를 작성하세요.\n",
    "(단, 동일한 숫자를 2회 입력하는 경우에는 순서 없이 한 번만 출력되도록 해 주세요.)\n",
    "\n",
    "- **함수 설명**\n",
    "\n",
    "  `compare_numbers(num1, num2)`:  \n",
    "  - num1, num2 : 정수형\n",
    "\n",
    "- **입출력 예시**\n",
    "\n",
    "  - 입력:\n",
    "    ```\n",
    "    10, 20\n",
    "    ```\n",
    "\n",
    "  - 출력:\n",
    "    ```\n",
    "    20\n",
    "    ```"
   ]
  },
  {
   "cell_type": "code",
   "execution_count": 91,
   "metadata": {
    "ExecuteTime": {
     "end_time": "2025-08-08T05:39:36.345135Z",
     "start_time": "2025-08-08T05:39:36.342382Z"
    },
    "id": "uy7jlZ5HA84I"
   },
   "outputs": [],
   "source": [
    "# 문제\n",
    "\n",
    "\n",
    "def compare_numbers(num1, num2):\n",
    "    # 큰 숫자만 나오게 했습니다.\n",
    "    return num1 if num1 > num2 else num2"
   ]
  },
  {
   "cell_type": "code",
   "execution_count": 92,
   "metadata": {
    "ExecuteTime": {
     "end_time": "2025-08-08T05:39:36.369944Z",
     "start_time": "2025-08-08T05:39:36.367851Z"
    },
    "id": "TaCXp5wPcteR"
   },
   "outputs": [
    {
     "name": "stdout",
     "output_type": "stream",
     "text": [
      "20\n"
     ]
    }
   ],
   "source": [
    "# 프로그램 실행\n",
    "print(compare_numbers(10, 20))"
   ]
  },
  {
   "cell_type": "markdown",
   "metadata": {
    "id": "y676kwTvA9JC"
   },
   "source": [
    "### 문제4. 문자열 길이 반환하기"
   ]
  },
  {
   "cell_type": "markdown",
   "metadata": {
    "id": "ZYsb67Q_CAEB"
   },
   "source": [
    "- **문제 설명**  \n",
    "문자열의 길이를 반환하되, 문자열이 빈 문자열이면 “문자열이 비어 있습니다.“를 반환하는 함수를 작성하세요.\n",
    "\n",
    "- **함수 설명**\n",
    "`check_string_length(string)`:  \n",
    "  - string : 영어 알파벳 및 공백이 포함된 문자열입니다.\n",
    "\n",
    "- **입출력 예시**   \n",
    "\n",
    "    - 입력1:\n",
    "\n",
    "    ```\n",
    "    \"Python\"\n",
    "    ```\n",
    "\n",
    "    - 출력1:\n",
    "\n",
    "    ```\n",
    "    6\n",
    "    ```\n",
    "\n",
    "    - 입력2:\n",
    "    \n",
    "    ```\n",
    "    \"\"\n",
    "    ```\n",
    "\n",
    "    - 출력2:\n",
    "\n",
    "    ```\n",
    "    \"문자열이 비어 있습니다.\"\n",
    "    ```"
   ]
  },
  {
   "cell_type": "code",
   "execution_count": 93,
   "metadata": {
    "ExecuteTime": {
     "end_time": "2025-08-08T05:39:36.396664Z",
     "start_time": "2025-08-08T05:39:36.394434Z"
    },
    "id": "yY4uoyTbCLaY"
   },
   "outputs": [],
   "source": [
    "# 문제\n",
    "def check_string_length(string):\n",
    "    return \"문자열이 비어 있습니다.\" if len(string) == 0 else len(string)"
   ]
  },
  {
   "cell_type": "code",
   "execution_count": 168,
   "metadata": {
    "ExecuteTime": {
     "end_time": "2025-08-08T06:03:34.810289Z",
     "start_time": "2025-08-08T06:03:34.807902Z"
    },
    "id": "IqEvBf2QcwN1"
   },
   "outputs": [
    {
     "data": {
      "text/plain": [
       "'문자열이 비어 있습니다.'"
      ]
     },
     "execution_count": 168,
     "metadata": {},
     "output_type": "execute_result"
    }
   ],
   "source": [
    "# 프로그램 실행\n",
    "check_string_length(\"\")"
   ]
  },
  {
   "cell_type": "markdown",
   "metadata": {
    "id": "RT_7aSKZBNWd"
   },
   "source": [
    "### 문제5. 총 합계 구하기"
   ]
  },
  {
   "cell_type": "markdown",
   "metadata": {
    "id": "Xc9D8bHFCRJG"
   },
   "source": [
    "- **문제 설명**  \n",
    "0부터 사용자가 입력한 숫자 n까지의 합을 구하는 함수를 작성하세요.\n",
    "\n",
    "- **함수 설명**  \n",
    "`sum_up_to_n(n)`:  \n",
    "  - n: 0보다 큰 정수\n",
    "\n",
    "- **입출력 예시**   \n",
    "\n",
    "    - 입력1:\n",
    "\n",
    "    ```\n",
    "    3\n",
    "    ```\n",
    "\n",
    "    - 출력1:\n",
    "\n",
    "    ```\n",
    "    6\n",
    "    ```\n",
    "\n",
    "    - 입력2:\n",
    "    \n",
    "    ```\n",
    "    10\n",
    "    ```\n",
    "\n",
    "    - 출력2:\n",
    "\n",
    "    ```\n",
    "    55\n",
    "    ```\n",
    "\n"
   ]
  },
  {
   "cell_type": "code",
   "execution_count": 385,
   "metadata": {
    "ExecuteTime": {
     "end_time": "2025-08-08T10:02:19.791854Z",
     "start_time": "2025-08-08T10:02:19.788144Z"
    },
    "id": "HC4sgDFdBNWk"
   },
   "outputs": [],
   "source": [
    "# 문제\n",
    "def sum_up_to_n(n):\n",
    "    sum = 0\n",
    "    for i in range(1, n + 1):\n",
    "        sum+=i\n",
    "\n",
    "    return sum"
   ]
  },
  {
   "cell_type": "code",
   "execution_count": 386,
   "metadata": {
    "ExecuteTime": {
     "end_time": "2025-08-08T10:02:20.108820Z",
     "start_time": "2025-08-08T10:02:20.107033Z"
    },
    "id": "pdWV5lntcx9h"
   },
   "outputs": [
    {
     "name": "stdout",
     "output_type": "stream",
     "text": [
      "0\n"
     ]
    }
   ],
   "source": [
    "# 프로그램 실행\n",
    "print(sum_up_to_n(0))"
   ]
  },
  {
   "cell_type": "markdown",
   "metadata": {
    "id": "Cvtyy64dBNig"
   },
   "source": [
    "### 문제6. 짝수 합 구하기"
   ]
  },
  {
   "cell_type": "markdown",
   "metadata": {
    "id": "jMWwAW7xDGtv"
   },
   "source": [
    "- **문제 설명**\n",
    "\n",
    "  사용자가 입력한 숫자 n까지의 짝수 합을 구하는 함수를 작성하되, 0을 입력하면 프로그램을 종료하는 함수를 작성하세요. (단, 음수는 입력하지 않는다고 가정합니다.)\n",
    "\n",
    "- **함수 설명**\n",
    "\n",
    "  `sum_even_numbers(n: int)`\n",
    "\n",
    "  - 사용자에게 숫자 입력값을 받아, 1부터 n까지의 짝수 합은 ___ 입니다.\" 가 출력됩니다.\n",
    "  - 0 입력시 종료됨을 안내합니다.\n",
    "\n",
    "- **입출력 예시**\n",
    "\n",
    "    - 입력1:\n",
    "\n",
    "    ```\n",
    "    9\n",
    "    ```\n",
    "\n",
    "    - 출력1:\n",
    "\n",
    "    ```\n",
    "    \"1부터 9까지의 짝수 합은 20입니다.\"\n",
    "    ```\n",
    "\n",
    "    - 입력2:\n",
    "    \n",
    "    ```\n",
    "    0\n",
    "    ```\n",
    "\n",
    "    - 출력2:\n",
    "\n",
    "    ```\n",
    "    종료\n",
    "    ```"
   ]
  },
  {
   "cell_type": "code",
   "execution_count": 387,
   "metadata": {
    "ExecuteTime": {
     "end_time": "2025-08-08T10:02:27.572466Z",
     "start_time": "2025-08-08T10:02:27.570502Z"
    },
    "id": "1_sLXOtKBNih"
   },
   "outputs": [],
   "source": [
    "# 문제\n",
    "def sum_even_numbers(n): # input int n까지의 짝수 합 구하기\n",
    "    sum = 0\n",
    "    for i in range(1, n + 1):\n",
    "        if i % 2 == 0:\n",
    "            sum += i\n",
    "        else:\n",
    "            continue\n",
    "\n",
    "    return f\"1부터 9까지의 짝수 합은 {sum}입니다.\""
   ]
  },
  {
   "cell_type": "code",
   "execution_count": 388,
   "metadata": {
    "ExecuteTime": {
     "end_time": "2025-08-08T10:02:27.855822Z",
     "start_time": "2025-08-08T10:02:27.853326Z"
    },
    "id": "B8P6CW-ec0sn"
   },
   "outputs": [
    {
     "data": {
      "text/plain": [
       "'1부터 9까지의 짝수 합은 20입니다.'"
      ]
     },
     "execution_count": 388,
     "metadata": {},
     "output_type": "execute_result"
    }
   ],
   "source": [
    "# 프로그램 실행\n",
    "sum_even_numbers(9)"
   ]
  },
  {
   "cell_type": "markdown",
   "metadata": {
    "id": "xtmzptFYBNqV"
   },
   "source": [
    "### 문제7. 두 숫자 나누기"
   ]
  },
  {
   "cell_type": "markdown",
   "metadata": {
    "id": "BUfPiCg9Defz"
   },
   "source": [
    "- **문제 설명**\n",
    "사용자가 입력한 두 숫자를 나누는 프로그램을 작성하세요. 예외가 발생하면 \"잘못된 입력입니다.\"를 반환하는 함수를 작성하세요.\n",
    "\n",
    "- **함수 설명**\n",
    "\n",
    "  `divide_numbers(a, b)`\n",
    "  - 사용자에게 두개의 숫자를 차례대로 입력 받습니다.\n",
    "  - 첫번째 숫자를 두번째 숫자로 나눕니다.\n",
    "  - 결과값을 반환합니다. 단, 예외가 발생하면 \"잘못된 입력입니다.\"를 반환합니다.\n",
    "  - `try-except` 구문을 활용하여 함수를 작성해보세요. 이 문법에 대해서 구글링을 해도 좋습니다.\n",
    "\n",
    "- **입출력 예시**\n",
    "\n",
    "- 입력1:\n",
    "    ```\n",
    "    42, 7\n",
    "    ```\n",
    "\n",
    "- 출력1:\n",
    "    ```\n",
    "    6\n",
    "    ```\n",
    "\n",
    "- 입력2:\n",
    "    ```\n",
    "    135, 0\n",
    "    ```\n",
    "\n",
    "- 출력2:\n",
    "    ```\n",
    "    \"잘못된 입력입니다.\"\n",
    "    ```"
   ]
  },
  {
   "cell_type": "code",
   "execution_count": 394,
   "metadata": {
    "ExecuteTime": {
     "end_time": "2025-08-08T10:03:14.126802Z",
     "start_time": "2025-08-08T10:03:14.125114Z"
    },
    "id": "AoZgw6aRBNqa"
   },
   "outputs": [],
   "source": [
    "# 문제\n",
    "def divide_numbers(a, b):\n",
    "    try:\n",
    "        return a/b\n",
    "    except ZeroDivisionError:\n",
    "        return \"잘못된 입력입니다.\"\n"
   ]
  },
  {
   "cell_type": "code",
   "execution_count": 395,
   "metadata": {
    "ExecuteTime": {
     "end_time": "2025-08-08T10:03:14.737744Z",
     "start_time": "2025-08-08T10:03:14.735372Z"
    },
    "id": "RZUAXWopc2sp"
   },
   "outputs": [
    {
     "data": {
      "text/plain": [
       "0.020833333333333332"
      ]
     },
     "execution_count": 395,
     "metadata": {},
     "output_type": "execute_result"
    }
   ],
   "source": [
    "# 프로그램 실행\n",
    "divide_numbers(3, 144)"
   ]
  },
  {
   "cell_type": "markdown",
   "metadata": {
    "id": "mZDwWOfcFWlb"
   },
   "source": [
    "## 응용(3문제)"
   ]
  },
  {
   "cell_type": "markdown",
   "metadata": {
    "id": "Tuj2xplNFgCq"
   },
   "source": [
    "### 문제1. 문자열 압축 게임\n",
    "\n"
   ]
  },
  {
   "cell_type": "markdown",
   "metadata": {
    "id": "txOKh3aEFiw5"
   },
   "source": [
    "- **문제 설명**\n",
    "\n",
    "  주어진 문자열에서 연속해서 같은 문자가 반복되는 경우, 그 문자와 반복 횟수를 이용해 새로운 형태로 문자열을 압축합니다. 예를 들어, \"aabcccccaaa\" 문자열은 \"a2b1c5a3\"로 압축될 수 있습니다.\n",
    "\n",
    "- **함수 설명**  \n",
    "`compress_string(s: str) -> str`:  \n",
    "  - s: 압축하고자 하는 문자열입니다.\n",
    "\n",
    "- **입출력 예시**\n",
    "\n",
    "    - 입력1:\n",
    "\n",
    "    ```\n",
    "    \"aaabbaaa\"\n",
    "    ```\n",
    "\n",
    "    - 출력1:\n",
    "\n",
    "    ```\n",
    "    \"a3b2a3\"\n",
    "    ```\n",
    "\n",
    "    - 입력2:\n",
    "    \n",
    "    ```\n",
    "    \"aabcccccaaa\"\n",
    "    ```\n",
    "\n",
    "    - 출력2:\n",
    "\n",
    "    ```\n",
    "    \"a2b1c5a3\"\n",
    "    ```"
   ]
  },
  {
   "cell_type": "code",
   "execution_count": 333,
   "metadata": {
    "ExecuteTime": {
     "end_time": "2025-08-08T09:08:46.688880Z",
     "start_time": "2025-08-08T09:08:46.682792Z"
    },
    "id": "Ft7h8CGrFi7j"
   },
   "outputs": [],
   "source": [
    "# 문제\n",
    "def compress_string(s):\n",
    "    result = ''\n",
    "    cnt = 1\n",
    "    for i in range(1,len(s)):\n",
    "        if s[i] == s[i-1]:\n",
    "            cnt += 1\n",
    "        else:\n",
    "            result += s[i -1] + str(cnt)\n",
    "            cnt = 1\n",
    "    result += s[i-1] + str(cnt)\n",
    "    return  result"
   ]
  },
  {
   "cell_type": "code",
   "execution_count": 334,
   "metadata": {
    "ExecuteTime": {
     "end_time": "2025-08-08T09:08:46.990774Z",
     "start_time": "2025-08-08T09:08:46.988473Z"
    },
    "id": "PP2SR2Fyc4k_"
   },
   "outputs": [
    {
     "data": {
      "text/plain": [
       "'a1b1b1'"
      ]
     },
     "execution_count": 334,
     "metadata": {},
     "output_type": "execute_result"
    }
   ],
   "source": [
    "# 프로그램 실행\n",
    "compress_string(\"abc\")"
   ]
  },
  {
   "cell_type": "markdown",
   "metadata": {
    "id": "y4kJ_x6eFnmp"
   },
   "source": [
    "### 문제2. 덧셈 프로그램\n",
    "\n"
   ]
  },
  {
   "cell_type": "markdown",
   "metadata": {
    "id": "nT-U2IVsFnmr"
   },
   "source": [
    "- **문제 설명**\n",
    "이 프로그램은 두 개의 숫자를 입력받아 그 합을 계산합니다. 입력받은 값이 숫자 형식이 아니면, 사용자에게 숫자 형식의 입력을 요청합니다. 숫자 입력이 완료되면 두 숫자의 합을 출력합니다.\n",
    "\n",
    "- **함수 설명**\n",
    "\n",
    "  `add_numbers()`\n",
    "  - 이 함수는 `input()`을 사용하여 사용자로부터 두 개의 숫자를 입력받습니다.\n",
    "  - 입력된 값이 숫자가 아닐 경우, \"올바른 숫자를 입력하세요.\"라는 메시지를 출력하고 다시 입력을 요청합니다.\n",
    "  - 두 숫자의 합을 계산하고 결과를 출력합니다.\n",
    "\n",
    "- **입출력 예시**\n",
    "\n",
    "    - 입력:\n",
    "        ```\n",
    "        첫 번째 숫자를 입력하세요: 10\n",
    "        첫 번째 숫자를 입력하세요: twenty\n",
    "        첫 번째 숫자를 입력하세요: 10\n",
    "        두 번째 숫자를 입력하세요: 20\n",
    "        ```\n",
    "\n",
    "    - 출력:\n",
    "        ```\n",
    "        올바른 숫자를 입력하세요.\n",
    "        10 + 20 = 30\n",
    "        ```"
   ]
  },
  {
   "cell_type": "code",
   "metadata": {
    "id": "Np5jxyB8Fnms",
    "ExecuteTime": {
     "end_time": "2025-08-10T07:56:38.447958Z",
     "start_time": "2025-08-10T07:56:38.445288Z"
    }
   },
   "source": [
    "# 문제\n",
    "def add_numbers():\n",
    "    while(True):\n",
    "        a = input(\"첫 번재 숫자를 입력하세요: \")\n",
    "        # 문자 방지\n",
    "        if a.isdecimal():\n",
    "           break\n",
    "        else:\n",
    "            continue\n",
    "    while(True):\n",
    "        b = input(\"두 번재 숫자를 입력하세요: \")\n",
    "        if b.isdecimal():\n",
    "           break\n",
    "        else:\n",
    "            continue\n",
    "    print(f\"{a} + {b} = {int(a)+int(b)}\")\n"
   ],
   "outputs": [],
   "execution_count": 35
  },
  {
   "cell_type": "code",
   "metadata": {
    "id": "TA_0uSezYJsK",
    "ExecuteTime": {
     "end_time": "2025-08-10T07:56:45.227338Z",
     "start_time": "2025-08-10T07:56:39.392136Z"
    }
   },
   "source": [
    "# 프로그램 실행\n",
    "add_numbers()"
   ],
   "outputs": [
    {
     "name": "stdout",
     "output_type": "stream",
     "text": [
      "1 + 40 = 41\n"
     ]
    }
   ],
   "execution_count": 36
  },
  {
   "cell_type": "markdown",
   "metadata": {
    "id": "AOeljAinFnxF"
   },
   "source": [
    "### 문제3. 카운트다운 타이머"
   ]
  },
  {
   "cell_type": "markdown",
   "metadata": {
    "id": "cvg3_x06FnxG"
   },
   "source": [
    "- **문제 설명**  \n",
    "  사용자로부터 시간(초)을 입력받아 해당 시간만큼 카운트 다운을 진행한 후, \"타이머 종료!\"를 출력하고 프로그램이 종료됩니다. 매 초마다 남은 시간을 화면에 출력합니다.\n",
    "\n",
    "- **함수 설명**     \n",
    "  \n",
    "  `count_down(seconds: int)`:  \n",
    "  - seconds: 카운트 다운할 시간(초)입니다.\n",
    "  - 입력받은 초만큼 카운트 다운을 진행하며, 매 초마다 남은 시간을 출력합니다.\n",
    "  - 시간이 종료되면 \"타이머 종료!\"를 출력하고 프로그램을 종료합니다.\n",
    "\n",
    "- **입출력 예시**\n",
    "\n",
    "  - 입력:\n",
    "    ```\n",
    "    타이머를 시작할 시간(초)을 입력하세요: 5\n",
    "    ```\n",
    "\n",
    "  - 출력:\n",
    "    ```\n",
    "    타이머 시작!\n",
    "    5\n",
    "    4\n",
    "    3\n",
    "    2\n",
    "    1\n",
    "    타이머 종료!\n",
    "    ```"
   ]
  },
  {
   "cell_type": "code",
   "execution_count": 335,
   "metadata": {
    "ExecuteTime": {
     "end_time": "2025-08-08T09:09:12.744712Z",
     "start_time": "2025-08-08T09:09:12.741034Z"
    },
    "id": "5PkfT7ZTFnxG"
   },
   "outputs": [],
   "source": [
    "# 문제\n",
    "import time\n",
    "def countdown_timer(seconds):\n",
    "    print(\"타이머 시작!\")\n",
    "    for sec in range(seconds, 0, -1):\n",
    "        time.sleep(1)\n",
    "        print(sec)\n",
    "    time.sleep(1)\n",
    "    print(\"타이머 종료\")"
   ]
  },
  {
   "cell_type": "code",
   "execution_count": 336,
   "metadata": {
    "ExecuteTime": {
     "end_time": "2025-08-08T09:09:19.192902Z",
     "start_time": "2025-08-08T09:09:13.173871Z"
    },
    "id": "Uqb2vhP4YLoy"
   },
   "outputs": [
    {
     "name": "stdout",
     "output_type": "stream",
     "text": [
      "타이머 시작!\n",
      "5\n",
      "4\n",
      "3\n",
      "2\n",
      "1\n",
      "타이머 종료\n"
     ]
    }
   ],
   "source": [
    "# 프로그램 실행\n",
    "countdown_timer(5)"
   ]
  },
  {
   "cell_type": "markdown",
   "metadata": {
    "id": "HQMkKObNAr4s"
   },
   "source": [
    "# **객체와 클래스**"
   ]
  },
  {
   "cell_type": "markdown",
   "metadata": {
    "id": "ko02FG9WGubi"
   },
   "source": [
    "## 기초(2문제)"
   ]
  },
  {
   "cell_type": "markdown",
   "metadata": {
    "id": "DuBZXjwCGwvs"
   },
   "source": [
    "### 문제1. 시간 추적 클래스(TimeTracker)"
   ]
  },
  {
   "cell_type": "markdown",
   "metadata": {
    "id": "C6_k548JGygZ"
   },
   "source": [
    "- **실습 설명**\n",
    "\n",
    "  시간을 관리하고 추적하는 `TimeTracker` 클래스를 구현하는 프로젝트를 시작합니다. 시간 관리 기능은 특히 프로젝트 작업, 운동, 공부 시간 등 다양한 활동의 지속 시간을 측정하는 데 유용합니다.\n",
    "\n",
    "  `TimeTracker` 클래스는 다음 기능을 제공해야 합니다:\n",
    "\n",
    "  1. **시작 시간 설정**: 사용자가 활동을 시작할 때의 시간을 기록합니다.\n",
    "  2. **종료 시간 설정**: 사용자가 활동을 종료할 때의 시간을 기록합니다.\n",
    "  3. **경과 시간 계산**: 활동의 시작과 종료 사이의 시간 차이를 계산합니다.\n",
    "\n",
    "  이 클래스의 인스턴스를 사용하여 각각의 활동에 대해 별도의 시간 추적을 할 수 있어야 합니다.\n",
    "\n",
    "- **구현해야 할 메소드**\n",
    "\n",
    "  - `start`: 현재 시간을 시작 시간으로 설정합니다.\n",
    "  - `stop`: 현재 시간을 종료 시간으로 설정하고 경과 시간을 계산합니다.\n",
    "  - `get_elapsed_time`: 마지막으로 기록된 시작 시간과 종료 시간 사이의 경과 시간을 분 단위로 반환합니다.\n",
    "\n",
    "- **실습 결과 예시**\n",
    "\n",
    "  다음과 같은 코드를 실행했을 때의 출력 예시입니다:\n",
    "\n",
    "  ```python\n",
    "  study_session = TimeTracker()\n",
    "  study_session.start()\n",
    "  # 1시간 30분 경과(가정)\n",
    "  study_session.stop()\n",
    "\n",
    "  print(\"활동 시간:\", study_session.get_elapsed_time(), \"분\")\n",
    "  ```\n",
    "\n",
    "  예상 출력:\n",
    "\n",
    "  ```\n",
    "  공부한 시간: 90 분\n",
    "  ```\n",
    "\n",
    "- **요구 사항**\n",
    "\n",
    "  1. 실제 시간을 추적하려면 Python의 `datetime` 모듈을 사용하여 현재 시간을 `datetime.now()`로 가져올 수 있습니다.\n",
    "  2. 경과 시간은 분 단위로 반환해야 합니다."
   ]
  },
  {
   "cell_type": "code",
   "execution_count": 157,
   "metadata": {
    "ExecuteTime": {
     "end_time": "2025-08-08T05:55:27.457323Z",
     "start_time": "2025-08-08T05:55:27.454864Z"
    },
    "id": "h7RXJAbAAvUZ"
   },
   "outputs": [],
   "source": [
    "import datetime\n",
    "# 문제\n",
    "class TimeTracker:\n",
    "\n",
    "    def __init__(self):\n",
    "        self.start_time = None\n",
    "        self.stop_time = None\n",
    "\n",
    "    # 타이머 시작 함수\n",
    "    def start(self):\n",
    "        self.start_time = datetime.datetime.now()\n",
    "    # 타이머 종료 함수\n",
    "    def stop(self):\n",
    "        self.stop_time = datetime.datetime.now()\n",
    "    # 종료 - 시작 시간 계산 함수\n",
    "    def get_elapsed_time(self):\n",
    "        return int((self.stop_time - self.start_time).total_seconds() // 60)\n",
    "\n",
    "\n"
   ]
  },
  {
   "cell_type": "code",
   "execution_count": 158,
   "metadata": {
    "ExecuteTime": {
     "end_time": "2025-08-08T05:55:28.030403Z",
     "start_time": "2025-08-08T05:55:28.028805Z"
    },
    "id": "AsvTxp19Xyuo"
   },
   "outputs": [],
   "source": [
    "# 사용 예시\n",
    "# 활동 시작\n",
    "study_session = TimeTracker()\n",
    "study_session.start()"
   ]
  },
  {
   "cell_type": "code",
   "execution_count": 159,
   "metadata": {
    "ExecuteTime": {
     "end_time": "2025-08-08T05:55:28.474119Z",
     "start_time": "2025-08-08T05:55:28.472352Z"
    },
    "id": "2eSYFcojj476"
   },
   "outputs": [
    {
     "name": "stdout",
     "output_type": "stream",
     "text": [
      "공부한 시간: 0 분\n"
     ]
    }
   ],
   "source": [
    "# 활동 종료\n",
    "study_session.stop()\n",
    "print(\"공부한 시간:\", study_session.get_elapsed_time(), \"분\")"
   ]
  },
  {
   "cell_type": "markdown",
   "metadata": {
    "id": "aS6kmb2nHQ8J"
   },
   "source": [
    "### 문제2. 주소록 클래스"
   ]
  },
  {
   "cell_type": "markdown",
   "metadata": {
    "id": "HUmjzWzpHS3Z"
   },
   "source": [
    "\n",
    "\n",
    "- **실습 설명**\n",
    "\n",
    "  주소록 관리 시스템을 위한 `Contact` 클래스를 구현하는 프로젝트를 시작합니다. 이 클래스는 개인의 기본 연락처 정보를 저장하고 관리하는 데 사용됩니다.\n",
    "\n",
    "  `Contact` 클래스는 다음 정보를 저장할 수 있어야 합니다:\n",
    "\n",
    "  - 이름(name)\n",
    "  - 전화번호(phone number)\n",
    "  - 이메일 주소(email address)\n",
    "\n",
    "  클래스는 이 정보를 효율적으로 관리할 수 있는 기능을 제공해야 합니다.\n",
    "\n",
    "\n",
    "- **구현해야 할 메소드**\n",
    "\n",
    "  - `__init__`: 객체를 생성할 때 이름, 전화번호, 이메일 주소를 초기화합니다.\n",
    "  - `__str__`: 연락처의 정보를 예쁘게 출력할 수 있는 문자열로 반환합니다. 이 문자열은 연락처 정보를 한눈에 알아볼 수 있도록 포맷팅됩니다.\n",
    "\n",
    "\n",
    "                                       \n",
    "\n",
    "- **실습 결과 예시**\n",
    "\n",
    "  다음과 같은 코드를 실행했을 때의 출력 예시입니다:\n",
    "\n",
    "  ```python\n",
    "  friend = Contact(\"Jane Doe\", \"010-1234-5678\", \"jane@example.com\")\n",
    "  print(friend)\n",
    "  ```\n",
    "\n",
    "  예상 출력:\n",
    "\n",
    "  ```\n",
    "  이름: Jane Doe\n",
    "  전화번호: 010-1234-5678\n",
    "  이메일: jane@example.com\n",
    "  ```\n",
    "\n",
    "- **요구 사항**\n",
    "\n",
    "  - 모든 입력 데이터는 문자열로 처리해야 합니다.\n",
    "  - 연락처 정보를 적절하게 포맷팅하여 출력할 수 있어야 합니다."
   ]
  },
  {
   "cell_type": "code",
   "metadata": {
    "id": "YGmtWN0_HGxo",
    "ExecuteTime": {
     "end_time": "2025-08-10T08:02:29.451795Z",
     "start_time": "2025-08-10T08:02:29.449137Z"
    }
   },
   "source": [
    "# 문제\n",
    "class Contact:\n",
    "    def __init__(self, name, phone_number, email):\n",
    "        self.name = name\n",
    "        self.phone_number = phone_number\n",
    "        self.email = email\n",
    "\n",
    "\n",
    "    def __str__(self):\n",
    "        return f\"이름: {self.name}\\n전화번호: {self.phone_number}\\n이메일: {self.email}\""
   ],
   "outputs": [],
   "execution_count": 46
  },
  {
   "cell_type": "code",
   "metadata": {
    "id": "_YsspEH3ZPHN",
    "ExecuteTime": {
     "end_time": "2025-08-10T08:02:47.378766Z",
     "start_time": "2025-08-10T08:02:47.376365Z"
    }
   },
   "source": [
    "# 사용 예시\n",
    "friend = Contact(\"Jane Doe\", \"010-1234-5678\", \"jane@example.com\")\n",
    "print(friend)"
   ],
   "outputs": [
    {
     "name": "stdout",
     "output_type": "stream",
     "text": [
      "이름: Jane Doe\n",
      "전화번호: 010-1234-5678\n",
      "이메일: jane@example.com\n"
     ]
    },
    {
     "data": {
      "text/plain": [
       "'이름: Jane Doe\\n전화번호: 010-1234-5678\\n이메일: jane@example.com'"
      ]
     },
     "execution_count": 50,
     "metadata": {},
     "output_type": "execute_result"
    }
   ],
   "execution_count": 50
  },
  {
   "cell_type": "markdown",
   "metadata": {
    "id": "wehB6bRNH4cD"
   },
   "source": [
    "## 응용(4문제)"
   ]
  },
  {
   "cell_type": "markdown",
   "metadata": {
    "id": "OVzp80MqHkf1"
   },
   "source": [
    "### 문제1. 투표 시스템 클래스"
   ]
  },
  {
   "cell_type": "markdown",
   "metadata": {
    "id": "HL5-6uKyHksh"
   },
   "source": [
    "- **실습 설명**\n",
    "\n",
    "  간단한 투표 시스템을 위한 `VoteSystem` 클래스를 구현하는 프로젝트를 시작합니다. 이 시스템은 후보자 목록을 관리하고, 각 후보자에 대한 투표를 집계하는 기능을 제공합니다.\n",
    "\n",
    "  `VoteSystem` 클래스는 다음 기능을 제공해야 합니다:\n",
    "\n",
    "  - 후보자 등록\n",
    "  - 투표 기능\n",
    "  - 투표 결과 조회\n",
    "\n",
    "- **구현해야 할 메소드**\n",
    "\n",
    "  - `add_candidate`: 후보자를 등록합니다. 후보자의 이름을 입력받아 목록에 추가합니다.\n",
    "  - `vote`: 특정 후보자에게 투표합니다. 투표하려는 후보자의 이름을 입력받습니다.\n",
    "  - `get_results`: 각 후보자의 투표 수를 출력합니다.\n",
    "\n",
    "- **실습 결과 예시**\n",
    "\n",
    "  - 다음과 같은 코드를 실행했을 때의 출력 예시입니다:\n",
    "\n",
    "    ```python\n",
    "    voting_system = VoteSystem()\n",
    "    voting_system.add_candidate(\"Alice\")\n",
    "    voting_system.add_candidate(\"Bob\")\n",
    "    voting_system.add_candidate(\"Charlie\")\n",
    "\n",
    "    voting_system.vote(\"Alice\")\n",
    "    voting_system.vote(\"Alice\")\n",
    "    voting_system.vote(\"Bob\")\n",
    "\n",
    "    voting_system.get_results()\n",
    "    ```\n",
    "\n",
    "  - 예상 출력:\n",
    "\n",
    "    ```\n",
    "    Alice 후보가 성공적으로 등록되었습니다.\n",
    "    Bob 후보가 성공적으로 등록되었습니다.\n",
    "    Charlie 후보가 성공적으로 등록되었습니다.\n",
    "    Alice에게 투표하였습니다.\n",
    "    Alice에게 투표하였습니다.\n",
    "    Bob에게 투표하였습니다.\n",
    "    투표 결과:\n",
    "    Alice: 2 votes\n",
    "    Bob: 1 vote\n",
    "    Charlie: 0 votes\n",
    "    ```\n",
    "\n",
    "- **요구 사항**\n",
    "\n",
    "  - 후보자는 중복 등록될 수 없습니다.\n",
    "  - 등록되지 않은 후보자에게 투표할 수 없습니다.\n",
    "  - 각 후보자의 이름과 투표 수는 사전(dictionary)을 사용하여 관리합니다."
   ]
  },
  {
   "cell_type": "code",
   "execution_count": 192,
   "metadata": {
    "ExecuteTime": {
     "end_time": "2025-08-08T06:15:37.209380Z",
     "start_time": "2025-08-08T06:15:37.203939Z"
    },
    "id": "hNWovpBKHmjW"
   },
   "outputs": [],
   "source": [
    "# 문제\n",
    "class VoteSystem:\n",
    "    candidates = dict()\n",
    "\n",
    "    # 후보 등록 함수. 후보가 들어오면 dict에 후보 추가\n",
    "    @classmethod\n",
    "    def add_candidate(cls, candidate):\n",
    "        if candidate not in cls.candidates:\n",
    "            cls.candidates[candidate] = 0\n",
    "            print(f\"{candidate} 후보가 성공적으로 등록되었습니다.\")\n",
    "        else:\n",
    "            print(\"이미 등록된 후보입니다.\")\n",
    "\n",
    "\n",
    "    # 투표 함수. 표를 얻은 사람의 value + 1\n",
    "    @classmethod\n",
    "    def vote(cls, candidate):\n",
    "        cls.candidates[candidate] += 1\n",
    "        print(f\"{candidate}에게 투표하였습니다.\")\n",
    "\n",
    "\n",
    "    # 결과 출력 함수\n",
    "    @classmethod\n",
    "    def get_results(cls):\n",
    "        print(\"투표 결과\")\n",
    "        for candidate, votes in cls.candidates.items():\n",
    "            print(f\"{candidate}: {votes} votes\")\n",
    "\n",
    "\n"
   ]
  },
  {
   "cell_type": "code",
   "execution_count": 193,
   "metadata": {
    "ExecuteTime": {
     "end_time": "2025-08-08T06:15:39.764507Z",
     "start_time": "2025-08-08T06:15:39.762230Z"
    },
    "id": "c6aW0c4tZc8W"
   },
   "outputs": [
    {
     "name": "stdout",
     "output_type": "stream",
     "text": [
      "Alice 후보가 성공적으로 등록되었습니다.\n",
      "Bob 후보가 성공적으로 등록되었습니다.\n",
      "Charlie 후보가 성공적으로 등록되었습니다.\n",
      "Alice에게 투표하였습니다.\n",
      "Alice에게 투표하였습니다.\n",
      "Bob에게 투표하였습니다.\n",
      "투표 결과\n",
      "Alice: 2 votes\n",
      "Bob: 1 votes\n",
      "Charlie: 0 votes\n"
     ]
    }
   ],
   "source": [
    "# 사용 예시\n",
    "voting_system = VoteSystem()\n",
    "voting_system.add_candidate(\"Alice\")\n",
    "voting_system.add_candidate(\"Bob\")\n",
    "voting_system.add_candidate(\"Charlie\")\n",
    "\n",
    "voting_system.vote(\"Alice\")\n",
    "voting_system.vote(\"Alice\")\n",
    "voting_system.vote(\"Bob\")\n",
    "\n",
    "voting_system.get_results()"
   ]
  },
  {
   "cell_type": "markdown",
   "metadata": {
    "id": "jAlpA07gH7B2"
   },
   "source": [
    "### 문제2. 은행 계좌 클래스"
   ]
  },
  {
   "cell_type": "markdown",
   "metadata": {
    "id": "AiGBIJWpH7B4"
   },
   "source": [
    "- **실습 설명**\n",
    "\n",
    "  간단한 은행 계좌 관리 시스템을 위한 `BankAccount` 클래스를 구현하는 프로젝트를 시작합니다. 이 클래스는 개인의 은행 계좌 정보를 관리하고 기본적인 은행 거래 기능을 제공합니다.\n",
    "\n",
    "  `BankAccount` 클래스는 다음 정보와 기능을 제공해야 합니다:\n",
    "\n",
    "  - 계좌 번호(account number)\n",
    "  - 소유자 이름(account holder)\n",
    "  - 현재 잔액(balance)\n",
    "\n",
    "- **구현해야 할 메소드**\n",
    "\n",
    "  - `__init__`: 객체 생성 시 계좌 번호, 소유자 이름, 초기 잔액을 설정합니다.\n",
    "  - `deposit`: 계좌에 금액을 입금합니다. 입금할 금액을 인자로 받고, 잔액을 업데이트합니다.\n",
    "  - `withdraw`: 계좌에서 금액을 출금합니다. 출금할 금액을 인자로 받고, 잔액이 충분할 경우에만 출금을 허용하고 잔액을 업데이트합니다.\n",
    "  - `get_balance`: 현재 계좌 잔액을 반환합니다.\n",
    "\n",
    "- **실습 결과 예시**\n",
    "\n",
    "  - 다음과 같은 코드를 실행했을 때의 출력 예시입니다:\n",
    "\n",
    "    ```python\n",
    "    my_account = BankAccount(\"123-456-789\", \"김철수\", 100000)\n",
    "    my_account.deposit(50000)\n",
    "    my_account.withdraw(20000)\n",
    "    print(f\"현재 잔액: {my_account.get_balance()}원\")\n",
    "    ```\n",
    "\n",
    "  - 예상 출력:\n",
    "\n",
    "    ```\n",
    "    김철수님의 계좌 123-456-789가 개설되었습니다. 초기 잔액: 100000원\n",
    "    50000원이 입금되었습니다. 현재 잔액: 150000원\n",
    "    20000원이 출금되었습니다. 현재 잔액: 130000원\n",
    "    현재 잔액: 130000원\n",
    "    ```\n",
    "\n",
    "\n",
    "- **요구 사항**\n",
    "\n",
    "  - 계좌에서 출금 시도 시 잔액보다 많은 금액을 출금하려고 하면, 출금을 거부하고 경고 메시지를 출력해야 합니다.\n",
    "  - 모든 금액은 정수 또는 실수로 처리될 수 있어야 하며, 화폐 단위로만 입력받습니다.\n",
    "  - 계좌 생성, 입금, 출금 및 잔액 조회 기능을 모두 구현해야 합니다."
   ]
  },
  {
   "cell_type": "code",
   "execution_count": 194,
   "metadata": {
    "ExecuteTime": {
     "end_time": "2025-08-08T06:22:19.503243Z",
     "start_time": "2025-08-08T06:22:19.497206Z"
    },
    "id": "fnpMUQf7H7B5"
   },
   "outputs": [],
   "source": [
    "# 문제\n",
    "class BankAccount:\n",
    "    def __init__(self, account_number, account_holder, balance):\n",
    "        self.account_number = account_number\n",
    "        self.account_holder = account_holder\n",
    "        self.balance = balance\n",
    "        print(f\"{self.account_holder}님의 계좌 {self.account_number}가 개설되었습니다. 초기 잔액: {self.balance}\")\n",
    "\n",
    "    # 입금 함수\n",
    "    def deposit(self, amount):\n",
    "        self.balance += amount\n",
    "        print(f\"{amount}원이 입금되었습니다. 현재 잔액: {self.balance}\")\n",
    "\n",
    "    # 출금 함수, 돈이 없으면 출금 불가\n",
    "    def withdraw(self, amount):\n",
    "        if self.balance < amount:   # 돈이 부족할 시\n",
    "            print(f\"잔액이 부족합니다. 현재 잔액: {self.balance}\")\n",
    "        else:                       # 돈이 충분할 시\n",
    "            self.balance -= amount\n",
    "            print(f\"{amount}원이 출금되었습니다. 현재 잔액: {self.balance}\")\n",
    "\n",
    "    # 잔액 확인 함수\n",
    "    def get_balance(self):\n",
    "        return self.balance\n"
   ]
  },
  {
   "cell_type": "code",
   "execution_count": 195,
   "metadata": {
    "ExecuteTime": {
     "end_time": "2025-08-08T06:22:21.828690Z",
     "start_time": "2025-08-08T06:22:21.826062Z"
    },
    "id": "vugx-M0TZt_G"
   },
   "outputs": [
    {
     "name": "stdout",
     "output_type": "stream",
     "text": [
      "김철수님의 계좌 123-456-789가 개설되었습니다. 초기 잔액: 100000\n",
      "50000원이 입금되었습니다. 현재 잔액: 150000\n",
      "20000원이 출금되었습니다. 현재 잔액:130000\n",
      "현재 잔액: 130000원\n"
     ]
    }
   ],
   "source": [
    "# 사용 예시\n",
    "my_account = BankAccount(\"123-456-789\", \"김철수\", 100000)\n",
    "my_account.deposit(50000)\n",
    "my_account.withdraw(20000)\n",
    "print(f\"현재 잔액: {my_account.get_balance()}원\")"
   ]
  },
  {
   "cell_type": "markdown",
   "metadata": {
    "id": "gLGgyxNbH7JN"
   },
   "source": [
    "### 문제3. 직원 관리 클래스"
   ]
  },
  {
   "cell_type": "markdown",
   "metadata": {
    "id": "E4YmPRZ6H7JS"
   },
   "source": [
    "- **실습 설명**\n",
    "\n",
    "  당신은 회사의 HR 부서에서 일하며, 회사 내 모든 직원의 급여 정보를 관리하는 시스템을 개발할 임무를 맡았습니다. 이 시스템은 직원들의 정보를 저장하고, 전체 직원의 평균 급여를 계산하는 기능을 제공해야 합니다.\n",
    "\n",
    "  `EmployeeManager` 클래스는 다음 기능을 제공해야 합니다:\n",
    "\n",
    "  - **직원 추가**: 새로운 직원의 정보를 시스템에 추가합니다. 직원의 이름과 급여 정보를 저장합니다.\n",
    "  - **급여 평균 계산**: 클래스 메서드를 사용하여 모든 직원의 급여 평균을 계산합니다. 이 메서드는 저장된 모든 직원의 급여 정보를 집계하여 평균 급여를 계산하고 출력합니다.\n",
    "\n",
    "- **구현해야 할 메소드**\n",
    "\n",
    "  - `__init__`: 직원의 이름과 급여를 초기화하고, 직원 정보를 클래스 변수에 저장합니다.\n",
    "  - `calculate_average_salary`: 클래스 메서드로 구현되며, `EmployeeManager`에 저장된 모든 직원의 급여 평균을 계산합니다.\n",
    "\n",
    "- **실습 결과 예시**\n",
    "\n",
    "  - 다음과 같은 코드를 실행했을 때의 출력 예시입니다:\n",
    "\n",
    "    ```python\n",
    "    emp1 = EmployeeManager(\"홍길동\", 50000)\n",
    "    emp2 = EmployeeManager(\"김철수\", 60000)\n",
    "\n",
    "    EmployeeManager.calculate_average_salary()\n",
    "    ```\n",
    "\n",
    "  - 예상 출력:\n",
    "\n",
    "    ```\n",
    "    홍길동 님이 추가되었습니다. 급여: 50000원\n",
    "    김철수 님이 추가되었습니다. 급여: 60000원\n",
    "    전체 직원의 평균 급여: 55000원\n",
    "    ```\n",
    "\n",
    "- **요구 사항**\n",
    "\n",
    "  - 직원 정보는 클래스 변수 `employees`에 저장되어 전체 `EmployeeManager` 인스턴스에서 접근 가능해야 합니다.\n",
    "  - `calculate_average_salary` 메서드는 저장된 모든 직원의 급여를 합산하여 평균을 출력하고, 직원이 없는 경우 0을 반환해야 합니다."
   ]
  },
  {
   "cell_type": "code",
   "execution_count": 212,
   "metadata": {
    "ExecuteTime": {
     "end_time": "2025-08-08T06:36:54.331806Z",
     "start_time": "2025-08-08T06:36:54.328637Z"
    },
    "id": "vRuY2rAXImzi"
   },
   "outputs": [],
   "source": [
    "# 문제\n",
    "class EmployeeManager:\n",
    "\n",
    "    employees = []\n",
    "\n",
    "    def __init__(self, name, salary):\n",
    "        self.name = name\n",
    "        self.salary = salary\n",
    "        EmployeeManager.employees.append(self)\n",
    "        print(f\"{self.name} 님이 추가되었습니다. 급여: {self.salary}\")\n",
    "\n",
    "\n",
    "    # 직원들의 평균 연봉 확인 함수\n",
    "    @classmethod\n",
    "    def calculate_average_salary(cls):\n",
    "\n",
    "        length_arr = len(cls.employees)\n",
    "        sum_em = 0\n",
    "\n",
    "        salaries = [emp.salary for emp in cls.employees]\n",
    "        sum_em = sum(salaries)\n",
    "\n",
    "        print(f\"전체 직원의 평균 급여: {sum_em/length_arr}원\")\n",
    "\n"
   ]
  },
  {
   "cell_type": "code",
   "execution_count": 213,
   "metadata": {
    "ExecuteTime": {
     "end_time": "2025-08-08T06:36:55.971966Z",
     "start_time": "2025-08-08T06:36:55.969885Z"
    },
    "id": "_Q8vSlR8Z0Y7"
   },
   "outputs": [
    {
     "name": "stdout",
     "output_type": "stream",
     "text": [
      "홍길동 님이 추가되었습니다. 급여: 50000\n",
      "김철수 님이 추가되었습니다. 급여: 60000\n",
      "전체 직원의 평균 급여: 55000.0원\n"
     ]
    }
   ],
   "source": [
    "# 사용 예시\n",
    "emp1 = EmployeeManager(\"홍길동\", 50000)\n",
    "emp2 = EmployeeManager(\"김철수\", 60000)\n",
    "\n",
    "EmployeeManager.calculate_average_salary()"
   ]
  },
  {
   "cell_type": "markdown",
   "metadata": {
    "id": "vbeAqh9rIjFc"
   },
   "source": [
    "### 문제4. 프랜차이즈 레스토랑 관리 클래스"
   ]
  },
  {
   "cell_type": "markdown",
   "metadata": {
    "id": "LzZjOpGlIlYk"
   },
   "source": [
    "\n",
    "- **실습 설명**\n",
    "\n",
    "  당신은 여러 지점을 가진 레스토랑 체인의 IT 팀에서 일하며, 각 지점의 예약을 관리하고 중앙에서 예약 현황을 파악할 수 있는 시스템을 개발할 임무를 맡았습니다. 이 시스템은 각 지점의 예약 상황을 관리하고, 고객의 예약 요청을 효과적으로 처리할 수 있는 기능을 제공해야 합니다.\n",
    "\n",
    "  `ReservationSystem` 클래스는 각 레스토랑 지점의 예약을 관리하며, 다음 기능을 제공해야 합니다:\n",
    "\n",
    "  - **예약 추가**: 고객이 특정 지점, 예약 일시, 인원 수에 대한 예약을 요청하면 시스템에 추가합니다.\n",
    "  - **예약 취소**: 고객이 예약을 취소할 수 있으며, 해당 예약을 시스템에서 제거합니다.\n",
    "  - **예약 조회**: 특정 지점의 모든 예약 상황을 확인할 수 있습니다.\n",
    "  - **예약 집계**: 모든 지점의 예약 수를 합산합니다. 이 메서드는 모든 `ReservationSystem` 인스턴스의 예약 수를 합산하여 보여줍니다.\n",
    "\n",
    "- **구현해야 할 메소드**\n",
    "\n",
    "  - `__init__`: 레스토랑 지점의 이름을 초기화하고 예약 리스트를 관리합니다.\n",
    "  - `add_reservation`: 새로운 예약을 추가합니다. 이 메서드는 예약자 이름, 예약 일시, 인원 수를 받아 저장합니다.\n",
    "  - `list_reservations`: 현재 지점의 모든 예약 상태를 출력합니다.\n",
    "  - `sum_reservations`: 주어진 `ReservationSystem` 인스턴스 리스트에서 모든 예약 수를 합산합니다.\n",
    "\n",
    "- **실습 결과 예시**\n",
    "  \n",
    "  - 다음과 같은 코드를 실행했을 때의 출력 예시입니다:\n",
    "\n",
    "    ```python\n",
    "    restaurant1 = ReservationSystem(\"강남점\")\n",
    "    restaurant2 = ReservationSystem(\"홍대점\")\n",
    "\n",
    "    restaurant1.add_reservation(\"홍길동\", \"2024-05-20\", 4)\n",
    "    restaurant2.add_reservation(\"김철수\", \"2024-05-21\", 2)\n",
    "\n",
    "    restaurant1.list_reservations()\n",
    "    restaurant2.list_reservations()\n",
    "\n",
    "    total_reservations = ReservationSystem.sum_reservations([restaurant1, restaurant2])\n",
    "    print(f\"전체 레스토랑 예약 수: {total_reservations}\")\n",
    "    ```\n",
    "\n",
    "  - 예상 출력:\n",
    "\n",
    "    ```\n",
    "    강남점 예약 목록:\n",
    "    - 홍길동, 2024-05-20, 4명\n",
    "    홍대점 예약 목록:\n",
    "    - 김철수, 2024-05-21, 2명\n",
    "    전체 레스토랑 예약 수: 2\n",
    "    ```\n",
    "\n",
    "- **요구 사항**\n",
    "\n",
    "  - 모든 출력 메시지는 한국어로 제공되어야 합니다.\n",
    "  - 각 메서드는 적절한 입력 검증과 예외 처리를 포함해야 합니다.\n",
    "  - `sum_reservations` 클래스 메서드는 모든 지점에서의 예약 수를 효과적으로 합산하여 전체 예약 상태를 중앙에서 확인할 수 있게 합니다."
   ]
  },
  {
   "cell_type": "code",
   "execution_count": 230,
   "metadata": {
    "ExecuteTime": {
     "end_time": "2025-08-08T07:22:44.581729Z",
     "start_time": "2025-08-08T07:22:44.575704Z"
    },
    "id": "3SEG3Jh-JBha"
   },
   "outputs": [],
   "source": [
    "# 문제\n",
    "class ReservationSystem:\n",
    "\n",
    "    cnt = 0\n",
    "\n",
    "    def __init__(self, location):\n",
    "        self.location = location\n",
    "        # 여러 예약자를 넣을 리스트\n",
    "        self.reservations = []\n",
    "\n",
    "\n",
    "    # 레스토랑 예약 함수\n",
    "    def add_reservation(self, name, date, people):\n",
    "        self.reservations.append({\"name\": name, \"date\": date, \"people\": people})\n",
    "        ReservationSystem.cnt += 1\n",
    "\n",
    "    # 해당 인스턴스(레스토랑)의 예약 현황 불러오기\n",
    "    def list_reservations(self):\n",
    "        print(f\"{self.location} 예약 목록:\")\n",
    "\n",
    "        # 리스트(강남점 레스토랑) 내의 딕셔너리(홍길동, 김철수, 등등) 내의 변수(이름, 날짜, 인원 수) 가져오기\n",
    "        for reservation in self.reservations:\n",
    "            print(f\"- {reservation['name']}, {reservation['date']}, {reservation['people']}\")\n",
    "\n",
    "    # 전체 예약 수(cnt) 가져오기, 파라미터로 받은 인스턴스의 리스트내의 개수 안 세도 될듯.\n",
    "    @classmethod\n",
    "    def sum_reservations(cls, reservations):\n",
    "        return cls.cnt\n",
    "\n",
    "\n"
   ]
  },
  {
   "cell_type": "code",
   "execution_count": 231,
   "metadata": {
    "ExecuteTime": {
     "end_time": "2025-08-08T07:22:44.985390Z",
     "start_time": "2025-08-08T07:22:44.982872Z"
    },
    "id": "B5OAo28nZ4_z"
   },
   "outputs": [
    {
     "name": "stdout",
     "output_type": "stream",
     "text": [
      "강남점 예약 목록:\n",
      "- 홍길동, 2024-05-20, 4\n",
      "홍대점 예약 목록:\n",
      "- 김철수, 2024-05-21, 2\n",
      "전체 레스토랑 예약 수: 2\n"
     ]
    }
   ],
   "source": [
    "# 사용 예시\n",
    "restaurant1 = ReservationSystem(\"강남점\")\n",
    "restaurant2 = ReservationSystem(\"홍대점\")\n",
    "\n",
    "restaurant1.add_reservation(\"홍길동\", \"2024-05-20\", 4)\n",
    "\n",
    "restaurant2.add_reservation(\"김철수\", \"2024-05-21\", 2)\n",
    "\n",
    "restaurant1.list_reservations()\n",
    "restaurant2.list_reservations()\n",
    "\n",
    "total_reservations = ReservationSystem.sum_reservations([restaurant1, restaurant2])\n",
    "print(f\"전체 레스토랑 예약 수: {total_reservations}\")"
   ]
  },
  {
   "cell_type": "markdown",
   "metadata": {
    "id": "bkd6-iPqJb5w"
   },
   "source": [
    "# **심화 문제**\n",
    "\n",
    "심화 문제는 채점에 포함되지 않습니다. 편한 마음으로 도전해 보세요."
   ]
  },
  {
   "cell_type": "markdown",
   "metadata": {
    "id": "mzIDKWPjWZqc"
   },
   "source": [
    "## 심화(4문제)"
   ]
  },
  {
   "cell_type": "markdown",
   "metadata": {
    "id": "sSy0kCSEJjIa"
   },
   "source": [
    "### 문제1. 시간 관리 프로그램"
   ]
  },
  {
   "cell_type": "markdown",
   "metadata": {
    "id": "4iGvFHpgJ5b4"
   },
   "source": [
    "- **실습 설명**\n",
    "\n",
    "  이 프로그램은 사용자가 제한된 시간 내에 최대한 많은 일을 수행할 수 있도록 돕습니다. 할 일과 각각의 소요 시간이 CSV 파일에 저장되어 있으며, 사용자는 이 데이터와 자신에게 남은 시간을 입력하여 이용할 수 있습니다. 프로그램은 사용자가 입력한 시간 내에서 가능한 최대한 많은 할 일을 선택하고, 선택된 할 일을 소요 시간이 짧은 순으로 정렬하여 출력합니다. 이를 통해 사용자는 가장 시간을 최적화하여 일정을 관리할 수 있습니다.\n",
    "\n",
    "- **기능 설명**\n",
    "  - 데이터 읽기: 사용자로부터 CSV 파일 경로를 입력받아 파일을 읽습니다. 파일은 각 할 일과 그에 소요되는 시간을 포함합니다.\n",
    "  - 할 일 선택: 사용자에게 남은 시간을 입력받습니다. 이 시간을 기준으로 할 수 있는 최대한의 할 일을 선택합니다.\n",
    "  - 결과 출력: 선택된 할 일을 소요 시간이 짧은 순으로 정렬하여 출력합니다. 출력 형식은 목록 형태로 할 일과 예상 소요 시간을 포함합니다.\n",
    "\n",
    "- **입출력 예시**\n",
    "\n",
    "    - 할 일 및 소요 시간 CSV 파일 예시 (`tasks.csv`):\n",
    "        ```\n",
    "        할일,소요시간\n",
    "        공부하기,120\n",
    "        운동하기,60\n",
    "        가계부정리,30\n",
    "        영화보기,150\n",
    "        ```\n",
    "\n",
    "    - 입력:\n",
    "        ```\n",
    "        남은 시간(분): 210\n",
    "        ```\n",
    "\n",
    "    - 출력:\n",
    "        ```\n",
    "        선택된 할 일 목록:\n",
    "        1. 가계부정리 - 예상 소요 시간: 30분\n",
    "        2. 운동하기 - 예상 소요 시간: 60분\n",
    "        3. 공부하기 - 예상 소요 시간: 120분\n",
    "        ```"
   ]
  },
  {
   "cell_type": "code",
   "execution_count": 1,
   "metadata": {
    "ExecuteTime": {
     "end_time": "2025-08-10T07:33:39.677352Z",
     "start_time": "2025-08-10T07:33:39.671837Z"
    },
    "id": "cSylWzAlJdDQ"
   },
   "outputs": [],
   "source": [
    "### 문제를 위한 파일 생성코드입니다. 문제를 풀기 전 이 코드를 반드시 실행해주세요.\n",
    "\n",
    "# (시뮬레이션을 위한) 예시 파일 작성코드\n",
    "def write_tasks_to_csv(filename, tasks):\n",
    "    with open(filename, 'w', newline='') as csvfile:\n",
    "        fieldnames = ['할일', '소요시간']\n",
    "        writer = csv_dir.DictWriter(csvfile, fieldnames=fieldnames)\n",
    "\n",
    "        writer.writeheader()\n",
    "        for task, time in tasks:\n",
    "            writer.writerow({'할일': task, '소요시간': time})\n",
    "\n",
    "# 할 일과 소요 시간 데이터\n",
    "tasks = [\n",
    "    ('공부하기', 120),\n",
    "    ('운동하기', 60),\n",
    "    ('가계부정리', 30),\n",
    "    ('영화보기', 150)\n",
    "]\n",
    "\n",
    "# CSV 파일로 저장\n",
    "write_tasks_to_csv('csv_dir/tasks.csv', tasks)"
   ]
  },
  {
   "cell_type": "code",
   "metadata": {
    "id": "mQWxIuB3Jd46",
    "ExecuteTime": {
     "end_time": "2025-08-10T07:54:35.050969Z",
     "start_time": "2025-08-10T07:54:35.047071Z"
    }
   },
   "source": [
    "import csv_dir\n",
    "\n",
    "path = 'csv_dir/tasks.csv'\n",
    "\n",
    "def load_tasks(filename):\n",
    "    tasks = []\n",
    "    times = []\n",
    "    with open(filename, 'r') as f:\n",
    "        reader = csv_dir.reader(f)\n",
    "        next(reader, None)  # 헤더 건너뛰고\n",
    "        for row in reader:\n",
    "            if len(row) < 2:\n",
    "                continue\n",
    "            tasks.append(row[0].strip()) # 작업\n",
    "            times.append(int(row[1])) # 시간\n",
    "    return tasks, times\n",
    "\n",
    "def suggest_tasks(tasks, times, left_time):\n",
    "    pairs = []\n",
    "    for task, t in zip(tasks, times):\n",
    "        try:\n",
    "            pairs.append((task, int(t)))\n",
    "        except ValueError:\n",
    "            continue  # 잘못입력\n",
    "\n",
    "    # 시간 오름차순 정렬\n",
    "    pairs.sort(key=lambda x: x[1])\n",
    "\n",
    "    todo = []\n",
    "    for task, t in pairs:\n",
    "        if t <= left_time:\n",
    "            todo.append((task, t))\n",
    "            left_time -= t\n",
    "\n",
    "    print(\"선택된 할 일 목록:\")\n",
    "    for task, t in todo:\n",
    "        print(f\"- {task} - 예상 소요 시간: ({t}분)\")\n",
    "\n",
    "def main():\n",
    "    tasks, times = load_tasks(path)\n",
    "\n",
    "    while True:\n",
    "        try:\n",
    "            left_time = int(input(\"남은 시간(분): \"))\n",
    "            break  # 숫자 입력 시 반복 탈출하고\n",
    "        except ValueError:\n",
    "            print(\"숫자를 입력하세요.\")\n",
    "\n",
    "    suggest_tasks(tasks, times, left_time)"
   ],
   "outputs": [],
   "execution_count": 33
  },
  {
   "cell_type": "code",
   "metadata": {
    "id": "GCGyO3vSaDX-",
    "ExecuteTime": {
     "end_time": "2025-08-10T07:54:39.731395Z",
     "start_time": "2025-08-10T07:54:36.493877Z"
    }
   },
   "source": [
    "# 주어진 시간 내에 가장 많은 할 일을 포함하는 조합으로 구성\n",
    "\n",
    "\n",
    "if __name__ == \"__main__\":\n",
    "    main()"
   ],
   "outputs": [
    {
     "name": "stdout",
     "output_type": "stream",
     "text": [
      "선택된 할 일 목록:\n",
      "- 가계부정리 - 예상 소요 시간: (30분)\n",
      "- 운동하기 - 예상 소요 시간: (60분)\n",
      "- 공부하기 - 예상 소요 시간: (120분)\n",
      "- 영화보기 - 예상 소요 시간: (150분)\n"
     ]
    }
   ],
   "execution_count": 34
  },
  {
   "cell_type": "markdown",
   "metadata": {
    "id": "qInOiISZLw36"
   },
   "source": [
    "\n",
    "이 문제에서는 남은 시간을 최적으로 활용하는 방법을 고려하고 있습니다. 할 일을 선택하는 과정에서 간혹 같은 총 소요 시간 내에서 여러 조합의 할 일 목록을 선택할 수 있는 상황이 발생할 수 있습니다. 이러한 경우, 어떤 기준을 적용하여 할 일의 조합을 결정할까요?      \n",
    "                  \n",
    "       \n",
    "\n",
    "다음과 같은 기준들을 고려해볼 수 있습니다:   \n",
    "- 가장 많은 할 일을 포함하는 조합: 가능한 많은 다양한 활동을 하고자 할 때 선택할 수 있는 방법입니다.\n",
    "- 가장 적은 시간이 남는 조합: 가용 시간을 거의 다 쓰는 조합을 선택하여 시간을 최대한 활용하고자 할 때 선택할 수 있는 방법입니다.\n",
    "- 특정 할 일을 우선하는 조합: 개인의 선호도나 긴급도에 따라 특정 할 일을 우선적으로 포함시키는 조합을 선택할 수 있습니다.\n",
    "- 가장 많은 시간을 소모하는 할 일을 포함하는 조합: 가장 긴 시간이 필요한 할 일을 포함시켜, 일상에서 잘 못하던 일을 이번 기회에 해결하고자 할 때 선택할 수 있는 방법입니다.\n",
    "\n",
    "이러한 선택지 중에서 어떤 기준이 당신의 상황에 가장 적합한지 고민해보고, 이를 코드로 반영해보세요."
   ]
  },
  {
   "cell_type": "markdown",
   "metadata": {
    "id": "ZL_5Je5tLoEK"
   },
   "source": [
    "### 문제2. 수학 퍼즐: 소수의 합"
   ]
  },
  {
   "cell_type": "markdown",
   "metadata": {
    "id": "1fJY0HQEL8Qv"
   },
   "source": [
    "- **실습 설명**  \n",
    "  이 프로그램은 사용자로부터 어떤 수 이하의 소수의 합을 구할 것인지 입력 받아, 해당 수까지의 모든 소수의 합을 계산하여 출력합니다. 소수(prime number)는 1과 자기 자신만을 약수로 가지는 자연수를 말합니다. 소수를 찾는 방법은 자유롭게 선택할 수 있지만, 효율적인 방법을 고려하여 구현해야 합니다.\n",
    "\n",
    "- **기능 설명**\n",
    "  - 소수 판별: 주어진 수까지의 모든 자연수에 대해 소수 여부를 판별합니다. (힌트 : 에라토스테네스의 체)\n",
    "  - 소수 합 계산: 판별된 소수들의 합을 계산합니다.\n",
    "  - 결과 출력: 계산된 소수의 합을 출력합니다. 출력 형식은 사용자가 입력한 수까지의 소수 합과 그 값을 포함합니다.\n",
    "\n",
    "- **입출력 예시**\n",
    "\n",
    "  - 입력:\n",
    "\n",
    "  ```\n",
    "  어떤 수까지의 소수의 합을 구하시겠습니까?: 10\n",
    "  ```\n",
    "  - 출력:\n",
    "\n",
    "  ```\n",
    "  10 이하 소수의 합은 17입니다.\n",
    "  ```"
   ]
  },
  {
   "cell_type": "code",
   "execution_count": 28,
   "metadata": {
    "ExecuteTime": {
     "end_time": "2025-08-08T09:18:07.972098Z",
     "start_time": "2025-08-08T09:18:07.966703Z"
    },
    "id": "txK2vvrNLmdq"
   },
   "outputs": [],
   "source": [
    "# 문제\n",
    "# 에라토스테네스의 체 O(sqrt(n)), 브루트포스 O(n)보다 나음\n",
    "def is_prime(num):\n",
    "    prime_list = []\n",
    "    for i in range(2,num+1):\n",
    "        cnt = 0\n",
    "        #루트 씌워서\n",
    "        for j in range(2, int(i**0.5) + 1):\n",
    "            #나눠지면 약수고 cnt ++\n",
    "            if i % j == 0:\n",
    "                cnt += 1\n",
    "        # 다 끝나고 0이면 약수가 없는 수. == 소수 리스트에 저장\n",
    "        if cnt == 0:\n",
    "            prime_list.append(i)\n",
    "    return prime_list\n",
    "\n",
    "\n",
    "def sum_of_primes(n):\n",
    "    return sum(n)\n",
    "\n",
    "def main():\n",
    "    num = int(input(\"어떤 수까지의 소수의 합을 구하시겠습니까?: \"))\n",
    "    prime_list = is_prime(num)\n",
    "    print(f\"{num} 이하 소수의 합은 {sum_of_primes(prime_list)}입니다.\")"
   ]
  },
  {
   "cell_type": "code",
   "execution_count": 29,
   "metadata": {
    "ExecuteTime": {
     "end_time": "2025-08-08T09:18:10.617818Z",
     "start_time": "2025-08-08T09:18:09.213470Z"
    },
    "id": "Rs_Kz0wwaPc3"
   },
   "outputs": [
    {
     "name": "stdin",
     "output_type": "stream",
     "text": [
      "어떤 수까지의 소수의 합을 구하시겠습니까?:  11\n"
     ]
    },
    {
     "name": "stdout",
     "output_type": "stream",
     "text": [
      "11 이하 소수의 합은 28입니다.\n"
     ]
    }
   ],
   "source": [
    "# 프로그램 실행\n",
    "if __name__ == \"__main__\":\n",
    "    main()"
   ]
  },
  {
   "cell_type": "markdown",
   "metadata": {
    "id": "pJ30RiGXSRIi"
   },
   "source": [
    "### 문제3. 도서관 관리 시스템"
   ]
  },
  {
   "cell_type": "markdown",
   "metadata": {
    "id": "rVE7padZSTqv"
   },
   "source": [
    "\n",
    "- **실습 설명**\n",
    "\n",
    "  당신은 지역 도서관에서 시스템 개발자로 일하고 있으며, 도서관의 도서, 회원, 대여 정보를 효과적으로 관리하는 시스템을 개발할 임무를 맡았습니다. `LibraryManagement` 클래스와 여러 하위 클래스를 구현하여, 도서의 추가, 삭제, 검색, 대여 및 반납 기능을 포괄적으로 다루어야 합니다.\n",
    "\n",
    "- **시스템 구성 요소**\n",
    "\n",
    "  - **도서(Books)**: 도서 정보를 저장합니다. 각 도서는 제목, 저자, 출판년도, ISBN 등의 정보를 포함해야 합니다.\n",
    "  - **회원(Members)**: 회원 정보를 관리합니다. 각 회원은 이름, 회원번호, 대여 중인 도서 목록 등의 정보를 갖습니다.\n",
    "  - **대여 관리(Rentals)**: 도서 대여 및 반납 정보를 처리합니다. 대여 시 회원 ID와 도서 ISBN을 연결하고, 대여일 및 반납일을 기록합니다.\n",
    "\n",
    "- **구현해야 할 메소드 및 클래스**\n",
    "\n",
    "  1. **Book Class**:\n",
    "    - 도서 정보(제목, 저자, 출판년도, ISBN)를 저장하는 클래스입니다.\n",
    "    - 각 도서 객체는 고유 정보를 관리합니다.\n",
    "\n",
    "  2. **Member Class**:\n",
    "    - 회원 정보(이름, 회원번호, 대여 중인 도서 목록)를 저장하는 클래스입니다.\n",
    "    - 회원별 대여 기록을 관리합니다.\n",
    "\n",
    "  3. **Rental Class**:\n",
    "    - 대여 정보(회원 ID, 도서 ISBN, 대여일, 반납일)를 저장하는 클래스입니다.\n",
    "    - 대여 및 반납 프로세스를 처리합니다.\n",
    "\n",
    "  4. **LibraryManagement**:\n",
    "    - 도서, 회원, 대여 정보를 관리하는 메소드와 데이터 구조를 포함합니다.\n",
    "    - 도서 추가, 삭제, 검색 메소드를 구현합니다.\n",
    "    - 회원 등록, 정보 조회 메소드를 구현합니다.\n",
    "    - 대여 및 반납 프로세스를 관리하는 메소드를 구현합니다.\n",
    "\n",
    "- **예시**\n",
    "  \n",
    "  - 다음과 같은 코드를 실행했을 때의 출력 예시입니다:\n",
    "\n",
    "      ```python\n",
    "      # 도서관 관리 시스템 초기화\n",
    "      library_system = LibraryManagement()\n",
    "\n",
    "      # 도서 추가\n",
    "      library_system.add_book(\"1984\", \"조지 오웰\", 1949, \"978-0451524935\")\n",
    "      library_system.add_book(\"앵무새 죽이기\", \"하퍼 리\", 1960, \"978-0446310789\")\n",
    "      print()\n",
    "\n",
    "      # 회원 등록\n",
    "      library_system.add_member(\"홍길동\")\n",
    "      print()\n",
    "\n",
    "      # 도서 대여\n",
    "      library_system.rent_book(\"978-0451524935\", \"홍길동\")\n",
    "      print()\n",
    "\n",
    "      # 도서 정보 출력\n",
    "      library_system.print_books()\n",
    "      print()\n",
    "\n",
    "      # 회원 정보 출력\n",
    "      library_system.print_members()\n",
    "\n",
    "      # 도서 반납\n",
    "      library_system.return_book(\"978-0451524935\", \"홍길동\")\n",
    "      print()\n",
    "\n",
    "      # 회원 정보 출력\n",
    "      library_system.print_members()\n",
    "      ```\n",
    "  \n",
    "  - 출력 예시:\n",
    "    \n",
    "    ```\n",
    "    '1984' (저자: 조지 오웰, 출판년도: 1949) 도서가 추가되었습니다.\n",
    "    '앵무새 죽이기' (저자: 하퍼 리, 출판년도: 1960) 도서가 추가되었습니다.\n",
    "    회원 '홍길동'님이 등록되었습니다.\n",
    "    '홍길동' 회원님이 '1984' 도서를 대여하였습니다.\n",
    "    도서 목록:\n",
    "    - 1984 (저자: 조지 오웰, 출판년도: 1949)\n",
    "    - 앵무새 죽이기 (저자: 하퍼 리, 출판년도: 1960)\n",
    "    회원 목록:\n",
    "    - 홍길동 (대여 중인 도서: 1984)\n",
    "    '홍길동' 회원님이 '1984' 도서를 반납하였습니다.   \n",
    "    회원 목록:\n",
    "    - 홍길동 (대여 중인 도서: 없음)\n",
    "    ```\n",
    "\n",
    "- **요구 사항**\n",
    "\n",
    "  - 모든 클래스 및 메소드는 적절한 입력 검증과 예외 처리를 포함해야 합니다.\n",
    "  - 시스템은 사용자의 행동에 따라 적절한 피드백을 제공해야 합니다. (예: 도서가 없을 때, 회원 정보가 없을 때)\n"
   ]
  },
  {
   "cell_type": "code",
   "execution_count": 32,
   "metadata": {
    "ExecuteTime": {
     "end_time": "2025-08-08T09:04:42.653182Z",
     "start_time": "2025-08-08T09:04:42.639954Z"
    },
    "id": "WjiD18H0SS9e"
   },
   "outputs": [],
   "source": [
    "# 문제\n",
    "class Book:\n",
    "    def __init__(self, title, author, publication_year, isbn):\n",
    "        self.title = title\n",
    "        self.author = author\n",
    "        self.publication_year = publication_year\n",
    "        self.isbn = isbn\n",
    "\n",
    "\n",
    "class Member:\n",
    "    def __init__(self, name):\n",
    "        self.name = name\n",
    "\n",
    "\n",
    "class Rental:\n",
    "    def __init__(self, isbn, name):\n",
    "        self.isbn = isbn\n",
    "        self.name = name\n",
    "\n",
    "\n",
    "class LibraryManagement:\n",
    "    def __init__(self):\n",
    "        self.book_list = []\n",
    "        self.member_list = []\n",
    "        self.rental_list = []\n",
    "\n",
    "    # 책 클래스를 이용해서 책 추가하고 도서관 클래스의 책 리스트에 추가\n",
    "    def add_book(self, title, author, publication_year, isbn):\n",
    "        book = Book(title, author, publication_year, isbn)\n",
    "        self.book_list.append(book)\n",
    "        print(f\"'{book.title}' (저자:{book.author} 출판년도: {book.publication_year}) 도서가 추가되었습니다.\")\n",
    "\n",
    "    # 멤버 클래스를 이용하여 생성하고 도서관 클래스의 회원 리스트에 추가\n",
    "    def add_member(self, name):\n",
    "        member = Member(name)\n",
    "        self.member_list.append(member)\n",
    "        print(f\"회원 '{member.name}'회원님이 등록되었습니다.\")\n",
    "\n",
    "    # 렌탈 클래스를 이용해서 생성하고 도서관 클래스의 렌탈 리스트에 추가\n",
    "    # 책 리스트에서 isbn 있어야하고 렌탈 리스트에 없어야함\n",
    "    def rent_book(self, isbn, name):\n",
    "        for book in self.rental_list:\n",
    "            if book.isbn == isbn: #렌탈 리스트에 그 번호가 있으면 대출 못하고 함수 끝내기\n",
    "                print(f\"현재 누군가가 대여 중입니다.\")\n",
    "                return\n",
    "\n",
    "\n",
    "        for book in self.book_list:\n",
    "            # 도서관 책 리스트에서 책을 찾았다면\n",
    "            if book.isbn == isbn:\n",
    "                book_name = book.title\n",
    "                rent = Rental(isbn, name)\n",
    "                self.rental_list.append(rent)\n",
    "                print(f\"'{rent.name}' 회원님이 '{book_name}' 도서를 대여하였습니다.\")\n",
    "                return\n",
    "        # 도서관 책 리스트에서 못 찾았다면\n",
    "        print(\"그 책은 도서관에 저장되어 있지 않습니다.\")\n",
    "\n",
    "\n",
    "\n",
    "    # 도서관 클래스의 렌탈 리스트에서 빼기만 하면 될듯\n",
    "    def return_book(self, isbn, name):\n",
    "        # 렌탈북 리스트를 돌면서\n",
    "        for rental_book in self.rental_list:\n",
    "            # 빌린 사람 이름, Isbn이 같다면\n",
    "            if rental_book.isbn == isbn and rental_book.name == name:\n",
    "                # 뽑아오기\n",
    "                self.rental_list.remove(rental_book)\n",
    "                return\n",
    "        # 대출 기록이 없으면\n",
    "        print(\"해당 책을 빌린 적이 없음\")\n",
    "\n",
    "\n",
    "\n",
    "    def print_books(self):\n",
    "        print(\"도서 목록\")\n",
    "        for book in self.book_list:\n",
    "            print(f\"- '{book.title}' (저자:{book.author} 출판년도: {book.publication_year})\")\n",
    "\n",
    "\n",
    "    def print_members(self):\n",
    "        print(\"회원 목록:\")\n",
    "        # 회원 목록 받아오고\n",
    "        for member in self.member_list:\n",
    "            borrowed_titles = []\n",
    "            # 빌린 책 목록 받아오고\n",
    "            for rental in self.rental_list:\n",
    "                # 책 빌린 사람과 현재 이 사람이 같다면\n",
    "                if rental.name == member.name:\n",
    "\n",
    "                    for book in self.book_list:\n",
    "                        if book.isbn == rental.isbn:\n",
    "                            borrowed_titles.append(book.title)\n",
    "            borrowed_str = ', '.join(borrowed_titles) if borrowed_titles else '없음'\n",
    "            print(f\"- {member.name} (대여 중인 도서: '{borrowed_str}')\")\n",
    "\n",
    "\n",
    "\n",
    "\n",
    "\n",
    "\n"
   ]
  },
  {
   "cell_type": "code",
   "execution_count": 33,
   "metadata": {
    "ExecuteTime": {
     "end_time": "2025-08-08T09:04:43.207557Z",
     "start_time": "2025-08-08T09:04:43.204723Z"
    },
    "id": "cvO4Q2-UTRiz"
   },
   "outputs": [
    {
     "name": "stdout",
     "output_type": "stream",
     "text": [
      "'1984' (저자:조지 오웰 출판년도: 1949) 도서가 추가되었습니다.\n",
      "'앵무새 죽이기' (저자:하퍼 리 출판년도: 1960) 도서가 추가되었습니다.\n",
      "회원 '홍길동'회원님이 등록되었습니다.\n",
      "회원 '김철수'회원님이 등록되었습니다.\n",
      "'홍길동' 회원님이 '1984' 도서를 대여하였습니다.\n",
      "'김철수' 회원님이 '앵무새 죽이기' 도서를 대여하였습니다.\n",
      "도서 목록\n",
      "- '1984' (저자:조지 오웰 출판년도: 1949)\n",
      "- '앵무새 죽이기' (저자:하퍼 리 출판년도: 1960)\n",
      "회원 목록:\n",
      "- 홍길동 (대여 중인 도서: '1984')\n",
      "- 김철수 (대여 중인 도서: '앵무새 죽이기')\n",
      "회원 목록:\n",
      "- 홍길동 (대여 중인 도서: '없음')\n",
      "- 김철수 (대여 중인 도서: '앵무새 죽이기')\n"
     ]
    }
   ],
   "source": [
    "# 사용 예시\n",
    "library = LibraryManagement()\n",
    "library.add_book(\"1984\", \"조지 오웰\", 1949, \"978-0451524935\")\n",
    "library.add_book(\"앵무새 죽이기\", \"하퍼 리\", 1960, \"978-0446310789\")\n",
    "library.add_member(\"홍길동\")\n",
    "library.add_member(\"김철수\")\n",
    "\n",
    "library.rent_book(\"978-0451524935\", \"홍길동\")\n",
    "library.rent_book(\"978-0446310789\", \"김철수\")\n",
    "\n",
    "\n",
    "library.print_books()\n",
    "library.print_members()\n",
    "library.return_book(\"978-0451524935\", \"홍길동\")\n",
    "library.print_members()"
   ]
  },
  {
   "cell_type": "markdown",
   "metadata": {
    "id": "cM8h84fQUi_t"
   },
   "source": [
    "심화문제를 풀고 싶으나 어디서부터 시작해야 할지 막막하다면, 이래의 단계별 개발 가이드를 참고해보세요.\n",
    "\n",
    "\n",
    "- **1단계: 기본 클래스 정의**\n",
    "  - **목표**: 도서, 회원, 대여 정보를 저장할 기본 클래스를 생성합니다.\n",
    "\n",
    "  - **주요 작업**\n",
    "    1. `Book` 클래스 생성: `__init__` 메소드에는 `title`, `author`, `publication_year`, `isbn` 파라미터를 포함시킵니다.\n",
    "    2. `Member` 클래스 생성: `__init__` 메소드에는 `name` 파라미터를 포함시키고, 대여 중인 도서 목록을 관리할 리스트를 초기화합니다.\n",
    "    3. `Rental` 클래스 생성: `__init__` 메소드에는 `book`, `member`, `rental_date`, `return_date` 파라미터를 포함시킵니다.\n",
    "\n",
    "- **2단계: 관리 시스템 클래스 구현**\n",
    "  - **목표**: 도서, 회원, 대여 정보를 관리하는 메소드를 포함하는 `LibraryManagement` 클래스를 구현합니다.\n",
    "\n",
    "  - **주요 작업**\n",
    "    1. `LibraryManagement` 클래스에 필요한 인스턴스 변수 초기화: 도서 목록, 회원 목록, 대여 목록.\n",
    "    2. 도서 추가 메소드(`add_book`) 구현.\n",
    "    3. 회원 추가 메소드(`add_member`) 구현.\n",
    "    4. 도서 대여 메소드(`rent_book`) 구현.\n",
    "    5. 도서 반납 메소드(`return_book`) 구현.\n",
    "\n",
    "- **3단계: 도서 및 회원 정보 조회 기능 추가**\n",
    "  - **목표**: 도서 및 회원 정보를 조회하고 출력하는 기능을 구현합니다.\n",
    "\n",
    "  - **주요 작업**\n",
    "    1. 도서 목록 출력 메소드(`print_books`) 구현.\n",
    "    2. 회원 목록 출력 메소드(`print_members`) 구현.\n",
    "\n",
    "- **4단계: 테스트 및 디버깅**\n",
    "  - **목표**: 관리 시스템의 테스트하여 오류를 찾고 수정합니다.\n",
    "\n",
    "  - **주요 작업**\n",
    "    1. 각 단계에서 구현한 기능을 개별적으로 테스트합니다.\n",
    "    2. 예상하지 못한 에러가 발생하면 원인을 분석하고 수정합니다.\n",
    "    3. 오류 메시지 외에 처리 과정을 확인하고 필요에 따라 수정합니다.\n"
   ]
  }
 ],
 "metadata": {
  "colab": {
   "provenance": [],
   "toc_visible": true
  },
  "kernelspec": {
   "display_name": "Python 3 (ipykernel)",
   "language": "python",
   "name": "python3"
  },
  "language_info": {
   "codemirror_mode": {
    "name": "ipython",
    "version": 3
   },
   "file_extension": ".py",
   "mimetype": "text/x-python",
   "name": "python",
   "nbconvert_exporter": "python",
   "pygments_lexer": "ipython3",
   "version": "3.9.6"
  }
 },
 "nbformat": 4,
 "nbformat_minor": 4
}
