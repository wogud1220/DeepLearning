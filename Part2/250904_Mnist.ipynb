{
 "nbformat": 4,
 "nbformat_minor": 0,
 "metadata": {
  "colab": {
   "provenance": [],
   "gpuType": "T4"
  },
  "kernelspec": {
   "name": "python3",
   "display_name": "Python 3"
  },
  "language_info": {
   "name": "python"
  },
  "accelerator": "GPU"
 },
 "cells": [
  {
   "cell_type": "code",
   "metadata": {
    "id": "WpgeRE0Zc6Ea",
    "ExecuteTime": {
     "end_time": "2025-09-10T05:22:20.895411Z",
     "start_time": "2025-09-10T05:22:20.893322Z"
    }
   },
   "source": [
    "import torch\n",
    "import torch.nn as nn\n",
    "import torch.optim as opt\n",
    "from torchvision import datasets, transforms\n"
   ],
   "outputs": [],
   "execution_count": 5
  },
  {
   "cell_type": "code",
   "source": [
    "device = torch.device('cuda' if torch.cuda.is_available() else 'cpu')\n",
    "print(device)"
   ],
   "metadata": {
    "colab": {
     "base_uri": "https://localhost:8080/"
    },
    "id": "5VuieiFNg58G",
    "outputId": "f7bfb0c8-80c8-460b-98bc-4b59f6e4f675",
    "ExecuteTime": {
     "end_time": "2025-09-10T05:22:20.905431Z",
     "start_time": "2025-09-10T05:22:20.903616Z"
    }
   },
   "outputs": [
    {
     "name": "stdout",
     "output_type": "stream",
     "text": [
      "cpu\n"
     ]
    }
   ],
   "execution_count": 6
  },
  {
   "cell_type": "code",
   "source": [
    "#MNIST 데이터셋\n",
    "train_dataset = datasets.MNIST(root='data',\n",
    "                               train=True,\n",
    "                               transform=transforms.ToTensor(),\n",
    "                               download=True)\n",
    "test_dataset = datasets.MNIST(root='data',\n",
    "                              train=False,\n",
    "                              transform=transforms.ToTensor(),\n",
    "                              download=True)"
   ],
   "metadata": {
    "colab": {
     "base_uri": "https://localhost:8080/"
    },
    "id": "3dvh9GhFiYlX",
    "outputId": "8df0e0af-26ea-48ca-db42-a398f15794d5",
    "ExecuteTime": {
     "end_time": "2025-09-10T05:22:20.964039Z",
     "start_time": "2025-09-10T05:22:20.924150Z"
    }
   },
   "outputs": [],
   "execution_count": 7
  },
  {
   "cell_type": "code",
   "source": [
    "print(train_dataset)\n",
    "print(test_dataset)"
   ],
   "metadata": {
    "colab": {
     "base_uri": "https://localhost:8080/"
    },
    "collapsed": true,
    "id": "UUQ1ft6xjkH1",
    "outputId": "dee134ac-7429-4f78-9e35-4dcb86970fb4",
    "ExecuteTime": {
     "end_time": "2025-09-10T05:23:59.203735Z",
     "start_time": "2025-09-10T05:23:59.201587Z"
    }
   },
   "outputs": [
    {
     "name": "stdout",
     "output_type": "stream",
     "text": [
      "Dataset MNIST\n",
      "    Number of datapoints: 60000\n",
      "    Root location: data\n",
      "    Split: Train\n",
      "    StandardTransform\n",
      "Transform: ToTensor()\n",
      "Dataset MNIST\n",
      "    Number of datapoints: 10000\n",
      "    Root location: data\n",
      "    Split: Test\n",
      "    StandardTransform\n",
      "Transform: ToTensor()\n"
     ]
    }
   ],
   "execution_count": 18
  },
  {
   "cell_type": "code",
   "source": [
    "# 데이터 로더\n",
    "train_loader = torch.utils.data.DataLoader(dataset=train_dataset,\n",
    "                                           batch_size = 32,\n",
    "                                           shuffle=True)\n",
    "test_loader = torch.utils.data.DataLoader(dataset=test_dataset,\n",
    "                                          batch_size=32,\n",
    "                                          shuffle=False)"
   ],
   "metadata": {
    "id": "akUSFLxAj1E_",
    "ExecuteTime": {
     "end_time": "2025-09-10T05:22:20.996290Z",
     "start_time": "2025-09-10T05:22:20.993896Z"
    }
   },
   "outputs": [],
   "execution_count": 9
  },
  {
   "cell_type": "code",
   "source": [
    "images, labels = next(iter(train_loader))\n",
    "\n",
    "print(images.shape) # b,c,h,w -> h,w,c [ 데이터 로더에서 가져온 1배치별 크기]\n",
    "print(labels.shape)\n",
    "\n",
    "import matplotlib.pyplot as plt\n",
    "# 아 32장이 묶여잇는 하나의 배치에서 그 중 첫번재 사진을 가져오면 [1,32,32]이 되는데 저기서\n",
    "# 1은 인풋 채널이라는거지? 그리고 queeze해서 1을 날린거고\n",
    "\n",
    "img = images[0].squeeze()\n",
    "label = labels[0]\n",
    "\n",
    "plt.imshow(img,cmap='gray')\n",
    "plt.title(f'label: {label.item()}') # 위에 트랜스폼에서 .ToTensor\n",
    "plt.axis('off')\n",
    "plt.show()\n",
    "\n",
    "print(img.unsqueeze(1).shape)\n",
    "# test_dataset = datasets.MNIST(root='data',\n",
    "#                               train=False,\n",
    "#                               transform=transforms.ToTensor(),\n",
    "#                               download=True)\n",
    "#\n",
    "# 여기에선 PIL-> 텐서로 바꾸고\n",
    "# test_loader = torch.utils.data.DataLoader(dataset=test_dataset,\n",
    "#                                           batch_size=32,\n",
    "#                                           shuffle=False)\n",
    "# 여기에서 labels를 int ->tensor스칼라로 바꿔졌다는거지? 그래서 labels.item()으로 꺼내온다든거고\n"
   ],
   "metadata": {
    "colab": {
     "base_uri": "https://localhost:8080/",
     "height": 482
    },
    "id": "SFk2dTFTlYzw",
    "outputId": "919ced61-cc41-4998-b447-2a76ca58e8de",
    "ExecuteTime": {
     "end_time": "2025-09-10T05:32:40.302189Z",
     "start_time": "2025-09-10T05:32:40.243243Z"
    }
   },
   "outputs": [
    {
     "name": "stdout",
     "output_type": "stream",
     "text": [
      "torch.Size([32, 1, 28, 28])\n",
      "torch.Size([32])\n"
     ]
    },
    {
     "data": {
      "text/plain": [
       "<Figure size 640x480 with 1 Axes>"
      ],
      "image/png": "[encoded data removed]"
     },
     "metadata": {},
     "output_type": "display_data"
    },
    {
     "name": "stdout",
     "output_type": "stream",
     "text": [
      "torch.Size([28, 1, 28])\n"
     ]
    }
   ],
   "execution_count": 21
  },
  {
   "cell_type": "code",
   "source": [
    "#MLP 모델\n",
    "class MLP(nn.Module):\n",
    "    def __init__(self, input_size, hidden_size, num_cls):\n",
    "        super(MLP, self).__init__()\n",
    "        self.l1 = nn.Linear(input_size, hidden_size)\n",
    "        self.relu1 = nn.ReLU()\n",
    "\n",
    "        self.l2 = nn.Linear(hidden_size, hidden_size)\n",
    "        self.relu2 = nn.ReLU()\n",
    "\n",
    "        self.output = nn.Linear(hidden_size, num_cls)\n",
    "        # softmax가 적용되지 않음. loss_fn = crossEntropy에 내장되어잇음\n",
    "    def forward(self, x):\n",
    "        x = self.l1(x)\n",
    "        x = self.relu1(x)\n",
    "\n",
    "        x = self.l2(x)\n",
    "        x = self.relu2(x)\n",
    "\n",
    "        out = self.output(x)\n",
    "\n",
    "        return out"
   ],
   "metadata": {
    "id": "iCCB-9W45c9r",
    "ExecuteTime": {
     "end_time": "2025-09-10T05:22:21.364240Z",
     "start_time": "2025-09-10T05:22:21.361327Z"
    }
   },
   "outputs": [],
   "execution_count": 11
  },
  {
   "cell_type": "code",
   "source": [
    "class CNN(nn.Module):\n",
    "    def __init__(self, input_ch, hidden_size, num_cls):\n",
    "        super(CNN, self).__init__()\n",
    "        self.block1 = nn.Sequential(\n",
    "            nn.Conv2d(input_ch, hidden_size, kernel_size=3, padding=1),\n",
    "            nn.ReLU()\n",
    "        )\n",
    "        self.block2 = nn.Sequential(\n",
    "            nn.Conv2d(hidden_size, hidden_size, kernel_size=3, padding=1),\n",
    "            nn.ReLU()\n",
    "        )\n",
    "        self.block3 = nn.Sequential(\n",
    "            nn.Conv2d(hidden_size, input_ch, kernel_size=3, padding=1),\n",
    "            nn.ReLU()\n",
    "        )\n",
    "        self.flatten = nn.Flatten()\n",
    "        self.output = nn.Linear(784, num_cls)\n",
    "\n",
    "    def forward(self, x):\n",
    "        x = self.block1(x)\n",
    "        x = self.block2(x)\n",
    "        x = self.block3(x)\n",
    "\n",
    "        x = self.flatten(x)\n",
    "        out = self.output(x)\n",
    "\n",
    "        return out\n",
    "\n"
   ],
   "metadata": {
    "id": "phMUMdrPBqly",
    "ExecuteTime": {
     "end_time": "2025-09-10T05:22:21.380324Z",
     "start_time": "2025-09-10T05:22:21.375440Z"
    }
   },
   "outputs": [],
   "execution_count": 12
  },
  {
   "cell_type": "code",
   "source": [
    "input_size = 784\n",
    "hidden_size = 500\n",
    "num_cls = 10\n",
    "epochs = 1\n",
    "\n",
    "# model = MLP(input_size, hidden_size, num_cls).to(device)\n",
    "\n",
    "# input_ch, hidden_size, num_cls\n",
    "model = CNN(1, 16, 10).to(device) #input, output, 분류 개수(cls)\n",
    "\n",
    "loss_fn = nn.CrossEntropyLoss() # softmax내장\n",
    "optim = opt.Adam(model.parameters(), lr=0.001)\n",
    "\n",
    "for epoch in range(epochs):\n",
    "    for i, (images, labels) in enumerate(train_loader):\n",
    "        # 데이터를 디바이스로 이동\n",
    "        # images = images.reshape(-1,input_size)\n",
    "        images = images.to(device)\n",
    "        labels = labels.to(device)\n",
    "\n",
    "        # 모델을 실행\n",
    "        outputs = model(images)#.squeeze()\n",
    "        loss = loss_fn(outputs,labels)\n",
    "\n",
    "        # 역전파 & 옵티마이저\n",
    "        optim.zero_grad() # 초기화\n",
    "        loss.backward() # 계산\n",
    "        optim.step()# 업데이트\n",
    "\n",
    "        if (i + 1) % 100 ==0:\n",
    "            print(f\"Epoch : {epoch}, loss : {loss}\")"
   ],
   "metadata": {
    "colab": {
     "base_uri": "https://localhost:8080/"
    },
    "collapsed": true,
    "id": "_hvIvAnp8cej",
    "outputId": "b85a49bd-58d6-448a-a93c-ef1f341e60ff",
    "ExecuteTime": {
     "end_time": "2025-09-10T05:46:07.016466Z",
     "start_time": "2025-09-10T05:45:34.085206Z"
    }
   },
   "outputs": [
    {
     "name": "stdout",
     "output_type": "stream",
     "text": [
      "Epoch : 0, loss : 0.5667587518692017\n",
      "Epoch : 0, loss : 0.8264554738998413\n",
      "Epoch : 0, loss : 0.2502695322036743\n",
      "Epoch : 0, loss : 0.09796273708343506\n",
      "Epoch : 0, loss : 0.23633621633052826\n",
      "Epoch : 0, loss : 0.35573798418045044\n",
      "Epoch : 0, loss : 0.27648454904556274\n",
      "Epoch : 0, loss : 0.14249888062477112\n",
      "Epoch : 0, loss : 0.8019238114356995\n",
      "Epoch : 0, loss : 0.2570848762989044\n",
      "Epoch : 0, loss : 0.1711355596780777\n",
      "Epoch : 0, loss : 0.3287279009819031\n",
      "Epoch : 0, loss : 0.33588364720344543\n",
      "Epoch : 0, loss : 0.225794717669487\n",
      "Epoch : 0, loss : 0.12620483338832855\n",
      "Epoch : 0, loss : 0.38491079211235046\n",
      "Epoch : 0, loss : 0.4421403110027313\n",
      "Epoch : 0, loss : 0.047638460993766785\n"
     ]
    }
   ],
   "execution_count": 23
  },
  {
   "cell_type": "code",
   "source": [
    "print(model)"
   ],
   "metadata": {
    "colab": {
     "base_uri": "https://localhost:8080/"
    },
    "id": "OHx7hhc48slE",
    "outputId": "f8597094-8229-40c1-90c4-5937ddcc48df",
    "ExecuteTime": {
     "end_time": "2025-09-10T05:23:58.736811Z",
     "start_time": "2025-09-10T05:23:58.733897Z"
    }
   },
   "outputs": [
    {
     "name": "stdout",
     "output_type": "stream",
     "text": [
      "CNN(\n",
      "  (block1): Sequential(\n",
      "    (0): Conv2d(1, 16, kernel_size=(3, 3), stride=(1, 1), padding=(1, 1))\n",
      "    (1): ReLU()\n",
      "  )\n",
      "  (block2): Sequential(\n",
      "    (0): Conv2d(16, 16, kernel_size=(3, 3), stride=(1, 1), padding=(1, 1))\n",
      "    (1): ReLU()\n",
      "  )\n",
      "  (block3): Sequential(\n",
      "    (0): Conv2d(16, 1, kernel_size=(3, 3), stride=(1, 1), padding=(1, 1))\n",
      "    (1): ReLU()\n",
      "  )\n",
      "  (flatten): Flatten(start_dim=1, end_dim=-1)\n",
      "  (output): Linear(in_features=784, out_features=10, bias=True)\n",
      ")\n"
     ]
    }
   ],
   "execution_count": 14
  },
  {
   "cell_type": "code",
   "source": [
    "import matplotlib.pyplot as plt\n",
    "import numpy as np\n",
    "\n",
    "# 테스트 셋에서 20개 샘플 추출\n",
    "sample_indices = np.random.choice(len(test_dataset), 20, replace=False)\n",
    "sampled_images = [test_dataset[i][0] for i in sample_indices]\n",
    "sampled_labels = [test_dataset[i][1] for i in sample_indices]\n",
    "\n",
    "# 모델 예측\n",
    "model.eval()  # 평가 모드로 설정\n",
    "predicted_labels = []\n",
    "with torch.no_grad():\n",
    "  for image in sampled_images:\n",
    "    # image = image.reshape(-1, input_size).to(device)\n",
    "    image = image.to(device)\n",
    "    output = model(image).argmax()\n",
    "    # output = [0.1, 0.05, 0.05, 0.7, 0.02, 0.01, 0.02, 0.03, 0.01, 0.01]\n",
    "    # output.argmax() 👉 3 반환\n",
    "    predicted_labels.append(output.item())\n",
    "\n",
    "# 결과 시각화\n",
    "fig, axes = plt.subplots(4, 5, figsize=(10, 8))\n",
    "for i, ax in enumerate(axes.flatten()):\n",
    "  ax.imshow(sampled_images[i].squeeze().numpy(), cmap='gray')\n",
    "  ax.set_title(f'True: {sampled_labels[i]}\\nPred: {predicted_labels[i]}',\n",
    "               color='green' if sampled_labels[i] == predicted_labels[i] else 'red')\n",
    "  ax.axis('off')\n",
    "plt.tight_layout()\n",
    "plt.show()"
   ],
   "metadata": {
    "colab": {
     "base_uri": "https://localhost:8080/",
     "height": 744
    },
    "id": "Pg7MTRAM8sap",
    "outputId": "8679da5f-efc1-472c-e2dc-d84adbdbf23a",
    "ExecuteTime": {
     "end_time": "2025-09-10T05:47:26.174697Z",
     "start_time": "2025-09-10T05:47:25.862564Z"
    }
   },
   "outputs": [
    {
     "data": {
      "text/plain": [
       "<Figure size 1000x800 with 20 Axes>"
      ],
      "image/png": "[encoded data removed]"
     },
     "metadata": {},
     "output_type": "display_data"
    }
   ],
   "execution_count": 24
  },
  {
   "metadata": {
    "ExecuteTime": {
     "end_time": "2025-09-10T05:23:59.113865Z",
     "start_time": "2025-09-10T05:23:59.112458Z"
    }
   },
   "cell_type": "code",
   "source": "",
   "outputs": [],
   "execution_count": null
  }
 ]
}
