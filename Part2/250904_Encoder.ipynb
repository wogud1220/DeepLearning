{
 "cells": [
  {
   "cell_type": "code",
   "id": "initial_id",
   "metadata": {
    "collapsed": true,
    "ExecuteTime": {
     "end_time": "2025-09-10T05:04:51.723716Z",
     "start_time": "2025-09-10T05:04:50.014359Z"
    }
   },
   "source": [
    "import torch\n",
    "import torch.nn as nn\n",
    "import torchvision\n",
    "import torchvision.transforms as transforms"
   ],
   "outputs": [],
   "execution_count": 1
  },
  {
   "metadata": {
    "ExecuteTime": {
     "end_time": "2025-09-10T05:04:51.739068Z",
     "start_time": "2025-09-10T05:04:51.736552Z"
    }
   },
   "cell_type": "code",
   "source": [
    "device = torch.device(\"cuda:0\" if torch.cuda.is_available() else \"cpu\")\n",
    "print(device)"
   ],
   "id": "a769f34ba5686269",
   "outputs": [
    {
     "name": "stdout",
     "output_type": "stream",
     "text": [
      "cpu\n"
     ]
    }
   ],
   "execution_count": 2
  },
  {
   "metadata": {
    "ExecuteTime": {
     "end_time": "2025-09-10T05:04:51.882816Z",
     "start_time": "2025-09-10T05:04:51.846141Z"
    }
   },
   "cell_type": "code",
   "source": [
    "train_set = torchvision.datasets.MNIST(root='./data',\n",
    "                                      train=True,\n",
    "                                      transform=transforms.ToTensor(),\n",
    "                                      download=True)\n",
    "\n",
    "test_set = torchvision.datasets.MNIST(root='./data',\n",
    "                                     train = False,\n",
    "                                     transform=transforms.ToTensor(),\n",
    "                                     download=True)"
   ],
   "id": "fc96a5a1c90901bb",
   "outputs": [],
   "execution_count": 3
  },
  {
   "metadata": {
    "ExecuteTime": {
     "end_time": "2025-09-10T05:04:51.973863Z",
     "start_time": "2025-09-10T05:04:51.971609Z"
    }
   },
   "cell_type": "code",
   "source": [
    "train_loader = torch.utils.data.DataLoader(dataset=train_set,\n",
    "                                          batch_size=64,\n",
    "                                          shuffle=True\n",
    "                                           )\n",
    "\n",
    "test_loader = torch.utils.data.DataLoader(dataset=test_set,\n",
    "                                         batch_size=64,\n",
    "                                         shuffle=False\n",
    "                                         )"
   ],
   "id": "851b6d30ccc414f6",
   "outputs": [],
   "execution_count": 4
  },
  {
   "metadata": {},
   "cell_type": "markdown",
   "source": [
    "# Encoder\n",
    "- Encoder : Dense(784 -> 128), Dense(128 -> 64), Dense(64 -> 32)\n",
    "- Decoder : Dense(32 -> 64), Dense(64 -> 128), Dense(128 -> 784)"
   ],
   "id": "e811972b3d0bf6eb"
  },
  {
   "metadata": {
    "ExecuteTime": {
     "end_time": "2025-09-10T05:04:52.003866Z",
     "start_time": "2025-09-10T05:04:52.002155Z"
    }
   },
   "cell_type": "code",
   "source": [
    "# Encoder : Dense(784 -> 128), Dense(128 -> 64), Dense(64 -> 32)\n",
    "# Decoder : Dense(32 -> 64), Dense(64 -> 128), Dense(128 -> 784)"
   ],
   "id": "a8f978ee3ac642e6",
   "outputs": [],
   "execution_count": 5
  },
  {
   "metadata": {
    "ExecuteTime": {
     "end_time": "2025-09-10T05:04:52.026823Z",
     "start_time": "2025-09-10T05:04:52.023590Z"
    }
   },
   "cell_type": "code",
   "source": [
    "class AE(nn.Module):\n",
    "    def __init__(self):\n",
    "        super(AE, self).__init__()\n",
    "\n",
    "        # Encoder\n",
    "        self.encoder = nn.Sequential(\n",
    "            nn.Linear(784,128),\n",
    "            nn.ReLU(),\n",
    "\n",
    "            nn.Linear(128,64),\n",
    "            nn.ReLU(),\n",
    "\n",
    "            nn.Linear(64,32),\n",
    "        )\n",
    "\n",
    "\n",
    "        # Decoder\n",
    "        self.decoder = nn.Sequential(\n",
    "            nn.Linear(32,64),\n",
    "            nn.ReLU(),\n",
    "\n",
    "            nn.Linear(64,128),\n",
    "            nn.ReLU(),\n",
    "\n",
    "            nn.Linear(128,784),\n",
    "        )\n",
    "    def forward(self, x):\n",
    "        encoded = self.encoder(x)\n",
    "        decoded = self.decoder(encoded)\n",
    "\n",
    "        return decoded, encoded\n",
    "\n"
   ],
   "id": "fd4cdfb1180bf0c1",
   "outputs": [],
   "execution_count": 6
  },
  {
   "metadata": {
    "ExecuteTime": {
     "end_time": "2025-09-10T05:04:52.040808Z",
     "start_time": "2025-09-10T05:04:52.035847Z"
    }
   },
   "cell_type": "code",
   "source": [
    "model = AE().to(device)\n",
    "print(model)"
   ],
   "id": "84e25edaf1f58975",
   "outputs": [
    {
     "name": "stdout",
     "output_type": "stream",
     "text": [
      "AE(\n",
      "  (encoder): Sequential(\n",
      "    (0): Linear(in_features=784, out_features=128, bias=True)\n",
      "    (1): ReLU()\n",
      "    (2): Linear(in_features=128, out_features=64, bias=True)\n",
      "    (3): ReLU()\n",
      "    (4): Linear(in_features=64, out_features=32, bias=True)\n",
      "  )\n",
      "  (decoder): Sequential(\n",
      "    (0): Linear(in_features=32, out_features=64, bias=True)\n",
      "    (1): ReLU()\n",
      "    (2): Linear(in_features=64, out_features=128, bias=True)\n",
      "    (3): ReLU()\n",
      "    (4): Linear(in_features=128, out_features=784, bias=True)\n",
      "  )\n",
      ")\n"
     ]
    }
   ],
   "execution_count": 7
  },
  {
   "metadata": {
    "ExecuteTime": {
     "end_time": "2025-09-10T05:05:42.916655Z",
     "start_time": "2025-09-10T05:05:15.829872Z"
    }
   },
   "cell_type": "code",
   "source": [
    "loss_fn = nn.MSELoss()\n",
    "optimizer = torch.optim.Adam(model.parameters(), lr=0.001)\n",
    "\n",
    "# Training\n",
    "\n",
    "epochs = 10\n",
    "for epoch in range(epochs):\n",
    "    for data in train_loader:\n",
    "        inputs, _ = data # 이미지느 필요한데 라벨은 필요없음\n",
    "        # print(inputs.shape)\n",
    "        inputs = inputs.view(inputs.size(0), -1) # reshpae과 유사.\n",
    "        # print(inputs.shape)\n",
    "\n",
    "        optimizer.zero_grad()\n",
    "        outputs, _ = model(inputs)\n",
    "\n",
    "\n",
    "        loss = loss_fn(outputs, inputs)\n",
    "\n",
    "        loss.backward()\n",
    "        optimizer.step()\n",
    "    print(f\"epoch {epoch}, loss {loss}\")\n",
    "print(\"finished\")\n"
   ],
   "id": "7407c163370011c5",
   "outputs": [
    {
     "name": "stdout",
     "output_type": "stream",
     "text": [
      "epoch 0, loss 0.022570323199033737\n",
      "epoch 1, loss 0.017619527876377106\n",
      "epoch 2, loss 0.016662368550896645\n",
      "epoch 3, loss 0.016625259071588516\n",
      "epoch 4, loss 0.014757398515939713\n",
      "epoch 5, loss 0.013493170961737633\n",
      "epoch 6, loss 0.016435831785202026\n",
      "epoch 7, loss 0.014212158508598804\n",
      "epoch 8, loss 0.013514074496924877\n",
      "epoch 9, loss 0.011400718241930008\n",
      "finished\n"
     ]
    }
   ],
   "execution_count": 10
  },
  {
   "metadata": {
    "ExecuteTime": {
     "end_time": "2025-09-10T05:09:12.227145Z",
     "start_time": "2025-09-10T05:09:11.639714Z"
    }
   },
   "cell_type": "code",
   "source": [
    "import matplotlib.pyplot as plt\n",
    "\n",
    "images, labels = next(iter(test_loader))\n",
    "\n",
    "images_flat = images.view(images.size(0), -1) # 이미지 플래튼하고\n",
    "\n",
    "\n",
    "# encoded2 = model.encoder(images_flat)\n",
    "# decoded2 = model.decoder(encoded2)\n",
    "\n",
    "\n",
    "recon_images_flat, encoded = model(images_flat) # 디코딩해서 나온 사진(원본과 비교하기위해서) 플랫튼형태임\n",
    "recon_images = recon_images_flat.view(images.size()) # 플랫튼된 것을 다시 [배치,1,28,28]로 바꿈\n",
    "\n",
    "\n",
    "n_imgs = 10\n",
    "plt.figure(figsize=(20, 6))\n",
    "for i in range(n_imgs):\n",
    "    ax = plt.subplot(2, n_imgs, i + 1)\n",
    "    plt.imshow(images[i].squeeze().numpy(), cmap='gray')  # 원본\n",
    "    ax.set_title('origin')\n",
    "    ax.axis(\"off\")\n",
    "\n",
    "    ax = plt.subplot(2, n_imgs, n_imgs + i + 1)\n",
    "    plt.imshow(recon_images[i].detach().squeeze().numpy(), cmap='gray')  # 재구성\n",
    "    ax.set_title(\"recon\")\n",
    "    ax.axis(\"off\")\n",
    "\n",
    "plt.show()"
   ],
   "id": "311e6ca4a0c1e208",
   "outputs": [
    {
     "data": {
      "text/plain": [
       "<Figure size 2000x600 with 20 Axes>"
      ],
      "image/png": "[encoded data removed]"
     },
     "metadata": {},
     "output_type": "display_data"
    }
   ],
   "execution_count": 24
  },
  {
   "metadata": {
    "ExecuteTime": {
     "end_time": "2025-09-10T05:14:37.753642Z",
     "start_time": "2025-09-10T05:14:37.750899Z"
    }
   },
   "cell_type": "code",
   "source": [
    "print(images.size())\n",
    "print(recon_images_flat.shape)\n",
    "print(recon_images.size())\n",
    "##중간중간에 사이즈 확인하면서 코딩하기\n",
    "print(images[0].numpy().shape)\n",
    "# chw:120 -> hwc -> hw\n"
   ],
   "id": "f16583949fb267a9",
   "outputs": [
    {
     "name": "stdout",
     "output_type": "stream",
     "text": [
      "torch.Size([64, 1, 28, 28])\n",
      "torch.Size([64, 784])\n",
      "torch.Size([64, 1, 28, 28])\n",
      "(1, 28, 28)\n"
     ]
    }
   ],
   "execution_count": 26
  },
  {
   "metadata": {},
   "cell_type": "code",
   "source": [
    "class CNNAE(nn.Module):\n",
    "    def __init__(self):\n",
    "        super(CNNAE, self).__init__()\n",
    "        #encoder\n",
    "        self.encoder = nn.Sequential(\n",
    "            nn.Conv2d(1, 16, kernel_size=3, padding=2),\n",
    "            nn.ReLU(),\n",
    "            nn.MaxPool2d(kernel_size=2, stride=2),\n",
    "            nn.Conv2d(16, 32, kernel_size=3, padding=2),\n",
    "            nn.ReLU(),\n",
    "            nn.MaxPool2d(kernel_size=2, stride=2)\n",
    "        )\n",
    "\n",
    "        # decoder\n",
    "        self.decoder = nn.Sequential(\n",
    "            nn.ConvTranspose2d(32, 16, kernel_size=2, stride=2),#사이즈를 키우면서 컨볼루션\n",
    "            nn.ReLU(),\n",
    "            nn.ConvTranspose2d(16, 1, kernel_size=2, stride=2),\n",
    "            nn.Sigmoid()\n",
    "        )\n",
    "\n",
    "    def forward(self, x):\n",
    "        encoded = self.encoder(x)\n",
    "        decoded = self.decoder(encoded)\n",
    "        return decoded, encoded\n"
   ],
   "id": "11ccc84cbe772d8a",
   "outputs": [],
   "execution_count": null
  },
  {
   "metadata": {
    "ExecuteTime": {
     "end_time": "2025-09-10T05:04:52.411411Z",
     "start_time": "2025-09-04T09:41:15.788098Z"
    }
   },
   "cell_type": "code",
   "source": [
    "import torch\n",
    "import torch.nn as nn\n",
    "import torch.optim as optim\n",
    "from torch.utils.data import DataLoader\n",
    "import torchvision\n",
    "import torchvision.transforms as T\n",
    "import matplotlib.pyplot as plt\n",
    "\n",
    "# -----------------------\n",
    "# 0) Device\n",
    "# -----------------------\n",
    "device = (\n",
    "    \"cuda\" if torch.cuda.is_available()\n",
    "    else (\"mps\" if hasattr(torch.backends, \"mps\") and torch.backends.mps.is_available() else \"cpu\")\n",
    ")\n",
    "print(\"device:\", device)\n",
    "\n",
    "# -----------------------\n",
    "# 1) Dataset / DataLoader\n",
    "# -----------------------\n",
    "transform = T.ToTensor()\n",
    "\n",
    "trainset = torchvision.datasets.MNIST(\n",
    "    root=\"./data\", train=True, transform=transform, download=True\n",
    ")\n",
    "testset = torchvision.datasets.MNIST(\n",
    "    root=\"./data\", train=False, transform=transform, download=True\n",
    ")\n",
    "\n",
    "train_loader = DataLoader(trainset, batch_size=128, shuffle=True)\n",
    "test_loader = DataLoader(testset, batch_size=128, shuffle=False)\n",
    "\n",
    "# -----------------------\n",
    "# 2) Model (CNN Autoencoder)\n",
    "#    padding=1 로 바꿔서 28->14->7 -> 14 -> 28로 정확히 복원되게 함\n",
    "# -----------------------\n",
    "class CNNAE(nn.Module):\n",
    "    def __init__(self):\n",
    "        super(CNNAE, self).__init__()\n",
    "        # Encoder: 28x28 -> 14x14 -> 7x7\n",
    "        self.encoder = nn.Sequential(\n",
    "            nn.Conv2d(1, 16, kernel_size=3, padding=1),  # 28x28 유지\n",
    "            nn.ReLU(inplace=True),\n",
    "            nn.MaxPool2d(kernel_size=2, stride=2),       # 14x14\n",
    "            nn.Conv2d(16, 32, kernel_size=3, padding=1), # 14x14 유지\n",
    "            nn.ReLU(inplace=True),\n",
    "            nn.MaxPool2d(kernel_size=2, stride=2)        # 7x7\n",
    "        )\n",
    "        # Decoder: 7x7 -> 14x14 -> 28x28\n",
    "        self.decoder = nn.Sequential(\n",
    "            nn.ConvTranspose2d(32, 16, kernel_size=2, stride=2),  # 7->14\n",
    "            nn.ReLU(inplace=True),\n",
    "            nn.ConvTranspose2d(16, 1, kernel_size=2, stride=2),   # 14->28\n",
    "            nn.Sigmoid()\n",
    "        )\n",
    "    def forward(self, x):\n",
    "        encoded = self.encoder(x)\n",
    "        decoded = self.decoder(encoded)\n",
    "        return decoded, encoded\n",
    "\n",
    "model = CNNAE().to(device)\n",
    "\n",
    "# -----------------------\n",
    "# 3) Loss / Optimizer\n",
    "# -----------------------\n",
    "loss_fn = nn.MSELoss()\n",
    "optimizer = optim.Adam(model.parameters(), lr=1e-3)\n",
    "\n",
    "# -----------------------\n",
    "# 4) Train\n",
    "#    (중요) 입력을 절대 flatten 하지 말 것. [B,1,28,28]을 그대로 사용\n",
    "# -----------------------\n",
    "epochs = 10\n",
    "model.train()\n",
    "for epoch in range(1, epochs+1):\n",
    "    running_loss = 0.0\n",
    "    for inputs, _ in train_loader:\n",
    "        inputs = inputs.to(device)              # [B,1,28,28]\n",
    "        optimizer.zero_grad()\n",
    "        outputs, _ = model(inputs)              # outputs: [B,1,28,28]\n",
    "        loss = loss_fn(outputs, inputs)         # 타깃도 동일한 모양\n",
    "        loss.backward()\n",
    "        optimizer.step()\n",
    "        running_loss += loss.item() * inputs.size(0)\n",
    "    epoch_loss = running_loss / len(train_loader.dataset)\n",
    "    print(f\"[{epoch:02d}/{epochs}] loss: {epoch_loss:.6f}\")\n",
    "\n",
    "print(\"finished\")\n",
    "\n",
    "# -----------------------\n",
    "# 5) Visualize: 원본 vs 복원\n",
    "# -----------------------\n",
    "model.eval()\n",
    "with torch.no_grad():\n",
    "    images, _ = next(iter(test_loader))\n",
    "    images = images.to(device)\n",
    "    recon, _ = model(images)\n",
    "\n",
    "# 첫 10개 비교\n",
    "n_imgs = 10\n",
    "plt.figure(figsize=(20, 4))\n",
    "for i in range(n_imgs):\n",
    "    # 원본\n",
    "    ax = plt.subplot(2, n_imgs, i + 1)\n",
    "    ax.imshow(images[i].detach().cpu().squeeze().numpy(), cmap='gray')\n",
    "    ax.set_title(\"origin\")\n",
    "    ax.axis(\"off\")\n",
    "    # 복원\n",
    "    ax = plt.subplot(2, n_imgs, n_imgs + i + 1)\n",
    "    ax.imshow(recon[i].detach().cpu().squeeze().numpy(), cmap='gray')\n",
    "    ax.set_title(\"recon\")\n",
    "    ax.axis(\"off\")\n",
    "plt.tight_layout()\n",
    "plt.show()"
   ],
   "id": "893ce4877d0832ab",
   "outputs": [
    {
     "name": "stdout",
     "output_type": "stream",
     "text": [
      "device: mps\n",
      "[01/10] loss: 0.037287\n",
      "[02/10] loss: 0.005886\n",
      "[03/10] loss: 0.004418\n",
      "[04/10] loss: 0.003832\n",
      "[05/10] loss: 0.003483\n",
      "[06/10] loss: 0.003252\n",
      "[07/10] loss: 0.003082\n",
      "[08/10] loss: 0.002949\n",
      "[09/10] loss: 0.002841\n",
      "[10/10] loss: 0.002750\n",
      "finished\n"
     ]
    },
    {
     "data": {
      "text/plain": [
       "<Figure size 2000x400 with 20 Axes>"
      ],
      "image/png": "[encoded data removed]"
     },
     "metadata": {},
     "output_type": "display_data"
    }
   ],
   "execution_count": 49
  },
  {
   "metadata": {},
   "cell_type": "code",
   "source": [
    "model = CNNAE().to(device)\n",
    "print(model)"
   ],
   "id": "1d3b6e93d410542a",
   "outputs": [],
   "execution_count": null
  }
 ],
 "metadata": {
  "kernelspec": {
   "display_name": "Python 3",
   "language": "python",
   "name": "python3"
  },
  "language_info": {
   "codemirror_mode": {
    "name": "ipython",
    "version": 2
   },
   "file_extension": ".py",
   "mimetype": "text/x-python",
   "name": "python",
   "nbconvert_exporter": "python",
   "pygments_lexer": "ipython2",
   "version": "2.7.6"
  }
 },
 "nbformat": 4,
 "nbformat_minor": 5
}
