{
 "cells": [
  {
   "metadata": {},
   "cell_type": "markdown",
   "source": "# 라이브러리 임포트",
   "id": "cba5d8bd8c98c85c"
  },
  {
   "cell_type": "code",
   "id": "initial_id",
   "metadata": {
    "collapsed": true,
    "ExecuteTime": {
     "end_time": "2025-10-17T02:32:28.364215Z",
     "start_time": "2025-10-17T02:32:21.150584Z"
    }
   },
   "source": [
    "import os\n",
    "import torch\n",
    "import torchvision\n",
    "from torch import nn, optim\n",
    "from torchvision.transforms import v2"
   ],
   "outputs": [],
   "execution_count": 2
  },
  {
   "metadata": {},
   "cell_type": "markdown",
   "source": "# 경로 및 디바이스 설정",
   "id": "f460b19aaf811889"
  },
  {
   "metadata": {},
   "cell_type": "markdown",
   "source": "## Pycharm",
   "id": "f8c8fe7f3a135b24"
  },
  {
   "metadata": {
    "ExecuteTime": {
     "end_time": "2025-10-17T02:32:28.375275Z",
     "start_time": "2025-10-17T02:32:28.372585Z"
    }
   },
   "cell_type": "code",
   "source": [
    "# device 설정\n",
    "device = torch.device(\"mps\")\n",
    "print(os.getcwd())"
   ],
   "id": "278bb52734167fbb",
   "outputs": [
    {
     "name": "stdout",
     "output_type": "stream",
     "text": [
      "/Users/yoonwogud/Desktop/Git/DeepLearning/Part2\n"
     ]
    }
   ],
   "execution_count": 3
  },
  {
   "metadata": {},
   "cell_type": "markdown",
   "source": "## Colab",
   "id": "1de04c80d95fe442"
  },
  {
   "metadata": {
    "ExecuteTime": {
     "end_time": "2025-10-17T02:32:31.724285Z",
     "start_time": "2025-10-17T02:32:31.721855Z"
    }
   },
   "cell_type": "code",
   "source": "# device = torch.device(\"cuda\" if torch.cuda.is_available() else \"cpu\")",
   "id": "6251ea605be9d39b",
   "outputs": [],
   "execution_count": 4
  },
  {
   "metadata": {},
   "cell_type": "markdown",
   "source": "# 데이터로더",
   "id": "3f9e120f4312df5"
  },
  {
   "metadata": {
    "ExecuteTime": {
     "end_time": "2025-10-17T02:33:44.310844Z",
     "start_time": "2025-10-17T02:33:44.261087Z"
    }
   },
   "cell_type": "code",
   "source": [
    "from torch.utils.data import DataLoader\n",
    "\n",
    "transform = v2.Compose([\n",
    "    v2.ToImage(),\n",
    "    v2.ToDtype(torch.float32, scale=True),\n",
    "    v2.Normalize([0.5], [0.5]) # gray니깐 mean, std 하나씩\n",
    "])\n",
    "\n",
    "train_dataset = torchvision.datasets.FashionMNIST(root='./data', train=True, download=True, transform=transform)\n",
    "test_dataset = torchvision.datasets.FashionMNIST(root='./data', train=False, download=True, transform=transform)\n",
    "\n",
    "train_loader = DataLoader(train_dataset, batch_size=64, shuffle=True)\n",
    "test_loader  = DataLoader(test_dataset, batch_size=64, shuffle=False)\n",
    "\n",
    "# 클래스 이름 (FashionMNIST 클래스)\n",
    "idx_to_class = {i: class_name for i, class_name in enumerate(train_dataset.classes)}\n",
    "idx_to_class"
   ],
   "id": "2063147983f0392b",
   "outputs": [
    {
     "data": {
      "text/plain": [
       "{0: 'T-shirt/top',\n",
       " 1: 'Trouser',\n",
       " 2: 'Pullover',\n",
       " 3: 'Dress',\n",
       " 4: 'Coat',\n",
       " 5: 'Sandal',\n",
       " 6: 'Shirt',\n",
       " 7: 'Sneaker',\n",
       " 8: 'Bag',\n",
       " 9: 'Ankle boot'}"
      ]
     },
     "execution_count": 6,
     "metadata": {},
     "output_type": "execute_result"
    }
   ],
   "execution_count": 6
  },
  {
   "metadata": {},
   "cell_type": "code",
   "outputs": [],
   "execution_count": null,
   "source": [
    "image_size = 28      # Fashion MNIST 이미지 크기 28*28\n",
    "num_classes = 10     # 10개 클래스, 출력 10개\n",
    "latent_dim = 100     # 잠재 공간 차원\n",
    "\n",
    "\n",
    "class Generator(nn.Module):\n",
    "    def __init__(self):\n",
    "        super(Generator, self).__init__()\n",
    "\n",
    "\n",
    "    def forward(self, z):\n",
    "        pass\n",
    "\n",
    "\n",
    "\n",
    "class Discriminator(nn.Module):\n",
    "    def __init__(self):\n",
    "        super(Discriminator, self).__init__()\n",
    "\n",
    "\n",
    "    def forward(self, z):\n",
    "        pass"
   ],
   "id": "f0fc46b6f81c2c70"
  },
  {
   "metadata": {},
   "cell_type": "markdown",
   "source": "# 옵티마이저",
   "id": "fe0a41b00556056f"
  },
  {
   "metadata": {},
   "cell_type": "code",
   "outputs": [],
   "execution_count": null,
   "source": [
    "# 모델 초기화\n",
    "generator = Generator().to(device)\n",
    "discriminator = Discriminator().to(device)\n",
    "\n",
    "epochs = 30\n",
    "criterion = nn.BCELoss()\n",
    "optimizer_G = optim.Adam(generator.parameters(), lr=0.0002, betas=(0.5, 0.999))\n",
    "optimizer_D = optim.Adam(discriminator.parameters(), lr=0.0002, betas=(0.5, 0.999))\n"
   ],
   "id": "d79a4bb15745bbc"
  }
 ],
 "metadata": {
  "kernelspec": {
   "display_name": "Python 3",
   "language": "python",
   "name": "python3"
  },
  "language_info": {
   "codemirror_mode": {
    "name": "ipython",
    "version": 2
   },
   "file_extension": ".py",
   "mimetype": "text/x-python",
   "name": "python",
   "nbconvert_exporter": "python",
   "pygments_lexer": "ipython2",
   "version": "2.7.6"
  }
 },
 "nbformat": 4,
 "nbformat_minor": 5
}
