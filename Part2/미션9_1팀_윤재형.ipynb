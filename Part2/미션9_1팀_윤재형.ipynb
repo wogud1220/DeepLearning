{
 "cells": [
  {
   "metadata": {},
   "cell_type": "markdown",
   "source": "# 라이브러리 임포트",
   "id": "cba5d8bd8c98c85c"
  },
  {
   "cell_type": "code",
   "id": "initial_id",
   "metadata": {
    "collapsed": true,
    "ExecuteTime": {
     "end_time": "2025-10-15T06:47:49.439457Z",
     "start_time": "2025-10-15T06:47:48.577305Z"
    }
   },
   "source": [
    "import os\n",
    "\n",
    "import torch\n",
    "import torchvision\n",
    "from torchvision.transforms import v2\n"
   ],
   "outputs": [],
   "execution_count": 8
  },
  {
   "metadata": {},
   "cell_type": "markdown",
   "source": "# 경로 및 디바이스 설정",
   "id": "f460b19aaf811889"
  },
  {
   "metadata": {},
   "cell_type": "markdown",
   "source": "## Pycharm",
   "id": "f8c8fe7f3a135b24"
  },
  {
   "metadata": {
    "ExecuteTime": {
     "end_time": "2025-10-15T06:48:51.603675Z",
     "start_time": "2025-10-15T06:48:51.600774Z"
    }
   },
   "cell_type": "code",
   "source": [
    "\n",
    "# device 설정\n",
    "device = torch.device(\"mps\")\n",
    "os.getcwd()\n"
   ],
   "id": "278bb52734167fbb",
   "outputs": [
    {
     "data": {
      "text/plain": [
       "'/Users/yoonwogud/Desktop/codeit_ds/Part2'"
      ]
     },
     "execution_count": 13,
     "metadata": {},
     "output_type": "execute_result"
    }
   ],
   "execution_count": 13
  },
  {
   "metadata": {},
   "cell_type": "markdown",
   "source": "## Colab",
   "id": "1de04c80d95fe442"
  },
  {
   "metadata": {
    "ExecuteTime": {
     "end_time": "2025-10-15T06:47:49.468142Z",
     "start_time": "2025-10-15T06:47:49.465703Z"
    }
   },
   "cell_type": "code",
   "source": "# device = torch.device(\"cuda\" if torch.cuda.is_available() else \"cpu\")",
   "id": "6251ea605be9d39b",
   "outputs": [],
   "execution_count": 10
  },
  {
   "metadata": {},
   "cell_type": "markdown",
   "source": "# 데이터로더",
   "id": "3f9e120f4312df5"
  },
  {
   "metadata": {
    "ExecuteTime": {
     "end_time": "2025-10-15T06:48:06.220556Z",
     "start_time": "2025-10-15T06:47:49.478952Z"
    }
   },
   "cell_type": "code",
   "source": [
    "from torch.utils.data import DataLoader\n",
    "\n",
    "transform = v2.Compose([\n",
    "    v2.ToImage(),\n",
    "    v2.Normalize([0.5], [0.5]) # gray니깐 mean, std 하나씩\n",
    "])\n",
    "\n",
    "train_dataset = torchvision.datasets.FashionMNIST(root='./data', train=True, download=True, transform=transform)\n",
    "test_dataset = torchvision.datasets.FashionMNIST(root='./data', train=False, download=True, transform=transform)\n",
    "\n",
    "train_loader = DataLoader(train_dataset, batch_size=64, shuffle=True)\n",
    "test_loader  = DataLoader(test_dataset, batch_size=64, shuffle=False)\n",
    "\n",
    "# 클래스 이름 (FashionMNIST 클래스)\n",
    "idx_to_class = {i: class_name for i, class_name in enumerate(train_dataset.classes)}\n",
    "idx_to_class"
   ],
   "id": "2063147983f0392b",
   "outputs": [
    {
     "name": "stderr",
     "output_type": "stream",
     "text": [
      "100%|██████████| 26.4M/26.4M [00:09<00:00, 2.86MB/s]\n",
      "100%|██████████| 29.5k/29.5k [00:00<00:00, 114kB/s]\n",
      "100%|██████████| 4.42M/4.42M [00:02<00:00, 1.72MB/s]\n",
      "100%|██████████| 5.15k/5.15k [00:00<00:00, 10.0MB/s]\n"
     ]
    },
    {
     "data": {
      "text/plain": [
       "{0: 'T-shirt/top',\n",
       " 1: 'Trouser',\n",
       " 2: 'Pullover',\n",
       " 3: 'Dress',\n",
       " 4: 'Coat',\n",
       " 5: 'Sandal',\n",
       " 6: 'Shirt',\n",
       " 7: 'Sneaker',\n",
       " 8: 'Bag',\n",
       " 9: 'Ankle boot'}"
      ]
     },
     "execution_count": 11,
     "metadata": {},
     "output_type": "execute_result"
    }
   ],
   "execution_count": 11
  }
 ],
 "metadata": {
  "kernelspec": {
   "display_name": "Python 3",
   "language": "python",
   "name": "python3"
  },
  "language_info": {
   "codemirror_mode": {
    "name": "ipython",
    "version": 2
   },
   "file_extension": ".py",
   "mimetype": "text/x-python",
   "name": "python",
   "nbconvert_exporter": "python",
   "pygments_lexer": "ipython2",
   "version": "2.7.6"
  }
 },
 "nbformat": 4,
 "nbformat_minor": 5
}
