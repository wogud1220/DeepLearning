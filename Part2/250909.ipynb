{
 "cells": [
  {
   "cell_type": "markdown",
   "id": "f65d6424e8c853a7",
   "metadata": {},
   "source": [
    "# 모델 만들기\n",
    "## Autograd\n",
    "- 텐서가 연산을 할때 순전파 그래프에 의해 역전가 자동으로 정의... 개쇨야 ㅅㅂ"
   ]
  },
  {
   "cell_type": "code",
   "id": "initial_id",
   "metadata": {
    "collapsed": true,
    "ExecuteTime": {
     "end_time": "2025-09-10T07:24:01.846691Z",
     "start_time": "2025-09-10T07:24:01.844865Z"
    }
   },
   "source": [
    "import matplotlib.pyplot as plt\n",
    "import torch"
   ],
   "outputs": [],
   "execution_count": 2
  },
  {
   "cell_type": "code",
   "id": "5dffb7677ba79e7",
   "metadata": {
    "ExecuteTime": {
     "end_time": "2025-09-10T07:24:01.885685Z",
     "start_time": "2025-09-10T07:24:01.853897Z"
    }
   },
   "source": [
    "# Autogrand\n",
    "from torch.autograd import grad\n",
    "\n",
    "# 1. 텐서 정의, 초기화\n",
    "# int는 미분이 안된다고함.\n",
    "x1 = torch.tensor(2., requires_grad=True)\n",
    "x2 = torch.tensor(3., requires_grad=True)\n",
    "x3 = torch.tensor(1., requires_grad=True)\n",
    "x4 = torch.tensor(4., requires_grad=True)\n",
    "\n",
    "# 수식\n",
    "z1 = x1 * x2\n",
    "z2 = x3 * x4\n",
    "f = z1 + z2\n",
    "\n",
    "# autograd 기울기 계산\n",
    "df_dx = grad(outputs=f, inputs=[x1, x2, x3, x4])\n",
    "\n",
    "print(f\"grad = {df_dx}\")\n",
    "print(f\"grad of x1 = {df_dx[0]}\")\n",
    "print(f\"grad of x2 = {df_dx[1]}\")\n",
    "print(f\"grad of x3 = {df_dx[2]}\")\n",
    "print(f\"grad of x4 = {df_dx[3]}\")\n"
   ],
   "outputs": [
    {
     "name": "stdout",
     "output_type": "stream",
     "text": [
      "grad = (tensor(3.), tensor(2.), tensor(4.), tensor(1.))\n",
      "grad of x1 = 3.0\n",
      "grad of x2 = 2.0\n",
      "grad of x3 = 4.0\n",
      "grad of x4 = 1.0\n"
     ]
    }
   ],
   "execution_count": 3
  },
  {
   "cell_type": "code",
   "id": "7991dda744fa1b4e",
   "metadata": {
    "ExecuteTime": {
     "end_time": "2025-09-10T07:24:02.544903Z",
     "start_time": "2025-09-10T07:24:01.900116Z"
    }
   },
   "source": [
    "# Backward\n",
    "import torch.optim as optim\n",
    "\n",
    "# 1. 텐서 정의, 초기화\n",
    "# int는 미분이 안된다고함.\n",
    "x1 = torch.tensor(2., requires_grad=False)  # 기울기 저장 안 함\n",
    "x2 = torch.tensor(3., requires_grad=True)\n",
    "x3 = torch.tensor(1., requires_grad=False)  # 기울기 저장 안 함\n",
    "x4 = torch.tensor(4., requires_grad=True)\n",
    "\n",
    "\n",
    "opt = optim.SGD([x1, x2, x3, x4],lr=0.001) #optim 설정\n",
    "opt.zero_grad() # 기울기 0으로 초기화, 누적될 수도 있음.\n",
    "\n",
    "\n",
    "# 수식\n",
    "z1 = x1 * x2\n",
    "z2 = x3 * x4\n",
    "f = z1 + z2\n",
    "\n",
    "# backward 기울기 계산 -> 모든 변수의 기울기를 자동으로 계산 + 저장\n",
    "f.backward()    # loss (f)를 기준으로 backpropagation 진행, f를 만든 입력 텐서의 grad 속성에 미분값 채워넣음\n",
    "# 즉, backward()는 “모든 가중치 W에 대해 기울기를 구해 grad에 저장”하는 단계예요.\n",
    "opt.step()\n",
    "# 역할: 옵티마이저(Optimizer)가 param.grad에 저장된 기울기를 이용해서 가중치를 업데이트하는 단계.\n",
    "\n",
    "\n",
    "#backward = 가중치 계산\n",
    "# step = 가중치 업데이트\n",
    "\n",
    "\n",
    "\n",
    "\n",
    "print(f\"grad = {df_dx}\")\n",
    "print(f\"grad of x1 = {x1.grad}\")\n",
    "print(f\"grad of x2 = {x2.grad}\")\n",
    "print(f\"grad of x3 = {x3.grad}\")\n",
    "print(f\"grad of x4 = {x4.grad}\\n\")\n"
   ],
   "outputs": [
    {
     "name": "stdout",
     "output_type": "stream",
     "text": [
      "grad = (tensor(3.), tensor(2.), tensor(4.), tensor(1.))\n",
      "grad of x1 = None\n",
      "grad of x2 = 2.0\n",
      "grad of x3 = None\n",
      "grad of x4 = 1.0\n",
      "\n"
     ]
    }
   ],
   "execution_count": 4
  },
  {
   "cell_type": "code",
   "id": "fad40e996cc7b2a8",
   "metadata": {
    "ExecuteTime": {
     "end_time": "2025-09-10T07:24:02.558689Z",
     "start_time": "2025-09-10T07:24:02.556073Z"
    }
   },
   "source": [
    "# torch.nn\n",
    "import torch.nn as nn # neural network"
   ],
   "outputs": [],
   "execution_count": 5
  },
  {
   "cell_type": "code",
   "id": "c3a0bbafc717d78f",
   "metadata": {
    "ExecuteTime": {
     "end_time": "2025-09-10T07:30:50.727465Z",
     "start_time": "2025-09-10T07:30:50.716607Z"
    }
   },
   "source": [
    "# nn없이 레이어\n",
    "class FullyConnected(nn.Module):\n",
    "    # nn.Linear(in_dim,out_dim) 없이 구현한것\n",
    "    def __init__(self, input_dim, output_dim):\n",
    "        self.weights = torch.randn(input_dim, output_dim) * 0.01\n",
    "        self.bias = torch.zeros(output_dim)\n",
    "\n",
    "    def forward(self, x):\n",
    "        return x @ self.weights + self.bias\n",
    "\n",
    "layer = FullyConnected(8, 4) # 8개 인풋, 4개의 아웃풋\n",
    "\n",
    "x = torch.randn(2,8) # 8개의 입력을 가진 데이터가 2개\n",
    "print(x)\n",
    "y = layer.forward(x)\n",
    "print(y)"
   ],
   "outputs": [
    {
     "name": "stdout",
     "output_type": "stream",
     "text": [
      "tensor([[-1.1941, -0.0532, -0.3207,  0.6063, -0.5542,  0.5974, -0.3617, -0.0666],\n",
      "        [-0.8428, -2.7480,  0.7010, -1.5241,  1.0707, -1.9948,  0.6173,  0.5380]])\n",
      "tensor([[ 0.0237,  0.0023,  0.0047,  0.0025],\n",
      "        [ 0.0116, -0.0066,  0.0205,  0.0854]])\n"
     ]
    }
   ],
   "execution_count": 42
  },
  {
   "cell_type": "code",
   "id": "a3f7a31e22adfbd8",
   "metadata": {
    "ExecuteTime": {
     "end_time": "2025-09-10T07:24:02.599279Z",
     "start_time": "2025-09-10T07:24:02.592287Z"
    }
   },
   "source": [
    "# nn을 사용해서\n",
    "layer = nn.Linear(8, 4)\n",
    "x = torch.randn(2,8)\n",
    "y = layer.forward(x)\n",
    "print(y)"
   ],
   "outputs": [
    {
     "name": "stdout",
     "output_type": "stream",
     "text": [
      "tensor([[-0.4804, -0.7668, -0.1747, -0.2444],\n",
      "        [ 2.1246, -1.5497,  0.0620, -1.0131]], grad_fn=<AddmmBackward0>)\n"
     ]
    }
   ],
   "execution_count": 7
  },
  {
   "cell_type": "code",
   "id": "c0b038cd2681e9cd",
   "metadata": {
    "ExecuteTime": {
     "end_time": "2025-09-10T07:24:02.617784Z",
     "start_time": "2025-09-10T07:24:02.613156Z"
    }
   },
   "source": [
    "relu = nn.ReLU()\n",
    "softmax = nn.Softmax(dim = 1)  # dim = 1?\n",
    "# 이거 추가해서 사용하면됨.\n",
    "# softmax dim: row wise softmax\n",
    "# dim = 0으로 하면 column wise softmax\n",
    "\n",
    "x = torch.randn(3,4)  # 4개 짜리가 1개\n",
    "y = softmax(x)\n",
    "print(x)\n",
    "print(y)\n"
   ],
   "outputs": [
    {
     "name": "stdout",
     "output_type": "stream",
     "text": [
      "tensor([[-2.2762,  0.9137, -0.6071, -0.3227],\n",
      "        [ 1.6179,  1.3188,  0.3745, -0.8420],\n",
      "        [ 0.2758, -0.6855,  1.0939,  0.0902]])\n",
      "tensor([[0.0266, 0.6451, 0.1410, 0.1874],\n",
      "        [0.4727, 0.3505, 0.1363, 0.0404],\n",
      "        [0.2233, 0.0854, 0.5059, 0.1854]])\n"
     ]
    }
   ],
   "execution_count": 8
  },
  {
   "cell_type": "code",
   "id": "6003e2f0485f36cf",
   "metadata": {
    "ExecuteTime": {
     "end_time": "2025-09-10T07:24:02.643815Z",
     "start_time": "2025-09-10T07:24:02.641711Z"
    }
   },
   "source": [
    "# 손실함수\n",
    "loss_mse = nn.MSELoss()\n",
    "loss_ce = nn.CrossEntropyLoss()\n",
    "loss_bce = nn.BCELoss() # 얘는 출력함수 없어도됨. bcewithlogit이건 출력함수 추가해줘야됨"
   ],
   "outputs": [],
   "execution_count": 9
  },
  {
   "cell_type": "code",
   "id": "6dc837e01af9ef28",
   "metadata": {
    "ExecuteTime": {
     "end_time": "2025-09-10T07:24:02.676798Z",
     "start_time": "2025-09-10T07:24:02.672521Z"
    }
   },
   "source": [
    "# 텐서의 차원\n",
    "tensor_0d = torch.tensor(5)  # scalar\n",
    "tensor_1d = torch.tensor([1,2,3])  # vector\n",
    "tensor_2d = torch.tensor([[1,2,3],[4,5,6]])  # matrix\n",
    "tensor_3d = torch.tensor([\n",
    "    [[1, 2, 3], [4, 5, 6]],   # 첫 번째 블록\n",
    "    [[1, 2, 3], [4, 5, 6]]    # 두 번째 블록\n",
    "])\n",
    "tensor_4d = torch.tensor([\n",
    "    [   # 첫 번째 블록\n",
    "        [[1, 2, 3], [4, 5, 6]],   # 첫 번째 채널\n",
    "        [[7, 8, 9], [10, 11, 12]] # 두 번째 채널\n",
    "    ],\n",
    "    [   # 두 번째 블록\n",
    "        [[13, 14, 15], [16, 17, 18]],   # 첫 번째 채널\n",
    "        [[19, 20, 21], [22, 23, 24]]    # 두 번째 채널\n",
    "    ]\n",
    "])\n",
    "\n",
    "# ndim 은 넘파이 속성, dim()은 토치 메소드. 둘이 똑같음.\n",
    "print(f\"0 = {tensor_0d.ndim}, size = {tensor_0d.size()}\")\n",
    "print(f\"1 = {tensor_1d.dim()}, size = {tensor_1d.size()}\")\n",
    "print(f\"2 = {tensor_2d.dim()}, size = {tensor_2d.size()}\")\n",
    "print(f\"3 = {tensor_3d.dim()}, size = {tensor_3d.size()}\")\n",
    "print(f\"4 = {tensor_4d.dim()}, size = {tensor_4d.size()}\")"
   ],
   "outputs": [
    {
     "name": "stdout",
     "output_type": "stream",
     "text": [
      "0 = 0, size = torch.Size([])\n",
      "1 = 1, size = torch.Size([3])\n",
      "2 = 2, size = torch.Size([2, 3])\n",
      "3 = 3, size = torch.Size([2, 2, 3])\n",
      "4 = 4, size = torch.Size([2, 2, 2, 3])\n"
     ]
    }
   ],
   "execution_count": 10
  },
  {
   "cell_type": "code",
   "id": "aba9c9ed5fe1c152",
   "metadata": {
    "ExecuteTime": {
     "end_time": "2025-09-10T07:24:02.706990Z",
     "start_time": "2025-09-10T07:24:02.703741Z"
    }
   },
   "source": [
    "# 레이어의 입출력 차원\n",
    "layer = nn.Linear(in_features=8, out_features=4)\n",
    "x = torch.randn(1,8)\n",
    "y = layer.forward(x)\n",
    "print(x)\n",
    "print(y)"
   ],
   "outputs": [
    {
     "name": "stdout",
     "output_type": "stream",
     "text": [
      "tensor([[ 1.2910, -1.1385, -0.3648,  1.5792,  0.2521, -0.0358,  1.3150, -0.5852]])\n",
      "tensor([[ 0.5124,  0.3128, -0.2066,  0.3657]], grad_fn=<AddmmBackward0>)\n"
     ]
    }
   ],
   "execution_count": 11
  },
  {
   "cell_type": "code",
   "id": "41b09e1fd34568b4",
   "metadata": {
    "ExecuteTime": {
     "end_time": "2025-09-10T07:41:57.226322Z",
     "start_time": "2025-09-10T07:41:57.220277Z"
    }
   },
   "source": [
    "# nn.Module\n",
    "class Mymodel(nn.Module):\n",
    "    def __init__(self):\n",
    "        super().__init__()\n",
    "        self.l1 = nn.Linear(in_features=8, out_features=4)\n",
    "        self.l2 = nn.Linear(in_features=4, out_features=6)\n",
    "        self.l3 = nn.Linear(in_features=6, out_features=3)\n",
    "        self.relu = nn.ReLU()\n",
    "\n",
    "\n",
    "    def forward(self, x):\n",
    "        x = self.relu(self.l1(x))\n",
    "        # 리니어거치고 활성화 함수. 아래의 두줄을 한 줄로 한 거임.\n",
    "        # x = self.l1(x)\n",
    "        # x = self.relu(x)\n",
    "\n",
    "        x = self.relu(self.l2(x))\n",
    "\n",
    "        y = self.l3(x) # 크로스엔트로피안에 소프트맥스갇 들어가잇음\n",
    "\n",
    "        return y\n",
    "\n",
    "model = Mymodel()\n",
    "input_tensor = torch.randn(2,8)\n",
    "res = model(input_tensor)\n",
    "\n",
    "print(input_tensor)\n",
    "print(res)"
   ],
   "outputs": [
    {
     "name": "stdout",
     "output_type": "stream",
     "text": [
      "tensor([[-0.9216,  0.4942,  1.4437, -0.6321,  0.1237,  0.3321, -0.4937,  0.6304],\n",
      "        [-0.2969, -0.0800, -0.8057,  0.5049, -1.5520, -0.0325, -0.9884,  0.2830]])\n",
      "tensor([[ 0.3017,  0.1828, -0.1142],\n",
      "        [ 0.3162,  0.2550, -0.0608]], grad_fn=<AddmmBackward0>)\n"
     ]
    }
   ],
   "execution_count": 45
  },
  {
   "cell_type": "code",
   "id": "fd212a10a32c12d1",
   "metadata": {
    "ExecuteTime": {
     "end_time": "2025-09-10T07:41:58.677845Z",
     "start_time": "2025-09-10T07:41:58.674121Z"
    }
   },
   "source": [
    "model = Mymodel()\n",
    "# input_tensor = torch.randn(2,8)\n",
    "res = model(input_tensor)  # forward함수인데\n",
    "\n",
    "print(input_tensor[1])\n",
    "print(res[1])"
   ],
   "outputs": [
    {
     "name": "stdout",
     "output_type": "stream",
     "text": [
      "tensor([-0.2969, -0.0800, -0.8057,  0.5049, -1.5520, -0.0325, -0.9884,  0.2830])\n",
      "tensor([ 0.4864,  0.0271, -0.6029], grad_fn=<SelectBackward0>)\n"
     ]
    }
   ],
   "execution_count": 46
  },
  {
   "cell_type": "code",
   "id": "c6cf46a1d6a73293",
   "metadata": {
    "ExecuteTime": {
     "end_time": "2025-09-10T07:24:02.788239Z",
     "start_time": "2025-09-10T07:24:02.786025Z"
    }
   },
   "source": [
    "class Mymodel2(nn.Module):\n",
    "    def __init__(self):\n",
    "        super().__init__()\n",
    "        self.block = Mymodel() # subModule, self.backbone\n",
    "        self.layer = nn.Linear(in_features=3, out_features=4)\n",
    "\n",
    "\n",
    "    def forward(self, x):\n",
    "        x = self.block(x) # mymodel을 통과 ( l1, l2, l3) 다 통과하고\n",
    "\n",
    "        y = self.layer(x) # 추가된 레이어 통과\n",
    "\n",
    "        return y"
   ],
   "outputs": [],
   "execution_count": 14
  },
  {
   "cell_type": "code",
   "id": "976f2b83fb8519fe",
   "metadata": {
    "ExecuteTime": {
     "end_time": "2025-09-10T07:24:02.808654Z",
     "start_time": "2025-09-10T07:24:02.805568Z"
    }
   },
   "source": [
    "model2 = Mymodel2()\n",
    "input_tensor = torch.randn(2,8)\n",
    "res2 = model2(input_tensor)\n",
    "print(input_tensor)\n",
    "print(res2)"
   ],
   "outputs": [
    {
     "name": "stdout",
     "output_type": "stream",
     "text": [
      "tensor([[-0.4976,  1.8498,  0.8036,  0.7130,  0.2779,  0.6621, -1.4506,  0.2836],\n",
      "        [-0.5593,  0.4892, -0.1098,  1.4203, -1.2404,  0.3288, -0.5446, -1.0835]])\n",
      "tensor([[ 0.0576, -0.2974,  0.3736,  0.0650],\n",
      "        [ 0.0701, -0.2916,  0.3603,  0.0526]], grad_fn=<AddmmBackward0>)\n"
     ]
    }
   ],
   "execution_count": 15
  },
  {
   "cell_type": "code",
   "id": "c03e5170468c5f69",
   "metadata": {
    "ExecuteTime": {
     "end_time": "2025-09-10T07:24:02.824719Z",
     "start_time": "2025-09-10T07:24:02.821384Z"
    }
   },
   "source": [
    "class MyModel(nn.Module):\n",
    "    def __init__(self):\n",
    "        super().__init__()\n",
    "        self.l1 = nn.Linear(in_features=8, out_features=4)\n",
    "        self.l2 = nn.Linear(in_features=4, out_features=6)\n",
    "        self.l3 = nn.Linear(in_features=6, out_features=3)\n",
    "        self.relu = nn.ReLU()\n",
    "\n",
    "\n",
    "    def forward(self, x):\n",
    "        x = self.relu(self.l1(x)) # 리니어거치고 활성화 함수. 아래의 두줄을 한 줄로 한 거임.\n",
    "        # x = self.l1(x)\n",
    "        # x = self.relu(x)\n",
    "\n",
    "        x = self.relu(self.l2(x))\n",
    "\n",
    "        y = self.l3(x) # 크로스엔트로피안에 소프트맥스갇 들어가잇음\n",
    "\n",
    "        return y # y값은 Softmax 전에 나온 점수(raw logits).\n",
    "\t\t# 예: [2.1, -0.3, 1.5] 이런 식"
   ],
   "outputs": [],
   "execution_count": 16
  },
  {
   "cell_type": "code",
   "id": "bde75186c352a59b",
   "metadata": {
    "ExecuteTime": {
     "end_time": "2025-09-10T07:24:02.841427Z",
     "start_time": "2025-09-10T07:24:02.838492Z"
    }
   },
   "source": [
    "# 위에 클래스로 만들어서 쌓은거랑 시퀀셜로 바로 한거랑 똑같음.\n",
    "model = nn.Sequential(\n",
    "    nn.Linear(in_features=8, out_features=4),\n",
    "    nn.ReLU(),\n",
    "    nn.Linear(in_features=4, out_features=6),\n",
    "    nn.ReLU(),\n",
    "    nn.Linear(in_features=6, out_features=3),\n",
    ")"
   ],
   "outputs": [],
   "execution_count": 17
  },
  {
   "cell_type": "code",
   "id": "f0e5b1156172fdd8",
   "metadata": {
    "ExecuteTime": {
     "end_time": "2025-09-10T07:24:02.857397Z",
     "start_time": "2025-09-10T07:24:02.851954Z"
    }
   },
   "source": [
    "import torch\n",
    "import torch.nn as nn\n",
    "\n",
    "class ComplexModel(nn.Module):\n",
    "    def __init__(self):\n",
    "        super().__init__()\n",
    "        self.l0_0 = nn.Linear(in_features=4, out_features=8)\n",
    "        self.l0_1 = nn.Linear(in_features=6, out_features=4)\n",
    "        self.l1_0 = nn.Linear(in_features=14, out_features=8)\n",
    "        self.l1_1 = nn.Linear(in_features=14, out_features=2)\n",
    "        self.relu = nn.ReLU()\n",
    "\n",
    "    def forward(self, input0, input1, input2):\n",
    "        h0_0 = self.relu(self.l0_0(input0))   # bs,4 -> (bs, 8)\n",
    "        h0_1 = self.relu(self.l0_1(input1))   # bs,6-> (bs, 4)\n",
    "\n",
    "        # 8 + 4 + 2 = 14  → l1_*와 in_features 일치\n",
    "        h1 = torch.cat([h0_0, h0_1, input2], dim=1)  # (bs, 14)\n",
    "\n",
    "        output0 = self.l1_0(h1)  # (bs, 14)-> (bs, 8)\n",
    "        output1 = self.l1_1(h1)  # (bs, 14)-> (bs, 2)\n",
    "        return output0, output1\n",
    "\n",
    "# 테스트\n",
    "model = ComplexModel()\n",
    "bs = 4\n",
    "x0 = torch.randn(bs, 4)\n",
    "x1 = torch.randn(bs, 6)\n",
    "x2 = torch.randn(bs, 2)\n",
    "y0, y1 = model(x0, x1, x2)\n",
    "print(y0.shape, y1.shape)  # torch.Size([4, 8]) torch.Size([4, 2])"
   ],
   "outputs": [
    {
     "name": "stdout",
     "output_type": "stream",
     "text": [
      "torch.Size([4, 8]) torch.Size([4, 2])\n"
     ]
    }
   ],
   "execution_count": 18
  },
  {
   "cell_type": "code",
   "id": "c0c10d6b3e04187f",
   "metadata": {
    "ExecuteTime": {
     "end_time": "2025-09-10T07:24:02.883494Z",
     "start_time": "2025-09-10T07:24:02.877315Z"
    }
   },
   "source": [
    "class ComplexModel2(nn.Module):\n",
    "    def __init__(self):\n",
    "        super().__init__()\n",
    "        self.dense_1 = nn.Linear(in_features=10, out_features=16)\n",
    "        self.dense_2 = nn.Linear(in_features=5, out_features=16)\n",
    "        self.dense_3 = nn.Linear(in_features=32, out_features=32)\n",
    "        self.dense_4 = nn.Linear(in_features=32, out_features=32)\n",
    "\n",
    "        self.relu = nn.ReLU()\n",
    "\n",
    "        self.aux_output = nn.Linear(in_features=16, out_features=1)\n",
    "        self.main_output = nn.Linear(in_features=32, out_features=1)\n",
    "\n",
    "\n",
    "    def forward(self, input1, input2):\n",
    "        x1 = self.relu(self.dense_1(input1))\n",
    "        out1 = self.aux_output(x1)\n",
    "\n",
    "\n",
    "        x2 = self.relu(self.dense_2(input2))\n",
    "        x2 = torch.concat([x1,x2], dim = 1) # concat, cat 둘이 완전 똑같음.\n",
    "        # 이어 붙여서 인풋 32, 아웃푹 32가 나옴. 이걸 덴스3에다가 집어넣음\n",
    "        x2 = self.relu(self.dense_3(x2))\n",
    "        x2 = self.relu(self.dense_4(x2))\n",
    "\n",
    "        out2 = self.main_output(x2)\n",
    "\n",
    "        return out1, out2\n",
    "\n",
    "\n",
    "model = ComplexModel2()\n",
    "\n",
    "bs = 6\n",
    "input1 = torch.randn(bs,10)\n",
    "input2 = torch.randn(bs,5)\n",
    "\n",
    "output1, output2 = model(input1, input2)\n",
    "print(output1)\n",
    "print(\"\\n\")\n",
    "print(output2)\n"
   ],
   "outputs": [
    {
     "name": "stdout",
     "output_type": "stream",
     "text": [
      "tensor([[-0.0400],\n",
      "        [-0.1019],\n",
      "        [-0.2558],\n",
      "        [-0.4528],\n",
      "        [-0.2427],\n",
      "        [-0.5153]], grad_fn=<AddmmBackward0>)\n",
      "\n",
      "\n",
      "tensor([[0.1011],\n",
      "        [0.1258],\n",
      "        [0.1229],\n",
      "        [0.0922],\n",
      "        [0.0786],\n",
      "        [0.1612]], grad_fn=<AddmmBackward0>)\n"
     ]
    }
   ],
   "execution_count": 19
  },
  {
   "cell_type": "code",
   "id": "227da31e2b21216b",
   "metadata": {
    "ExecuteTime": {
     "end_time": "2025-09-10T07:24:02.904Z",
     "start_time": "2025-09-10T07:24:02.900047Z"
    }
   },
   "source": [
    "class MyModel(nn.Module):\n",
    "    def __init__(self):\n",
    "        super().__init__()\n",
    "        self.l1 = nn.Linear(in_features=8, out_features=4)\n",
    "        self.l2 = nn.Linear(in_features=4, out_features=6)\n",
    "        self.l3 = nn.Linear(in_features=6, out_features=3)\n",
    "        self.relu = nn.ReLU()\n",
    "\n",
    "\n",
    "    def forward(self, x):\n",
    "        x = self.relu(self.l1(x)) # 리니어거치고 활성화 함수. 아래의 두줄을 한 줄로 한 거임.\n",
    "        # x = self.l1(x)\n",
    "        # x = self.relu(x)\n",
    "\n",
    "        x = self.relu(self.l2(x))\n",
    "\n",
    "        y = self.l3(x) # 크로스엔트로피안에 소프트맥스갇 들어가잇음\n",
    "\n",
    "        return y\n",
    "\n",
    "\n",
    "model = MyModel().to('cpu')\n",
    "print(model)"
   ],
   "outputs": [
    {
     "name": "stdout",
     "output_type": "stream",
     "text": [
      "MyModel(\n",
      "  (l1): Linear(in_features=8, out_features=4, bias=True)\n",
      "  (l2): Linear(in_features=4, out_features=6, bias=True)\n",
      "  (l3): Linear(in_features=6, out_features=3, bias=True)\n",
      "  (relu): ReLU()\n",
      ")\n"
     ]
    }
   ],
   "execution_count": 20
  },
  {
   "cell_type": "code",
   "id": "25defb9ff3fb7512",
   "metadata": {
    "ExecuteTime": {
     "end_time": "2025-09-10T07:24:02.926170Z",
     "start_time": "2025-09-10T07:24:02.924093Z"
    }
   },
   "source": [
    "print(list(model.children()),\"\\n\") # 모델의 구성요소 보기. 프린트랑 뭐 거의 똑같다고 봐도 됨\n",
    "# submodule + name\n",
    "for named_child in model.named_children():\n",
    "    print(named_child)"
   ],
   "outputs": [
    {
     "name": "stdout",
     "output_type": "stream",
     "text": [
      "[Linear(in_features=8, out_features=4, bias=True), Linear(in_features=4, out_features=6, bias=True), Linear(in_features=6, out_features=3, bias=True), ReLU()] \n",
      "\n",
      "('l1', Linear(in_features=8, out_features=4, bias=True))\n",
      "('l2', Linear(in_features=4, out_features=6, bias=True))\n",
      "('l3', Linear(in_features=6, out_features=3, bias=True))\n",
      "('relu', ReLU())\n"
     ]
    }
   ],
   "execution_count": 21
  },
  {
   "cell_type": "code",
   "id": "6ad21b74067a058f",
   "metadata": {
    "ExecuteTime": {
     "end_time": "2025-09-10T07:24:02.941758Z",
     "start_time": "2025-09-10T07:24:02.938843Z"
    }
   },
   "source": [
    "# param info\n",
    "\n",
    "for param in model.parameters():\n",
    "    print(param)\n",
    "    break"
   ],
   "outputs": [
    {
     "name": "stdout",
     "output_type": "stream",
     "text": [
      "Parameter containing:\n",
      "tensor([[ 0.2623, -0.0350,  0.2335,  0.3123, -0.0777, -0.0813,  0.2793,  0.0124],\n",
      "        [-0.2841, -0.2556, -0.3433, -0.0389, -0.0832, -0.2697, -0.0525, -0.2950],\n",
      "        [ 0.2728,  0.0317,  0.3501,  0.1028, -0.3123,  0.1720,  0.1445, -0.0917],\n",
      "        [ 0.3527,  0.1006,  0.0878,  0.3343,  0.2133, -0.1909,  0.0741,  0.1728]],\n",
      "       requires_grad=True)\n"
     ]
    }
   ],
   "execution_count": 22
  },
  {
   "cell_type": "code",
   "id": "75f21756786f9f52",
   "metadata": {
    "ExecuteTime": {
     "end_time": "2025-09-10T07:24:02.958563Z",
     "start_time": "2025-09-10T07:24:02.955537Z"
    }
   },
   "source": [
    "# 파라미터 정보 + 이름\n",
    "for named_param in model.named_parameters():\n",
    "    print(named_param)"
   ],
   "outputs": [
    {
     "name": "stdout",
     "output_type": "stream",
     "text": [
      "('l1.weight', Parameter containing:\n",
      "tensor([[ 0.2623, -0.0350,  0.2335,  0.3123, -0.0777, -0.0813,  0.2793,  0.0124],\n",
      "        [-0.2841, -0.2556, -0.3433, -0.0389, -0.0832, -0.2697, -0.0525, -0.2950],\n",
      "        [ 0.2728,  0.0317,  0.3501,  0.1028, -0.3123,  0.1720,  0.1445, -0.0917],\n",
      "        [ 0.3527,  0.1006,  0.0878,  0.3343,  0.2133, -0.1909,  0.0741,  0.1728]],\n",
      "       requires_grad=True))\n",
      "('l1.bias', Parameter containing:\n",
      "tensor([ 0.1407,  0.2477, -0.1987, -0.1435], requires_grad=True))\n",
      "('l2.weight', Parameter containing:\n",
      "tensor([[ 1.1863e-02,  1.2617e-01, -3.9668e-01, -4.9666e-01],\n",
      "        [ 3.3512e-01,  2.9212e-01, -2.6733e-04,  1.1679e-01],\n",
      "        [ 7.6486e-02, -4.1906e-01, -6.0308e-02,  2.2901e-02],\n",
      "        [ 2.6011e-01, -1.9582e-01, -2.7946e-01,  3.6514e-01],\n",
      "        [ 5.3099e-02,  3.0947e-01,  3.1366e-01,  4.6626e-01],\n",
      "        [-1.1358e-01, -2.8187e-01,  1.0114e-01,  2.0594e-01]],\n",
      "       requires_grad=True))\n",
      "('l2.bias', Parameter containing:\n",
      "tensor([-0.3918,  0.1965, -0.2762,  0.4290,  0.2986,  0.1105],\n",
      "       requires_grad=True))\n",
      "('l3.weight', Parameter containing:\n",
      "tensor([[-0.0897,  0.3363, -0.4030,  0.0417,  0.2904,  0.1699],\n",
      "        [ 0.3290, -0.2862,  0.0025, -0.2587,  0.2929,  0.1376],\n",
      "        [ 0.3163, -0.3332, -0.2448,  0.3111, -0.2070, -0.0720]],\n",
      "       requires_grad=True))\n",
      "('l3.bias', Parameter containing:\n",
      "tensor([ 0.3154, -0.2676, -0.1465], requires_grad=True))\n"
     ]
    }
   ],
   "execution_count": 23
  },
  {
   "cell_type": "code",
   "id": "3cc28b1ca75e7985",
   "metadata": {
    "ExecuteTime": {
     "end_time": "2025-09-10T07:24:02.977114Z",
     "start_time": "2025-09-10T07:24:02.973590Z"
    }
   },
   "source": [
    "for i in model2.named_parameters():\n",
    "    print(i)"
   ],
   "outputs": [
    {
     "name": "stdout",
     "output_type": "stream",
     "text": [
      "('block.l1.weight', Parameter containing:\n",
      "tensor([[ 0.1865,  0.0941, -0.3351,  0.1232, -0.1330,  0.2441, -0.2532, -0.2370],\n",
      "        [-0.2844, -0.0273,  0.2242,  0.0997, -0.2120,  0.2376, -0.1483, -0.3219],\n",
      "        [ 0.1074, -0.1886, -0.1544, -0.2423, -0.0347, -0.0066, -0.0928, -0.2346],\n",
      "        [ 0.3508,  0.1962,  0.1280, -0.1323,  0.1576,  0.0063, -0.2696, -0.2921]],\n",
      "       requires_grad=True))\n",
      "('block.l1.bias', Parameter containing:\n",
      "tensor([ 0.2021,  0.0953, -0.3369, -0.1648], requires_grad=True))\n",
      "('block.l2.weight', Parameter containing:\n",
      "tensor([[ 0.3187,  0.2157, -0.4134,  0.4787],\n",
      "        [ 0.1174, -0.3010, -0.2851,  0.1488],\n",
      "        [-0.1561, -0.2619,  0.0859,  0.1108],\n",
      "        [ 0.2227, -0.2901, -0.3341,  0.0272],\n",
      "        [ 0.0770,  0.3127,  0.3333,  0.3175],\n",
      "        [-0.1204,  0.4748, -0.1786,  0.3959]], requires_grad=True))\n",
      "('block.l2.bias', Parameter containing:\n",
      "tensor([ 0.1770, -0.2760, -0.2726,  0.2010,  0.4379, -0.4251],\n",
      "       requires_grad=True))\n",
      "('block.l3.weight', Parameter containing:\n",
      "tensor([[ 0.0713,  0.1029, -0.0621,  0.0225,  0.1437, -0.0463],\n",
      "        [ 0.0856, -0.0777, -0.1396, -0.0879,  0.2141, -0.2324],\n",
      "        [-0.0227, -0.3467, -0.2304,  0.3768, -0.0436, -0.2075]],\n",
      "       requires_grad=True))\n",
      "('block.l3.bias', Parameter containing:\n",
      "tensor([-0.2906, -0.0174, -0.1894], requires_grad=True))\n",
      "('layer.weight', Parameter containing:\n",
      "tensor([[ 0.0699,  0.4549, -0.0838],\n",
      "        [ 0.0437,  0.1604, -0.0865],\n",
      "        [ 0.1638, -0.2394,  0.5049],\n",
      "        [ 0.4389, -0.3819,  0.4721]], requires_grad=True))\n",
      "('layer.bias', Parameter containing:\n",
      "tensor([-0.0410, -0.3405,  0.5370,  0.2848], requires_grad=True))\n"
     ]
    }
   ],
   "execution_count": 24
  },
  {
   "cell_type": "code",
   "id": "25c2fd3b",
   "metadata": {
    "ExecuteTime": {
     "end_time": "2025-09-10T07:24:02.994561Z",
     "start_time": "2025-09-10T07:24:02.991930Z"
    }
   },
   "source": [
    "for name, param in model.named_parameters():\n",
    "    print(name)\n",
    "    print(param.device)"
   ],
   "outputs": [
    {
     "name": "stdout",
     "output_type": "stream",
     "text": [
      "l1.weight\n",
      "cpu\n",
      "l1.bias\n",
      "cpu\n",
      "l2.weight\n",
      "cpu\n",
      "l2.bias\n",
      "cpu\n",
      "l3.weight\n",
      "cpu\n",
      "l3.bias\n",
      "cpu\n"
     ]
    }
   ],
   "execution_count": 25
  },
  {
   "metadata": {},
   "cell_type": "markdown",
   "source": "# 모델 학습하기",
   "id": "a8a4635fae7ed79d"
  },
  {
   "metadata": {
    "ExecuteTime": {
     "end_time": "2025-09-10T07:24:03.936882Z",
     "start_time": "2025-09-10T07:24:03.014120Z"
    }
   },
   "cell_type": "code",
   "source": [
    "import numpy as np\n",
    "import pandas as pd\n",
    "from sklearn.preprocessing import StandardScaler\n",
    "\n",
    "import torch\n",
    "import torch.nn as nn\n",
    "from torch.utils.data import Dataset, DataLoader"
   ],
   "id": "5a55cb49b80a3710",
   "outputs": [],
   "execution_count": 26
  },
  {
   "metadata": {
    "ExecuteTime": {
     "end_time": "2025-09-10T07:24:04.071188Z",
     "start_time": "2025-09-10T07:24:03.948538Z"
    }
   },
   "cell_type": "code",
   "source": [
    "# 데이터 불러오기\n",
    "abalone_df = pd.read_csv(\n",
    "    'https://storage.googleapis.com/download.tensorflow.org/data/abalone_train.csv',\n",
    "    names=['Length', 'Diameter', 'Height', 'Whole weight', 'Shucked weight',\n",
    "           'Viscera weight', 'Shell weight', 'Age']\n",
    ")\n",
    "\n",
    "# 입력과 타깃 나누기\n",
    "input_data = abalone_df.drop(columns=['Age']).to_numpy().astype(np.float32)\n",
    "target_data = abalone_df['Age'].to_numpy().astype(np.float32)"
   ],
   "id": "edc35d38f15487ac",
   "outputs": [],
   "execution_count": 27
  },
  {
   "metadata": {
    "ExecuteTime": {
     "end_time": "2025-09-10T07:24:04.090368Z",
     "start_time": "2025-09-10T07:24:04.087539Z"
    }
   },
   "cell_type": "code",
   "source": [
    "class AbaloneDataset(Dataset):\n",
    "    def __init__(self, input_data, target_data):\n",
    "        self.input_data = input_data\n",
    "        self.target_data = target_data\n",
    "\n",
    "\n",
    "    def __len__(self):\n",
    "        return len(self.input_data)\n",
    "\n",
    "\n",
    "    def __getitem__(self, index):\n",
    "        return (torch.tensor(self.input_data[index], dtype=torch.float32),\n",
    "                torch.tensor(self.target_data[index], dtype=torch.float32))\n",
    "\n"
   ],
   "id": "dab2283d9a20a290",
   "outputs": [],
   "execution_count": 28
  },
  {
   "metadata": {
    "ExecuteTime": {
     "end_time": "2025-09-10T08:26:14.429007Z",
     "start_time": "2025-09-10T08:26:14.415498Z"
    }
   },
   "cell_type": "code",
   "source": [
    "# 학습/검증/테스트\n",
    "train_size = int(0.8 * len(abalone_df))\n",
    "val_size = int(len(abalone_df) * 0.1)\n",
    "test_size = int(len(abalone_df) * 0.1)\n",
    "\n",
    "train_inputs = input_data[0:train_size]\n",
    "train_targets = target_data[0:train_size]\n",
    "\n",
    "val_inputs = input_data[train_size:train_size+val_size]\n",
    "val_targets = target_data[train_size:train_size+val_size]\n",
    "\n",
    "test_inputs = input_data[train_size + val_size:]\n",
    "test_targets = target_data[train_size + val_size:]\n",
    "\n",
    "\n",
    "# Standardization\n",
    "scaler = StandardScaler()\n",
    "scaler.fit(train_inputs)\n",
    "\n",
    "\n",
    "train_inputs_scaled = scaler.transform(train_inputs)\n",
    "val_inputs_scaled = scaler.transform(val_inputs)\n",
    "test_inputs_scaled = scaler.transform(test_inputs)\n",
    "\n",
    "# 데이터셋+ 데이터로더\n",
    "train_dataset = AbaloneDataset(train_inputs_scaled, train_targets)\n",
    "val_dataset = AbaloneDataset(val_inputs_scaled, val_targets)\n",
    "test_dataset = AbaloneDataset(test_inputs_scaled, test_targets)\n",
    "\n",
    "\n",
    "train_dataloader = DataLoader(dataset=train_dataset, batch_size=32, shuffle=True, drop_last=True)\n",
    "val_dataloader = DataLoader(dataset=val_dataset, batch_size=32,)\n",
    "test_dataloader = DataLoader(dataset=test_dataset, batch_size=32, drop_last=False)"
   ],
   "id": "2205a8d827fd5986",
   "outputs": [],
   "execution_count": 75
  },
  {
   "metadata": {
    "ExecuteTime": {
     "end_time": "2025-09-10T08:26:14.652478Z",
     "start_time": "2025-09-10T08:26:14.647224Z"
    }
   },
   "cell_type": "code",
   "source": [
    "class AbaloneModel(nn.Module):\n",
    "    def __init__(self):\n",
    "        super().__init__()\n",
    "        self.fc1 = nn.Linear(in_features=7, out_features=32)\n",
    "        self.fc2 = nn.Linear(in_features=32, out_features=16)\n",
    "        self.fc3 = nn.Linear(in_features=16, out_features=8)\n",
    "        self.fc4 = nn.Linear(in_features=8, out_features=1)\n",
    "\n",
    "        self.relu = nn.ReLU()\n",
    "\n",
    "    def forward(self, x):\n",
    "        x = self.relu(self.fc1(x))\n",
    "        x = self.relu(self.fc2(x))\n",
    "        x = self.relu(self.fc3(x))\n",
    "        x = self.fc4(x)\n",
    "        return x\n",
    "\n",
    "\n",
    "\n",
    "model = AbaloneModel().to('cpu')\n",
    "print(model)\n"
   ],
   "id": "e6797fe0e4942bcc",
   "outputs": [
    {
     "name": "stdout",
     "output_type": "stream",
     "text": [
      "AbaloneModel(\n",
      "  (fc1): Linear(in_features=7, out_features=32, bias=True)\n",
      "  (fc2): Linear(in_features=32, out_features=16, bias=True)\n",
      "  (fc3): Linear(in_features=16, out_features=8, bias=True)\n",
      "  (fc4): Linear(in_features=8, out_features=1, bias=True)\n",
      "  (relu): ReLU()\n",
      ")\n"
     ]
    }
   ],
   "execution_count": 76
  },
  {
   "metadata": {
    "ExecuteTime": {
     "end_time": "2025-09-10T08:26:15.146008Z",
     "start_time": "2025-09-10T08:26:15.135099Z"
    }
   },
   "cell_type": "code",
   "source": [
    "plt.show()\n",
    "# 모델 저장\n",
    "# state_dict() 모델의 파라미터를 담고있는 딕셔너리\n",
    "state_dict = model.state_dict()\n",
    "torch.save(state_dict, 'model.pt')\n",
    "print(state_dict)\n",
    "\n",
    "model_loaded = AbaloneModel()\n",
    "model_loaded.load_state_dict(state_dict)"
   ],
   "id": "794c094744e71f1c",
   "outputs": [
    {
     "name": "stdout",
     "output_type": "stream",
     "text": [
      "OrderedDict([('fc1.weight', tensor([[-0.2903,  0.0072, -0.2097,  0.1445,  0.0315, -0.3585,  0.2532],\n",
      "        [-0.3500, -0.1396,  0.2421,  0.0562, -0.0429,  0.0097, -0.0703],\n",
      "        [ 0.1288, -0.0780, -0.1336,  0.2100,  0.2150, -0.1884, -0.1588],\n",
      "        [-0.0429,  0.2572, -0.2870,  0.0016,  0.1023,  0.1437,  0.0884],\n",
      "        [ 0.1773,  0.1066,  0.3279, -0.2457, -0.1346,  0.2722,  0.1095],\n",
      "        [-0.2936, -0.2757, -0.0270, -0.2615,  0.0208,  0.0842, -0.1115],\n",
      "        [ 0.2586, -0.0031, -0.0715, -0.2096,  0.3354,  0.0610,  0.0300],\n",
      "        [ 0.1779, -0.1180, -0.2542, -0.2229,  0.1883,  0.0888, -0.0151],\n",
      "        [ 0.2279, -0.2943, -0.1867, -0.0157, -0.2862, -0.1870,  0.1563],\n",
      "        [ 0.0029, -0.3689,  0.1446,  0.2777, -0.0617,  0.3352, -0.1833],\n",
      "        [-0.0806, -0.3711, -0.1753,  0.3427, -0.3722, -0.2944, -0.2188],\n",
      "        [ 0.2882,  0.2695, -0.2912, -0.0455, -0.0404,  0.3770, -0.1683],\n",
      "        [ 0.1590, -0.1454,  0.2180,  0.1539, -0.3421,  0.0497,  0.1073],\n",
      "        [ 0.0095,  0.3466, -0.2580, -0.1134,  0.3233,  0.2624, -0.3538],\n",
      "        [-0.3261, -0.1509,  0.0358,  0.1350, -0.0005, -0.2524, -0.1699],\n",
      "        [-0.2849, -0.1420, -0.1453, -0.0242,  0.2158,  0.0855, -0.0866],\n",
      "        [-0.1561,  0.2111, -0.2730, -0.2746,  0.0952,  0.1410,  0.3390],\n",
      "        [-0.0834, -0.0892, -0.1687, -0.0868,  0.2603, -0.1067, -0.0593],\n",
      "        [ 0.1696, -0.0594,  0.2733, -0.2656,  0.1795,  0.0614,  0.1822],\n",
      "        [-0.1009,  0.1279,  0.0622,  0.0579, -0.0887,  0.2474, -0.1099],\n",
      "        [ 0.2116, -0.1107, -0.3382,  0.2843, -0.2978, -0.2529,  0.0852],\n",
      "        [ 0.3689,  0.1544, -0.0826,  0.0571, -0.0525, -0.0560,  0.1082],\n",
      "        [-0.3277, -0.1672,  0.3352, -0.3475,  0.2287,  0.0571, -0.1121],\n",
      "        [-0.0784,  0.2633, -0.1498,  0.2782,  0.0287, -0.2109, -0.0767],\n",
      "        [ 0.3544, -0.1430, -0.3734, -0.2452, -0.2247, -0.0744,  0.3045],\n",
      "        [ 0.1148, -0.0431, -0.3129,  0.0323,  0.1003, -0.0664, -0.1617],\n",
      "        [-0.0749,  0.0234, -0.2379,  0.2418,  0.1928,  0.0415,  0.1695],\n",
      "        [-0.1144,  0.3577, -0.3371, -0.0265, -0.0803,  0.1873, -0.1343],\n",
      "        [-0.1996, -0.3546, -0.2173,  0.2195, -0.2558,  0.0963, -0.1547],\n",
      "        [-0.1137,  0.1252,  0.2119, -0.3358, -0.3529, -0.2228, -0.1926],\n",
      "        [ 0.2863, -0.2074,  0.0476, -0.3758, -0.1930, -0.2345,  0.3188],\n",
      "        [-0.1092, -0.2009,  0.1767,  0.0007,  0.0971, -0.1916,  0.0600]])), ('fc1.bias', tensor([-0.2344,  0.3328,  0.1189,  0.1712, -0.3567, -0.3294, -0.0591,  0.0497,\n",
      "        -0.1247, -0.0180, -0.0184,  0.0156, -0.1149, -0.3010,  0.3544,  0.3524,\n",
      "         0.0936,  0.2084, -0.1808,  0.2619,  0.0814,  0.0030, -0.0458,  0.1422,\n",
      "        -0.2151,  0.1543,  0.0499, -0.1926, -0.0054,  0.0927, -0.2920,  0.0867])), ('fc2.weight', tensor([[-1.6465e-01,  7.1298e-03, -1.7076e-01, -1.3994e-01, -1.2606e-01,\n",
      "         -1.5800e-02,  7.7927e-02, -6.5071e-02, -1.1493e-02,  1.0690e-01,\n",
      "         -5.7888e-02, -1.5085e-01,  1.4125e-01, -1.2332e-01, -1.2779e-01,\n",
      "          6.5567e-02,  1.8157e-02,  4.3408e-02, -1.3654e-01, -1.2101e-01,\n",
      "          1.0844e-01,  1.0249e-01,  3.1711e-02, -2.7660e-03,  9.2891e-02,\n",
      "         -1.1263e-01, -8.9884e-02,  1.5147e-01,  2.8959e-02, -1.3056e-01,\n",
      "          1.0020e-01, -8.6115e-02],\n",
      "        [ 2.2991e-02,  8.1106e-03,  1.1892e-01,  7.2288e-02,  1.5515e-01,\n",
      "          9.4804e-02, -1.3568e-01,  9.3616e-02,  1.8825e-02,  6.2041e-03,\n",
      "         -1.3179e-01, -7.4640e-02,  1.4376e-01,  1.2315e-01,  9.4864e-02,\n",
      "         -5.7378e-02,  9.6050e-02,  5.9334e-02,  6.3555e-02,  4.6168e-02,\n",
      "         -4.2316e-03, -1.5952e-01,  4.5458e-02,  4.6397e-02,  1.7368e-01,\n",
      "          4.0708e-03,  1.3047e-01,  1.5104e-01,  1.0861e-02, -8.2900e-02,\n",
      "          1.7652e-01,  5.1015e-02],\n",
      "        [ 1.8592e-03, -1.7641e-01,  1.4606e-01,  1.4036e-01,  1.4452e-01,\n",
      "          9.7303e-02,  3.1965e-02,  4.3122e-02,  1.6565e-01,  9.7523e-02,\n",
      "         -1.7154e-01, -1.4857e-01,  7.8662e-02,  1.3326e-01,  5.3215e-02,\n",
      "         -8.3103e-02,  2.0137e-02, -7.9343e-02,  6.9909e-02, -1.1950e-01,\n",
      "         -1.1750e-02,  1.4004e-01,  2.1550e-02,  1.2778e-01,  1.1406e-01,\n",
      "          1.0270e-01, -6.5105e-02, -1.0888e-01,  2.9153e-02,  5.3723e-02,\n",
      "         -1.5688e-01, -6.4255e-02],\n",
      "        [ 1.7435e-01, -9.0642e-02,  2.9682e-02,  1.0134e-01, -7.7552e-02,\n",
      "         -6.9024e-02, -1.4368e-01,  1.3878e-01,  8.3938e-02, -1.4213e-01,\n",
      "         -9.4219e-02, -1.5568e-02,  1.4146e-01, -1.5878e-01, -4.0343e-02,\n",
      "         -1.1238e-01,  1.5728e-01, -1.6699e-01,  2.8921e-02,  1.5929e-01,\n",
      "         -1.9436e-02,  6.4810e-02,  5.1219e-02, -2.1946e-02, -1.4450e-01,\n",
      "          6.9246e-02,  1.0226e-01,  1.3908e-02,  5.3903e-02,  9.3084e-02,\n",
      "         -1.1887e-01,  5.3612e-02],\n",
      "        [ 1.5840e-01,  5.8579e-02,  1.6117e-01, -5.7288e-02, -6.7736e-02,\n",
      "          7.3281e-02, -1.7186e-01, -1.7106e-01, -1.3074e-01, -9.2683e-02,\n",
      "         -6.1291e-02, -2.1438e-02, -1.8970e-03,  4.7604e-02,  7.7280e-02,\n",
      "         -2.6759e-02, -1.2867e-01,  5.5332e-02,  4.5117e-02,  2.3854e-03,\n",
      "         -4.5913e-02, -1.3901e-02,  1.1020e-01, -1.1985e-01,  1.7040e-01,\n",
      "          1.6637e-02, -3.0362e-02,  1.6338e-01, -4.8623e-02, -5.6176e-02,\n",
      "         -1.7037e-01, -8.5654e-02],\n",
      "        [ 1.4391e-01,  9.9726e-02,  1.0357e-01,  7.4368e-02,  2.3800e-02,\n",
      "          6.6421e-02, -8.1084e-02, -1.1790e-01, -1.4615e-01, -1.2153e-01,\n",
      "          3.8079e-02,  3.6171e-02,  8.4668e-02, -1.2110e-01, -1.5581e-01,\n",
      "          6.8016e-02,  8.9703e-02, -1.7445e-01,  1.4147e-01,  2.1170e-02,\n",
      "         -1.3580e-01, -1.2392e-01,  1.3359e-01, -8.6544e-02,  7.7548e-02,\n",
      "         -1.1022e-02,  5.1192e-02, -5.2057e-02,  1.8624e-02, -1.3476e-01,\n",
      "         -1.7649e-01, -6.2161e-02],\n",
      "        [-1.1329e-01,  1.5197e-01,  1.1812e-01, -6.7519e-02, -5.6730e-02,\n",
      "         -1.4499e-01, -8.6212e-02,  1.6435e-01,  9.5277e-02,  1.6594e-01,\n",
      "          1.0232e-01,  8.5512e-02,  1.3268e-01, -1.1706e-01, -4.0461e-02,\n",
      "          1.1471e-01, -3.6336e-02, -1.6548e-01,  1.1906e-01,  1.0971e-01,\n",
      "         -1.7491e-01, -6.9409e-02, -3.9140e-02, -2.5339e-02,  5.2723e-02,\n",
      "         -3.9386e-02,  2.3938e-02,  1.1955e-01,  1.2644e-01,  1.2334e-02,\n",
      "         -9.9944e-02, -1.7238e-01],\n",
      "        [ 1.5784e-02,  7.0380e-02,  1.5395e-01,  7.5101e-02, -5.1967e-02,\n",
      "         -1.4725e-02,  1.4584e-01, -8.1695e-04, -6.2127e-02, -1.3863e-01,\n",
      "         -1.0288e-01,  3.3058e-02,  9.3750e-02,  1.1060e-01,  1.6298e-01,\n",
      "          2.3490e-02,  8.9314e-02, -1.5112e-01, -7.7288e-02,  1.3311e-02,\n",
      "         -7.8971e-02,  1.5669e-01, -1.7149e-01, -1.0011e-01,  1.4472e-01,\n",
      "         -1.6407e-01,  1.6223e-01,  7.2285e-02, -1.2447e-01,  7.7473e-02,\n",
      "          7.2559e-02, -1.6887e-01],\n",
      "        [ 6.0823e-02,  1.1971e-01,  2.4307e-02,  1.5190e-01, -1.6753e-01,\n",
      "          3.4726e-02, -4.7226e-03, -9.4025e-02, -1.5004e-01,  1.0094e-01,\n",
      "          1.2874e-01,  1.1698e-01,  1.3563e-01, -5.3548e-02,  1.6610e-01,\n",
      "         -7.3877e-02,  8.5808e-02, -1.1919e-01,  4.0273e-03,  1.7388e-01,\n",
      "         -7.3778e-02, -1.6899e-01, -1.2051e-01, -2.3791e-02, -4.6739e-02,\n",
      "          4.4650e-02,  1.0796e-01,  1.6539e-01,  9.2192e-03,  8.3034e-02,\n",
      "          1.1648e-01, -7.9356e-02],\n",
      "        [ 1.5671e-01, -1.0415e-01,  1.1531e-01,  4.8932e-02, -3.6284e-02,\n",
      "          5.4098e-02,  6.0186e-02,  5.6144e-02,  1.6224e-01, -4.2985e-02,\n",
      "          1.6739e-02,  1.2926e-04, -1.1170e-01, -1.5209e-01,  4.4336e-02,\n",
      "         -6.1442e-02, -1.4887e-01, -1.0181e-02,  2.4557e-02, -1.0801e-01,\n",
      "          1.0158e-01,  1.4820e-01,  3.6099e-02, -8.0908e-03, -1.6865e-01,\n",
      "         -1.0639e-02,  2.1972e-02, -1.4891e-01, -4.7028e-02,  7.9546e-02,\n",
      "          1.9459e-02,  2.7893e-02],\n",
      "        [ 3.9502e-02,  2.8403e-02, -8.8796e-02,  1.3118e-01, -1.0372e-01,\n",
      "         -8.7154e-02, -1.4747e-01, -8.8454e-02, -1.4460e-01, -1.3979e-02,\n",
      "         -3.1405e-02,  1.3146e-01, -1.2393e-01,  4.4104e-02, -1.6259e-02,\n",
      "         -6.6690e-02,  7.3896e-02, -1.0999e-02,  2.1664e-02, -1.3007e-01,\n",
      "          1.0147e-01, -5.2795e-02,  4.6217e-03,  1.0050e-01, -7.6875e-02,\n",
      "         -2.8676e-02, -2.8735e-03,  2.5845e-02,  7.7062e-02,  4.5354e-02,\n",
      "         -1.2668e-01,  7.0417e-02],\n",
      "        [-1.7177e-01, -5.2494e-02, -1.1971e-01, -1.2250e-01,  1.1382e-01,\n",
      "         -1.3580e-01, -1.0264e-01,  1.6344e-01, -1.2029e-01, -4.6387e-02,\n",
      "         -1.7478e-01,  1.4520e-01,  1.5874e-01,  3.5196e-02, -8.3792e-02,\n",
      "         -6.2313e-02, -4.0692e-02, -1.3747e-01, -1.4892e-02,  6.7562e-02,\n",
      "         -2.4461e-02,  1.3319e-01, -1.7044e-01, -1.4688e-01, -1.0143e-01,\n",
      "          3.1620e-02, -1.6061e-01,  1.6098e-01, -8.4650e-02,  1.4461e-01,\n",
      "          8.5153e-02,  1.4141e-01],\n",
      "        [ 9.4842e-02,  9.8690e-02,  3.9740e-02,  4.6936e-02,  1.5105e-01,\n",
      "          5.8215e-02,  5.0235e-02, -1.5596e-01, -1.4103e-01,  5.0547e-02,\n",
      "         -2.8356e-02, -4.6356e-02,  2.5125e-02, -1.3864e-01, -3.5372e-02,\n",
      "          8.6969e-02,  1.7068e-02, -1.3494e-01, -1.6521e-01,  3.0162e-02,\n",
      "         -1.3629e-01, -1.2841e-01, -1.2784e-01,  1.7312e-01, -3.6382e-02,\n",
      "          1.0637e-01,  8.1523e-02,  1.3184e-01, -8.1989e-02,  1.2129e-01,\n",
      "          8.3849e-03,  1.6102e-01],\n",
      "        [ 2.7598e-02,  4.8499e-02,  3.9418e-02,  3.7191e-02, -2.9701e-02,\n",
      "          1.1545e-01, -4.2295e-02,  1.0305e-01, -2.7812e-03,  4.0363e-02,\n",
      "          1.2652e-02,  7.9748e-04, -7.1258e-02,  3.2138e-02, -2.4880e-02,\n",
      "         -1.2274e-01, -1.1680e-01, -1.6030e-01, -1.2577e-01, -5.2645e-02,\n",
      "          4.2412e-02,  1.4063e-02, -4.7557e-02,  1.4156e-01, -2.5960e-02,\n",
      "          4.4843e-02, -7.4019e-02,  1.7530e-01,  1.1831e-01,  6.8536e-02,\n",
      "         -7.7741e-02, -1.2978e-01],\n",
      "        [-2.6213e-03, -1.0323e-01,  7.4880e-02,  1.6037e-01, -7.6848e-02,\n",
      "          7.8199e-02,  1.7371e-01, -7.6259e-02,  1.3433e-01, -6.4946e-02,\n",
      "          1.1752e-01,  7.3867e-02, -1.4263e-02, -1.0030e-01,  4.2904e-02,\n",
      "          1.3131e-01,  8.4340e-02,  1.2136e-01, -1.7482e-01,  1.2987e-01,\n",
      "          7.8427e-02, -4.2967e-02, -5.6310e-02,  8.6811e-02,  1.6946e-01,\n",
      "         -1.6367e-01,  1.4429e-01, -1.4040e-01, -9.8129e-02, -1.7452e-01,\n",
      "          3.6879e-02, -9.0457e-03],\n",
      "        [-5.6789e-02, -1.2766e-01,  1.1783e-01,  1.6067e-01,  3.6363e-02,\n",
      "          5.3041e-02, -1.5313e-01, -5.8176e-02,  1.7401e-01,  1.3980e-01,\n",
      "          1.1048e-01,  8.9718e-02, -5.4010e-02, -1.7530e-01,  3.1972e-02,\n",
      "         -1.0337e-01,  2.5916e-02, -1.3729e-01,  3.4043e-02,  7.8789e-02,\n",
      "         -5.3861e-03, -1.0869e-01,  1.1851e-01,  9.5148e-02,  1.7677e-01,\n",
      "         -5.5973e-02, -4.5002e-02, -7.0768e-02,  1.7495e-01,  1.1044e-01,\n",
      "          1.7587e-01, -1.3999e-01]])), ('fc2.bias', tensor([ 0.0960,  0.0599,  0.1477, -0.0566,  0.1606,  0.1754, -0.0291, -0.1433,\n",
      "         0.1675,  0.0214, -0.0797, -0.0012, -0.1021,  0.0299, -0.0574,  0.0035])), ('fc3.weight', tensor([[ 0.1590, -0.0301,  0.1744, -0.1540,  0.0961,  0.2292,  0.2174, -0.0757,\n",
      "          0.1839, -0.1162,  0.0399,  0.2133, -0.0788,  0.2403,  0.0024, -0.1824],\n",
      "        [ 0.1339,  0.1235, -0.2172,  0.0335,  0.2003,  0.1539, -0.0367,  0.0984,\n",
      "          0.2407,  0.1479, -0.2240,  0.0141, -0.0894,  0.1643, -0.1735,  0.1591],\n",
      "        [ 0.0670, -0.0373, -0.1475,  0.0993, -0.1228, -0.2023, -0.0256,  0.1250,\n",
      "         -0.0983, -0.1533,  0.1708, -0.1363, -0.2284,  0.1253, -0.2316, -0.1406],\n",
      "        [-0.1612, -0.0595,  0.2407,  0.0881, -0.1068, -0.1169,  0.1187, -0.2014,\n",
      "         -0.2260, -0.1839, -0.0226, -0.0935, -0.1340,  0.0247, -0.1563, -0.1199],\n",
      "        [-0.1758,  0.2353,  0.2390, -0.0641, -0.0685,  0.0923,  0.0146, -0.0758,\n",
      "         -0.2257, -0.1759, -0.0161, -0.1211,  0.2373,  0.1703,  0.2170, -0.1645],\n",
      "        [ 0.0034,  0.1105,  0.1252,  0.0856, -0.1922,  0.0449,  0.1811,  0.2214,\n",
      "         -0.0809,  0.0556,  0.2303,  0.2070, -0.2021, -0.1403, -0.1738, -0.2489],\n",
      "        [-0.0080,  0.1065, -0.2230, -0.2337,  0.1715,  0.0330,  0.0344,  0.1369,\n",
      "         -0.1381, -0.2051,  0.0006,  0.1199,  0.1685,  0.0416, -0.0821, -0.0501],\n",
      "        [-0.0715, -0.0327, -0.0411,  0.0923,  0.1610, -0.0898,  0.0148, -0.1973,\n",
      "         -0.0602, -0.1236,  0.1754, -0.1612, -0.1643,  0.2061, -0.0558,  0.1751]])), ('fc3.bias', tensor([-0.1409,  0.0472, -0.0276,  0.1300,  0.0514,  0.2441,  0.0673,  0.1990])), ('fc4.weight', tensor([[ 0.1893, -0.0402, -0.3059,  0.3441, -0.0158, -0.1144,  0.1450, -0.0344]])), ('fc4.bias', tensor([-0.1467]))])\n"
     ]
    },
    {
     "data": {
      "text/plain": [
       "<All keys matched successfully>"
      ]
     },
     "execution_count": 77,
     "metadata": {},
     "output_type": "execute_result"
    }
   ],
   "execution_count": 77
  },
  {
   "metadata": {
    "ExecuteTime": {
     "end_time": "2025-09-10T08:26:15.920922Z",
     "start_time": "2025-09-10T08:26:15.609091Z"
    }
   },
   "cell_type": "code",
   "source": [
    "epochs = 10\n",
    "loss_fn = nn.MSELoss()\n",
    "opt = optim.SGD(model.parameters(), lr=0.001, momentum=0.9) # momentum?\n",
    "step = 0  # opt.step()이랑 다른거임\n",
    "\n",
    "#왜 sgd, momentum이 높으면 지그재그로 안 가나?\n",
    "\n",
    "\n",
    "for epoch in range(epochs):\n",
    "    model.train() # 트레인 할게~\n",
    "\n",
    "    for train_batch in train_dataloader:\n",
    "\n",
    "        x_train, y_train = train_batch #\n",
    "        pred = model(x_train)          # (B, 1)\n",
    "        pred = pred.squeeze(-1)        # (B,)\n",
    "        loss = loss_fn(pred, y_train)  # OK\n",
    "        # pred, y_train wise loss function calculate\n",
    "        loss.backward()\n",
    "        opt.step() # update params\n",
    "        opt.zero_grad() # Weight init\n",
    "        step += 1\n",
    "\n",
    "        if step % 100 == 0:\n",
    "            print(f\"step = {step} , train loss = {loss.item():.4f}\")\n",
    "\n",
    "\n",
    "    model.eval() # 평가할게~\n",
    "    # with안에서는 따로 가중치 계산 x\n",
    "    with torch.no_grad():\n",
    "        losses = []\n",
    "        for val_batch in val_dataloader:\n",
    "            x_val, y_val = val_batch\n",
    "            pred = model(x_val)\n",
    "            loss = loss_fn(pred, y_val)\n",
    "            losses.append(loss.item())\n",
    "        val_loss_avg = sum(losses) / len(losses)\n",
    "        print(f\"val_loss = {val_loss_avg:.4f}\")\n",
    "\n",
    "    if epoch % 10 == 0:\n",
    "        torch.save(model.state_dict(), \"model.pt\")\n",
    "\n",
    "    torch.save(model.state_dict(), f'model_{epoch}.pt')\n"
   ],
   "id": "d15115b08bededf2",
   "outputs": [
    {
     "name": "stderr",
     "output_type": "stream",
     "text": [
      "/Users/yoonwogud/Library/Python/3.9/lib/python/site-packages/torch/nn/modules/loss.py:616: UserWarning: Using a target size (torch.Size([32])) that is different to the input size (torch.Size([32, 1])). This will likely lead to incorrect results due to broadcasting. Please ensure they have the same size.\n",
      "  return F.mse_loss(input, target, reduction=self.reduction)\n",
      "/Users/yoonwogud/Library/Python/3.9/lib/python/site-packages/torch/nn/modules/loss.py:616: UserWarning: Using a target size (torch.Size([12])) that is different to the input size (torch.Size([12, 1])). This will likely lead to incorrect results due to broadcasting. Please ensure they have the same size.\n",
      "  return F.mse_loss(input, target, reduction=self.reduction)\n"
     ]
    },
    {
     "name": "stdout",
     "output_type": "stream",
     "text": [
      "val_loss = 11.4999\n",
      "step = 100 , train loss = 4.2803\n",
      "val_loss = 12.8422\n",
      "step = 200 , train loss = 5.6418\n",
      "val_loss = 14.5534\n",
      "step = 300 , train loss = 9.1805\n",
      "val_loss = 14.3049\n",
      "step = 400 , train loss = 4.0624\n",
      "val_loss = 16.5725\n",
      "val_loss = 14.9750\n",
      "step = 500 , train loss = 5.2164\n",
      "val_loss = 14.5658\n",
      "step = 600 , train loss = 4.9560\n",
      "val_loss = 14.6424\n",
      "step = 700 , train loss = 7.7813\n",
      "val_loss = 16.9556\n",
      "step = 800 , train loss = 3.2165\n",
      "val_loss = 13.3068\n"
     ]
    }
   ],
   "execution_count": 78
  },
  {
   "metadata": {
    "ExecuteTime": {
     "end_time": "2025-09-10T08:27:22.877055Z",
     "start_time": "2025-09-10T08:27:22.856382Z"
    }
   },
   "cell_type": "code",
   "source": [
    "model.eval() # 평가할게~\n",
    "# with안에서는 따로 가중치 계산 x\n",
    "with torch.no_grad():\n",
    "    losses = []\n",
    "    preds = []\n",
    "    targets = []\n",
    "    for test_batch in test_dataloader:\n",
    "        x_test, y_test = test_batch\n",
    "        pred = model(x_test)\n",
    "        pred = pred.squeeze()\n",
    "        loss = loss_fn(pred, y_test)\n",
    "        losses.append(loss.item())\n",
    "\n",
    "        preds.extend(pred.cpu().numpy())\n",
    "        targets.extend(y_test.cpu().numpy())\n",
    "\n",
    "\n",
    "    test_loss_avg = sum(losses) / len(losses)\n",
    "    print(f\"test_loss = {test_loss_avg:.4f}\")\n",
    "    print(len(preds), len(targets))\n"
   ],
   "id": "e8a447fb96d49452",
   "outputs": [
    {
     "name": "stdout",
     "output_type": "stream",
     "text": [
      "test_loss = 5.4726\n",
      "332 332\n"
     ]
    }
   ],
   "execution_count": 83
  },
  {
   "metadata": {
    "ExecuteTime": {
     "end_time": "2025-09-10T08:27:23.242437Z",
     "start_time": "2025-09-10T08:27:23.240668Z"
    }
   },
   "cell_type": "code",
   "source": [
    "# preds = [1, 2]\n",
    "# preds.extend([3, 4])\n",
    "# print(preds)\n",
    "print(pred.shape, y_test.shape)\n",
    "print(len(preds))"
   ],
   "id": "bf5c7d88bcaa817",
   "outputs": [
    {
     "name": "stdout",
     "output_type": "stream",
     "text": [
      "torch.Size([12]) torch.Size([12])\n",
      "332\n"
     ]
    }
   ],
   "execution_count": 84
  },
  {
   "metadata": {
    "ExecuteTime": {
     "end_time": "2025-09-10T07:24:04.634791Z",
     "start_time": "2025-09-10T07:24:04.568437Z"
    }
   },
   "cell_type": "code",
   "source": [
    "import matplotlib.pyplot as plt\n",
    "\n",
    "plt.figure(figsize=(10, 5))\n",
    "\n",
    "plt.scatter(targets, preds, alpha=0.5, label='target vs pred', edgecolor='k')\n",
    "plt.legend()\n",
    "plt.show()"
   ],
   "id": "2667a11613fb47d7",
   "outputs": [
    {
     "data": {
      "text/plain": [
       "<Figure size 1000x500 with 1 Axes>"
      ],
      "image/png": "[encoded data removed]"
     },
     "metadata": {},
     "output_type": "display_data"
    }
   ],
   "execution_count": 34
  },
  {
   "metadata": {
    "ExecuteTime": {
     "end_time": "2025-09-10T07:24:04.669117Z",
     "start_time": "2025-09-10T07:24:04.661364Z"
    }
   },
   "cell_type": "code",
   "source": [
    "# 모델 저장\n",
    "# state_dict() 모델의 파라미터를 담고있는 딕셔너리\n",
    "state_dict = model.state_dict()\n",
    "torch.save(state_dict, 'model.pt')\n",
    "print(state_dict)\n",
    "\n",
    "model_loaded = AbaloneModel()\n",
    "model_loaded.load_state_dict(state_dict)\n",
    "\n"
   ],
   "id": "70891ce6a070f9b4",
   "outputs": [
    {
     "name": "stdout",
     "output_type": "stream",
     "text": [
      "OrderedDict([('fc1.weight', tensor([[-3.4509e-01, -4.9347e-02,  7.4244e-02,  7.4733e-01, -9.8844e-01,\n",
      "         -1.1354e-01,  4.5775e-01],\n",
      "        [-4.2911e-02,  6.4801e-02, -2.9638e-03, -2.7469e-02, -9.7057e-02,\n",
      "          1.2332e-01,  1.3854e-01],\n",
      "        [ 3.2665e-01, -2.3511e-01,  3.5741e-01,  2.7186e-03, -8.2263e-02,\n",
      "         -1.2999e-01,  1.9601e-01],\n",
      "        [ 3.4490e-02,  2.5198e-01, -3.2783e-01,  5.5293e-02,  3.2975e-01,\n",
      "          1.7310e-01, -2.4642e-01],\n",
      "        [-3.1720e-01, -2.6169e-01, -3.2426e-01,  5.1267e-01, -2.5387e-03,\n",
      "          9.3129e-02,  3.7915e-02],\n",
      "        [-2.5169e-02, -4.1129e-01, -2.1120e-01, -8.8517e-02,  4.4600e-01,\n",
      "         -1.1514e-01, -1.4983e-01],\n",
      "        [-2.7957e-01,  4.1981e-02,  4.7495e-02,  3.4245e-01, -7.7937e-02,\n",
      "         -3.7816e-01,  3.3761e-01],\n",
      "        [ 2.1115e-01,  6.0330e-02,  5.8089e-03,  2.6300e-01,  2.4062e-02,\n",
      "         -1.1583e-01,  1.2934e-01],\n",
      "        [-1.5017e-02,  2.9256e-02, -9.8190e-02,  8.0454e-02, -1.1804e-01,\n",
      "         -3.0803e-01, -3.5267e-01],\n",
      "        [-9.8470e-02, -3.4856e-01,  2.5324e-01,  3.2840e-01,  1.2912e-01,\n",
      "         -9.8755e-02, -2.8335e-01],\n",
      "        [-1.5290e-01,  1.6687e-01,  3.2359e-02,  6.0249e-01, -7.7230e-01,\n",
      "         -1.2664e-01, -1.2361e-01],\n",
      "        [ 1.7019e-01,  2.8350e-01, -3.8435e-02, -2.7796e-01, -3.4553e-01,\n",
      "         -5.1038e-02,  6.7636e-02],\n",
      "        [ 1.0981e-01,  8.5694e-02, -5.9367e-02, -2.2357e-01,  1.1942e-01,\n",
      "         -2.4180e-01,  9.0784e-02],\n",
      "        [-1.2358e-01,  1.1121e-01,  7.2600e-02,  3.9500e-02, -7.9080e-02,\n",
      "         -2.9346e-01,  3.7711e-01],\n",
      "        [-1.1136e-01, -5.0609e-02,  1.3163e-01, -4.9467e-01, -4.4481e-02,\n",
      "         -3.2159e-02,  6.3274e-03],\n",
      "        [ 2.5318e-01, -1.1823e-01,  3.0088e-01, -4.7194e-02, -1.0219e-01,\n",
      "          3.7480e-02, -2.9651e-01],\n",
      "        [-2.2635e-01,  5.2227e-01,  1.2487e-01,  8.9966e-03, -2.3939e-01,\n",
      "         -2.4781e-01, -8.4842e-02],\n",
      "        [-1.4288e-01,  2.5662e-01, -2.3614e-01,  1.1971e-01,  1.5404e-01,\n",
      "         -2.9487e-01, -4.5252e-01],\n",
      "        [ 6.6066e-03,  2.0376e-01, -2.4948e-01,  3.9119e-01, -2.5799e-01,\n",
      "         -6.7277e-02, -1.7629e-01],\n",
      "        [-2.5430e-01,  3.7234e-01,  1.6913e-01,  3.0922e-01, -3.8748e-01,\n",
      "          7.0680e-02,  2.7728e-02],\n",
      "        [-2.2144e-01,  4.2091e-01, -3.0891e-01,  4.3252e-01, -1.4076e-01,\n",
      "          2.1249e-01, -1.7772e-01],\n",
      "        [ 4.1580e-02, -2.6444e-01,  2.5214e-01, -1.8667e-01, -3.2033e-02,\n",
      "         -3.8123e-02, -2.7323e-02],\n",
      "        [ 1.6795e-02,  2.3339e-01,  7.5338e-02, -3.0489e-01,  2.5715e-01,\n",
      "          4.8192e-02, -3.9774e-01],\n",
      "        [-3.9524e-01, -4.2637e-02,  1.8251e-01, -2.1391e-01,  3.4500e-01,\n",
      "         -3.7639e-02, -3.0334e-02],\n",
      "        [-8.2426e-02, -1.2473e-01,  9.4152e-02,  2.7965e-01, -7.3919e-01,\n",
      "         -6.7833e-02,  4.1407e-01],\n",
      "        [-8.9297e-02, -1.8482e-02, -1.0033e-01, -3.9291e-01,  4.8548e-01,\n",
      "          1.2036e-01, -1.4053e-01],\n",
      "        [ 1.4543e-01, -1.8568e-01, -6.9561e-02, -2.5959e-01,  4.2799e-01,\n",
      "         -5.3879e-03, -8.5401e-02],\n",
      "        [-3.8744e-02, -2.0143e-01, -5.1640e-01,  4.9379e-02,  3.1216e-01,\n",
      "         -2.0797e-01, -4.0931e-01],\n",
      "        [-7.6309e-02, -9.6311e-02, -3.8289e-01,  2.5068e-01, -1.0754e-01,\n",
      "          5.3443e-02,  2.8469e-03],\n",
      "        [-3.4825e-02,  5.1331e-01,  1.3952e-01, -2.9360e-01, -2.4867e-01,\n",
      "         -1.5001e-01, -3.3286e-01],\n",
      "        [ 1.0412e-01,  8.6918e-02, -8.9206e-02, -3.6683e-01, -2.3249e-01,\n",
      "         -6.4710e-03, -9.7634e-04],\n",
      "        [-4.3280e-02, -2.9940e-01, -2.3926e-01, -2.6647e-01,  4.1593e-01,\n",
      "         -6.7690e-02, -1.0631e-01]])), ('fc1.bias', tensor([ 0.2601,  0.0481, -0.1163, -0.0177, -0.3352,  0.0961,  0.2157,  0.0502,\n",
      "        -0.2204, -0.1322,  0.3464, -0.2021,  0.2654, -0.0043,  0.2571, -0.1765,\n",
      "         0.2025,  0.3275, -0.2722, -0.1837, -0.0434, -0.4184,  0.2093, -0.0986,\n",
      "         0.2069,  0.3308,  0.2046, -0.1779,  0.2715, -0.2152,  0.2828, -0.3085])), ('fc2.weight', tensor([[ 7.5851e-02,  8.6334e-02, -1.2932e-01, -1.4643e-01,  3.1950e-02,\n",
      "          6.9502e-02,  1.5377e-01, -2.1644e-01, -1.6024e-01, -3.9591e-02,\n",
      "         -1.1315e-01,  3.6045e-02,  1.1077e-01,  6.8607e-02,  5.5155e-02,\n",
      "         -3.1996e-02, -1.4170e-01, -1.2005e-01, -1.2397e-01, -1.1782e-01,\n",
      "          1.7103e-01, -1.7497e-01,  9.6586e-03, -1.2617e-01,  1.9676e-02,\n",
      "         -1.1123e-01, -9.6027e-03, -7.9719e-02, -3.7150e-02,  1.3029e-01,\n",
      "          6.7917e-02,  9.9540e-02],\n",
      "        [ 6.2656e-02,  3.8410e-02,  7.6166e-02, -5.7493e-02, -6.4317e-02,\n",
      "         -1.0778e-01, -1.9259e-01,  5.4814e-02,  5.1526e-02, -4.4251e-03,\n",
      "         -1.6605e-01,  1.1335e-01, -1.7254e-01, -3.7407e-02,  5.6145e-02,\n",
      "         -1.7005e-01, -6.7881e-02, -1.9013e-01, -4.4031e-02, -1.0689e-01,\n",
      "         -7.8831e-02,  3.9242e-02, -2.0562e-01,  1.2799e-01, -2.2370e-01,\n",
      "          1.4206e-01,  3.2960e-02, -1.2499e-01,  1.1931e-02,  1.1858e-01,\n",
      "          2.3828e-02, -1.7620e-01],\n",
      "        [ 1.9338e-01,  4.8609e-03,  5.4529e-02, -2.5508e-01, -8.9588e-02,\n",
      "         -1.5153e-01,  1.4441e-01, -3.7340e-02,  3.1431e-02, -1.4071e-01,\n",
      "          1.8573e-01, -7.2777e-02, -3.2625e-03, -1.2835e-01, -1.9848e-02,\n",
      "          2.5563e-03, -1.1092e-01,  2.4662e-02,  1.2504e-01,  3.6584e-02,\n",
      "         -1.8192e-01, -1.0866e-01, -8.0519e-02,  1.0299e-01,  1.7632e-01,\n",
      "         -2.2269e-01, -2.0813e-01, -1.9312e-01,  1.3691e-01,  1.3195e-01,\n",
      "         -1.5490e-01,  1.6189e-02],\n",
      "        [-9.9926e-02,  1.6837e-01, -8.9757e-03, -8.7881e-02,  2.7132e-02,\n",
      "         -4.5177e-03, -6.8717e-02,  3.1942e-02, -1.0329e-01,  1.1899e-01,\n",
      "          1.1148e-01,  9.3103e-02,  2.1078e-02,  7.3746e-02, -9.3115e-02,\n",
      "          1.3128e-01,  1.3137e-02,  3.8891e-02, -1.0492e-01, -1.2367e-01,\n",
      "          4.5622e-02,  6.9852e-02, -1.0405e-01,  1.6036e-01, -2.5443e-02,\n",
      "          6.3250e-03,  8.3977e-02,  9.0645e-02,  1.2612e-01,  1.3707e-01,\n",
      "          1.4614e-03, -1.2981e-01],\n",
      "        [ 5.2224e-01,  3.3979e-02,  8.8032e-02,  4.2905e-02, -3.3757e-01,\n",
      "         -3.5643e-01,  2.1942e-01,  2.5722e-01, -2.8140e-02, -7.8137e-02,\n",
      "          3.4832e-01,  4.9019e-02, -8.4760e-02,  1.4106e-01, -3.8275e-01,\n",
      "         -3.3526e-01, -7.1740e-02, -1.8205e-01, -1.3804e-02,  1.4569e-01,\n",
      "          1.7628e-01, -2.2642e-01, -2.0335e-01, -5.9450e-02,  3.2399e-01,\n",
      "         -2.0189e-01, -6.5903e-02, -2.0012e-01, -9.4304e-02, -3.4927e-01,\n",
      "         -1.5585e-02, -1.8638e-01],\n",
      "        [ 6.9012e-02, -1.1537e-01, -1.5487e-02,  3.6146e-02,  7.5490e-02,\n",
      "          6.7882e-02,  1.6393e-01, -6.3685e-02, -5.7805e-02, -5.6393e-02,\n",
      "         -1.3240e-02,  7.5736e-02, -3.2533e-02,  2.2311e-02,  3.7137e-02,\n",
      "          4.1799e-02, -5.4247e-02,  4.2715e-02,  8.9123e-02, -9.5563e-02,\n",
      "          4.5086e-02,  5.2751e-02,  1.7078e-01, -3.4295e-02,  6.9204e-02,\n",
      "         -3.7675e-02,  6.5425e-02, -7.9126e-02, -1.2439e-01, -1.4840e-01,\n",
      "         -5.3491e-02, -1.8496e-01],\n",
      "        [-1.3980e-01,  1.1308e-01,  1.0229e-01, -1.4129e-01,  3.0917e-01,\n",
      "          1.7060e-01, -1.2268e-01,  8.5938e-02,  1.6033e-01,  2.1702e-01,\n",
      "          1.3846e-01,  6.4015e-03,  2.0023e-02, -1.7684e-01,  1.8386e-01,\n",
      "         -7.4296e-02, -4.8038e-02,  1.9070e-02, -1.1538e-01, -4.6780e-02,\n",
      "         -9.1849e-02,  1.8812e-01,  1.8310e-02,  1.4969e-01,  1.4601e-01,\n",
      "         -4.7345e-02,  1.3237e-01,  2.1241e-01, -6.0637e-02,  9.2734e-02,\n",
      "          2.2868e-01,  1.2992e-01],\n",
      "        [-8.7044e-02, -1.5598e-02,  1.3974e-01, -7.7992e-02,  7.2028e-02,\n",
      "         -4.3806e-02,  1.4491e-02, -1.3752e-01,  1.0774e-01, -6.4413e-02,\n",
      "          4.0330e-02, -1.4346e-01, -1.3146e-01, -3.3714e-03,  2.7826e-02,\n",
      "          8.5801e-02, -3.5384e-02,  2.1934e-02,  1.0888e-01,  1.3272e-01,\n",
      "          1.1378e-01,  1.2755e-01,  9.3544e-03, -8.6104e-02,  1.1220e-01,\n",
      "          5.1431e-03, -5.1003e-02, -1.6996e-01,  4.2996e-02,  2.7612e-02,\n",
      "         -3.0399e-02, -9.3655e-02],\n",
      "        [-1.3641e-01, -1.2352e-01,  1.0283e-01, -1.7628e-01,  8.5428e-02,\n",
      "         -1.0216e-01, -6.5015e-02,  4.7506e-02,  7.8321e-02,  3.7010e-02,\n",
      "         -4.5156e-02, -1.5090e-01,  9.8232e-02,  7.2646e-02,  6.4250e-02,\n",
      "          1.2062e-01,  7.5420e-02, -1.8852e-01,  1.3716e-01,  9.0116e-02,\n",
      "          3.3102e-04,  1.6547e-01,  1.1928e-01,  4.9372e-02, -2.5769e-02,\n",
      "         -6.2752e-02, -1.2440e-01, -3.2196e-02, -1.9004e-01, -1.6870e-01,\n",
      "         -1.1603e-02, -4.5430e-03],\n",
      "        [ 2.1971e-01, -1.5976e-01,  2.9728e-02, -6.8770e-03,  1.6538e-02,\n",
      "         -5.7943e-02,  7.3326e-02, -2.0890e-01, -2.1608e-01, -9.7875e-02,\n",
      "          1.4574e-01, -2.5922e-02,  3.8962e-02,  1.0734e-01, -3.2458e-02,\n",
      "          6.1799e-02,  1.8707e-02, -1.8685e-01,  2.1369e-02, -1.7761e-02,\n",
      "         -7.0635e-02, -1.4513e-01, -2.9359e-01, -9.0406e-02,  1.3935e-01,\n",
      "         -3.0574e-01, -1.2554e-01, -1.2084e-01, -1.1691e-01, -4.7020e-02,\n",
      "         -3.0953e-02, -2.1044e-01],\n",
      "        [ 1.2269e-01,  1.2018e-01,  1.0367e-01,  1.3820e-01, -1.2509e-01,\n",
      "          9.7024e-02,  4.3683e-03,  1.0739e-01,  4.8471e-03,  7.3667e-02,\n",
      "          1.6889e-01, -1.6168e-01,  6.8164e-02, -1.6567e-01, -1.9813e-01,\n",
      "          1.2226e-01, -6.7000e-02, -5.4244e-02,  6.5338e-02,  1.9595e-02,\n",
      "          1.4673e-01, -2.3252e-02,  1.2966e-01, -1.9058e-01,  1.4178e-02,\n",
      "          1.2943e-02,  6.3660e-02, -7.3488e-02,  7.5486e-02,  8.2459e-02,\n",
      "         -9.5736e-02,  1.2741e-01],\n",
      "        [ 1.0629e-01, -7.7694e-02,  9.7162e-02, -2.0277e-01,  1.9407e-01,\n",
      "          9.3067e-02,  9.8300e-03, -5.4912e-02,  1.2186e-01, -8.9572e-02,\n",
      "         -1.2088e-01,  1.6197e-01, -2.0931e-01, -4.7596e-02, -9.5159e-02,\n",
      "          9.2439e-02, -1.7238e-01,  1.1912e-01, -9.3218e-02,  3.3454e-02,\n",
      "          6.0075e-02,  2.0286e-01, -1.8106e-01,  1.8059e-01,  1.1040e-01,\n",
      "          1.5748e-01,  1.5904e-01,  9.7146e-02, -6.5487e-02, -1.0993e-01,\n",
      "         -1.2536e-01,  2.2244e-01],\n",
      "        [ 2.0736e-01, -1.4441e-02,  1.6069e-01, -3.2551e-02, -8.4162e-02,\n",
      "          5.7979e-03,  1.4148e-01,  1.0797e-01,  1.0019e-01, -6.7639e-02,\n",
      "          3.1267e-01, -1.7355e-01, -2.0028e-01,  6.3054e-02,  1.0656e-01,\n",
      "          7.3330e-02,  2.5530e-02, -2.1212e-01,  4.1461e-02, -1.5587e-02,\n",
      "          1.6321e-01, -1.4469e-01,  7.0256e-02, -2.0253e-01, -3.2737e-02,\n",
      "         -2.9538e-01,  7.1143e-02, -1.5648e-01,  1.3272e-02, -4.9384e-02,\n",
      "          1.6331e-01, -2.2577e-01],\n",
      "        [ 5.4641e-01,  7.2856e-02,  1.3398e-02,  2.7371e-02, -3.3819e-01,\n",
      "         -2.7771e-01,  8.4994e-02,  1.5800e-01, -2.0246e-01, -1.3109e-01,\n",
      "          4.0870e-01, -1.3278e-01, -7.6823e-03, -8.7199e-02, -2.3778e-01,\n",
      "         -6.0504e-02,  1.0857e-01, -1.5182e-01, -1.0847e-01,  1.8871e-01,\n",
      "          1.2463e-03, -3.6893e-02, -3.1817e-01, -8.5362e-02,  3.5690e-01,\n",
      "         -7.0473e-02, -2.6656e-01, -1.7968e-01,  9.2152e-02, -8.0451e-02,\n",
      "         -1.0724e-01, -9.8357e-02],\n",
      "        [-2.8577e-02, -1.6788e-01, -4.1029e-02,  4.2341e-02, -1.4182e-01,\n",
      "         -2.2785e-02,  5.0704e-02,  1.0137e-01,  1.2933e-01,  5.2550e-02,\n",
      "         -9.0802e-02,  1.6653e-01, -7.0394e-02,  1.6990e-01, -1.1338e-01,\n",
      "         -1.6586e-01,  1.4273e-01, -1.1563e-01, -7.4514e-02, -1.7175e-02,\n",
      "         -1.6343e-01,  1.1161e-01,  1.7488e-02,  4.2222e-02, -1.5734e-01,\n",
      "         -6.6629e-02,  1.3396e-01, -8.0950e-02, -1.0968e-01,  5.7684e-02,\n",
      "          8.4554e-02, -1.0022e-01],\n",
      "        [-1.8918e-01, -1.4238e-02,  6.9795e-02, -1.5735e-01,  7.8440e-02,\n",
      "          2.2448e-01,  6.2734e-02, -1.6162e-01, -1.0781e-01, -1.2186e-01,\n",
      "          1.3501e-01, -1.6124e-01, -2.9391e-02, -8.0746e-02,  1.3853e-01,\n",
      "         -8.9950e-02, -1.1457e-02, -8.7921e-03,  8.9357e-02,  1.1688e-01,\n",
      "          1.3762e-01,  2.9458e-02, -1.4530e-01,  1.4118e-01, -4.6891e-02,\n",
      "         -1.1367e-01,  1.0198e-01,  1.8187e-01,  1.0948e-01,  4.9879e-02,\n",
      "         -1.4783e-01, -2.4219e-02]])), ('fc2.bias', tensor([-0.0947,  0.0145,  0.0653,  0.0019,  0.4164, -0.0102, -0.0413,  0.3380,\n",
      "        -0.0762,  0.1394, -0.0568, -0.0785,  0.2718,  0.6111, -0.1264, -0.0836])), ('fc3.weight', tensor([[ 0.0903, -0.2036, -0.0993, -0.0541, -0.2211,  0.0923,  0.2487, -0.1454,\n",
      "          0.0463,  0.0884,  0.2372,  0.0134, -0.1001,  0.0632,  0.1079,  0.2178],\n",
      "        [-0.1595, -0.0986,  0.3198,  0.0742,  0.3363,  0.0209, -0.3166,  0.1660,\n",
      "         -0.1032,  0.1307, -0.0908, -0.1715,  0.3536,  0.4410,  0.0756,  0.0983],\n",
      "        [ 0.0079, -0.0165,  0.0782, -0.0077,  0.3788,  0.0355, -0.1274,  0.0022,\n",
      "         -0.1045,  0.1312,  0.0008, -0.0663, -0.1447,  0.1791, -0.1892, -0.1405],\n",
      "        [-0.2375,  0.0176, -0.1633,  0.2006,  0.0670,  0.0177,  0.2020, -0.0386,\n",
      "          0.1138,  0.0574, -0.1112,  0.1354,  0.0860, -0.2302,  0.1560, -0.1545],\n",
      "        [-0.1874, -0.0556,  0.1431, -0.1945,  0.4176,  0.2075, -0.1629, -0.2309,\n",
      "         -0.0119,  0.2049,  0.2822, -0.1535,  0.0196,  0.4714, -0.0108, -0.3638],\n",
      "        [ 0.1238, -0.0506,  0.2255, -0.0209,  0.4269, -0.1917, -0.2320,  0.2058,\n",
      "         -0.2534,  0.2674,  0.0138, -0.2166,  0.3244,  0.3263,  0.1037, -0.0193],\n",
      "        [-0.0529, -0.2379,  0.1899, -0.1376, -0.1248, -0.2440,  0.0102, -0.1337,\n",
      "          0.0262,  0.0518, -0.1481, -0.0547, -0.0269, -0.1813, -0.0076, -0.2236],\n",
      "        [-0.1989, -0.2385,  0.0164,  0.2031,  0.0019,  0.0037, -0.1462,  0.2493,\n",
      "          0.0601,  0.1347,  0.0894, -0.2101, -0.0164,  0.0675, -0.0351,  0.1294]])), ('fc3.bias', tensor([-0.0728,  1.1859,  0.6699, -0.0408,  1.1127,  1.0242, -0.0903,  0.4025])), ('fc4.weight', tensor([[-0.2319,  1.2656,  0.7288,  0.1463,  1.2475,  1.1737,  0.2085,  0.3174]])), ('fc4.bias', tensor([3.4530]))])\n"
     ]
    },
    {
     "data": {
      "text/plain": [
       "<All keys matched successfully>"
      ]
     },
     "execution_count": 35,
     "metadata": {},
     "output_type": "execute_result"
    }
   ],
   "execution_count": 35
  },
  {
   "metadata": {
    "ExecuteTime": {
     "end_time": "2025-09-10T07:24:52.395903Z",
     "start_time": "2025-09-10T07:24:52.393525Z"
    }
   },
   "cell_type": "code",
   "source": [
    "\n",
    "import torch.nn as nn\n",
    "\n",
    "#\n",
    "# relu = nn.ReLU()\n",
    "# y = relu(x)\n",
    "\n",
    "# 둘이 같은거임\n",
    "# y = F.relu(x)\n",
    "\n",
    "loss_fn = nn.MSELoss()\n",
    "pred = pred\n",
    "print(pred.shape)\n",
    "print(y_train.shape)\n",
    "# loss = loss_fn(pred, y_train)\n",
    "\n",
    "# F.mse_loss(pred, y_train)\n",
    "\n"
   ],
   "id": "d283ee15f2f5ca5e",
   "outputs": [
    {
     "name": "stdout",
     "output_type": "stream",
     "text": [
      "torch.Size([12])\n",
      "torch.Size([32])\n"
     ]
    }
   ],
   "execution_count": 41
  },
  {
   "metadata": {
    "ExecuteTime": {
     "end_time": "2025-09-10T07:24:05.159638Z",
     "start_time": "2025-09-09T07:07:41.020026Z"
    }
   },
   "cell_type": "code",
   "source": [
    "x = torch.ones(1,3)\n",
    "x = x.squeeze_()\n",
    "print(x.shape)"
   ],
   "id": "a8aad0a5ab49bebb",
   "outputs": [
    {
     "name": "stdout",
     "output_type": "stream",
     "text": [
      "torch.Size([3])\n"
     ]
    }
   ],
   "execution_count": 188
  },
  {
   "metadata": {},
   "cell_type": "code",
   "outputs": [],
   "execution_count": null,
   "source": "",
   "id": "7dadf4f0e0154ddf"
  }
 ],
 "metadata": {
  "kernelspec": {
   "display_name": "Python 3",
   "language": "python",
   "name": "python3"
  },
  "language_info": {
   "codemirror_mode": {
    "name": "ipython",
    "version": 3
   },
   "file_extension": ".py",
   "mimetype": "text/x-python",
   "name": "python",
   "nbconvert_exporter": "python",
   "pygments_lexer": "ipython3",
   "version": "3.9.6"
  }
 },
 "nbformat": 4,
 "nbformat_minor": 5
}
