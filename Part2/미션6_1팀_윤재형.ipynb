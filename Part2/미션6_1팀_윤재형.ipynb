{
 "cells": [
  {
   "metadata": {},
   "cell_type": "markdown",
   "source": [
    "# 미션 소개\n",
    "- 이번 미션에서는 흉부 X-Ray 사진을 바탕으로 폐렴 환자를 구분하는 작업을 수행합니다.\n",
    "- 이번 미션의 목표는 X-Ray 사진을 입력으로 받아 폐렴 여부를 구분하는 분류(Classification) 모델을 만드는 것입니다. 아래 데이터셋을 활용하여 다양한 이미지 전처리 및 증강 기법과 Transfer Learning과 Fine-Tuning 기법을 실험해보고, 모델의 성능을 평가해 보세요.\n",
    "# 데이터 소개\n",
    "- 데이터 링크(Chest X-Ray Images (Pneumonia))\n",
    "- train: 훈련 데이터\n",
    "- test: 테스트 데이터\n",
    "- val: 검증 데이터"
   ],
   "id": "6509d080f57c543a"
  },
  {
   "metadata": {},
   "cell_type": "markdown",
   "source": "# 기본 설정",
   "id": "bf969d37eb666729"
  },
  {
   "metadata": {},
   "cell_type": "markdown",
   "source": "## 라이브러리 임포트",
   "id": "b8dfb20712a1329f"
  },
  {
   "cell_type": "code",
   "id": "initial_id",
   "metadata": {
    "collapsed": true,
    "ExecuteTime": {
     "end_time": "2025-09-30T04:19:39.990361Z",
     "start_time": "2025-09-30T04:19:39.987074Z"
    }
   },
   "source": [
    "import os\n",
    "\n",
    "import matplotlib.pyplot as plt\n",
    "import pandas as pd\n",
    "import seaborn as sns\n",
    "import torch\n",
    "import torch.nn as nn\n",
    "import torch.optim as optim\n",
    "import wandb\n",
    "from sklearn.metrics import precision_score, recall_score, f1_score\n",
    "from torch.utils.data import Dataset\n",
    "from torch.utils.data import Subset, DataLoader\n",
    "from torchvision import datasets\n",
    "from torchvision.transforms import v2"
   ],
   "outputs": [],
   "execution_count": 5
  },
  {
   "metadata": {},
   "cell_type": "markdown",
   "source": "## 디바이스 설정",
   "id": "ef2388f1243a27ec"
  },
  {
   "metadata": {
    "ExecuteTime": {
     "end_time": "2025-09-30T04:19:40.022141Z",
     "start_time": "2025-09-30T04:19:40.018870Z"
    }
   },
   "cell_type": "code",
   "source": [
    "device = torch.device('mps')\n",
    "print(device)"
   ],
   "id": "3f0d1f1be587ed7",
   "outputs": [
    {
     "name": "stdout",
     "output_type": "stream",
     "text": [
      "mps\n"
     ]
    }
   ],
   "execution_count": 6
  },
  {
   "metadata": {},
   "cell_type": "markdown",
   "source": "# 데이터 가져오기 / 전처리",
   "id": "2f9f2c4f0f5c7a06"
  },
  {
   "metadata": {},
   "cell_type": "markdown",
   "source": "## pwd 확인",
   "id": "c575ef0336fc4189"
  },
  {
   "metadata": {
    "ExecuteTime": {
     "end_time": "2025-09-30T04:19:40.042190Z",
     "start_time": "2025-09-30T04:19:40.037312Z"
    }
   },
   "cell_type": "code",
   "source": "os.getcwd()",
   "id": "cb9865e394d4a143",
   "outputs": [
    {
     "data": {
      "text/plain": [
       "'/Users/yoonwogud/Desktop/codeit_ds/Part2'"
      ]
     },
     "execution_count": 7,
     "metadata": {},
     "output_type": "execute_result"
    }
   ],
   "execution_count": 7
  },
  {
   "metadata": {},
   "cell_type": "markdown",
   "source": "## 데이터 개수 확인",
   "id": "765cbdad41c8dce9"
  },
  {
   "metadata": {
    "ExecuteTime": {
     "end_time": "2025-09-30T04:19:56.299007Z",
     "start_time": "2025-09-30T04:19:40.078002Z"
    }
   },
   "cell_type": "code",
   "source": [
    "# ImageFolder는 train아래에 클래스가 폴더별로 나뉘어져잇을때 (normal, pneumonia)\n",
    "train_dataset = datasets.ImageFolder(root='data/chest_xray/train',transform=None)\n",
    "test_dataset = datasets.ImageFolder(root='data/chest_xray/test', transform=None)\n",
    "\n",
    "train_labels = [label for _, label in train_dataset]\n",
    "test_labels = [label for _, label in test_dataset]\n",
    "\n",
    "df_train = pd.DataFrame({'train':train_labels})\n",
    "df_test = pd.DataFrame({'test':test_labels})\n",
    "\n",
    "plt.figure(figsize=(10, 5))\n",
    "\n",
    "plt.subplot(1, 2, 1)\n",
    "sns.countplot(data=df_train, x='train', )\n",
    "plt.title('Nums Train class')\n",
    "plt.ylabel('Count', rotation=90)\n",
    "\n",
    "\n",
    "plt.subplot(1, 2, 2)\n",
    "sns.countplot(data= df_test, x='test')\n",
    "plt.title('Nums Test class')\n",
    "plt.ylabel('Count', rotation=90)\n",
    "\n",
    "plt.tight_layout()\n",
    "plt.show()"
   ],
   "id": "c7bd93cb2d7adf8a",
   "outputs": [
    {
     "data": {
      "text/plain": [
       "<Figure size 1000x500 with 2 Axes>"
      ],
      "image/png": "[encoded data removed]"
     },
     "metadata": {},
     "output_type": "display_data"
    }
   ],
   "execution_count": 8
  },
  {
   "metadata": {
    "ExecuteTime": {
     "end_time": "2025-09-30T04:19:56.321743Z",
     "start_time": "2025-09-30T04:19:56.319178Z"
    }
   },
   "cell_type": "code",
   "source": [
    "# train_normal: 1342, 3876\n",
    "# val_nom: 8, 8\n",
    "# test_normla: 234, 390\n",
    "\n",
    "# print(f\"train 데이터의 개수: {len(train_dataset)}\")\n",
    "# print(f\"test 데이터의 개수: {len(test_dataset)}\")\n",
    "#\n",
    "# print(f\"데이터 세부 정보\\n\")\n",
    "\n",
    "# print(f\"{train_dataset[0]}\")    # 전체 샘플 출력 (image_tensor, label)의 튜플\n",
    "# print(f\"{train_dataset[0][0]}\") # 이미지 텐서만 출력 torch.Size([3, H, W])\n",
    "# print(f\"{train_dataset[0][1]}\") # 라벨만 출력 정수형 클래스 인덱스 (예: 0 또는 1)\n",
    "#\n",
    "# print(f\"{train_dataset[0][0][1].shape}\") # 첫번재 이미지의 image_tensor의 Green채널\n",
    "# print(f\"{train_dataset[0][0][1][0].shape}\") # 첫번재 이미지의 image_tensor의 Green채널의 0번째 행\n",
    "# print(f\"{train_dataset[0][0][1][0][0]}\") # 첫번재 이미지의 image_tensor의 Green채널의 0번째 행의 0번째 값"
   ],
   "id": "67df9a99097df873",
   "outputs": [],
   "execution_count": 9
  },
  {
   "metadata": {},
   "cell_type": "markdown",
   "source": "## 데이터 전처리",
   "id": "96d7f248f107a9d1"
  },
  {
   "metadata": {
    "ExecuteTime": {
     "end_time": "2025-09-30T04:20:03.010768Z",
     "start_time": "2025-09-30T04:20:02.994881Z"
    }
   },
   "cell_type": "code",
   "source": [
    "data_transforms = {\n",
    "    'train': v2.Compose([\n",
    "        v2.Resize((224, 224)),                # 이미지 크기 조정\n",
    "        v2.RandomCrop((196, 196)),\n",
    "        v2.RandomRotation(10),              #\n",
    "        v2.ToImage(),\n",
    "        v2.ToDtype(torch.float32, scale=True),\n",
    "        v2.Normalize([0.5], [0.5]),           # 정규화\n",
    "    ]),\n",
    "    'val': v2.Compose([\n",
    "        v2.Resize((224, 224)),\n",
    "        v2.ToImage(),\n",
    "        v2.ToDtype(torch.float32, scale=True),\n",
    "        v2.Normalize([0.5], [0.5]),\n",
    "    ]),\n",
    "    'test': v2.Compose([\n",
    "        v2.Resize((224, 224)),               # 이미지 크기 조정\n",
    "        v2.ToImage(),\n",
    "        v2.ToDtype(torch.float32, scale=True),\n",
    "        v2.Normalize([0.5], [0.5]),           # 정규화\n",
    "    ])\n",
    "}\n",
    "\n",
    "# 전체 이미지 불러오기\n",
    "\n",
    "# val + train 함.\n",
    "train_dataset = datasets.ImageFolder(root='data/chest_xray/train',transform=None)\n",
    "test_dataset = datasets.ImageFolder(root='data/chest_xray/test', transform=None)\n",
    "\n",
    "\n",
    "# 커스텀 데이터셋 클래스 생성\n",
    "class PneumoniaDataset(Dataset):\n",
    "    def __init__(self, input_data, transform=None):\n",
    "        self.input_data = input_data\n",
    "        self.transform = transform\n",
    "\n",
    "    def __len__(self):\n",
    "        return len(self.input_data)\n",
    "\n",
    "    def __getitem__(self, idx):\n",
    "        image, label = self.input_data[idx]\n",
    "\n",
    "        if self.transform:\n",
    "            image = self.transform(image)\n",
    "\n",
    "        return image, label\n",
    "\n",
    "# class ImageFolder(DatasetFolder): 내부 들어가면 이렇게 데이터폴더 상속 받음\n",
    "# imagefoler -> dataset -> visiondataset 으로 가면 init에 transforms가 있음\n",
    "# __init__에 transforms를 상속받아서 커스텀 데이터셋 클래스를 안 만들고 파라미터에 넣기만해도됨."
   ],
   "id": "d716069f234f047a",
   "outputs": [],
   "execution_count": 10
  },
  {
   "metadata": {},
   "cell_type": "markdown",
   "source": [
    "## 데이터 로더로 변환\n",
    "- (v2로 텐서로 바꿨으니 데이터로더로 변환)"
   ],
   "id": "9b6b4dcee6985c73"
  },
  {
   "metadata": {
    "ExecuteTime": {
     "end_time": "2025-09-30T04:20:04.874600Z",
     "start_time": "2025-09-30T04:20:04.871169Z"
    }
   },
   "cell_type": "code",
   "source": [
    "# 8:2로 나누는 길이 구하기\n",
    "total_size = len(train_dataset)\n",
    "train_size = round(total_size * 0.8)\n",
    "val_size = total_size - train_size\n",
    "\n",
    "# 인덱스 생성\n",
    "indices = list(range(total_size))\n",
    "train_indices = indices[:train_size]\n",
    "val_indices = indices[train_size:]\n",
    "\n",
    "# Subset으로 나누기\n",
    "train_subset = Subset(train_dataset, train_indices)\n",
    "val_subset = Subset(train_dataset, val_indices)\n",
    "\n",
    "# 커스텀 Dataset에 transform 적용\n",
    "train_dataset = PneumoniaDataset(train_subset, transform=data_transforms['train'])\n",
    "val_dataset = PneumoniaDataset(val_subset, transform=data_transforms['val'])\n",
    "test_dataset = PneumoniaDataset(test_dataset, transform=data_transforms['test'])\n",
    "\n",
    "\n",
    "# 데이터 로더로 묶기\n",
    "train_loader = DataLoader(train_dataset, batch_size=64, shuffle=True)\n",
    "val_loader = DataLoader(val_dataset, batch_size=32, shuffle=True)\n",
    "test_loader = DataLoader(test_dataset, batch_size=32, shuffle=True)\n"
   ],
   "id": "8277ec4e9b5acfa2",
   "outputs": [],
   "execution_count": 11
  },
  {
   "metadata": {},
   "cell_type": "markdown",
   "source": "# 모델 구성",
   "id": "a91649cbe7398f4e"
  },
  {
   "metadata": {},
   "cell_type": "markdown",
   "source": "## CustomCNN",
   "id": "a72ec75f3191e575"
  },
  {
   "metadata": {
    "ExecuteTime": {
     "end_time": "2025-09-30T04:20:07.388253Z",
     "start_time": "2025-09-30T04:20:07.384391Z"
    }
   },
   "cell_type": "code",
   "source": [
    "import torch.nn.functional as F\n",
    "\n",
    "# Custom CNN 모델 정의\n",
    "class CustomCNN(nn.Module):\n",
    "    def __init__(self, num_classes):\n",
    "        super().__init__()\n",
    "        self.conv1 = nn.Conv2d(3, 32, kernel_size=3, stride=1, padding=1)\n",
    "        self.pool = nn.MaxPool2d(kernel_size=2, stride=2)\n",
    "\n",
    "        self.conv2 = nn.Conv2d(32, 64, kernel_size=3, stride=1, padding=1)\n",
    "        self.avgpool = nn.AdaptiveAvgPool2d((7, 7))\n",
    "\n",
    "        self.fc1 = nn.Linear(64 * 7 * 7, 128)\n",
    "        self.fc2 = nn.Linear(128, num_classes)\n",
    "\n",
    "    def forward(self, x):\n",
    "        x = self.pool(F.relu(self.conv1(x)))\n",
    "        x = self.pool(F.relu(self.conv2(x)))\n",
    "        x = self.avgpool(x)\n",
    "        x = torch.flatten(x, 1)\n",
    "        x = F.relu(self.fc1(x))\n",
    "        x = self.fc2(x)\n",
    "        return x\n",
    "\n",
    "# 클래스 수 설정 (NORMAL, PNEUMONIA)\n",
    "num_classes = 2\n"
   ],
   "id": "b4d242fcbb1ec600",
   "outputs": [],
   "execution_count": 12
  },
  {
   "metadata": {},
   "cell_type": "markdown",
   "source": "## 학습 레이어 요약",
   "id": "516b4d4f18b1533f"
  },
  {
   "metadata": {
    "ExecuteTime": {
     "end_time": "2025-09-30T04:20:09.899445Z",
     "start_time": "2025-09-30T04:20:09.806892Z"
    }
   },
   "cell_type": "code",
   "source": [
    "from torchsummary import summary\n",
    "\n",
    "device = torch.device('cpu')\n",
    "model = CustomCNN(num_classes).to(device)\n",
    "summary(model, input_size=(3, 196, 196))\n",
    "device = torch.device('mps')\n",
    "model = CustomCNN(num_classes).to(device)"
   ],
   "id": "3f32582df731c34d",
   "outputs": [
    {
     "name": "stdout",
     "output_type": "stream",
     "text": [
      "----------------------------------------------------------------\n",
      "        Layer (type)               Output Shape         Param #\n",
      "================================================================\n",
      "            Conv2d-1         [-1, 32, 196, 196]             896\n",
      "         MaxPool2d-2           [-1, 32, 98, 98]               0\n",
      "            Conv2d-3           [-1, 64, 98, 98]          18,496\n",
      "         MaxPool2d-4           [-1, 64, 49, 49]               0\n",
      " AdaptiveAvgPool2d-5             [-1, 64, 7, 7]               0\n",
      "            Linear-6                  [-1, 128]         401,536\n",
      "            Linear-7                    [-1, 2]             258\n",
      "================================================================\n",
      "Total params: 421,186\n",
      "Trainable params: 421,186\n",
      "Non-trainable params: 0\n",
      "----------------------------------------------------------------\n",
      "Input size (MB): 0.44\n",
      "Forward/backward pass size (MB): 17.61\n",
      "Params size (MB): 1.61\n",
      "Estimated Total Size (MB): 19.66\n",
      "----------------------------------------------------------------\n"
     ]
    }
   ],
   "execution_count": 13
  },
  {
   "metadata": {},
   "cell_type": "markdown",
   "source": "# 학습",
   "id": "5aff45ff719a3315"
  },
  {
   "metadata": {
    "ExecuteTime": {
     "end_time": "2025-09-30T04:20:11.931105Z",
     "start_time": "2025-09-30T04:20:11.926605Z"
    }
   },
   "cell_type": "code",
   "source": [
    "def train(model, train_loader, val_loader, criterion, optimizer, num_epochs):\n",
    "    step = 0\n",
    "    for epoch in range(num_epochs):\n",
    "        model.train()\n",
    "        running_loss = 0.0\n",
    "        correct = 0\n",
    "        total = 0\n",
    "\n",
    "        all_preds = []\n",
    "        all_labels = []\n",
    "\n",
    "        for inputs, labels in train_loader:\n",
    "            inputs, labels = inputs.to(device), labels.to(device)\n",
    "\n",
    "            optimizer.zero_grad()\n",
    "            outputs = model(inputs)\n",
    "\n",
    "            loss = criterion(outputs, labels)\n",
    "            loss.backward()\n",
    "            optimizer.step()\n",
    "\n",
    "            running_loss += loss.item()\n",
    "\n",
    "            _, predicted = torch.max(outputs, 1)\n",
    "            correct += (predicted == labels).sum().item()\n",
    "            total += labels.size(0)\n",
    "\n",
    "            all_preds.extend(predicted.cpu().numpy())\n",
    "            all_labels.extend(labels.cpu().numpy())\n",
    "\n",
    "            step += 1\n",
    "\n",
    "        avg_train_loss = running_loss / len(train_loader)\n",
    "        train_acc = correct / total\n",
    "\n",
    "\n",
    "        train_recall = recall_score(all_labels, all_preds, average='binary')\n",
    "        train_precision = precision_score(all_labels, all_preds, average='binary')\n",
    "        train_f1 = f1_score(all_labels, all_preds, average='binary')\n",
    "\n",
    "        val_loss, val_acc, val_recall, val_precision, val_f1 = evaluate(model, val_loader, criterion)\n",
    "\n",
    "        wandb.log({\n",
    "            \"train_loss\": avg_train_loss,\n",
    "            \"train_acc\": train_acc,\n",
    "            \"train_recall\": train_recall,\n",
    "            \"train_precision\": train_precision,\n",
    "            \"train_f1\": train_f1,\n",
    "\n",
    "            \"val_loss\": val_loss,\n",
    "            \"val_acc\": val_acc,\n",
    "            \"val_recall\": val_recall,\n",
    "            \"val_precision\": val_precision,\n",
    "            \"val_f1\": val_f1,\n",
    "\n",
    "        })"
   ],
   "id": "7360895e979067ab",
   "outputs": [],
   "execution_count": 14
  },
  {
   "metadata": {
    "ExecuteTime": {
     "end_time": "2025-09-30T04:20:12.548211Z",
     "start_time": "2025-09-30T04:20:12.544681Z"
    }
   },
   "cell_type": "code",
   "source": [
    "def evaluate(model, dataloader, loss_fn):\n",
    "    model.eval()\n",
    "\n",
    "    losses = []\n",
    "    correct = 0\n",
    "    total = 0\n",
    "\n",
    "    all_preds = []\n",
    "    all_labels = []\n",
    "\n",
    "    with torch.no_grad():\n",
    "        for inputs, labels in dataloader:\n",
    "            inputs, labels = inputs.to(device), labels.to(device)\n",
    "\n",
    "            outputs = model(inputs)\n",
    "            loss = loss_fn(outputs, labels)\n",
    "            losses.append(loss.item())\n",
    "\n",
    "            # 예측 결과\n",
    "            preds = torch.argmax(outputs, dim=1)\n",
    "            all_preds.extend(preds.cpu().numpy())\n",
    "            all_labels.extend(labels.cpu().numpy())\n",
    "\n",
    "            correct += (preds == labels).sum().item()\n",
    "            total += labels.size(0)\n",
    "\n",
    "    avg_loss = sum(losses) / len(losses)\n",
    "    accuracy = correct / total\n",
    "\n",
    "    recall = recall_score(all_labels, all_preds, average='binary')\n",
    "    precision = precision_score(all_labels, all_preds, average='binary')\n",
    "    f1 = f1_score(all_labels, all_preds, average='binary')\n",
    "\n",
    "    return avg_loss, accuracy, recall, precision, f1"
   ],
   "id": "144f42a7b315e642",
   "outputs": [],
   "execution_count": 15
  },
  {
   "metadata": {
    "ExecuteTime": {
     "end_time": "2025-09-29T05:35:16.993342Z",
     "start_time": "2025-09-29T05:27:31.117869Z"
    }
   },
   "cell_type": "code",
   "source": [
    "loss_fn = nn.CrossEntropyLoss() #\n",
    "optimizer = optim.Adam(model.parameters(), lr=0.001)\n",
    "\n",
    "wandb.init(\n",
    "    # Set the wandb entity where your project will be logged (generally your team name).\n",
    "    entity=\"yoonwogud-lab\",\n",
    "    # Set the wandb project where this run will be logged.\n",
    "    project=\"Chest-X-Ray-Images-Pneumonia\",\n",
    "    # Track hyperparameters and run metadata.\n",
    "    config={\n",
    "        \"learning_rate\": 0.001,\n",
    "        \"architecture\": \"CustomCNN\",\n",
    "        \"epochs\": 10,\n",
    "    },\n",
    ")\n",
    "\n",
    "train(model, train_loader, val_loader,loss_fn, optimizer, num_epochs=10)\n",
    "a,b,c,d,e = evaluate(model, test_loader, loss_fn)\n",
    "wandb.log({\n",
    "    \"test_loss\": a,\n",
    "    \"test_acc\": b,\n",
    "    \"test_recall\": c,\n",
    "    \"test_precision\": d,\n",
    "    \"test_f1\": e})\n",
    "wandb.finish()\n"
   ],
   "id": "73211bdbd901ba23",
   "outputs": [
    {
     "data": {
      "text/plain": [
       "<IPython.core.display.HTML object>"
      ],
      "text/html": []
     },
     "metadata": {},
     "output_type": "display_data"
    },
    {
     "data": {
      "text/plain": [
       "<IPython.core.display.HTML object>"
      ],
      "text/html": [
       "Tracking run with wandb version 0.22.0"
      ]
     },
     "metadata": {},
     "output_type": "display_data"
    },
    {
     "data": {
      "text/plain": [
       "<IPython.core.display.HTML object>"
      ],
      "text/html": [
       "Run data is saved locally in <code>/Users/yoonwogud/Desktop/codeit_ds/Part2/wandb/run-20250929_142731-g45fyznc</code>"
      ]
     },
     "metadata": {},
     "output_type": "display_data"
    },
    {
     "data": {
      "text/plain": [
       "<IPython.core.display.HTML object>"
      ],
      "text/html": [
       "Syncing run <strong><a href='https://wandb.ai/yoonwogud-lab/Chest-X-Ray-Images-Pneumonia/runs/g45fyznc' target=\"_blank\">kind-smoke-45</a></strong> to <a href='https://wandb.ai/yoonwogud-lab/Chest-X-Ray-Images-Pneumonia' target=\"_blank\">Weights & Biases</a> (<a href='https://wandb.me/developer-guide' target=\"_blank\">docs</a>)<br>"
      ]
     },
     "metadata": {},
     "output_type": "display_data"
    },
    {
     "data": {
      "text/plain": [
       "<IPython.core.display.HTML object>"
      ],
      "text/html": [
       " View project at <a href='https://wandb.ai/yoonwogud-lab/Chest-X-Ray-Images-Pneumonia' target=\"_blank\">https://wandb.ai/yoonwogud-lab/Chest-X-Ray-Images-Pneumonia</a>"
      ]
     },
     "metadata": {},
     "output_type": "display_data"
    },
    {
     "data": {
      "text/plain": [
       "<IPython.core.display.HTML object>"
      ],
      "text/html": [
       " View run at <a href='https://wandb.ai/yoonwogud-lab/Chest-X-Ray-Images-Pneumonia/runs/g45fyznc' target=\"_blank\">https://wandb.ai/yoonwogud-lab/Chest-X-Ray-Images-Pneumonia/runs/g45fyznc</a>"
      ]
     },
     "metadata": {},
     "output_type": "display_data"
    },
    {
     "data": {
      "text/plain": [
       "<IPython.core.display.HTML object>"
      ],
      "text/html": []
     },
     "metadata": {},
     "output_type": "display_data"
    },
    {
     "data": {
      "text/plain": [
       "<IPython.core.display.HTML object>"
      ],
      "text/html": [
       "<br>    <style><br>        .wandb-row {<br>            display: flex;<br>            flex-direction: row;<br>            flex-wrap: wrap;<br>            justify-content: flex-start;<br>            width: 100%;<br>        }<br>        .wandb-col {<br>            display: flex;<br>            flex-direction: column;<br>            flex-basis: 100%;<br>            flex: 1;<br>            padding: 10px;<br>        }<br>    </style><br><div class=\"wandb-row\"><div class=\"wandb-col\"><h3>Run history:</h3><br/><table class=\"wandb\"><tr><td>test_acc</td><td>▁</td></tr><tr><td>test_f1</td><td>▁</td></tr><tr><td>test_loss</td><td>▁</td></tr><tr><td>test_precision</td><td>▁</td></tr><tr><td>test_recall</td><td>▁</td></tr><tr><td>train_acc</td><td>▁▂▂▂▂▃▆█▆█</td></tr><tr><td>train_f1</td><td>▁▁▂▂▂▃▆█▆█</td></tr><tr><td>train_loss</td><td>▆█▄▄▃▄▂▁▁▁</td></tr><tr><td>train_precision</td><td>▁▃▅▃▄▄▅█▅█</td></tr><tr><td>train_recall</td><td>▄▂▁▃▂▄▇███</td></tr><tr><td>+5</td><td>...</td></tr></table><br/></div><div class=\"wandb-col\"><h3>Run summary:</h3><br/><table class=\"wandb\"><tr><td>test_acc</td><td>0.86378</td></tr><tr><td>test_f1</td><td>0.8982</td></tr><tr><td>test_loss</td><td>0.56515</td></tr><tr><td>test_precision</td><td>0.8427</td></tr><tr><td>test_recall</td><td>0.96154</td></tr><tr><td>train_acc</td><td>0.96918</td></tr><tr><td>train_f1</td><td>0.97726</td></tr><tr><td>train_loss</td><td>0.0877</td></tr><tr><td>train_precision</td><td>0.97743</td></tr><tr><td>train_recall</td><td>0.97709</td></tr><tr><td>+5</td><td>...</td></tr></table><br/></div></div>"
      ]
     },
     "metadata": {},
     "output_type": "display_data"
    },
    {
     "data": {
      "text/plain": [
       "<IPython.core.display.HTML object>"
      ],
      "text/html": [
       " View run <strong style=\"color:#cdcd00\">kind-smoke-45</strong> at: <a href='https://wandb.ai/yoonwogud-lab/Chest-X-Ray-Images-Pneumonia/runs/g45fyznc' target=\"_blank\">https://wandb.ai/yoonwogud-lab/Chest-X-Ray-Images-Pneumonia/runs/g45fyznc</a><br> View project at: <a href='https://wandb.ai/yoonwogud-lab/Chest-X-Ray-Images-Pneumonia' target=\"_blank\">https://wandb.ai/yoonwogud-lab/Chest-X-Ray-Images-Pneumonia</a><br>Synced 5 W&B file(s), 0 media file(s), 0 artifact file(s) and 0 other file(s)"
      ]
     },
     "metadata": {},
     "output_type": "display_data"
    },
    {
     "data": {
      "text/plain": [
       "<IPython.core.display.HTML object>"
      ],
      "text/html": [
       "Find logs at: <code>./wandb/run-20250929_142731-g45fyznc/logs</code>"
      ]
     },
     "metadata": {},
     "output_type": "display_data"
    }
   ],
   "execution_count": 37
  },
  {
   "metadata": {},
   "cell_type": "markdown",
   "source": "# 전이 학습",
   "id": "52e72cd7422bdf61"
  },
  {
   "metadata": {},
   "cell_type": "markdown",
   "source": "## ResNet18",
   "id": "93e39d616354b10c"
  },
  {
   "metadata": {
    "ExecuteTime": {
     "end_time": "2025-10-02T10:21:19.354100Z",
     "start_time": "2025-10-02T10:21:14.237331Z"
    }
   },
   "cell_type": "code",
   "source": [
    "# 내가 만든 모델 transfer Learning 시키려면 아래처럼 해야됨\n",
    "# model = CustomCNN(num_classes)\n",
    "\n",
    "# Feature Extractor 파라미터만 동결\n",
    "# for param in model.features.parameters():\n",
    "#     param.requires_grad = False\n",
    "\n",
    "from torchvision.models import resnet18, ResNet18_Weights\n",
    "\n",
    "# 이미지넷으로 학습한 resnet18 기본 weight 불러오기\n",
    "pretrained_model = resnet18(weights=ResNet18_Weights.DEFAULT)\n",
    "\n",
    "\n",
    "# Feature Extractor Frozen, 역전파할때 파라미터 전달 안하게끔\n",
    "for param in pretrained_model.parameters():\n",
    "    param.requires_grad = False\n",
    "\n",
    "\n",
    "# 분류기 들어오기전 마지막 레이어수\n",
    "num_features = pretrained_model.fc.in_features\n",
    "# 분류기 들어오기전 마지막 레이어수 -> 2개로 분류하기\n",
    "pretrained_model.fc = nn.Linear(num_features, num_classes)\n",
    "\n",
    "pretrained_model = pretrained_model.to(device)"
   ],
   "id": "556b921f32fff0a9",
   "outputs": [
    {
     "ename": "NameError",
     "evalue": "name 'nn' is not defined",
     "output_type": "error",
     "traceback": [
      "\u001B[0;31m---------------------------------------------------------------------------\u001B[0m",
      "\u001B[0;31mNameError\u001B[0m                                 Traceback (most recent call last)",
      "Cell \u001B[0;32mIn[1], line 22\u001B[0m\n\u001B[1;32m     20\u001B[0m num_features \u001B[38;5;241m=\u001B[39m pretrained_model\u001B[38;5;241m.\u001B[39mfc\u001B[38;5;241m.\u001B[39min_features\n\u001B[1;32m     21\u001B[0m \u001B[38;5;66;03m# 분류기 들어오기전 마지막 레이어수 -> 2개로 분류하기\u001B[39;00m\n\u001B[0;32m---> 22\u001B[0m pretrained_model\u001B[38;5;241m.\u001B[39mfc \u001B[38;5;241m=\u001B[39m \u001B[43mnn\u001B[49m\u001B[38;5;241m.\u001B[39mLinear(num_features, num_classes)\n\u001B[1;32m     24\u001B[0m pretrained_model \u001B[38;5;241m=\u001B[39m pretrained_model\u001B[38;5;241m.\u001B[39mto(device)\n",
      "\u001B[0;31mNameError\u001B[0m: name 'nn' is not defined"
     ]
    }
   ],
   "execution_count": 1
  },
  {
   "metadata": {
    "ExecuteTime": {
     "end_time": "2025-09-29T06:03:02.225632Z",
     "start_time": "2025-09-29T05:55:17.443002Z"
    }
   },
   "cell_type": "code",
   "source": [
    "loss_fn = nn.CrossEntropyLoss()\n",
    "optimizer = optim.Adam(pretrained_model.parameters(), lr=0.001)\n",
    "\n",
    "# Start a new wandb run to track this script.\n",
    "wandb.init(\n",
    "    # Set the wandb entity where your project will be logged (generally your team name).\n",
    "    entity=\"yoonwogud-lab\",\n",
    "    # Set the wandb project where this run will be logged.\n",
    "    project=\"Chest-X-Ray-Images-Pneumonia\",\n",
    "    # Track hyperparameters and run metadata.\n",
    "    config={\n",
    "        \"learning_rate\": 0.001,\n",
    "        \"architecture\": \"ResNet18\",\n",
    "        \"epochs\": 10,\n",
    "\n",
    "    },\n",
    ")\n",
    "\n",
    "# 학습 실행\n",
    "train(pretrained_model, train_loader, val_loader, loss_fn, optimizer, num_epochs=10)\n",
    "a,b,c,d,e = evaluate(pretrained_model, test_loader, loss_fn)\n",
    "wandb.log({\n",
    "    \"test_loss\": a,\n",
    "    \"test_acc\": b,\n",
    "    \"test_recall\": c,\n",
    "    \"test_precision\": d,\n",
    "    \"test_f1\": e})\n",
    "wandb.finish()"
   ],
   "id": "532cb25d502d7ea1",
   "outputs": [
    {
     "data": {
      "text/plain": [
       "<IPython.core.display.HTML object>"
      ],
      "text/html": []
     },
     "metadata": {},
     "output_type": "display_data"
    },
    {
     "data": {
      "text/plain": [
       "<IPython.core.display.HTML object>"
      ],
      "text/html": [
       "Tracking run with wandb version 0.22.0"
      ]
     },
     "metadata": {},
     "output_type": "display_data"
    },
    {
     "data": {
      "text/plain": [
       "<IPython.core.display.HTML object>"
      ],
      "text/html": [
       "Run data is saved locally in <code>/Users/yoonwogud/Desktop/codeit_ds/Part2/wandb/run-20250929_145517-m3jnkjgf</code>"
      ]
     },
     "metadata": {},
     "output_type": "display_data"
    },
    {
     "data": {
      "text/plain": [
       "<IPython.core.display.HTML object>"
      ],
      "text/html": [
       "Syncing run <strong><a href='https://wandb.ai/yoonwogud-lab/Chest-X-Ray-Images-Pneumonia/runs/m3jnkjgf' target=\"_blank\">dandy-eon-48</a></strong> to <a href='https://wandb.ai/yoonwogud-lab/Chest-X-Ray-Images-Pneumonia' target=\"_blank\">Weights & Biases</a> (<a href='https://wandb.me/developer-guide' target=\"_blank\">docs</a>)<br>"
      ]
     },
     "metadata": {},
     "output_type": "display_data"
    },
    {
     "data": {
      "text/plain": [
       "<IPython.core.display.HTML object>"
      ],
      "text/html": [
       " View project at <a href='https://wandb.ai/yoonwogud-lab/Chest-X-Ray-Images-Pneumonia' target=\"_blank\">https://wandb.ai/yoonwogud-lab/Chest-X-Ray-Images-Pneumonia</a>"
      ]
     },
     "metadata": {},
     "output_type": "display_data"
    },
    {
     "data": {
      "text/plain": [
       "<IPython.core.display.HTML object>"
      ],
      "text/html": [
       " View run at <a href='https://wandb.ai/yoonwogud-lab/Chest-X-Ray-Images-Pneumonia/runs/m3jnkjgf' target=\"_blank\">https://wandb.ai/yoonwogud-lab/Chest-X-Ray-Images-Pneumonia/runs/m3jnkjgf</a>"
      ]
     },
     "metadata": {},
     "output_type": "display_data"
    },
    {
     "data": {
      "text/plain": [
       "<IPython.core.display.HTML object>"
      ],
      "text/html": []
     },
     "metadata": {},
     "output_type": "display_data"
    },
    {
     "data": {
      "text/plain": [
       "<IPython.core.display.HTML object>"
      ],
      "text/html": [
       "<br>    <style><br>        .wandb-row {<br>            display: flex;<br>            flex-direction: row;<br>            flex-wrap: wrap;<br>            justify-content: flex-start;<br>            width: 100%;<br>        }<br>        .wandb-col {<br>            display: flex;<br>            flex-direction: column;<br>            flex-basis: 100%;<br>            flex: 1;<br>            padding: 10px;<br>        }<br>    </style><br><div class=\"wandb-row\"><div class=\"wandb-col\"><h3>Run history:</h3><br/><table class=\"wandb\"><tr><td>test_acc</td><td>▁</td></tr><tr><td>test_f1</td><td>▁</td></tr><tr><td>test_loss</td><td>▁</td></tr><tr><td>test_precision</td><td>▁</td></tr><tr><td>test_recall</td><td>▁</td></tr><tr><td>train_acc</td><td>▁▆▆▆▇▇▇███</td></tr><tr><td>train_f1</td><td>▁▆▆▆▇▇▇███</td></tr><tr><td>train_loss</td><td>█▄▃▃▂▂▂▁▁▁</td></tr><tr><td>train_precision</td><td>▁▆▇▆▇▇▇███</td></tr><tr><td>train_recall</td><td>▃▃▁▃▄▄▆▆▆█</td></tr><tr><td>+5</td><td>...</td></tr></table><br/></div><div class=\"wandb-col\"><h3>Run summary:</h3><br/><table class=\"wandb\"><tr><td>test_acc</td><td>0.84936</td></tr><tr><td>test_f1</td><td>0.88941</td></tr><tr><td>test_loss</td><td>0.38435</td></tr><tr><td>test_precision</td><td>0.82174</td></tr><tr><td>test_recall</td><td>0.96923</td></tr><tr><td>train_acc</td><td>0.93096</td></tr><tr><td>train_f1</td><td>0.94936</td></tr><tr><td>train_loss</td><td>0.18214</td></tr><tr><td>train_precision</td><td>0.9439</td></tr><tr><td>train_recall</td><td>0.95488</td></tr><tr><td>+5</td><td>...</td></tr></table><br/></div></div>"
      ]
     },
     "metadata": {},
     "output_type": "display_data"
    },
    {
     "data": {
      "text/plain": [
       "<IPython.core.display.HTML object>"
      ],
      "text/html": [
       " View run <strong style=\"color:#cdcd00\">dandy-eon-48</strong> at: <a href='https://wandb.ai/yoonwogud-lab/Chest-X-Ray-Images-Pneumonia/runs/m3jnkjgf' target=\"_blank\">https://wandb.ai/yoonwogud-lab/Chest-X-Ray-Images-Pneumonia/runs/m3jnkjgf</a><br> View project at: <a href='https://wandb.ai/yoonwogud-lab/Chest-X-Ray-Images-Pneumonia' target=\"_blank\">https://wandb.ai/yoonwogud-lab/Chest-X-Ray-Images-Pneumonia</a><br>Synced 5 W&B file(s), 0 media file(s), 0 artifact file(s) and 0 other file(s)"
      ]
     },
     "metadata": {},
     "output_type": "display_data"
    },
    {
     "data": {
      "text/plain": [
       "<IPython.core.display.HTML object>"
      ],
      "text/html": [
       "Find logs at: <code>./wandb/run-20250929_145517-m3jnkjgf/logs</code>"
      ]
     },
     "metadata": {},
     "output_type": "display_data"
    }
   ],
   "execution_count": 44
  },
  {
   "metadata": {},
   "cell_type": "markdown",
   "source": "## GoogleNet",
   "id": "a22186d09f4d6ba2"
  },
  {
   "metadata": {
    "ExecuteTime": {
     "end_time": "2025-09-30T04:20:19.566482Z",
     "start_time": "2025-09-30T04:20:19.353710Z"
    }
   },
   "cell_type": "code",
   "source": [
    "# GoogLeNet 불러오기\n",
    "from torchvision.models import googlenet, GoogLeNet_Weights\n",
    "\n",
    "weights = GoogLeNet_Weights.DEFAULT\n",
    "pretrained_model = googlenet(weights=weights)\n",
    "\n",
    "# featur exxtractino frozen\n",
    "for param in pretrained_model.parameters():\n",
    "    param.requires_grad = False\n",
    "\n",
    "# 분류기 교체\n",
    "num_features = pretrained_model.fc.in_features\n",
    "# 마지막 레이어 -> 2개로 분류\n",
    "pretrained_model.fc = nn.Linear(num_features, num_classes)\n",
    "\n",
    "pretrained_model = pretrained_model.to(device)"
   ],
   "id": "e3abe53d62c2cd4e",
   "outputs": [],
   "execution_count": 16
  },
  {
   "metadata": {
    "ExecuteTime": {
     "end_time": "2025-09-29T06:43:38.846601Z",
     "start_time": "2025-09-29T06:17:36.692863Z"
    }
   },
   "cell_type": "code",
   "source": [
    "loss_fn = nn.CrossEntropyLoss() #\n",
    "optimizer = optim.Adam(pretrained_model.parameters(), lr=0.001)\n",
    "\n",
    "wandb.init(\n",
    "    # Set the wandb entity where your project will be logged (generally your team name).\n",
    "    entity=\"yoonwogud-lab\",\n",
    "    # Set the wandb project where this run will be logged.\n",
    "    project=\"Chest-X-Ray-Images-Pneumonia\",\n",
    "    # Track hyperparameters and run metadata.\n",
    "    config={\n",
    "        \"learning_rate\": 0.001,\n",
    "        \"architecture\": \"GoogleNet\",\n",
    "        \"epochs\": 10,\n",
    "    },\n",
    ")\n",
    "# 훈련 시작\n",
    "train(pretrained_model, train_loader, val_loader, loss_fn, optimizer, num_epochs=10)\n",
    "a,b,c,d,e = evaluate(pretrained_model, test_loader, loss_fn)\n",
    "wandb.log({\n",
    "    \"test_loss\": a,\n",
    "    \"test_acc\": b,\n",
    "    \"test_recall\": c,\n",
    "    \"test_precision\": d,\n",
    "    \"test_f1\": e})\n",
    "wandb.finish()"
   ],
   "id": "75dd35d9db5c653d",
   "outputs": [
    {
     "data": {
      "text/plain": [
       "<IPython.core.display.HTML object>"
      ],
      "text/html": []
     },
     "metadata": {},
     "output_type": "display_data"
    },
    {
     "data": {
      "text/plain": [
       "<IPython.core.display.HTML object>"
      ],
      "text/html": [
       "Tracking run with wandb version 0.22.0"
      ]
     },
     "metadata": {},
     "output_type": "display_data"
    },
    {
     "data": {
      "text/plain": [
       "<IPython.core.display.HTML object>"
      ],
      "text/html": [
       "Run data is saved locally in <code>/Users/yoonwogud/Desktop/codeit_ds/Part2/wandb/run-20250929_151736-3884dt4x</code>"
      ]
     },
     "metadata": {},
     "output_type": "display_data"
    },
    {
     "data": {
      "text/plain": [
       "<IPython.core.display.HTML object>"
      ],
      "text/html": [
       "Syncing run <strong><a href='https://wandb.ai/yoonwogud-lab/Chest-X-Ray-Images-Pneumonia/runs/3884dt4x' target=\"_blank\">atomic-dream-50</a></strong> to <a href='https://wandb.ai/yoonwogud-lab/Chest-X-Ray-Images-Pneumonia' target=\"_blank\">Weights & Biases</a> (<a href='https://wandb.me/developer-guide' target=\"_blank\">docs</a>)<br>"
      ]
     },
     "metadata": {},
     "output_type": "display_data"
    },
    {
     "data": {
      "text/plain": [
       "<IPython.core.display.HTML object>"
      ],
      "text/html": [
       " View project at <a href='https://wandb.ai/yoonwogud-lab/Chest-X-Ray-Images-Pneumonia' target=\"_blank\">https://wandb.ai/yoonwogud-lab/Chest-X-Ray-Images-Pneumonia</a>"
      ]
     },
     "metadata": {},
     "output_type": "display_data"
    },
    {
     "data": {
      "text/plain": [
       "<IPython.core.display.HTML object>"
      ],
      "text/html": [
       " View run at <a href='https://wandb.ai/yoonwogud-lab/Chest-X-Ray-Images-Pneumonia/runs/3884dt4x' target=\"_blank\">https://wandb.ai/yoonwogud-lab/Chest-X-Ray-Images-Pneumonia/runs/3884dt4x</a>"
      ]
     },
     "metadata": {},
     "output_type": "display_data"
    },
    {
     "data": {
      "text/plain": [
       "<IPython.core.display.HTML object>"
      ],
      "text/html": []
     },
     "metadata": {},
     "output_type": "display_data"
    },
    {
     "data": {
      "text/plain": [
       "<IPython.core.display.HTML object>"
      ],
      "text/html": [
       "<br>    <style><br>        .wandb-row {<br>            display: flex;<br>            flex-direction: row;<br>            flex-wrap: wrap;<br>            justify-content: flex-start;<br>            width: 100%;<br>        }<br>        .wandb-col {<br>            display: flex;<br>            flex-direction: column;<br>            flex-basis: 100%;<br>            flex: 1;<br>            padding: 10px;<br>        }<br>    </style><br><div class=\"wandb-row\"><div class=\"wandb-col\"><h3>Run history:</h3><br/><table class=\"wandb\"><tr><td>test_acc</td><td>▁</td></tr><tr><td>test_f1</td><td>▁</td></tr><tr><td>test_loss</td><td>▁</td></tr><tr><td>test_precision</td><td>▁</td></tr><tr><td>test_recall</td><td>▁</td></tr><tr><td>train_acc</td><td>▁▆▆▇▇▇▇▇██</td></tr><tr><td>train_f1</td><td>▁▆▆▇▇▇▇▇██</td></tr><tr><td>train_loss</td><td>█▄▃▂▂▂▂▁▁▁</td></tr><tr><td>train_precision</td><td>▁▆▆▇▇▇▇███</td></tr><tr><td>train_recall</td><td>▅▁▂▇▇▇█▅▆█</td></tr><tr><td>+5</td><td>...</td></tr></table><br/></div><div class=\"wandb-col\"><h3>Run summary:</h3><br/><table class=\"wandb\"><tr><td>test_acc</td><td>0.77083</td></tr><tr><td>test_f1</td><td>0.84337</td></tr><tr><td>test_loss</td><td>0.49616</td></tr><tr><td>test_precision</td><td>0.73614</td></tr><tr><td>test_recall</td><td>0.98718</td></tr><tr><td>train_acc</td><td>0.93168</td></tr><tr><td>train_f1</td><td>0.9497</td></tr><tr><td>train_loss</td><td>0.17821</td></tr><tr><td>train_precision</td><td>0.9477</td></tr><tr><td>train_recall</td><td>0.95171</td></tr><tr><td>+5</td><td>...</td></tr></table><br/></div></div>"
      ]
     },
     "metadata": {},
     "output_type": "display_data"
    },
    {
     "data": {
      "text/plain": [
       "<IPython.core.display.HTML object>"
      ],
      "text/html": [
       " View run <strong style=\"color:#cdcd00\">atomic-dream-50</strong> at: <a href='https://wandb.ai/yoonwogud-lab/Chest-X-Ray-Images-Pneumonia/runs/3884dt4x' target=\"_blank\">https://wandb.ai/yoonwogud-lab/Chest-X-Ray-Images-Pneumonia/runs/3884dt4x</a><br> View project at: <a href='https://wandb.ai/yoonwogud-lab/Chest-X-Ray-Images-Pneumonia' target=\"_blank\">https://wandb.ai/yoonwogud-lab/Chest-X-Ray-Images-Pneumonia</a><br>Synced 5 W&B file(s), 0 media file(s), 0 artifact file(s) and 0 other file(s)"
      ]
     },
     "metadata": {},
     "output_type": "display_data"
    },
    {
     "data": {
      "text/plain": [
       "<IPython.core.display.HTML object>"
      ],
      "text/html": [
       "Find logs at: <code>./wandb/run-20250929_151736-3884dt4x/logs</code>"
      ]
     },
     "metadata": {},
     "output_type": "display_data"
    }
   ],
   "execution_count": 48
  },
  {
   "metadata": {},
   "cell_type": "markdown",
   "source": "## AlexNet",
   "id": "baad3142cd747303"
  },
  {
   "metadata": {
    "ExecuteTime": {
     "end_time": "2025-09-29T06:03:46.736147Z",
     "start_time": "2025-09-29T06:03:46.445080Z"
    }
   },
   "cell_type": "code",
   "source": [
    "from torchvision.models import alexnet, AlexNet_Weights\n",
    "device = torch.device('cpu')\n",
    "pretrained_model = alexnet(weights=AlexNet_Weights.DEFAULT)\n",
    "\n",
    "# 동결\n",
    "for param in pretrained_model.features.parameters():\n",
    "    param.requires_grad = False\n",
    "\n",
    "# 분류기 교체\n",
    "# 마지가 6번째 레이어에서 2개로 분류할거임\n",
    "num_features = pretrained_model.classifier[6].in_features\n",
    "pretrained_model.classifier[6] = nn.Linear(num_features, num_classes)\n",
    "\n",
    "pretrained_model = pretrained_model.to(device)"
   ],
   "id": "b0003e0af153ffb5",
   "outputs": [],
   "execution_count": 45
  },
  {
   "metadata": {
    "ExecuteTime": {
     "end_time": "2025-09-29T06:14:07.279332Z",
     "start_time": "2025-09-29T06:03:48.392637Z"
    }
   },
   "cell_type": "code",
   "source": [
    "loss_fn = nn.CrossEntropyLoss() #\n",
    "optimizer = optim.Adam(pretrained_model.parameters(), lr=0.001)\n",
    "\n",
    "wandb.init(\n",
    "    # Set the wandb entity where your project will be logged (generally your team name).\n",
    "    entity=\"yoonwogud-lab\",\n",
    "    # Set the wandb project where this run will be logged.\n",
    "    project=\"Chest-X-Ray-Images-Pneumonia\",\n",
    "    # Track hyperparameters and run metadata.\n",
    "    config={\n",
    "        \"learning_rate\": 0.001,\n",
    "        \"architecture\": \"AlexNet\",\n",
    "        \"epochs\": 10,\n",
    "    },\n",
    ")\n",
    "# 훈련 시작\n",
    "train(pretrained_model, train_loader, val_loader, loss_fn, optimizer, num_epochs=10)\n",
    "a,b,c,d,e = evaluate(pretrained_model, test_loader, loss_fn)\n",
    "wandb.log({\n",
    "    \"test_loss\": a,\n",
    "    \"test_acc\": b,\n",
    "    \"test_recall\": c,\n",
    "    \"test_precision\": d,\n",
    "    \"test_f1\": e})\n",
    "wandb.finish()"
   ],
   "id": "186781f6a9f969f8",
   "outputs": [
    {
     "data": {
      "text/plain": [
       "<IPython.core.display.HTML object>"
      ],
      "text/html": []
     },
     "metadata": {},
     "output_type": "display_data"
    },
    {
     "data": {
      "text/plain": [
       "<IPython.core.display.HTML object>"
      ],
      "text/html": [
       "Tracking run with wandb version 0.22.0"
      ]
     },
     "metadata": {},
     "output_type": "display_data"
    },
    {
     "data": {
      "text/plain": [
       "<IPython.core.display.HTML object>"
      ],
      "text/html": [
       "Run data is saved locally in <code>/Users/yoonwogud/Desktop/codeit_ds/Part2/wandb/run-20250929_150348-24etav4o</code>"
      ]
     },
     "metadata": {},
     "output_type": "display_data"
    },
    {
     "data": {
      "text/plain": [
       "<IPython.core.display.HTML object>"
      ],
      "text/html": [
       "Syncing run <strong><a href='https://wandb.ai/yoonwogud-lab/Chest-X-Ray-Images-Pneumonia/runs/24etav4o' target=\"_blank\">daily-energy-49</a></strong> to <a href='https://wandb.ai/yoonwogud-lab/Chest-X-Ray-Images-Pneumonia' target=\"_blank\">Weights & Biases</a> (<a href='https://wandb.me/developer-guide' target=\"_blank\">docs</a>)<br>"
      ]
     },
     "metadata": {},
     "output_type": "display_data"
    },
    {
     "data": {
      "text/plain": [
       "<IPython.core.display.HTML object>"
      ],
      "text/html": [
       " View project at <a href='https://wandb.ai/yoonwogud-lab/Chest-X-Ray-Images-Pneumonia' target=\"_blank\">https://wandb.ai/yoonwogud-lab/Chest-X-Ray-Images-Pneumonia</a>"
      ]
     },
     "metadata": {},
     "output_type": "display_data"
    },
    {
     "data": {
      "text/plain": [
       "<IPython.core.display.HTML object>"
      ],
      "text/html": [
       " View run at <a href='https://wandb.ai/yoonwogud-lab/Chest-X-Ray-Images-Pneumonia/runs/24etav4o' target=\"_blank\">https://wandb.ai/yoonwogud-lab/Chest-X-Ray-Images-Pneumonia/runs/24etav4o</a>"
      ]
     },
     "metadata": {},
     "output_type": "display_data"
    },
    {
     "data": {
      "text/plain": [
       "<IPython.core.display.HTML object>"
      ],
      "text/html": []
     },
     "metadata": {},
     "output_type": "display_data"
    },
    {
     "data": {
      "text/plain": [
       "<IPython.core.display.HTML object>"
      ],
      "text/html": [
       "<br>    <style><br>        .wandb-row {<br>            display: flex;<br>            flex-direction: row;<br>            flex-wrap: wrap;<br>            justify-content: flex-start;<br>            width: 100%;<br>        }<br>        .wandb-col {<br>            display: flex;<br>            flex-direction: column;<br>            flex-basis: 100%;<br>            flex: 1;<br>            padding: 10px;<br>        }<br>    </style><br><div class=\"wandb-row\"><div class=\"wandb-col\"><h3>Run history:</h3><br/><table class=\"wandb\"><tr><td>test_acc</td><td>▁</td></tr><tr><td>test_f1</td><td>▁</td></tr><tr><td>test_loss</td><td>▁</td></tr><tr><td>test_precision</td><td>▁</td></tr><tr><td>test_recall</td><td>▁</td></tr><tr><td>train_acc</td><td>▁▆▇▇▇██▇██</td></tr><tr><td>train_f1</td><td>▁▆▇▇▇██▇██</td></tr><tr><td>train_loss</td><td>█▃▂▂▂▂▁▁▁▁</td></tr><tr><td>train_precision</td><td>▁▆▇▇▇██▇██</td></tr><tr><td>train_recall</td><td>▁▆▇▇▇▇█▇██</td></tr><tr><td>+5</td><td>...</td></tr></table><br/></div><div class=\"wandb-col\"><h3>Run summary:</h3><br/><table class=\"wandb\"><tr><td>test_acc</td><td>0.90705</td></tr><tr><td>test_f1</td><td>0.92368</td></tr><tr><td>test_loss</td><td>0.24704</td></tr><tr><td>test_precision</td><td>0.94865</td></tr><tr><td>test_recall</td><td>0.9</td></tr><tr><td>train_acc</td><td>0.96178</td></tr><tr><td>train_f1</td><td>0.97174</td></tr><tr><td>train_loss</td><td>0.10783</td></tr><tr><td>train_precision</td><td>0.97381</td></tr><tr><td>train_recall</td><td>0.96969</td></tr><tr><td>+5</td><td>...</td></tr></table><br/></div></div>"
      ]
     },
     "metadata": {},
     "output_type": "display_data"
    },
    {
     "data": {
      "text/plain": [
       "<IPython.core.display.HTML object>"
      ],
      "text/html": [
       " View run <strong style=\"color:#cdcd00\">daily-energy-49</strong> at: <a href='https://wandb.ai/yoonwogud-lab/Chest-X-Ray-Images-Pneumonia/runs/24etav4o' target=\"_blank\">https://wandb.ai/yoonwogud-lab/Chest-X-Ray-Images-Pneumonia/runs/24etav4o</a><br> View project at: <a href='https://wandb.ai/yoonwogud-lab/Chest-X-Ray-Images-Pneumonia' target=\"_blank\">https://wandb.ai/yoonwogud-lab/Chest-X-Ray-Images-Pneumonia</a><br>Synced 5 W&B file(s), 0 media file(s), 0 artifact file(s) and 0 other file(s)"
      ]
     },
     "metadata": {},
     "output_type": "display_data"
    },
    {
     "data": {
      "text/plain": [
       "<IPython.core.display.HTML object>"
      ],
      "text/html": [
       "Find logs at: <code>./wandb/run-20250929_150348-24etav4o/logs</code>"
      ]
     },
     "metadata": {},
     "output_type": "display_data"
    }
   ],
   "execution_count": 46
  },
  {
   "metadata": {},
   "cell_type": "markdown",
   "source": "# Partial Fine-tuning",
   "id": "b0b7cbe927f29e7"
  },
  {
   "metadata": {},
   "cell_type": "markdown",
   "source": "## ResNet Partial Fine-Tuning",
   "id": "80ac3f6e5ef40250"
  },
  {
   "metadata": {
    "ExecuteTime": {
     "end_time": "2025-09-29T06:44:20.455733Z",
     "start_time": "2025-09-29T06:44:20.261321Z"
    }
   },
   "cell_type": "code",
   "source": [
    "pretrained_model = resnet18(weights=ResNet18_Weights.DEFAULT)\n",
    "\n",
    "for name, param in pretrained_model.named_parameters():\n",
    "    if \"layer4\" in name or \"fc\" in name:\n",
    "        param.requires_grad = True\n",
    "    else:\n",
    "        param.requires_grad = False\n",
    "\n",
    "\n",
    "# 마지막 분류기 교체\n",
    "num_features = pretrained_model.fc.in_features\n",
    "pretrained_model.fc = nn.Linear(num_features, num_classes)\n",
    "\n",
    "print(\"Trainable parameters:\")\n",
    "for name, param in pretrained_model.named_parameters():\n",
    "    if param.requires_grad:\n",
    "        print(name)\n",
    "\n",
    "pretrained_model = pretrained_model.to(device)"
   ],
   "id": "5f1c57afa00223b3",
   "outputs": [
    {
     "name": "stdout",
     "output_type": "stream",
     "text": [
      "Trainable parameters:\n",
      "layer4.0.conv1.weight\n",
      "layer4.0.bn1.weight\n",
      "layer4.0.bn1.bias\n",
      "layer4.0.conv2.weight\n",
      "layer4.0.bn2.weight\n",
      "layer4.0.bn2.bias\n",
      "layer4.0.downsample.0.weight\n",
      "layer4.0.downsample.1.weight\n",
      "layer4.0.downsample.1.bias\n",
      "layer4.1.conv1.weight\n",
      "layer4.1.bn1.weight\n",
      "layer4.1.bn1.bias\n",
      "layer4.1.conv2.weight\n",
      "layer4.1.bn2.weight\n",
      "layer4.1.bn2.bias\n",
      "fc.weight\n",
      "fc.bias\n"
     ]
    }
   ],
   "execution_count": 49
  },
  {
   "metadata": {
    "ExecuteTime": {
     "end_time": "2025-09-29T07:05:16.297475Z",
     "start_time": "2025-09-29T06:44:29.465501Z"
    }
   },
   "cell_type": "code",
   "source": [
    "loss_fn = nn.CrossEntropyLoss() #\n",
    "optimizer = optim.Adam(pretrained_model.parameters(), lr=0.001)\n",
    "\n",
    "wandb.init(\n",
    "    # Set the wandb entity where your project will be logged (generally your team name).\n",
    "    entity=\"yoonwogud-lab\",\n",
    "    # Set the wandb project where this run will be logged.\n",
    "    project=\"Chest-X-Ray-Images-Pneumonia\",\n",
    "    # Track hyperparameters and run metadata.\n",
    "    config={\n",
    "        \"learning_rate\": 0.001,\n",
    "        \"architecture\": \"ResNet18_Partial Fine-Tuning SGD\",\n",
    "        \"epochs\": 10,\n",
    "    },\n",
    ")\n",
    "# 훈련 시작\n",
    "train(pretrained_model, train_loader, val_loader, loss_fn, optimizer, num_epochs=10)\n",
    "a,b,c,d,e = evaluate(pretrained_model, test_loader, loss_fn)\n",
    "wandb.log({\n",
    "    \"test_loss\": a,\n",
    "    \"test_acc\": b,\n",
    "    \"test_recall\": c,\n",
    "    \"test_precision\": d,\n",
    "    \"test_f1\": e})\n",
    "wandb.finish()"
   ],
   "id": "2e117a032c0c4040",
   "outputs": [
    {
     "data": {
      "text/plain": [
       "<IPython.core.display.HTML object>"
      ],
      "text/html": []
     },
     "metadata": {},
     "output_type": "display_data"
    },
    {
     "data": {
      "text/plain": [
       "<IPython.core.display.HTML object>"
      ],
      "text/html": [
       "Tracking run with wandb version 0.22.0"
      ]
     },
     "metadata": {},
     "output_type": "display_data"
    },
    {
     "data": {
      "text/plain": [
       "<IPython.core.display.HTML object>"
      ],
      "text/html": [
       "Run data is saved locally in <code>/Users/yoonwogud/Desktop/codeit_ds/Part2/wandb/run-20250929_154429-pb1x7spo</code>"
      ]
     },
     "metadata": {},
     "output_type": "display_data"
    },
    {
     "data": {
      "text/plain": [
       "<IPython.core.display.HTML object>"
      ],
      "text/html": [
       "Syncing run <strong><a href='https://wandb.ai/yoonwogud-lab/Chest-X-Ray-Images-Pneumonia/runs/pb1x7spo' target=\"_blank\">valiant-puddle-51</a></strong> to <a href='https://wandb.ai/yoonwogud-lab/Chest-X-Ray-Images-Pneumonia' target=\"_blank\">Weights & Biases</a> (<a href='https://wandb.me/developer-guide' target=\"_blank\">docs</a>)<br>"
      ]
     },
     "metadata": {},
     "output_type": "display_data"
    },
    {
     "data": {
      "text/plain": [
       "<IPython.core.display.HTML object>"
      ],
      "text/html": [
       " View project at <a href='https://wandb.ai/yoonwogud-lab/Chest-X-Ray-Images-Pneumonia' target=\"_blank\">https://wandb.ai/yoonwogud-lab/Chest-X-Ray-Images-Pneumonia</a>"
      ]
     },
     "metadata": {},
     "output_type": "display_data"
    },
    {
     "data": {
      "text/plain": [
       "<IPython.core.display.HTML object>"
      ],
      "text/html": [
       " View run at <a href='https://wandb.ai/yoonwogud-lab/Chest-X-Ray-Images-Pneumonia/runs/pb1x7spo' target=\"_blank\">https://wandb.ai/yoonwogud-lab/Chest-X-Ray-Images-Pneumonia/runs/pb1x7spo</a>"
      ]
     },
     "metadata": {},
     "output_type": "display_data"
    },
    {
     "data": {
      "text/plain": [
       "<IPython.core.display.HTML object>"
      ],
      "text/html": []
     },
     "metadata": {},
     "output_type": "display_data"
    },
    {
     "data": {
      "text/plain": [
       "<IPython.core.display.HTML object>"
      ],
      "text/html": [
       "<br>    <style><br>        .wandb-row {<br>            display: flex;<br>            flex-direction: row;<br>            flex-wrap: wrap;<br>            justify-content: flex-start;<br>            width: 100%;<br>        }<br>        .wandb-col {<br>            display: flex;<br>            flex-direction: column;<br>            flex-basis: 100%;<br>            flex: 1;<br>            padding: 10px;<br>        }<br>    </style><br><div class=\"wandb-row\"><div class=\"wandb-col\"><h3>Run history:</h3><br/><table class=\"wandb\"><tr><td>test_acc</td><td>▁</td></tr><tr><td>test_f1</td><td>▁</td></tr><tr><td>test_loss</td><td>▁</td></tr><tr><td>test_precision</td><td>▁</td></tr><tr><td>test_recall</td><td>▁</td></tr><tr><td>train_acc</td><td>▁▆▇▇▇▇████</td></tr><tr><td>train_f1</td><td>▁▆▇▇▇▇████</td></tr><tr><td>train_loss</td><td>█▃▃▂▂▂▁▁▁▁</td></tr><tr><td>train_precision</td><td>▁▆▇▇▇█████</td></tr><tr><td>train_recall</td><td>▁▃▅▆▆▇▇█▇█</td></tr><tr><td>+5</td><td>...</td></tr></table><br/></div><div class=\"wandb-col\"><h3>Run summary:</h3><br/><table class=\"wandb\"><tr><td>test_acc</td><td>0.87019</td></tr><tr><td>test_f1</td><td>0.90526</td></tr><tr><td>test_loss</td><td>0.46844</td></tr><tr><td>test_precision</td><td>0.83226</td></tr><tr><td>test_recall</td><td>0.99231</td></tr><tr><td>train_acc</td><td>0.97492</td></tr><tr><td>train_f1</td><td>0.98152</td></tr><tr><td>train_loss</td><td>0.06594</td></tr><tr><td>train_precision</td><td>0.98031</td></tr><tr><td>train_recall</td><td>0.98273</td></tr><tr><td>+5</td><td>...</td></tr></table><br/></div></div>"
      ]
     },
     "metadata": {},
     "output_type": "display_data"
    },
    {
     "data": {
      "text/plain": [
       "<IPython.core.display.HTML object>"
      ],
      "text/html": [
       " View run <strong style=\"color:#cdcd00\">valiant-puddle-51</strong> at: <a href='https://wandb.ai/yoonwogud-lab/Chest-X-Ray-Images-Pneumonia/runs/pb1x7spo' target=\"_blank\">https://wandb.ai/yoonwogud-lab/Chest-X-Ray-Images-Pneumonia/runs/pb1x7spo</a><br> View project at: <a href='https://wandb.ai/yoonwogud-lab/Chest-X-Ray-Images-Pneumonia' target=\"_blank\">https://wandb.ai/yoonwogud-lab/Chest-X-Ray-Images-Pneumonia</a><br>Synced 5 W&B file(s), 0 media file(s), 0 artifact file(s) and 0 other file(s)"
      ]
     },
     "metadata": {},
     "output_type": "display_data"
    },
    {
     "data": {
      "text/plain": [
       "<IPython.core.display.HTML object>"
      ],
      "text/html": [
       "Find logs at: <code>./wandb/run-20250929_154429-pb1x7spo/logs</code>"
      ]
     },
     "metadata": {},
     "output_type": "display_data"
    }
   ],
   "execution_count": 50
  },
  {
   "metadata": {},
   "cell_type": "markdown",
   "source": "# Full Fine-Tuning",
   "id": "dbc4d99de7996e9"
  },
  {
   "metadata": {},
   "cell_type": "markdown",
   "source": "## GoogleNet Full Fine-Tuning",
   "id": "f5bede0820aac164"
  },
  {
   "metadata": {
    "ExecuteTime": {
     "end_time": "2025-09-30T04:20:23.127450Z",
     "start_time": "2025-09-30T04:20:22.949359Z"
    }
   },
   "cell_type": "code",
   "source": [
    "pretrained_model = googlenet(weights=GoogLeNet_Weights.DEFAULT)\n",
    "\n",
    "# 파라미터 갱신 모두 True\n",
    "for param in pretrained_model.parameters():\n",
    "    param.requires_grad = True\n",
    "\n",
    "# 분류기 교체\n",
    "num_features = pretrained_model.fc.in_features\n",
    "pretrained_model.fc = nn.Linear(num_features, num_classes)\n",
    "\n",
    "pretrained_model = pretrained_model.to(device)"
   ],
   "id": "da2935fc909fa1ec",
   "outputs": [],
   "execution_count": 17
  },
  {
   "metadata": {
    "ExecuteTime": {
     "end_time": "2025-09-30T04:30:53.236617Z",
     "start_time": "2025-09-30T04:20:26.633303Z"
    }
   },
   "cell_type": "code",
   "source": [
    "loss_fn = nn.CrossEntropyLoss()\n",
    "optimizer = optim.Adam(pretrained_model.parameters(), lr=0.0001)\n",
    "\n",
    "wandb.init(\n",
    "    # Set the wandb entity where your project will be logged (generally your team name).\n",
    "    entity=\"yoonwogud-lab\",\n",
    "    # Set the wandb project where this run will be logged.\n",
    "    project=\"Chest-X-Ray-Images-Pneumonia\",\n",
    "    # Track hyperparameters and run metadata.\n",
    "    config={\n",
    "        \"learning_rate\": 0.001,\n",
    "        \"architecture\": \"GoogleNet Full Fine-Tuning\",\n",
    "        \"epochs\": 10,\n",
    "    },\n",
    ")\n",
    "# 훈련 시작\n",
    "train(pretrained_model, train_loader, val_loader, loss_fn, optimizer, num_epochs=10)\n",
    "a,b,c,d,e = evaluate(pretrained_model, test_loader, loss_fn)\n",
    "wandb.log({\n",
    "    \"test_loss\": a,\n",
    "    \"test_acc\": b,\n",
    "    \"test_recall\": c,\n",
    "    \"test_precision\": d,\n",
    "    \"test_f1\": e})\n",
    "wandb.finish()"
   ],
   "id": "703aabe8c916294c",
   "outputs": [
    {
     "name": "stderr",
     "output_type": "stream",
     "text": [
      "\u001B[34m\u001B[1mwandb\u001B[0m: Currently logged in as: \u001B[33myoonwogud\u001B[0m (\u001B[33myoonwogud-lab\u001B[0m) to \u001B[32mhttps://api.wandb.ai\u001B[0m. Use \u001B[1m`wandb login --relogin`\u001B[0m to force relogin\n"
     ]
    },
    {
     "data": {
      "text/plain": [
       "<IPython.core.display.HTML object>"
      ],
      "text/html": []
     },
     "metadata": {},
     "output_type": "display_data"
    },
    {
     "data": {
      "text/plain": [
       "<IPython.core.display.HTML object>"
      ],
      "text/html": [
       "Tracking run with wandb version 0.22.0"
      ]
     },
     "metadata": {},
     "output_type": "display_data"
    },
    {
     "data": {
      "text/plain": [
       "<IPython.core.display.HTML object>"
      ],
      "text/html": [
       "Run data is saved locally in <code>/Users/yoonwogud/Desktop/codeit_ds/Part2/wandb/run-20250930_132028-57mt8yih</code>"
      ]
     },
     "metadata": {},
     "output_type": "display_data"
    },
    {
     "data": {
      "text/plain": [
       "<IPython.core.display.HTML object>"
      ],
      "text/html": [
       "Syncing run <strong><a href='https://wandb.ai/yoonwogud-lab/Chest-X-Ray-Images-Pneumonia/runs/57mt8yih' target=\"_blank\">effortless-energy-53</a></strong> to <a href='https://wandb.ai/yoonwogud-lab/Chest-X-Ray-Images-Pneumonia' target=\"_blank\">Weights & Biases</a> (<a href='https://wandb.me/developer-guide' target=\"_blank\">docs</a>)<br>"
      ]
     },
     "metadata": {},
     "output_type": "display_data"
    },
    {
     "data": {
      "text/plain": [
       "<IPython.core.display.HTML object>"
      ],
      "text/html": [
       " View project at <a href='https://wandb.ai/yoonwogud-lab/Chest-X-Ray-Images-Pneumonia' target=\"_blank\">https://wandb.ai/yoonwogud-lab/Chest-X-Ray-Images-Pneumonia</a>"
      ]
     },
     "metadata": {},
     "output_type": "display_data"
    },
    {
     "data": {
      "text/plain": [
       "<IPython.core.display.HTML object>"
      ],
      "text/html": [
       " View run at <a href='https://wandb.ai/yoonwogud-lab/Chest-X-Ray-Images-Pneumonia/runs/57mt8yih' target=\"_blank\">https://wandb.ai/yoonwogud-lab/Chest-X-Ray-Images-Pneumonia/runs/57mt8yih</a>"
      ]
     },
     "metadata": {},
     "output_type": "display_data"
    },
    {
     "data": {
      "text/plain": [
       "<IPython.core.display.HTML object>"
      ],
      "text/html": []
     },
     "metadata": {},
     "output_type": "display_data"
    },
    {
     "data": {
      "text/plain": [
       "<IPython.core.display.HTML object>"
      ],
      "text/html": [
       "<br>    <style><br>        .wandb-row {<br>            display: flex;<br>            flex-direction: row;<br>            flex-wrap: wrap;<br>            justify-content: flex-start;<br>            width: 100%;<br>        }<br>        .wandb-col {<br>            display: flex;<br>            flex-direction: column;<br>            flex-basis: 100%;<br>            flex: 1;<br>            padding: 10px;<br>        }<br>    </style><br><div class=\"wandb-row\"><div class=\"wandb-col\"><h3>Run history:</h3><br/><table class=\"wandb\"><tr><td>test_acc</td><td>▁</td></tr><tr><td>test_f1</td><td>▁</td></tr><tr><td>test_loss</td><td>▁</td></tr><tr><td>test_precision</td><td>▁</td></tr><tr><td>test_recall</td><td>▁</td></tr><tr><td>train_acc</td><td>▁▅▇▇▇▇████</td></tr><tr><td>train_f1</td><td>▁▆▇▇▇▇████</td></tr><tr><td>train_loss</td><td>█▄▂▂▂▁▁▁▁▁</td></tr><tr><td>train_precision</td><td>▁▅▆▆▇▇█▇██</td></tr><tr><td>train_recall</td><td>▁▆▇▇▇█████</td></tr><tr><td>+5</td><td>...</td></tr></table><br/></div><div class=\"wandb-col\"><h3>Run summary:</h3><br/><table class=\"wandb\"><tr><td>test_acc</td><td>0.87981</td></tr><tr><td>test_f1</td><td>0.91187</td></tr><tr><td>test_loss</td><td>0.39689</td></tr><tr><td>test_precision</td><td>0.84165</td></tr><tr><td>test_recall</td><td>0.99487</td></tr><tr><td>train_acc</td><td>0.99666</td></tr><tr><td>train_f1</td><td>0.99753</td></tr><tr><td>train_loss</td><td>0.01385</td></tr><tr><td>train_precision</td><td>0.99788</td></tr><tr><td>train_recall</td><td>0.99718</td></tr><tr><td>+5</td><td>...</td></tr></table><br/></div></div>"
      ]
     },
     "metadata": {},
     "output_type": "display_data"
    },
    {
     "data": {
      "text/plain": [
       "<IPython.core.display.HTML object>"
      ],
      "text/html": [
       " View run <strong style=\"color:#cdcd00\">effortless-energy-53</strong> at: <a href='https://wandb.ai/yoonwogud-lab/Chest-X-Ray-Images-Pneumonia/runs/57mt8yih' target=\"_blank\">https://wandb.ai/yoonwogud-lab/Chest-X-Ray-Images-Pneumonia/runs/57mt8yih</a><br> View project at: <a href='https://wandb.ai/yoonwogud-lab/Chest-X-Ray-Images-Pneumonia' target=\"_blank\">https://wandb.ai/yoonwogud-lab/Chest-X-Ray-Images-Pneumonia</a><br>Synced 5 W&B file(s), 0 media file(s), 0 artifact file(s) and 0 other file(s)"
      ]
     },
     "metadata": {},
     "output_type": "display_data"
    },
    {
     "data": {
      "text/plain": [
       "<IPython.core.display.HTML object>"
      ],
      "text/html": [
       "Find logs at: <code>./wandb/run-20250930_132028-57mt8yih/logs</code>"
      ]
     },
     "metadata": {},
     "output_type": "display_data"
    }
   ],
   "execution_count": 18
  },
  {
   "metadata": {},
   "cell_type": "markdown",
   "source": "![image.png](attachment:865287ed-0b6a-4c8d-a336-aa623a14717a.png)",
   "id": "c8bb2d534f02effc",
   "attachments": {
    "865287ed-0b6a-4c8d-a336-aa623a14717a.png": {
     "image/png": "[encoded data removed]"
    }
   }
  },
  {
   "metadata": {},
   "cell_type": "code",
   "outputs": [],
   "execution_count": null,
   "source": "",
   "id": "f42649b8191ae19d"
  }
 ],
 "metadata": {
  "kernelspec": {
   "display_name": "Python 3",
   "language": "python",
   "name": "python3"
  },
  "language_info": {
   "codemirror_mode": {
    "name": "ipython",
    "version": 2
   },
   "file_extension": ".py",
   "mimetype": "text/x-python",
   "name": "python",
   "nbconvert_exporter": "python",
   "pygments_lexer": "ipython2",
   "version": "2.7.6"
  }
 },
 "nbformat": 4,
 "nbformat_minor": 5
}
