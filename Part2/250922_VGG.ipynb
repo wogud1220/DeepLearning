{
 "cells": [
  {
   "metadata": {
    "ExecuteTime": {
     "end_time": "2025-09-22T02:12:39.622733Z",
     "start_time": "2025-09-22T02:12:38.381355Z"
    }
   },
   "cell_type": "code",
   "source": [
    "\n",
    "import torch.nn as nn"
   ],
   "id": "1170816ceee844c0",
   "outputs": [],
   "execution_count": 1
  },
  {
   "metadata": {
    "collapsed": true,
    "ExecuteTime": {
     "end_time": "2025-09-22T02:12:39.640467Z",
     "start_time": "2025-09-22T02:12:39.637757Z"
    }
   },
   "cell_type": "code",
   "source": [
    "cfgs = {\n",
    "    'A': [64, 'M', 128, 'M', 256, 256, 'M', 512, 512, 'M', 512, 512, 'M'],\n",
    "    'B': [64, 64, 'M', 128, 128, 'M', 256, 256, 'M', 512, 512, 'M', 512, 512, 'M'],\n",
    "    'D': [64, 64, 'M', 128, 128, 'M', 256, 256, 256, 'M', 512, 512, 512, 'M', 512, 512, 512, 'M'],\n",
    "    'E': [64, 64, 'M', 128, 128, 'M', 256, 256, 256, 256, 'M', 512, 512, 512, 512, 'M', 512, 512, 512, 512, 'M'],\n",
    "}"
   ],
   "id": "initial_id",
   "outputs": [],
   "execution_count": 2
  },
  {
   "metadata": {
    "ExecuteTime": {
     "end_time": "2025-09-22T02:53:35.604260Z",
     "start_time": "2025-09-22T02:53:35.593906Z"
    }
   },
   "cell_type": "code",
   "source": [
    "class VGG(nn.Module):\n",
    "    def __init__(self, cfg, batch_norm, num_classes=1000, init_weights=True):\n",
    "        super().__init__()\n",
    "        self.features = self.make_layers(cfg, batch_norm)\n",
    "        self.avgpool = nn.AdaptiveAvgPool2d((7,7))\n",
    "        # 마지막 Conv 레이어의 출력을 고정된 크기 (7×7)로 줄여주는 레이어\n",
    "        self.classifier = nn.Sequential(\n",
    "            nn.Linear(512*7*7, 4096),\n",
    "            nn.ReLU(True),\n",
    "            nn.Dropout(),\n",
    "\n",
    "            nn.Linear(4096, 4096),\n",
    "            nn.ReLU(True),\n",
    "            nn.Dropout(),\n",
    "\n",
    "            nn.Linear(4096, num_classes))\n",
    "        '''\t•\t마지막 출력은 보통 CrossEntropyLoss와 함께 사용됨\n",
    "            •\t이 Loss는 내부적으로 **LogSoftmax**를 포함하고 있어서\n",
    "                → ReLU 같은 비선형 함수 쓰면 안 됨 (출력 왜곡됨)'''\n",
    "\n",
    "\n",
    "        if init_weights:\n",
    "            self._initialize_weigths()\n",
    "\n",
    "    def forward(self, x):\n",
    "        x = self.features(x)\n",
    "        x = self.avgpool(x)\n",
    "        x = torch.flatten(x,1)\n",
    "        x = self.classifier(x)\n",
    "        return x\n",
    "\n",
    "\n",
    "\n",
    "        # 초기 가중치, 바이어스 초기화\n",
    "    # 즉, 사실상 PyTorch는 이미 나쁘지 않은 기본 초기화를 제공하고 있어.\n",
    "    # ❗ 그런데 왜 따로 초기화 함수를 쓰냐?\n",
    "# 그래서 _initialize_weights()를 안 써도 “망하지는 않음”.\n",
    "    # \tKaiming He 초기화 (ReLU에 적합)\n",
    "    # mode='fan_out': 출력 채널 수 기준으로 정규화\n",
    "    # nonlinearity='relu': ReLU에 맞는 분산 설정\n",
    "    def _initialize_weigths(self):\n",
    "        for m in self.modules():\n",
    "            if isinstance(m, nn.Conv2d):\n",
    "                nn.init.kaiming_normal_(m.weight, mode='fan_out', nonlinearity='relu')\n",
    "                if m.bias is not None:\n",
    "                    nn.init.constant_(m.bias, 0)\n",
    "\n",
    "            elif isinstance(m, nn.BatchNorm2d):\n",
    "                # 가중치(γ)는 1, 편향(β)은 0으로 초기화 → 초기에는 입력 그대로 통과\n",
    "                nn.init.constant_(m.weight, 1)\n",
    "                nn.init.constant_(m.bias, 0)\n",
    "            elif isinstance(m, nn.Linear):\n",
    "            # 평균 0, 표준편차 0.01인 정규분포로 초기화 → 작은 값으로 안정적인 시작\n",
    "            # 바이어스는 0\n",
    "                nn.init.normal_(m.weight, 0, 0.01)\n",
    "                nn.init.constant_(m.bias, 0)\n",
    "\n",
    "    # 'A': [64, 'M', 128, 'M', 256, 256, 'M', 512, 512, 'M', 512, 512, 'M'],\n",
    "\n",
    "# cfg 리스트를 읽으면서:\n",
    "# 숫자 → Conv2d + (BatchNorm) + ReLU\n",
    "# \t'M' → MaxPooling 레이어\n",
    "# → 결과적으로 CNN의 features 블록을 구성하는 레이어들이 쭉 nn.Sequential로 반환됨.\n",
    "\n",
    "    def make_layers(self, cfg, batch_norm=False):\n",
    "        layers=[]\n",
    "        in_channels = 3\n",
    "        for v in cfg:\n",
    "            if v == 'M':\n",
    "                layers += [nn.MaxPool2d(kernel_size=2, stride=2)]\n",
    "            else:\n",
    "                conv2d = nn.Conv2d(in_channels, v, kernel_size=3, padding=1)\n",
    "                if batch_norm:\n",
    "                    layers += [conv2d, nn.BatchNorm2d(v), nn.ReLU(True)]\n",
    "                else:\n",
    "                    layers += [conv2d, nn.ReLU(True)]\n",
    "                in_channels = v\n",
    "\n",
    "        return nn.Sequential(*layers)\n"
   ],
   "id": "3db3883a9ab9b3cb",
   "outputs": [],
   "execution_count": 4
  },
  {
   "metadata": {
    "ExecuteTime": {
     "end_time": "2025-09-22T03:01:44.922418Z",
     "start_time": "2025-09-22T03:01:43.057007Z"
    }
   },
   "cell_type": "code",
   "source": [
    "\n",
    "from torchinfo import summary\n",
    "\n",
    "model_vgg16_bn = VGG(cfgs['D'], batch_norm=True)\n",
    "summary(model_vgg16_bn, input_size=(2,3,224,224))"
   ],
   "id": "5d5772832219fbde",
   "outputs": [
    {
     "data": {
      "text/plain": [
       "==========================================================================================\n",
       "Layer (type:depth-idx)                   Output Shape              Param #\n",
       "==========================================================================================\n",
       "VGG                                      [2, 1000]                 --\n",
       "├─Sequential: 1-1                        [2, 512, 7, 7]            --\n",
       "│    └─Conv2d: 2-1                       [2, 64, 224, 224]         1,792\n",
       "│    └─BatchNorm2d: 2-2                  [2, 64, 224, 224]         128\n",
       "│    └─ReLU: 2-3                         [2, 64, 224, 224]         --\n",
       "│    └─Conv2d: 2-4                       [2, 64, 224, 224]         36,928\n",
       "│    └─BatchNorm2d: 2-5                  [2, 64, 224, 224]         128\n",
       "│    └─ReLU: 2-6                         [2, 64, 224, 224]         --\n",
       "│    └─MaxPool2d: 2-7                    [2, 64, 112, 112]         --\n",
       "│    └─Conv2d: 2-8                       [2, 128, 112, 112]        73,856\n",
       "│    └─BatchNorm2d: 2-9                  [2, 128, 112, 112]        256\n",
       "│    └─ReLU: 2-10                        [2, 128, 112, 112]        --\n",
       "│    └─Conv2d: 2-11                      [2, 128, 112, 112]        147,584\n",
       "│    └─BatchNorm2d: 2-12                 [2, 128, 112, 112]        256\n",
       "│    └─ReLU: 2-13                        [2, 128, 112, 112]        --\n",
       "│    └─MaxPool2d: 2-14                   [2, 128, 56, 56]          --\n",
       "│    └─Conv2d: 2-15                      [2, 256, 56, 56]          295,168\n",
       "│    └─BatchNorm2d: 2-16                 [2, 256, 56, 56]          512\n",
       "│    └─ReLU: 2-17                        [2, 256, 56, 56]          --\n",
       "│    └─Conv2d: 2-18                      [2, 256, 56, 56]          590,080\n",
       "│    └─BatchNorm2d: 2-19                 [2, 256, 56, 56]          512\n",
       "│    └─ReLU: 2-20                        [2, 256, 56, 56]          --\n",
       "│    └─Conv2d: 2-21                      [2, 256, 56, 56]          590,080\n",
       "│    └─BatchNorm2d: 2-22                 [2, 256, 56, 56]          512\n",
       "│    └─ReLU: 2-23                        [2, 256, 56, 56]          --\n",
       "│    └─MaxPool2d: 2-24                   [2, 256, 28, 28]          --\n",
       "│    └─Conv2d: 2-25                      [2, 512, 28, 28]          1,180,160\n",
       "│    └─BatchNorm2d: 2-26                 [2, 512, 28, 28]          1,024\n",
       "│    └─ReLU: 2-27                        [2, 512, 28, 28]          --\n",
       "│    └─Conv2d: 2-28                      [2, 512, 28, 28]          2,359,808\n",
       "│    └─BatchNorm2d: 2-29                 [2, 512, 28, 28]          1,024\n",
       "│    └─ReLU: 2-30                        [2, 512, 28, 28]          --\n",
       "│    └─Conv2d: 2-31                      [2, 512, 28, 28]          2,359,808\n",
       "│    └─BatchNorm2d: 2-32                 [2, 512, 28, 28]          1,024\n",
       "│    └─ReLU: 2-33                        [2, 512, 28, 28]          --\n",
       "│    └─MaxPool2d: 2-34                   [2, 512, 14, 14]          --\n",
       "│    └─Conv2d: 2-35                      [2, 512, 14, 14]          2,359,808\n",
       "│    └─BatchNorm2d: 2-36                 [2, 512, 14, 14]          1,024\n",
       "│    └─ReLU: 2-37                        [2, 512, 14, 14]          --\n",
       "│    └─Conv2d: 2-38                      [2, 512, 14, 14]          2,359,808\n",
       "│    └─BatchNorm2d: 2-39                 [2, 512, 14, 14]          1,024\n",
       "│    └─ReLU: 2-40                        [2, 512, 14, 14]          --\n",
       "│    └─Conv2d: 2-41                      [2, 512, 14, 14]          2,359,808\n",
       "│    └─BatchNorm2d: 2-42                 [2, 512, 14, 14]          1,024\n",
       "│    └─ReLU: 2-43                        [2, 512, 14, 14]          --\n",
       "│    └─MaxPool2d: 2-44                   [2, 512, 7, 7]            --\n",
       "├─AdaptiveAvgPool2d: 1-2                 [2, 512, 7, 7]            --\n",
       "├─Sequential: 1-3                        [2, 1000]                 --\n",
       "│    └─Linear: 2-45                      [2, 4096]                 102,764,544\n",
       "│    └─ReLU: 2-46                        [2, 4096]                 --\n",
       "│    └─Dropout: 2-47                     [2, 4096]                 --\n",
       "│    └─Linear: 2-48                      [2, 4096]                 16,781,312\n",
       "│    └─ReLU: 2-49                        [2, 4096]                 --\n",
       "│    └─Dropout: 2-50                     [2, 4096]                 --\n",
       "│    └─Linear: 2-51                      [2, 1000]                 4,097,000\n",
       "==========================================================================================\n",
       "Total params: 138,365,992\n",
       "Trainable params: 138,365,992\n",
       "Non-trainable params: 0\n",
       "Total mult-adds (G): 30.97\n",
       "==========================================================================================\n",
       "Input size (MB): 1.20\n",
       "Forward/backward pass size (MB): 433.67\n",
       "Params size (MB): 553.46\n",
       "Estimated Total Size (MB): 988.34\n",
       "=========================================================================================="
      ]
     },
     "execution_count": 5,
     "metadata": {},
     "output_type": "execute_result"
    }
   ],
   "execution_count": 5
  },
  {
   "metadata": {
    "ExecuteTime": {
     "end_time": "2025-09-22T03:01:46.634910Z",
     "start_time": "2025-09-22T03:01:44.938782Z"
    }
   },
   "cell_type": "code",
   "source": [
    "model_vgg19_bn = VGG(cfgs['E'], batch_norm=True)\n",
    "summary(model_vgg19_bn, input_size=(2,3,224,224))"
   ],
   "id": "919287b9d8185a8f",
   "outputs": [
    {
     "data": {
      "text/plain": [
       "==========================================================================================\n",
       "Layer (type:depth-idx)                   Output Shape              Param #\n",
       "==========================================================================================\n",
       "VGG                                      [2, 1000]                 --\n",
       "├─Sequential: 1-1                        [2, 512, 7, 7]            --\n",
       "│    └─Conv2d: 2-1                       [2, 64, 224, 224]         1,792\n",
       "│    └─BatchNorm2d: 2-2                  [2, 64, 224, 224]         128\n",
       "│    └─ReLU: 2-3                         [2, 64, 224, 224]         --\n",
       "│    └─Conv2d: 2-4                       [2, 64, 224, 224]         36,928\n",
       "│    └─BatchNorm2d: 2-5                  [2, 64, 224, 224]         128\n",
       "│    └─ReLU: 2-6                         [2, 64, 224, 224]         --\n",
       "│    └─MaxPool2d: 2-7                    [2, 64, 112, 112]         --\n",
       "│    └─Conv2d: 2-8                       [2, 128, 112, 112]        73,856\n",
       "│    └─BatchNorm2d: 2-9                  [2, 128, 112, 112]        256\n",
       "│    └─ReLU: 2-10                        [2, 128, 112, 112]        --\n",
       "│    └─Conv2d: 2-11                      [2, 128, 112, 112]        147,584\n",
       "│    └─BatchNorm2d: 2-12                 [2, 128, 112, 112]        256\n",
       "│    └─ReLU: 2-13                        [2, 128, 112, 112]        --\n",
       "│    └─MaxPool2d: 2-14                   [2, 128, 56, 56]          --\n",
       "│    └─Conv2d: 2-15                      [2, 256, 56, 56]          295,168\n",
       "│    └─BatchNorm2d: 2-16                 [2, 256, 56, 56]          512\n",
       "│    └─ReLU: 2-17                        [2, 256, 56, 56]          --\n",
       "│    └─Conv2d: 2-18                      [2, 256, 56, 56]          590,080\n",
       "│    └─BatchNorm2d: 2-19                 [2, 256, 56, 56]          512\n",
       "│    └─ReLU: 2-20                        [2, 256, 56, 56]          --\n",
       "│    └─Conv2d: 2-21                      [2, 256, 56, 56]          590,080\n",
       "│    └─BatchNorm2d: 2-22                 [2, 256, 56, 56]          512\n",
       "│    └─ReLU: 2-23                        [2, 256, 56, 56]          --\n",
       "│    └─Conv2d: 2-24                      [2, 256, 56, 56]          590,080\n",
       "│    └─BatchNorm2d: 2-25                 [2, 256, 56, 56]          512\n",
       "│    └─ReLU: 2-26                        [2, 256, 56, 56]          --\n",
       "│    └─MaxPool2d: 2-27                   [2, 256, 28, 28]          --\n",
       "│    └─Conv2d: 2-28                      [2, 512, 28, 28]          1,180,160\n",
       "│    └─BatchNorm2d: 2-29                 [2, 512, 28, 28]          1,024\n",
       "│    └─ReLU: 2-30                        [2, 512, 28, 28]          --\n",
       "│    └─Conv2d: 2-31                      [2, 512, 28, 28]          2,359,808\n",
       "│    └─BatchNorm2d: 2-32                 [2, 512, 28, 28]          1,024\n",
       "│    └─ReLU: 2-33                        [2, 512, 28, 28]          --\n",
       "│    └─Conv2d: 2-34                      [2, 512, 28, 28]          2,359,808\n",
       "│    └─BatchNorm2d: 2-35                 [2, 512, 28, 28]          1,024\n",
       "│    └─ReLU: 2-36                        [2, 512, 28, 28]          --\n",
       "│    └─Conv2d: 2-37                      [2, 512, 28, 28]          2,359,808\n",
       "│    └─BatchNorm2d: 2-38                 [2, 512, 28, 28]          1,024\n",
       "│    └─ReLU: 2-39                        [2, 512, 28, 28]          --\n",
       "│    └─MaxPool2d: 2-40                   [2, 512, 14, 14]          --\n",
       "│    └─Conv2d: 2-41                      [2, 512, 14, 14]          2,359,808\n",
       "│    └─BatchNorm2d: 2-42                 [2, 512, 14, 14]          1,024\n",
       "│    └─ReLU: 2-43                        [2, 512, 14, 14]          --\n",
       "│    └─Conv2d: 2-44                      [2, 512, 14, 14]          2,359,808\n",
       "│    └─BatchNorm2d: 2-45                 [2, 512, 14, 14]          1,024\n",
       "│    └─ReLU: 2-46                        [2, 512, 14, 14]          --\n",
       "│    └─Conv2d: 2-47                      [2, 512, 14, 14]          2,359,808\n",
       "│    └─BatchNorm2d: 2-48                 [2, 512, 14, 14]          1,024\n",
       "│    └─ReLU: 2-49                        [2, 512, 14, 14]          --\n",
       "│    └─Conv2d: 2-50                      [2, 512, 14, 14]          2,359,808\n",
       "│    └─BatchNorm2d: 2-51                 [2, 512, 14, 14]          1,024\n",
       "│    └─ReLU: 2-52                        [2, 512, 14, 14]          --\n",
       "│    └─MaxPool2d: 2-53                   [2, 512, 7, 7]            --\n",
       "├─AdaptiveAvgPool2d: 1-2                 [2, 512, 7, 7]            --\n",
       "├─Sequential: 1-3                        [2, 1000]                 --\n",
       "│    └─Linear: 2-54                      [2, 4096]                 102,764,544\n",
       "│    └─ReLU: 2-55                        [2, 4096]                 --\n",
       "│    └─Dropout: 2-56                     [2, 4096]                 --\n",
       "│    └─Linear: 2-57                      [2, 4096]                 16,781,312\n",
       "│    └─ReLU: 2-58                        [2, 4096]                 --\n",
       "│    └─Dropout: 2-59                     [2, 4096]                 --\n",
       "│    └─Linear: 2-60                      [2, 1000]                 4,097,000\n",
       "==========================================================================================\n",
       "Total params: 143,678,248\n",
       "Trainable params: 143,678,248\n",
       "Non-trainable params: 0\n",
       "Total mult-adds (G): 39.29\n",
       "==========================================================================================\n",
       "Input size (MB): 1.20\n",
       "Forward/backward pass size (MB): 475.41\n",
       "Params size (MB): 574.71\n",
       "Estimated Total Size (MB): 1051.33\n",
       "=========================================================================================="
      ]
     },
     "execution_count": 6,
     "metadata": {},
     "output_type": "execute_result"
    }
   ],
   "execution_count": 6
  },
  {
   "metadata": {
    "ExecuteTime": {
     "end_time": "2025-09-22T04:15:05.785314Z",
     "start_time": "2025-09-22T04:15:04.493152Z"
    }
   },
   "cell_type": "code",
   "source": [
    "\n",
    "import torch\n",
    "import torch.nn as nn"
   ],
   "id": "ad6e11aaff506298",
   "outputs": [],
   "execution_count": 7
  },
  {
   "metadata": {},
   "cell_type": "markdown",
   "source": [
    "데이터 전처리\n",
    "- 이미지 변환은 이미지 데이터의 크기를 256으로 키웠다가 224로 중앙 자르기 수행\n",
    "- 탐지하려는 객체가 중앙에 위치할 확률이 높으므로 불필요한 지역특징을 제거하기 위한 전처리 방법\n",
    "\n",
    "- 입력 이미지 크기를 224로 바로 리사이즈 할 수도 있지만, 그러면 검출하려는 객체의 크기가 더 작아질 수 있음"
   ],
   "id": "8be11229c01e05c"
  },
  {
   "metadata": {},
   "cell_type": "markdown",
   "source": [
    "일반적으로 **사전학습(pretrained) 모델**을 사용할 때는 ImageNet으로 학습된 모델의 입력 분포에 맞추기 위해 같은 정규화 값(평균, 표준편차)을 사용합니다.\n",
    "\n",
    "- **사전학습 모델 활용 시**:\n",
    "  - ImageNet으로 학습된 모델은 입력 이미지가 이 정규화 값을 기준으로 전처리되었을 때 최적의 성능을 보입니다.\n",
    "  - 따라서 새로운 데이터셋이 ImageNet과 유사한 분포(자연 이미지 등)를 가진다면 같은 값을 사용하는 것이 좋습니다.\n",
    "\n",
    "- **새로운 데이터셋이 ImageNet과 많이 다를 경우**:\n",
    "  - 만약 데이터셋의 특성이 크게 다르다면(예: 의료 영상, 위성 사진 등)\n",
    "  - 새로운 데이터셋 자체의 평균과 표준편차를 계산하여 사용하는 것이 더 적합할 수 있습니다."
   ],
   "id": "d2bc7e28de851334"
  },
  {
   "metadata": {
    "ExecuteTime": {
     "end_time": "2025-09-22T04:15:44.589727Z",
     "start_time": "2025-09-22T04:15:44.583056Z"
    }
   },
   "cell_type": "code",
   "source": [
    "device = torch.device('mps') # cpu, mps\n",
    "print(device)"
   ],
   "id": "26e4b97b51b09e1a",
   "outputs": [
    {
     "name": "stdout",
     "output_type": "stream",
     "text": [
      "mps\n"
     ]
    }
   ],
   "execution_count": 10
  },
  {
   "metadata": {},
   "cell_type": "code",
   "outputs": [],
   "execution_count": null,
   "source": [
    "from collections import defaultdict\n",
    "\n",
    "\n",
    "\n",
    "# 라벨이 0이면 고양이, 1이면 강아지\n",
    "def lable_to_str(lable):\n",
    "    return \"Cat\" if lable == 0 else \"Dog\"\n",
    "\n",
    "def visualize_by_category(dataset, n_samples = 5, cmap = None):\n",
    "    samples = defaultdict(list)\n",
    "    for img, label in dataset:\n",
    "        if len(samples[label]) < n_samples:\n",
    "            samples[label].append(img)\n",
    "\n",
    "\n",
    "\n"
   ],
   "id": "f257e2df1804e25"
  },
  {
   "metadata": {
    "ExecuteTime": {
     "end_time": "2025-09-22T04:32:10.755068Z",
     "start_time": "2025-09-22T04:32:10.750990Z"
    }
   },
   "cell_type": "code",
   "source": [
    "sap = {'a':123, 'b':34234}\n",
    "for k,v in sap.items():\n",
    "    print(k,v)\n",
    "for k in sap:\n",
    "    print(k, sap[k])"
   ],
   "id": "69fec47d9fbe9246",
   "outputs": [
    {
     "name": "stdout",
     "output_type": "stream",
     "text": [
      "a 123\n",
      "b 34234\n",
      "a 123\n",
      "b 34234\n"
     ]
    }
   ],
   "execution_count": 4
  },
  {
   "metadata": {},
   "cell_type": "code",
   "outputs": [],
   "execution_count": null,
   "source": "",
   "id": "268e07e8d9e9f9e6"
  }
 ],
 "metadata": {
  "kernelspec": {
   "display_name": "Python 3",
   "language": "python",
   "name": "python3"
  },
  "language_info": {
   "codemirror_mode": {
    "name": "ipython",
    "version": 2
   },
   "file_extension": ".py",
   "mimetype": "text/x-python",
   "name": "python",
   "nbconvert_exporter": "python",
   "pygments_lexer": "ipython2",
   "version": "2.7.6"
  }
 },
 "nbformat": 4,
 "nbformat_minor": 5
}
